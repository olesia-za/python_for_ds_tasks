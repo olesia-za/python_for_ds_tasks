{
  "nbformat": 4,
  "nbformat_minor": 0,
  "metadata": {
    "colab": {
      "provenance": [],
      "include_colab_link": true
    },
    "kernelspec": {
      "name": "python3",
      "display_name": "Python 3"
    },
    "language_info": {
      "name": "python"
    }
  },
  "cells": [
    {
      "cell_type": "markdown",
      "metadata": {
        "id": "view-in-github",
        "colab_type": "text"
      },
      "source": [
        "<a href=\"https://colab.research.google.com/github/olesia-za/python_for_ds_tasks/blob/main/OZ_Done_hw_1_2_4_If_else.ipynb\" target=\"_parent\"><img src=\"https://colab.research.google.com/assets/colab-badge.svg\" alt=\"Open In Colab\"/></a>"
      ]
    },
    {
      "cell_type": "markdown",
      "source": [
        "#Домашнє завдання до теми \"Конструкція if...else\""
      ],
      "metadata": {
        "id": "ZrhGiOYxAAbb"
      }
    },
    {
      "cell_type": "markdown",
      "source": [
        "1. **Перевірка температури:**\n",
        "   - Завдання:\n",
        "     - Дано заздалегідь визначену змінну температури `temperature`. Перевірте її значення.\n",
        "     - Якщо температура вище 25 градусів Цельсія, виведіть \"Це теплий день.\"\n",
        "     - Якщо температура знаходиться в межах від 15 до 25 градусів Цельсія (включно), виведіть \"Це приємний день.\"\n",
        "     - В іншому випадку виведіть \"Це холодний день.\""
      ],
      "metadata": {
        "id": "mpXlwoNP-cWT"
      }
    },
    {
      "cell_type": "code",
      "source": [
        "temperature = 20"
      ],
      "metadata": {
        "id": "fho34W3U-ssw"
      },
      "execution_count": null,
      "outputs": []
    },
    {
      "cell_type": "code",
      "source": [],
      "metadata": {
        "id": "CC3TlffAAPxK"
      },
      "execution_count": null,
      "outputs": []
    },
    {
      "cell_type": "markdown",
      "source": [
        "2. **Калькулятор оцінок:**\n",
        "   - Завдання:\n",
        "     - Дано заздалегідь визначену змінну `score` із результатом іспиту (зі 100 балів). Ваша задача визначити відповідну літеру цієї оцінки за правилами нижче.\n",
        "     - Якщо оцінка 90 або вище, виведіть \"A\".\n",
        "     - Якщо оцінка знаходиться в межах від 80 до 89, виведіть \"B\".\n",
        "     - Якщо оцінка знаходиться в межах від 70 до 79, виведіть \"C\".\n",
        "     - Якщо оцінка знаходиться в межах від 60 до 69, виведіть \"D\".\n",
        "     - В іншому випадку виведіть \"F\".\n",
        "     \n"
      ],
      "metadata": {
        "id": "ANFbi11m-4v_"
      }
    },
    {
      "cell_type": "code",
      "source": [
        "score = 75"
      ],
      "metadata": {
        "id": "2w0dAfBw_ew2"
      },
      "execution_count": null,
      "outputs": []
    },
    {
      "cell_type": "code",
      "source": [],
      "metadata": {
        "id": "ZdJsRZ0WAQVD"
      },
      "execution_count": null,
      "outputs": []
    },
    {
      "cell_type": "markdown",
      "source": [
        "\n",
        "\n",
        "3. **Перевірка на високосний рік:**\n",
        "   - Завдання:\n",
        "     - Дано заздалегідь визначену змінну року `year`. Перевірте, чи є рік високосним роком. Правила для перевірки наведені нижче.\n",
        "     - Якщо рік ділиться на 4 і не ділиться на 100, або він ділиться на 400, виведіть \"Високосний рік\".\n",
        "     - В іншому випадку виведіть \"Не високосний рік\".\n"
      ],
      "metadata": {
        "id": "ohXlepp7_dns"
      }
    },
    {
      "cell_type": "code",
      "source": [
        "year = 2024  # Приклад року"
      ],
      "metadata": {
        "id": "i4OUe6Kh_sAk"
      },
      "execution_count": null,
      "outputs": []
    },
    {
      "cell_type": "code",
      "source": [],
      "metadata": {
        "id": "yTWX7B4JARhH"
      },
      "execution_count": null,
      "outputs": []
    }
  ]
}