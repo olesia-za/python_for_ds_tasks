{
  "cells": [
    {
      "cell_type": "markdown",
      "metadata": {
        "id": "view-in-github",
        "colab_type": "text"
      },
      "source": [
        "<a href=\"https://colab.research.google.com/github/olesia-za/python_for_ds_tasks/blob/main/OZ_Done_10_HW1_Data_visualization_with_Pandas_ipynb.ipynb\" target=\"_parent\"><img src=\"https://colab.research.google.com/assets/colab-badge.svg\" alt=\"Open In Colab\"/></a>"
      ]
    },
    {
      "cell_type": "markdown",
      "id": "364f916a",
      "metadata": {
        "id": "364f916a"
      },
      "source": [
        "# Домашнє завдання: Візуалізація даних з Pandas\n",
        "\n",
        "## Опис завдання\n",
        "У цьому домашньому завданні ви працюватимете з датасетом про оренду велосипедів `yulu_rental.csv`. Датасет містить інформацію про кількість орендованих велосипедів залежно від погодних умов, сезону та інших факторів.\n",
        "Набір даних взяти з Kaggle. Посилання на оригінальний [опис](https://www.kaggle.com/datasets/ranitsarkar01/yulu-bike-sharing-data?select=yulu_bike_sharing_dataset.csv).\n",
        "\n",
        "**Опис колонок:**\n",
        "- `datetime` - дата та час\n",
        "- `season` - сезон (1=весна, 2=літо, 3=осінь, 4=зима)\n",
        "- `holiday` - чи є день святковим (0=ні, 1=так)\n",
        "- `workingday` - чи є день робочим (0=ні, 1=так)\n",
        "- `weather` - погодні умови (1=ясно, 2=туман, 3=легкий дощ, 4=сильний дощ)\n",
        "- `temp` - температура в градусах Цельсія\n",
        "- `atemp` - відчувається як температура\n",
        "- `humidity` - вологість (%)\n",
        "- `windspeed` - швидкість вітру\n",
        "- `casual` - кількість випадкових користувачів\n",
        "- `registered` - кількість зареєстрованих користувачів\n",
        "- `count` - загальна кількість орендованих велосипедів\n",
        "\n",
        "## Підготовка даних\n"
      ]
    },
    {
      "cell_type": "code",
      "execution_count": null,
      "id": "049784f2-7a01-4f9b-a110-eafe9f051d6b",
      "metadata": {
        "id": "049784f2-7a01-4f9b-a110-eafe9f051d6b"
      },
      "outputs": [],
      "source": [
        "import pandas as pd\n",
        "import matplotlib.pyplot as plt\n",
        "\n",
        "# Завантаження даних\n",
        "df = pd.read_csv('yulu_rental.csv')"
      ]
    },
    {
      "cell_type": "code",
      "execution_count": null,
      "id": "343287eb",
      "metadata": {
        "id": "343287eb"
      },
      "outputs": [],
      "source": [
        "# Перетворення datetime у правильний формат\n",
        "df['datetime'] = pd.to_datetime(df['datetime'])\n",
        "df.set_index('datetime', inplace=True)\n",
        "\n",
        "# Додамо додаткові колонки для аналізу\n",
        "df['date'] = df.index.date\n",
        "df['day'] = df.index.day\n",
        "df['week'] = df.index.isocalendar().week\n",
        "df['weekday_num'] = df.index.weekday\n",
        "df['weekday'] = df.index.day_name()\n",
        "df['year'] = df.index.year\n",
        "df['month'] = df.index.month\n",
        "df['hour'] = df.index.hour"
      ]
    },
    {
      "cell_type": "markdown",
      "id": "8fe255fd-f895-45ad-a47e-4d93e519fdcc",
      "metadata": {
        "id": "8fe255fd-f895-45ad-a47e-4d93e519fdcc"
      },
      "source": [
        "## Завдання 0: Перегляд даних\n",
        "**Завдання:**\n",
        "Перегляньте дані, їх розмір, та напишіть висновок:\n",
        "- скільки даних в наборі\n",
        "- який рівень деталізації мають ці дані, тобто за який період міститься дані в одному рядку даних ?"
      ]
    },
    {
      "cell_type": "code",
      "source": [],
      "metadata": {
        "id": "eQoT0lLg9S-Z"
      },
      "id": "eQoT0lLg9S-Z",
      "execution_count": null,
      "outputs": []
    },
    {
      "cell_type": "markdown",
      "id": "d3b0f60e-42cf-4681-a8fe-60fe32998f5c",
      "metadata": {
        "id": "d3b0f60e-42cf-4681-a8fe-60fe32998f5c"
      },
      "source": [
        "Даних 10886 рядків, 14 колонок.\n",
        "В кожному рядку сума оренд велосипедів за 1 годину."
      ]
    },
    {
      "cell_type": "markdown",
      "id": "5dda366a",
      "metadata": {
        "id": "5dda366a"
      },
      "source": [
        "## Завдання 1: Базовий лінійний графік\n",
        "\n",
        "**Завдання:**\n",
        "1. Згрупуйте дані про кількість орендованих велосипедів (`count`) поденно.\n",
        "2. Побудуйте з методом `DataFrame.plot()` лінійний графік поденної кількості орендованих велосипедів (`count`) за весь період в даних.\n",
        "3. Налаштуйте розмір графіка (12x6), додайте заголовок \"Динаміка оренди велосипедів\" та сітку.\n",
        "4. Дайте відповіді на питання по цьому графіку. Якщо треба - проведіть додаткові програмні операції для відповідей.\n",
        "\n",
        "**Питання для інтерпретації:**\n",
        "1. Як гадаєте, чому графік має \"заломи\", чим це спричинено і як ви б могли прибрати заломи?\n",
        "2. Які загальні тенденції ви бачите на графіку?\n",
        "3. Чи помітні якісь сезонні коливання?\n",
        "4. Чи є періоди з аномально високими або низькими значеннями і чому на ваш погляд можуть бути ці аномалії?\n"
      ]
    },
    {
      "cell_type": "code",
      "source": [],
      "metadata": {
        "id": "B5oSIJSY9UT2"
      },
      "id": "B5oSIJSY9UT2",
      "execution_count": null,
      "outputs": []
    },
    {
      "cell_type": "markdown",
      "id": "deb79b6e",
      "metadata": {
        "id": "deb79b6e"
      },
      "source": [
        "\n",
        "## Завдання 2: Аналіз сезонності (Bar Plot)\n",
        "\n",
        "**Завдання:**\n",
        "Побудуйте вертикальну стовпчасту діаграму середньої кількості орендованих велосипедів за сезонами. Додайте підписи осей і заголовок.\n",
        "\n",
        "Просунуте доповнення:\n",
        "1. Позначте сезони не числом, а назвою на візуалізації.\n",
        "2. Додайте підписи над стовпцями зі значеннями в кожному стовпці.\n",
        "\n",
        "Дайте відповіді на питання нижче.\n",
        "\n",
        "**Питання для інтерпретації:**\n",
        "1. В який сезон найбільша середня кількість оренди велосипедів?\n",
        "2. Як ви можете пояснити таку сезонну закономірність?\n",
        "3. У скільки разів відрізняється оренда між найпопулярнішим та найменш популярним сезоном?"
      ]
    },
    {
      "cell_type": "code",
      "source": [],
      "metadata": {
        "id": "-C8taw_m9VJ8"
      },
      "id": "-C8taw_m9VJ8",
      "execution_count": null,
      "outputs": []
    },
    {
      "cell_type": "markdown",
      "id": "4093daac",
      "metadata": {
        "id": "4093daac"
      },
      "source": [
        "## Завдання 3: Динаміка за місяцями (Line Plot)\n",
        "\n",
        "**Завдання:**\n",
        "Створіть лінійний графік середньої кількості оренди велосипедів по місяцях (тобто групування в рамках місяця і беремо середню кількість оренд в цей місяць з кількох років). Використайте маркери-кружечки для точок, додайте сітку та пофарбуйте лінію у червоний колір.\n",
        "\n",
        "Просунуте доповнення:\n",
        "- додайте аби по осі ОХ поділки були чітко на кожен окремий місяць по одній. Тобто сумарно 12 поділок.\n",
        "\n",
        "Дайте відповіді на питання нижче.\n",
        "\n",
        "**Питання для інтерпретації:**\n",
        "1. В які місяці спостерігається пік та спад оренди?\n",
        "2. Чи збігається ця закономірність з результатами з попереднього завдання?\n",
        "3. Як може вплинути клімат на оренду велосипедів протягом року?\n"
      ]
    },
    {
      "cell_type": "code",
      "source": [],
      "metadata": {
        "id": "9COEZ51h9V7t"
      },
      "id": "9COEZ51h9V7t",
      "execution_count": null,
      "outputs": []
    },
    {
      "cell_type": "markdown",
      "id": "8f0c5f6d",
      "metadata": {
        "id": "8f0c5f6d"
      },
      "source": [
        "## Завдання 4: Розподіл погодних умов (Pie Chart)\n",
        "\n",
        "**Завдання:**\n",
        "1. Побудуйте кругову діаграму з часткою записів за погодними умовами\n",
        "2. Додайте підписи з відсотками та легенду з описами погоди (1=ясно, 2=туман, 3=легкий дощ, 4=сильний дощ).\n",
        "3. Визначте свої відмінні від стандартних кольори для відображення кожної категорії.\n",
        "4. Дайте відповіді на питання нижче.\n",
        "\n",
        "**Питання для інтерпретації:**\n",
        "1. Яка погода переважає в датасеті?\n",
        "2. Чи є дні із сильним дощем? Яка їх частка?\n",
        "3. Як ви думаєте, як погодні умови впливають на попит на оренду велосипедів?"
      ]
    },
    {
      "cell_type": "code",
      "source": [],
      "metadata": {
        "id": "3YPCJ9pw9Wn8"
      },
      "id": "3YPCJ9pw9Wn8",
      "execution_count": null,
      "outputs": []
    },
    {
      "cell_type": "markdown",
      "id": "0ff64487",
      "metadata": {
        "id": "0ff64487"
      },
      "source": [
        "## Завдання 5: Box Plot для аналізу викидів\n",
        "\n",
        "**Завдання:**\n",
        "Створіть коробковий графік (box plot) кількості орендованих велосипедів для кожного типу погоди.\n",
        "\n",
        "Просунуте доповнення:\n",
        "- Використайте горизонтальну орієнтацію.\n",
        "- Позначте погодні умови не числом, а назвою на візуалізації.\n",
        "\n",
        "Дайте відповіді на питання нижче.\n",
        "\n",
        "**Питання для інтерпретації:**\n",
        "1. При якій погоді найбільший розкид у кількості оренди?\n",
        "2. Чи є викиди (outliers) в даних? При якій погоді?\n",
        "3. При якій погоді медіанне значення оренди найвище?"
      ]
    },
    {
      "cell_type": "code",
      "source": [],
      "metadata": {
        "id": "GCNY6dvk9XoY"
      },
      "id": "GCNY6dvk9XoY",
      "execution_count": null,
      "outputs": []
    },
    {
      "cell_type": "markdown",
      "source": [
        "Очікуваний результат:\n",
        "\n",
        "![image.png](data:image/png;base64,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)"
      ],
      "metadata": {
        "id": "whBFfR0ni61o"
      },
      "id": "whBFfR0ni61o"
    },
    {
      "cell_type": "markdown",
      "id": "d79652ba",
      "metadata": {
        "id": "d79652ba"
      },
      "source": [
        "## Завдання 6: Кореляція температури та оренди (Scatter Plot)\n",
        "\n",
        "**Завдання:**\n",
        "Побудуйте діаграму розсіювання залежності між температурою (`temp`) та загальною кількістю оренди (`count`). Розфарбуйте точки за сезонами, додайте напівпрозорість (alpha=0.6).\n",
        "\n",
        "Дайте відповіді на питання нижче.\n",
        "\n",
        "**Питання для інтерпретації:**\n",
        "- Чи є зв'язок між температурою та кількістю оренди? Який?"
      ]
    },
    {
      "cell_type": "code",
      "source": [],
      "metadata": {
        "id": "LOp1RvHk9Yb9"
      },
      "id": "LOp1RvHk9Yb9",
      "execution_count": null,
      "outputs": []
    },
    {
      "cell_type": "markdown",
      "id": "a961721c",
      "metadata": {
        "id": "a961721c"
      },
      "source": [
        "## Завдання 7: Порівняння користувачів (Stacked Bar Chart)\n",
        "\n",
        "**Завдання:**\n",
        "Ми хочемо дізнатись як по дням тижня беруть в середньому в оренду велосипеди випадкові і зареєстровані користувачі.\n",
        "\n",
        "Створіть стовпчасту діаграму з накопиченням (bar з налаштуванням `stacked=True`), яка показує співвідношення випадкових (`casual`) та зареєстрованих (`registered`) користувачів по днях тижня за кількістю взятих ними велосипедів в оренду в середньому. Використайте різні кольори для типів користувачів.\n",
        "\n",
        "Дайте відповіді на питання нижче.\n",
        "\n",
        "**Питання для інтерпретації:**\n",
        "1. В які дні тижня більше оренд від зареєстрованих користувачів?\n",
        "2. Як ви можете пояснити таку різницю в поведінці користувачів протягом тижня?"
      ]
    },
    {
      "cell_type": "code",
      "source": [],
      "metadata": {
        "id": "-AX8k_k_9ZRo"
      },
      "id": "-AX8k_k_9ZRo",
      "execution_count": null,
      "outputs": []
    }
  ],
  "metadata": {
    "kernelspec": {
      "display_name": "Python 3 (ipykernel)",
      "language": "python",
      "name": "python3"
    },
    "language_info": {
      "codemirror_mode": {
        "name": "ipython",
        "version": 3
      },
      "file_extension": ".py",
      "mimetype": "text/x-python",
      "name": "python",
      "nbconvert_exporter": "python",
      "pygments_lexer": "ipython3",
      "version": "3.12.0"
    },
    "colab": {
      "provenance": [],
      "include_colab_link": true
    }
  },
  "nbformat": 4,
  "nbformat_minor": 5
}