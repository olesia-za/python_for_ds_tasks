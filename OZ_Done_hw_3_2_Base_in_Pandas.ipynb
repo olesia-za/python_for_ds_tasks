{
  "nbformat": 4,
  "nbformat_minor": 0,
  "metadata": {
    "colab": {
      "provenance": [],
      "include_colab_link": true
    },
    "kernelspec": {
      "name": "python3",
      "display_name": "Python 3"
    },
    "language_info": {
      "name": "python"
    }
  },
  "cells": [
    {
      "cell_type": "markdown",
      "metadata": {
        "id": "view-in-github",
        "colab_type": "text"
      },
      "source": [
        "<a href=\"https://colab.research.google.com/github/olesia-za/python_for_ds_tasks/blob/main/OZ_Done_hw_3_2_Base_in_Pandas.ipynb\" target=\"_parent\"><img src=\"https://colab.research.google.com/assets/colab-badge.svg\" alt=\"Open In Colab\"/></a>"
      ]
    },
    {
      "cell_type": "markdown",
      "source": [
        "# Домашнє завдання до теми \"Основи роботи з даними у Pandas\""
      ],
      "metadata": {
        "id": "olyuwbpjrmvn"
      }
    },
    {
      "cell_type": "markdown",
      "source": [
        "В цьому домашньому завданні продовжуємо працювати з набором даних `supermarket_sales.csv`."
      ],
      "metadata": {
        "id": "vP2PEJyq8Yrj"
      }
    },
    {
      "cell_type": "markdown",
      "source": [
        "0. Імпортуйте бібліотеку pandas та зчитайте дані у змінну `df` типу `pandas.DataFrame`."
      ],
      "metadata": {
        "id": "dh9lfpDb8gBL"
      }
    },
    {
      "cell_type": "code",
      "source": [],
      "metadata": {
        "id": "xBI9gJMK8qnl"
      },
      "execution_count": null,
      "outputs": []
    },
    {
      "cell_type": "markdown",
      "metadata": {
        "ExecuteTime": {
          "end_time": "2021-09-20T19:44:56.499824Z",
          "start_time": "2021-09-20T19:44:56.496923Z"
        },
        "id": "ca064875"
      },
      "source": [
        "1. За допомогою бібліотеки Pandas виведіть перші 4 і останні 4 записи у наборі даних (це дві окремі команди). Треба саме 4! Не 5."
      ]
    },
    {
      "cell_type": "code",
      "execution_count": null,
      "metadata": {
        "ExecuteTime": {
          "end_time": "2021-12-08T18:46:42.601691Z",
          "start_time": "2021-12-08T18:46:42.570962Z"
        },
        "id": "d095f26b"
      },
      "outputs": [],
      "source": []
    },
    {
      "cell_type": "markdown",
      "metadata": {
        "ExecuteTime": {
          "end_time": "2022-11-01T16:50:46.961201Z",
          "start_time": "2022-11-01T16:50:46.955894Z"
        },
        "id": "3e4c4fb3"
      },
      "source": [
        "Очікуваний результат:"
      ]
    },
    {
      "cell_type": "markdown",
      "metadata": {
        "id": "f037ac2b"
      },
      "source": [
        "![](https://drive.google.com/uc?export=view&id=1F5XlzBOOTMsedpsYqz6NnXjIPTDe6jpx)"
      ]
    },
    {
      "cell_type": "markdown",
      "source": [
        "2. Виведіть рядки даних з індексами з 615 по 619 включно."
      ],
      "metadata": {
        "id": "167fuYhB_nCP"
      }
    },
    {
      "cell_type": "code",
      "source": [],
      "metadata": {
        "id": "ytZryG8Z_1f_"
      },
      "execution_count": null,
      "outputs": []
    },
    {
      "cell_type": "markdown",
      "source": [
        "Очікуваний результат:"
      ],
      "metadata": {
        "id": "uMLwIMBlhAcY"
      }
    },
    {
      "cell_type": "markdown",
      "source": [
        "![](https://drive.google.com/uc?export=view&id=1Otufe_TXRmjZxWigzBiVBLCAVUfEReXM)"
      ],
      "metadata": {
        "id": "yxrvqGnNhCsX"
      }
    },
    {
      "cell_type": "markdown",
      "metadata": {
        "id": "2d54e0e4"
      },
      "source": [
        "3. Виведіть назви колонок у наборі даних разом з їхніми типами. Це можна зробити кількома способами, важливо аби в результаті були назви колонок і відповідні їм типи."
      ]
    },
    {
      "cell_type": "code",
      "execution_count": null,
      "metadata": {
        "ExecuteTime": {
          "end_time": "2021-12-08T18:46:42.609601Z",
          "start_time": "2021-12-08T18:46:42.604424Z"
        },
        "id": "513f5a99"
      },
      "outputs": [],
      "source": []
    },
    {
      "cell_type": "markdown",
      "metadata": {
        "ExecuteTime": {
          "end_time": "2022-11-01T16:50:46.961201Z",
          "start_time": "2022-11-01T16:50:46.955894Z"
        },
        "id": "3c380f93"
      },
      "source": [
        "Очікуваний результат (один з можливих форматів):"
      ]
    },
    {
      "cell_type": "markdown",
      "metadata": {
        "id": "28f7beff"
      },
      "source": [
        "![](https://drive.google.com/uc?export=view&id=1ASh6-S-_f3X9fTQAPIvnHMFZamTBjNkL)"
      ]
    },
    {
      "cell_type": "markdown",
      "source": [
        "4. Користуючись методом `DataFrame.describe()` виявіть 1, 25, 50, 75 і 99 персентилі колонки `gross income`. Знайдіть, яке значення відповідає 75отму персентилю цієї колонки і що це означає? Як би Ви його пояснили простими словами колегам? Відповідь напишіть текстом в окремій клітинці типу Markdown."
      ],
      "metadata": {
        "id": "aX2LEmuG8xyA"
      }
    },
    {
      "cell_type": "code",
      "source": [],
      "metadata": {
        "id": "Paso6rPV894s"
      },
      "execution_count": null,
      "outputs": []
    },
    {
      "cell_type": "markdown",
      "source": [
        "Очікуваний результат:"
      ],
      "metadata": {
        "id": "HX-oXoo4jCuE"
      }
    },
    {
      "cell_type": "markdown",
      "source": [
        "![](https://drive.google.com/uc?export=view&id=1bDa1YFUWDsPm78Lnpy2geQND8M1HEQiT)"
      ],
      "metadata": {
        "id": "Qi9Qi8LhjFRw"
      }
    },
    {
      "cell_type": "markdown",
      "source": [
        "5. Виведіть кількість інвойсів за кожним унікальним містом в наборі даних.\n",
        "\n",
        "  Підказка: інвойс - це один рядок в цьому наборі даних, ми можемо цим скористатись аби швидко отримати відповідь."
      ],
      "metadata": {
        "id": "X2FWqJYr9Eul"
      }
    },
    {
      "cell_type": "code",
      "source": [],
      "metadata": {
        "id": "StVtKfWY-13y"
      },
      "execution_count": null,
      "outputs": []
    },
    {
      "cell_type": "markdown",
      "source": [
        "Очікуваний результат:"
      ],
      "metadata": {
        "id": "MxdJBddujhRx"
      }
    },
    {
      "cell_type": "markdown",
      "source": [
        "![](https://drive.google.com/uc?export=view&id=1G8c6M875NOW7oU3OtZegTOnyD2y8lhAV)"
      ],
      "metadata": {
        "id": "DGmeHKZYjoTp"
      }
    },
    {
      "cell_type": "markdown",
      "source": [
        "6. Виведіть, який відсоток інвойсів припадає на кожне унікальне місто."
      ],
      "metadata": {
        "id": "-k-yG_rR-3Og"
      }
    },
    {
      "cell_type": "code",
      "source": [],
      "metadata": {
        "id": "_PBLxP7B_LdF"
      },
      "execution_count": null,
      "outputs": []
    },
    {
      "cell_type": "markdown",
      "source": [
        "Очікуваний результат:"
      ],
      "metadata": {
        "id": "hk_BB1Uxj_G5"
      }
    },
    {
      "cell_type": "markdown",
      "source": [
        "![](https://drive.google.com/uc?export=view&id=1yZZpWhL2y8DX9rSRioYCRh1VbJgcf3fY)"
      ],
      "metadata": {
        "id": "vAQ3z60ukBVG"
      }
    },
    {
      "cell_type": "markdown",
      "source": [
        "7.1. Використовуючи фільтрацію даних, знайдіть середнє значення `gross income` для міст `Yangon` та `Mandalay`. В якому місті воно більше?\n",
        "\n",
        "7.2 Сформулюйте 3 гіпотези, чому в одному місті gross income вище, як можна дізнатись чи правдива ця гіпотеза з використанням даних (наявних і додаткових), та як висновки з цих гіпотез можна використати для прийняття рішень як підвищити прибуток в мережі супермаркетів. Відповідь напишіть текстом в окремій клітинці типу Markdown.\n",
        "\n",
        "Це завдання - на продуктове мислення. Якщо не знаєте, які гіпотези сформулювати - напишіть ті, які здаються вам зовсім примітивними. Важливо навчитись висловлювати свої гіпотези щодо даних, і з часом та досвідом вони будуть ставати щоразу глибше і точніше. Весь аналіз даних будується на тому, що ми перевіряємо певні гіпотези та робимо висновки і рекоемндації на основі своїх досліджень."
      ],
      "metadata": {
        "id": "RUkVnzp_B5uZ"
      }
    },
    {
      "cell_type": "code",
      "source": [],
      "metadata": {
        "id": "8RwoGA7l_OhV"
      },
      "execution_count": null,
      "outputs": []
    },
    {
      "cell_type": "markdown",
      "source": [
        "Очікуваний результат:"
      ],
      "metadata": {
        "id": "iXq3ODp1khy1"
      }
    },
    {
      "cell_type": "markdown",
      "source": [
        "![](https://drive.google.com/uc?export=view&id=1JdXUmK46WcoXUJYP7NS2SJlr2XjBbpQ8)"
      ],
      "metadata": {
        "id": "4lcu3YwqkkF8"
      }
    },
    {
      "cell_type": "markdown",
      "source": [
        "8. Для продовження дослідження різниці у прибутках в магазинах давайте зʼясуємо, чи відрізняється маржа ('gross margin percentage') для різних інвойсів в магазині? Перевірте це програмно на даних виходячи з того функціоналу, який ми вже пройшли у лекціях.\n",
        "\n",
        "Дайте на основі отриманого результату відповідь: \"У всіх всіх інвойсах однакова маржа\" або \"Маржа відрізняється для різних інвойсів\"."
      ],
      "metadata": {
        "id": "wNMcnnPQOrwb"
      }
    },
    {
      "cell_type": "code",
      "source": [],
      "metadata": {
        "id": "mTWYzSVaPNsb"
      },
      "execution_count": null,
      "outputs": []
    },
    {
      "cell_type": "markdown",
      "source": [
        "Очікуваний результат: відповідь щодо маржі в усіх інвойсах на основі отриманих результатів"
      ],
      "metadata": {
        "id": "YXlTdvOtnYPr"
      }
    },
    {
      "cell_type": "markdown",
      "source": [
        "9. Врахуовуючи висновок в попередньому завданні, дослідимо як продаються в цих містах різні категорії товарів. Виведіть відсотковий розпоіділ кількості інвойсів по категоріям товарів `Product line` в містах `Yangon` та `Mandalay`."
      ],
      "metadata": {
        "id": "NF3oAHQOOSN5"
      }
    },
    {
      "cell_type": "code",
      "source": [],
      "metadata": {
        "id": "nUgdZmbzQDo4"
      },
      "execution_count": null,
      "outputs": []
    },
    {
      "cell_type": "markdown",
      "source": [
        "Очікуваний результат для кожного з міст:"
      ],
      "metadata": {
        "id": "vFhFKSl7meGY"
      }
    },
    {
      "cell_type": "markdown",
      "source": [
        "![](https://drive.google.com/uc?export=view&id=1IbG58YK5KVqC-wCnllF1btgEgfWTbi_O)"
      ],
      "metadata": {
        "id": "pzpOAqu1miuo"
      }
    },
    {
      "cell_type": "markdown",
      "source": [
        "![](https://drive.google.com/uc?export=view&id=1aKOkLmlMq1sOh4GbwyaQyjfhNJzdU4Yh)"
      ],
      "metadata": {
        "id": "imwzMiV4mrXn"
      }
    }
  ]
}