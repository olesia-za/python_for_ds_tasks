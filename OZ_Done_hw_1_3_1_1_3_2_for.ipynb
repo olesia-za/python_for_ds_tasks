{
  "cells": [
    {
      "cell_type": "markdown",
      "metadata": {
        "colab_type": "text",
        "id": "view-in-github"
      },
      "source": [
        "<a href=\"https://colab.research.google.com/github/olesia-za/python_for_ds_tasks/blob/main/OZ_Done_hw_1_3_1_1_3_2_for.ipynb\" target=\"_parent\"><img src=\"https://colab.research.google.com/assets/colab-badge.svg\" alt=\"Open In Colab\"/></a>"
      ]
    },
    {
      "cell_type": "markdown",
      "metadata": {
        "id": "W8lqt6zd9axA"
      },
      "source": [
        "#Домашнє завдання до теми \"Цикл for\""
      ]
    },
    {
      "cell_type": "markdown",
      "metadata": {
        "id": "iXzoNTu604kH"
      },
      "source": [
        "0. Розігрів. Напишіть цикл, який виводить на екран числа від 1 до 10 включно."
      ]
    },
    {
      "cell_type": "code",
      "execution_count": 1,
      "metadata": {
        "id": "zpwypSSp0MVm"
      },
      "outputs": [
        {
          "name": "stdout",
          "output_type": "stream",
          "text": [
            "1; 2; 3; 4; 5; 6; 7; 8; 9; 10; "
          ]
        }
      ],
      "source": [
        "for i in range(1,11):\n",
        "    print( i , end = \"; \")"
      ]
    },
    {
      "cell_type": "markdown",
      "metadata": {
        "id": "JmWR8uze094H"
      },
      "source": [
        "**Початок покладено!**"
      ]
    },
    {
      "cell_type": "markdown",
      "metadata": {
        "id": "OJX3yG-Blplu"
      },
      "source": [
        "1. Задайте список `numbers`, який містить значення від 0 до 9 включно. Використовуючи цикл `for`, обчисліть суму елементів в створеному списку та виведіть фінальну суму на екран."
      ]
    },
    {
      "cell_type": "code",
      "execution_count": 12,
      "metadata": {
        "id": "sSX30A5yuvUQ"
      },
      "outputs": [
        {
          "name": "stdout",
          "output_type": "stream",
          "text": [
            "[0, 1, 2, 3, 4, 5, 6, 7, 8, 9] \n",
            "Sum: 45\n"
          ]
        }
      ],
      "source": [
        "numbers = []\n",
        "sum_numbers = 0\n",
        "for i in range(10):\n",
        "    numbers.append(i);\n",
        "    sum_numbers += numbers[i];\n",
        "print( numbers, \"\\nSum:\", sum_numbers);"
      ]
    },
    {
      "cell_type": "markdown",
      "metadata": {
        "id": "6Tb2Kx_jmD5b"
      },
      "source": [
        "2. Використовуючи цикл  `for` виведіть для кожного елементу списку `numbers`,який ми створили в завданні 1, чи цей елемент дорівнює 5. Тобто після виконання циклу на екрані має бути 10 bool значень."
      ]
    },
    {
      "cell_type": "code",
      "execution_count": 14,
      "metadata": {
        "id": "Ls8ZW8DWuwHC"
      },
      "outputs": [
        {
          "name": "stdout",
          "output_type": "stream",
          "text": [
            "Is element 0 equeal to 5? False\n",
            "Is element 1 equeal to 5? False\n",
            "Is element 2 equeal to 5? False\n",
            "Is element 3 equeal to 5? False\n",
            "Is element 4 equeal to 5? False\n",
            "Is element 5 equeal to 5? True\n",
            "Is element 6 equeal to 5? False\n",
            "Is element 7 equeal to 5? False\n",
            "Is element 8 equeal to 5? False\n",
            "Is element 9 equeal to 5? False\n"
          ]
        }
      ],
      "source": [
        "for el in numbers:\n",
        "    print(f\"Is element {el} equeal to 5? {el== 5}\")"
      ]
    },
    {
      "cell_type": "markdown",
      "metadata": {
        "id": "ddFE1naOmp7Q"
      },
      "source": [
        "3. Використовуючи цикл  `for` для кожного елементу списку `numbers`, який ми створили в завданні 1, виявіть, чи цей елемент ділиться на 2 без остачі, та запишіть результат у новий список `numbers_divisible_by_2`.\n",
        "\n",
        "Увага! Виконання завдання відрізняється від попереднього тим, що тепер ми результат обчислення на кожній ітерації записуємо у новий список. До того ж ми тут виконуємо іншу математичну операцію.\n",
        "\n",
        "Виведіть фільнальний список `numbers_divisible_by_2` на екран."
      ]
    },
    {
      "cell_type": "code",
      "execution_count": 17,
      "metadata": {
        "id": "S2Pk_W12uyDo"
      },
      "outputs": [
        {
          "name": "stdout",
          "output_type": "stream",
          "text": [
            "Numbers [0, 1, 2, 3, 4, 5, 6, 7, 8, 9] \n",
            "Numbers divisible by 2: [True, False, True, False, True, False, True, False, True, False]\n"
          ]
        }
      ],
      "source": [
        "numbers_divisible_by_2 = []\n",
        "for el in numbers:\n",
        "    numbers_divisible_by_2.append(el%2 == 0)\n",
        "print( \"Numbers\", numbers, \"\\nNumbers divisible by 2:\", numbers_divisible_by_2)  \n"
      ]
    },
    {
      "cell_type": "markdown",
      "metadata": {
        "id": "cwvpWeVGnUGB"
      },
      "source": [
        "Очікуваний результат: `[True, False, True, False, True, False, True, False, True, False]`"
      ]
    },
    {
      "cell_type": "markdown",
      "metadata": {
        "id": "0rgeGpJ3utVN"
      },
      "source": [
        "4. Задано два списки в клітинці нижче - `a` і `b`. Створіть цикл, результатом якого буде список `result`, що містить елементи типу bool і який фактично каже,\n",
        "\"чи на цьому індексі елементи наших двох списків співпадають\". Приклад:\n",
        "```\n",
        "a = [1, 2, 3, 6]\n",
        "b = [1, 7, 3, 6]\n",
        "# ми виконали поелементне порівняння двох списків і отримали новий список result\n",
        "# result містить наступний результат -> [True, False, True, True]\n",
        "```\n",
        "В кінці виведіть вміст result на екран.\n",
        "\n",
        "<details>\n",
        "<summary>Підказка</summary>\n",
        "\n",
        "Аби порівняти елементи в циклі - треба створити цикл по індексам елементів. Зважаючи, що наші списки - одної довжини, цей підхід дозволить нам отримати чітко те, що треба.\n",
        "\n",
        "**Просунутий варіант.** Альтернативно можна створити цикл, який на кожній ітерації має доступ до двох елементів - по одному з кожного списка, для цього треба скористатись функцією `zip` - приклад [тут](https://realpython.com/python-zip-function/#traversing-lists-in-parallel)\n",
        "</details>\n"
      ]
    },
    {
      "cell_type": "code",
      "execution_count": 20,
      "metadata": {
        "id": "IIYG41pWdJiG"
      },
      "outputs": [],
      "source": [
        "a = [64, 93, 60, 95, 66, 9, 15, 55, 77, 28, 74, 100, 13, 1, 85, 48, 66, 65, 59, 32]\n",
        "b = [64, 93, 60, 95, 66, 9, 15, 56, 77, 28, 74, 100, 13, 1, 85, 48, 67, 65, 59, 32]"
      ]
    },
    {
      "cell_type": "code",
      "execution_count": 23,
      "metadata": {
        "id": "XgZwTwr4u2lA"
      },
      "outputs": [
        {
          "name": "stdout",
          "output_type": "stream",
          "text": [
            "[True, True, True, True, True, True, True, False, True, True, True, True, True, True, True, True, False, True, True, True]\n",
            "[True, True, True, True, True, True, True, False, True, True, True, True, True, True, True, True, False, True, True, True]\n"
          ]
        }
      ],
      "source": [
        "result = []\n",
        "for i in range(len(a)):\n",
        "    result.append(a[i] == b[i])\n",
        "print(result)\n",
        "\n",
        "result_2 = []\n",
        "for a_i,b_i in zip(a, b):\n",
        "    result_2.append(a_i == b_i)\n",
        "print(result_2)"
      ]
    },
    {
      "cell_type": "markdown",
      "metadata": {
        "id": "0Z2cObcTutVO"
      },
      "source": [
        "5. Нижче задано список `numbers`. Виконайте клітинку з його заданням.\n",
        "\n",
        "  Давайте знайдемо середнє арифметичне значення елементів списку `numbers` округлене до 2 цифр після коми та запишемо його у змінну `numbers_mean`. Для цього виконаємо два простих кроки.\n",
        "\n",
        "  1) Знайдіть суму всіх елементів списку `numbers` та запишіть її у змінну `numbers_sum`. Можна з використанням циклу, а можна і без.\n",
        "\n",
        "  2) Обчисліть `numbers_mean` шляхом ділення суми елементів у списку на їх кількість. Кількість елементів в списку - це його довжина.\n",
        "\n",
        "  Виведіть `numbers_mean`, округлений до 2 цифр після коми, на екран.\n",
        "\n",
        "  **Підказка**: округлити число можна з використанням вбудованої функції Python [round()](https://docs.python.org/3/library/functions.html#round)."
      ]
    },
    {
      "cell_type": "code",
      "execution_count": 29,
      "metadata": {
        "id": "TwuOmLpeutVO"
      },
      "outputs": [],
      "source": [
        "numbers = [42, 51, 29, 2, 13, 44, 80, 66, 16]"
      ]
    },
    {
      "cell_type": "code",
      "execution_count": 32,
      "metadata": {
        "id": "R-qDvKVcu6e1"
      },
      "outputs": [
        {
          "name": "stdout",
          "output_type": "stream",
          "text": [
            "Sum of numbers: 343\n",
            "Mean of numbers: 38.11\n"
          ]
        }
      ],
      "source": [
        "numbers_sum = 0\n",
        "for i in range(len(numbers)):\n",
        "    numbers_sum += numbers[i]\n",
        "print(\"Sum of numbers:\", numbers_sum)\n",
        "numbers_mean = numbers_sum / len(numbers);\n",
        "print(\"Mean of numbers:\", round(numbers_mean,2))"
      ]
    },
    {
      "cell_type": "markdown",
      "metadata": {
        "id": "pSdssHuuutVQ"
      },
      "source": [
        "Очікуваний результат: `38.11`"
      ]
    },
    {
      "cell_type": "markdown",
      "metadata": {
        "id": "JsevSvVtutVQ"
      },
      "source": [
        "6. Задано список `a` і елемент `element`. Перевірте програмно чи є в списку `a` елемент `element` з допомогою інструкцій `if ... else`. Виведіть на екран відповідь \"Так, є\", якщо цей елемент в списку присутній, або \"Ні, нема\", якщо його там немає.\n",
        "Важливо це зробити без використання імпортів будь-яких бібліотек.\n",
        "\n",
        "  Тут цикла немає :) Але це завдання - підготовче до наступного."
      ]
    },
    {
      "cell_type": "code",
      "execution_count": 34,
      "metadata": {
        "id": "TqkTdlN_utVQ"
      },
      "outputs": [],
      "source": [
        "a = [64, 93, 60, 95, 66, 9, 15, 55, 77, 28, 74, 100, 13, 1, 85, 48, 66, 65, 59, 32]\n",
        "element = 33"
      ]
    },
    {
      "cell_type": "code",
      "execution_count": 37,
      "metadata": {
        "id": "aL_76T8pu7fp"
      },
      "outputs": [
        {
          "name": "stdout",
          "output_type": "stream",
          "text": [
            "Ні, немає 33\n"
          ]
        }
      ],
      "source": [
        "if(element in a):\n",
        "    print(f\"Так {element} є \")\n",
        "else:\n",
        "    print(f\"Ні, немає {element}\")"
      ]
    },
    {
      "cell_type": "markdown",
      "metadata": {
        "id": "QKjmv4j0utVR"
      },
      "source": [
        "7. Тепер у нас не один елемент, а кілька. Вони наведені в змінній `elements`. За допомогою циклу і інструкцій `if ... else` для кожного елемента списку `elements` перевірте, чи він є в списку `a`.\n",
        "Виведіть на екран відповідь \"Так, є елемент <вставити значення елемента>\", якщо елемент в списку присутній, або \"Ні, нема елемента <вставити значення елемента>\", якщо його там немає."
      ]
    },
    {
      "cell_type": "code",
      "execution_count": 38,
      "metadata": {
        "id": "TF3nT5TMutVR"
      },
      "outputs": [],
      "source": [
        "elements = [44, 66, 77, 100]"
      ]
    },
    {
      "cell_type": "code",
      "execution_count": 39,
      "metadata": {
        "id": "pQD5InOQvG1d"
      },
      "outputs": [
        {
          "name": "stdout",
          "output_type": "stream",
          "text": [
            "Ні, немає елемента 44\n",
            "Так, є елемент 66\n",
            "Так, є елемент 77\n",
            "Так, є елемент 100\n"
          ]
        }
      ],
      "source": [
        "for el in elements:\n",
        "    if el in a:\n",
        "        print(f\"Так, є елемент {el}\")\n",
        "    else:\n",
        "        print(f\"Ні, немає елемента {el}\")"
      ]
    }
  ],
  "metadata": {
    "colab": {
      "include_colab_link": true,
      "provenance": []
    },
    "kernelspec": {
      "display_name": "py312",
      "language": "python",
      "name": "python3"
    },
    "language_info": {
      "codemirror_mode": {
        "name": "ipython",
        "version": 3
      },
      "file_extension": ".py",
      "mimetype": "text/x-python",
      "name": "python",
      "nbconvert_exporter": "python",
      "pygments_lexer": "ipython3",
      "version": "3.12.11"
    }
  },
  "nbformat": 4,
  "nbformat_minor": 0
}
