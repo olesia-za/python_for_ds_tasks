{
  "cells": [
    {
      "cell_type": "markdown",
      "metadata": {
        "colab_type": "text",
        "id": "view-in-github"
      },
      "source": [
        "<a href=\"https://colab.research.google.com/github/olesia-za/python_for_ds_tasks/blob/main/OZ_Done_hw_2_3_Module_exception_.ipynb\" target=\"_parent\"><img src=\"https://colab.research.google.com/assets/colab-badge.svg\" alt=\"Open In Colab\"/></a>"
      ]
    },
    {
      "cell_type": "markdown",
      "id": "1561554f",
      "metadata": {
        "id": "1561554f"
      },
      "source": [
        "# Домашнє завдання до теми \"Модулі. Винятки (Exceptions)\"\n",
        "\n"
      ]
    },
    {
      "cell_type": "markdown",
      "id": "c094769a",
      "metadata": {
        "ExecuteTime": {
          "end_time": "2022-10-22T04:15:21.939494Z",
          "start_time": "2022-10-22T04:15:21.933981Z"
        },
        "id": "c094769a"
      },
      "source": [
        "Почнемо з закріплення матеріалу щодо фукнцій і віпрацювання роботи з модулем `random`.\n",
        "\n",
        "1. Напишіть функцію `get_random_int_list`, яка приймає один аргумент - кількість чисел `n`, і повертає список, що містить `n` випадкових цілих чисел з діапазону від 0 до 100 включно. Для генерації випадкових чисел використовуйте модуль `random`.\n",
        "\n",
        "  **Вимоги до реалізації:**\n",
        "\n",
        "  - Функція повинна приймати один аргумент `n` - кількість чисел у списку.\n",
        "  - Для генерації випадкових чисел використовуйте функцію `random.randint(0, 100)`.\n",
        "  - Повернутий список має містити рівно `n` випадкових чисел.\n",
        "\n",
        "  **Приклади виклику функції та очікувані результати:**\n",
        "\n",
        "  1. **Приклад 1:**\n",
        "    - Виклик функції: `get_random_int_list(5)`\n",
        "    - Очікуваний результат: Список з 5 випадковими числами, наприклад, `[23, 77, 45, 8, 91]`. Кожен запуск може повертати різні числа через випадковість.\n",
        "\n",
        "  2. **Приклад 2:**\n",
        "    - Виклик функції: `get_random_int_list(3)`\n",
        "    - Очікуваний результат: Список з 3 випадковими числами, наприклад, `[64, 20, 37]`.\n",
        "\n",
        "  3. **Приклад 3:**\n",
        "    - Виклик функції: `get_random_int_list(0)`\n",
        "    - Очікуваний результат: Порожній список `[]`, оскільки було запитано 0 чисел.\n",
        "\n",
        "Продемонструйте результати робити функції запустивши код нижче."
      ]
    },
    {
      "cell_type": "code",
      "execution_count": 2,
      "id": "m5hUhAQaqP78",
      "metadata": {
        "id": "m5hUhAQaqP78"
      },
      "outputs": [],
      "source": [
        "import random\n",
        "def get_random_int_list(n):\n",
        "    return [ random.randint(0,100) for i in range(n)]"
      ]
    },
    {
      "cell_type": "code",
      "execution_count": 3,
      "id": "XV-QkjcbqZNv",
      "metadata": {
        "id": "XV-QkjcbqZNv"
      },
      "outputs": [
        {
          "name": "stdout",
          "output_type": "stream",
          "text": [
            "[98, 6, 64, 59, 86]\n",
            "[51, 12, 67]\n",
            "[]\n",
            "[0, 65, 11, 61, 4, 25, 11, 17]\n"
          ]
        }
      ],
      "source": [
        "for number in [5, 3, 0, 8]:\n",
        "  print(get_random_int_list(number))"
      ]
    },
    {
      "cell_type": "markdown",
      "id": "iBHEcmV7R34X",
      "metadata": {
        "id": "iBHEcmV7R34X"
      },
      "source": [
        "2. **Конвертер рядка в число**\n",
        "\n",
        "  **Опис завдання:**\n",
        "\n",
        "  Створіть функцію `string_to_int`, яка приймає рядок і намагається перетворити його в ціле число. Якщо рядок не можна перетворити на ціле число, функція повинна обробити виключення про неправильне значення, вивести на екран `\"Некоректне введення\"` і повернути `None`.\n",
        "\n",
        "  **Приклади виклику функції:**\n",
        "\n",
        "  - `string_to_int(\"123\")` повинно повернути `123`.\n",
        "  - `string_to_int(\"abc\")` повинно вивести повідомлення `\"Некоректне введення\"` і повернути `None`."
      ]
    },
    {
      "cell_type": "code",
      "execution_count": 13,
      "id": "5UT2YNrISdLR",
      "metadata": {
        "id": "5UT2YNrISdLR"
      },
      "outputs": [],
      "source": [
        "def string_to_int(str_value):\n",
        "    try:\n",
        "        return int(float(str_value))\n",
        "    except ValueError:\n",
        "        print(str_value, \"Некоректне введення\")\n",
        "        return None\n"
      ]
    },
    {
      "cell_type": "markdown",
      "id": "UbIaPiOHSgE7",
      "metadata": {
        "id": "UbIaPiOHSgE7"
      },
      "source": [
        "Продемонструйте результати робити функції запустивши код нижче."
      ]
    },
    {
      "cell_type": "code",
      "execution_count": 14,
      "id": "AL7sINtwSgcs",
      "metadata": {
        "id": "AL7sINtwSgcs"
      },
      "outputs": [
        {
          "name": "stdout",
          "output_type": "stream",
          "text": [
            "abc Некоректне введення\n"
          ]
        },
        {
          "data": {
            "text/plain": [
              "{'123': 123, 'abc': None, '456.78': 456, '100': 100}"
            ]
          },
          "execution_count": 14,
          "metadata": {},
          "output_type": "execute_result"
        }
      ],
      "source": [
        "test_inputs = [\"123\", \"abc\", \"456.78\", \"100\"]\n",
        "results = {input_value: string_to_int(input_value) for input_value in test_inputs}\n",
        "results\n"
      ]
    },
    {
      "cell_type": "markdown",
      "id": "KkzLp29pQ1-U",
      "metadata": {
        "id": "KkzLp29pQ1-U"
      },
      "source": [
        "3. **Контроль введення користувача**\n",
        "\n",
        "  Створіть функцію `check_age`, яка приймає на вхід вік користувача у форматі рядок і перевіряє, чи є користувач повнолітнім (18 років і старше). Якщо введене значення не може бути перетворено на ціле число, функція повинна обробити виняток, вивести на екран `\"Некоректне введення. Будь ласка, введіть числове значення.\"` і повернути `False`. Якщо вік користувача менше 18, вивести повідомлення `\"Ви не повнолітній!\"` і також повернути `False`. У випадку, коли вік 18 років або більше, вивести повідомлення `\"Ви повнолітній.\"` і повернути `True`.\n",
        "\n",
        "  **Приклад роботи програми:**\n",
        "\n",
        "  1. Користувач вводить `\"двадцять\"`: програма виводить на екрнан `\"Некоректне введення. Будь ласка, введіть числове значення.\"` і повертає `False`.\n",
        "  2. Користувач вводить `\"17\"`: програма виводить `\"Ви не повнолітній!\"` і повертає `False`.\n",
        "  3. Користувач вводить `\"18\"`: програма виводить `\"Ви повнолітній.\"` і повертає `True`.\n"
      ]
    },
    {
      "cell_type": "code",
      "execution_count": 19,
      "id": "K3PTENm-Ae3-",
      "metadata": {
        "id": "K3PTENm-Ae3-"
      },
      "outputs": [],
      "source": [
        "def check_age(age_as_string):\n",
        "    try:\n",
        "        age = int(age_as_string)\n",
        "    except ValueError:\n",
        "        print( age_as_string, \"Некоректне введення. Будь ласка, введіть числове значення.\")\n",
        "        return False\n",
        "    if age < 18:\n",
        "        print(age, \"Ви не повнолітній!\")\n",
        "        return False\n",
        "    elif age >= 18:\n",
        "        print(age, \"Ви повнолітній.\")\n",
        "        return True\n",
        "    "
      ]
    },
    {
      "cell_type": "markdown",
      "id": "huphMh7YR2GJ",
      "metadata": {
        "id": "huphMh7YR2GJ"
      },
      "source": [
        "Продемонструйте результати робити функції запустивши код нижче."
      ]
    },
    {
      "cell_type": "code",
      "execution_count": 20,
      "id": "YuEQrntVRgSE",
      "metadata": {
        "id": "YuEQrntVRgSE"
      },
      "outputs": [
        {
          "name": "stdout",
          "output_type": "stream",
          "text": [
            "двадцять Некоректне введення. Будь ласка, введіть числове значення.\n",
            "17 Ви не повнолітній!\n",
            "18 Ви повнолітній.\n"
          ]
        },
        {
          "data": {
            "text/plain": [
              "[False, False, True]"
            ]
          },
          "execution_count": 20,
          "metadata": {},
          "output_type": "execute_result"
        }
      ],
      "source": [
        "test_inputs = [\"двадцять\", \"17\", \"18\"]\n",
        "results = [check_age(input_value) for input_value in test_inputs]\n",
        "results"
      ]
    },
    {
      "cell_type": "markdown",
      "id": "CQg-zIJGTqjw",
      "metadata": {
        "id": "CQg-zIJGTqjw"
      },
      "source": [
        "4. **Обчислення середнього з перевіркою:** Напишіть функцію `calculate_average`, яка приймає на вхід список чисел і обчислює середнє арифметичне значення цих чисел. Функція повинна перевіряти, що всі елементи списку є числами. Якщо серед елементів списку зустрічається елемент, який не є числом, функція повинна вивести повідомлення `\"Всі елементи повинні бути числами\"` і повернути `None`.\n",
        "\n",
        "  **Приклади виклику функції:**\n",
        "\n",
        "  - `calculate_average([1, 2, 3, 4, 5])` повинно повернути `3.0`.\n",
        "  - `calculate_average([1, \"2\", 3])` повинно вивести `\"Всі елементи повинні бути числами\"` і повернути `None`.\n",
        "  - `calculate_average([-1.1, \"ф\", 4])` повинно вивести `\"Всі елементи повинні бути числами\"` і повернути `None`."
      ]
    },
    {
      "cell_type": "code",
      "execution_count": 35,
      "id": "91VU_y5sUAKB",
      "metadata": {
        "id": "91VU_y5sUAKB"
      },
      "outputs": [],
      "source": [
        "def calculate_average (data):\n",
        "    for i,el in enumerate(data):\n",
        "        if not isinstance(el, (int, float)):\n",
        "            print(f\"'{el}' - {i+1}-ий елемент {data} не є числом\", \"Всі елементи повинні бути числами\")\n",
        "            return None\n",
        "    return sum(data)/len(data)\n",
        "\n",
        "def calculate_average2 (data):\n",
        "    try:\n",
        "        return sum(data)/len(data)\n",
        "    except TypeError:\n",
        "        print(data, \"Всі елементи повинні бути числами\")\n",
        "        return None"
      ]
    },
    {
      "cell_type": "markdown",
      "id": "ib-JWKKmUeF8",
      "metadata": {
        "id": "ib-JWKKmUeF8"
      },
      "source": [
        "Продемонструйте результати робити функції запустивши код нижче."
      ]
    },
    {
      "cell_type": "code",
      "execution_count": 39,
      "id": "axEmZx0rUNqT",
      "metadata": {
        "id": "axEmZx0rUNqT"
      },
      "outputs": [
        {
          "name": "stdout",
          "output_type": "stream",
          "text": [
            "'2' - 2-ий елемент [1, '2', 3] не є числом Всі елементи повинні бути числами\n",
            "'ф' - 2-ий елемент [-1.1, 'ф', 4] не є числом Всі елементи повинні бути числами\n",
            "[3.0, None, 20.0, None]\n",
            "\n",
            "2-й варіант функції\n",
            "[1, '2', 3] Всі елементи повинні бути числами\n",
            "[-1.1, 'ф', 4] Всі елементи повинні бути числами\n"
          ]
        },
        {
          "data": {
            "text/plain": [
              "[3.0, None, 20.0, None]"
            ]
          },
          "execution_count": 39,
          "metadata": {},
          "output_type": "execute_result"
        }
      ],
      "source": [
        "test_data = [\n",
        "    [1, 2, 3, 4, 5],  # Коректні дані\n",
        "    [1, \"2\", 3],      # Некоректні дані\n",
        "    [10, 20, 30],     # Коректні дані\n",
        "    [-1.1, \"ф\", 4]    # Некоректні дані\n",
        "]\n",
        "\n",
        "results = [calculate_average(data) for data in test_data]\n",
        "print(results)\n",
        "\n",
        "print(\"\\n2-й варіант функції\")\n",
        "# Використання другого варіанту функції\n",
        "results = [calculate_average2(data) for data in test_data]\n",
        "results"
      ]
    }
  ],
  "metadata": {
    "colab": {
      "include_colab_link": true,
      "provenance": []
    },
    "kernelspec": {
      "display_name": "py312",
      "language": "python",
      "name": "python3"
    },
    "language_info": {
      "codemirror_mode": {
        "name": "ipython",
        "version": 3
      },
      "file_extension": ".py",
      "mimetype": "text/x-python",
      "name": "python",
      "nbconvert_exporter": "python",
      "pygments_lexer": "ipython3",
      "version": "3.12.11"
    },
    "toc": {
      "base_numbering": 1,
      "nav_menu": {},
      "number_sections": true,
      "sideBar": true,
      "skip_h1_title": false,
      "title_cell": "Table of Contents",
      "title_sidebar": "Contents",
      "toc_cell": false,
      "toc_position": {},
      "toc_section_display": true,
      "toc_window_display": false
    }
  },
  "nbformat": 4,
  "nbformat_minor": 5
}
