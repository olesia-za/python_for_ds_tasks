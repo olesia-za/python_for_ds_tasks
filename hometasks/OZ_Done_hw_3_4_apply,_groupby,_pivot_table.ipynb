{
  "cells": [
    {
      "cell_type": "markdown",
      "metadata": {
        "colab_type": "text",
        "id": "view-in-github"
      },
      "source": [
        "<a href=\"https://colab.research.google.com/github/olesia-za/python_for_ds_tasks/blob/main/OZ_Done_hw_3_4_apply%2C_groupby%2C_pivot_table.ipynb\" target=\"_parent\"><img src=\"https://colab.research.google.com/assets/colab-badge.svg\" alt=\"Open In Colab\"/></a>"
      ]
    },
    {
      "cell_type": "markdown",
      "metadata": {
        "id": "LwNpAFw_eTF3"
      },
      "source": [
        "#Домашнє завдання до тем apply(), groupby(), pivot_table()"
      ]
    },
    {
      "cell_type": "markdown",
      "metadata": {
        "id": "vP2PEJyq8Yrj"
      },
      "source": [
        "В цьому домашньому завданні продовжуємо працювати з набором даних `supermarket_sales.csv`."
      ]
    },
    {
      "cell_type": "markdown",
      "metadata": {
        "id": "dh9lfpDb8gBL"
      },
      "source": [
        "0. Імпортуйте бібліотеку pandas та зчитайте дані у змінну `df` типу `pandas.DataFrame`."
      ]
    },
    {
      "cell_type": "code",
      "execution_count": 1,
      "metadata": {
        "id": "xBI9gJMK8qnl"
      },
      "outputs": [],
      "source": [
        "import pandas as pd\n",
        "df = pd.read_csv(\"../data/supermarket_sales.csv\")"
      ]
    },
    {
      "cell_type": "markdown",
      "metadata": {
        "id": "28638363"
      },
      "source": [
        "1. Дослідимо, який філіал супермаркету ('Branch') є найприбутковішим. Для цього знайдіть сумарний прибуток за кожним філіалом і виявіть, який філіал має найвищий."
      ]
    },
    {
      "cell_type": "code",
      "execution_count": null,
      "metadata": {
        "ExecuteTime": {
          "end_time": "2022-11-01T17:27:42.023877Z",
          "start_time": "2022-11-01T17:27:42.020277Z"
        },
        "id": "916d731d"
      },
      "outputs": [
        {
          "data": {
            "application/vnd.microsoft.datawrangler.viewer.v0+json": {
              "columns": [
                {
                  "name": "Branch",
                  "rawType": "object",
                  "type": "string"
                },
                {
                  "name": "Total",
                  "rawType": "float64",
                  "type": "float"
                }
              ],
              "ref": "f7b61516-16e9-4c1a-aaf6-b6c8c6899bb1",
              "rows": [
                [
                  "C",
                  "110568.7065"
                ],
                [
                  "A",
                  "106200.3705"
                ],
                [
                  "B",
                  "106197.672"
                ]
              ],
              "shape": {
                "columns": 1,
                "rows": 3
              }
            },
            "text/plain": [
              "Branch\n",
              "C    110568.7065\n",
              "A    106200.3705\n",
              "B    106197.6720\n",
              "Name: Total, dtype: float64"
            ]
          },
          "execution_count": 4,
          "metadata": {},
          "output_type": "execute_result"
        }
      ],
      "source": [
        "df.groupby('Branch')['Total'].sum().sort_values(ascending=False)\n",
        "# C - 110568.7065"
      ]
    },
    {
      "cell_type": "markdown",
      "metadata": {
        "id": "2qL_OddUCZKK"
      },
      "source": [
        "2. В якому місті знайходиться філіал з найвищим прибутком? Може в тому місці нам розмітисти ще один магазин.  \n",
        "Знайдіть відповідь за допомогою функціоналу Pandas."
      ]
    },
    {
      "cell_type": "code",
      "execution_count": null,
      "metadata": {
        "id": "bBJUc1dWCwdi"
      },
      "outputs": [
        {
          "data": {
            "application/vnd.microsoft.datawrangler.viewer.v0+json": {
              "columns": [
                {
                  "name": "('Branch', 'City')",
                  "rawType": "object",
                  "type": "unknown"
                },
                {
                  "name": "Total",
                  "rawType": "float64",
                  "type": "float"
                }
              ],
              "ref": "b530e28c-dc8c-43d6-ba90-4142ccada150",
              "rows": [
                [
                  "('C', 'Naypyitaw')",
                  "110568.7065"
                ]
              ],
              "shape": {
                "columns": 1,
                "rows": 1
              }
            },
            "text/plain": [
              "Branch  City     \n",
              "C       Naypyitaw    110568.7065\n",
              "Name: Total, dtype: float64"
            ]
          },
          "execution_count": 5,
          "metadata": {},
          "output_type": "execute_result"
        }
      ],
      "source": [
        "df.groupby(['Branch', 'City'])['Total'].sum().nlargest(1)\n",
        "# інформації для дослідження чи вигідно розмістити ще один магазин у 'Naypyitaw' недостатньо"
      ]
    },
    {
      "cell_type": "markdown",
      "metadata": {
        "id": "6dec795f"
      },
      "source": [
        "3.1. Створіть зводну таблицю, яка покаже, скільки покупок (інвойсів) було зроблено в кожній з філій (`Branch`) за різними категоріями товарів. Запишіть таблицю в змінну `invoices_by_category` і виведіть змінну на екран.\n",
        "Ця таблиця допоможе проаналізувати, в якій філії купують найбільше товарів кожної з категорій."
      ]
    },
    {
      "cell_type": "code",
      "execution_count": 29,
      "metadata": {
        "id": "N7TfUBf4ZrkX"
      },
      "outputs": [
        {
          "data": {
            "application/vnd.microsoft.datawrangler.viewer.v0+json": {
              "columns": [
                {
                  "name": "Branch",
                  "rawType": "object",
                  "type": "string"
                },
                {
                  "name": "Electronic accessories",
                  "rawType": "int64",
                  "type": "integer"
                },
                {
                  "name": "Fashion accessories",
                  "rawType": "int64",
                  "type": "integer"
                },
                {
                  "name": "Food and beverages",
                  "rawType": "int64",
                  "type": "integer"
                },
                {
                  "name": "Health and beauty",
                  "rawType": "int64",
                  "type": "integer"
                },
                {
                  "name": "Home and lifestyle",
                  "rawType": "int64",
                  "type": "integer"
                },
                {
                  "name": "Sports and travel",
                  "rawType": "int64",
                  "type": "integer"
                }
              ],
              "ref": "273615ce-5846-4e6b-8c0d-951e544c3e46",
              "rows": [
                [
                  "A",
                  "60",
                  "51",
                  "58",
                  "47",
                  "65",
                  "59"
                ],
                [
                  "B",
                  "55",
                  "62",
                  "50",
                  "53",
                  "50",
                  "62"
                ],
                [
                  "C",
                  "55",
                  "65",
                  "66",
                  "52",
                  "45",
                  "45"
                ]
              ],
              "shape": {
                "columns": 6,
                "rows": 3
              }
            },
            "text/html": [
              "<div>\n",
              "<style scoped>\n",
              "    .dataframe tbody tr th:only-of-type {\n",
              "        vertical-align: middle;\n",
              "    }\n",
              "\n",
              "    .dataframe tbody tr th {\n",
              "        vertical-align: top;\n",
              "    }\n",
              "\n",
              "    .dataframe thead th {\n",
              "        text-align: right;\n",
              "    }\n",
              "</style>\n",
              "<table border=\"1\" class=\"dataframe\">\n",
              "  <thead>\n",
              "    <tr style=\"text-align: right;\">\n",
              "      <th>Product line</th>\n",
              "      <th>Electronic accessories</th>\n",
              "      <th>Fashion accessories</th>\n",
              "      <th>Food and beverages</th>\n",
              "      <th>Health and beauty</th>\n",
              "      <th>Home and lifestyle</th>\n",
              "      <th>Sports and travel</th>\n",
              "    </tr>\n",
              "    <tr>\n",
              "      <th>Branch</th>\n",
              "      <th></th>\n",
              "      <th></th>\n",
              "      <th></th>\n",
              "      <th></th>\n",
              "      <th></th>\n",
              "      <th></th>\n",
              "    </tr>\n",
              "  </thead>\n",
              "  <tbody>\n",
              "    <tr>\n",
              "      <th>A</th>\n",
              "      <td>60</td>\n",
              "      <td>51</td>\n",
              "      <td>58</td>\n",
              "      <td>47</td>\n",
              "      <td>65</td>\n",
              "      <td>59</td>\n",
              "    </tr>\n",
              "    <tr>\n",
              "      <th>B</th>\n",
              "      <td>55</td>\n",
              "      <td>62</td>\n",
              "      <td>50</td>\n",
              "      <td>53</td>\n",
              "      <td>50</td>\n",
              "      <td>62</td>\n",
              "    </tr>\n",
              "    <tr>\n",
              "      <th>C</th>\n",
              "      <td>55</td>\n",
              "      <td>65</td>\n",
              "      <td>66</td>\n",
              "      <td>52</td>\n",
              "      <td>45</td>\n",
              "      <td>45</td>\n",
              "    </tr>\n",
              "  </tbody>\n",
              "</table>\n",
              "</div>"
            ],
            "text/plain": [
              "Product line  Electronic accessories  Fashion accessories  Food and beverages  \\\n",
              "Branch                                                                          \n",
              "A                                 60                   51                  58   \n",
              "B                                 55                   62                  50   \n",
              "C                                 55                   65                  66   \n",
              "\n",
              "Product line  Health and beauty  Home and lifestyle  Sports and travel  \n",
              "Branch                                                                  \n",
              "A                            47                  65                 59  \n",
              "B                            53                  50                 62  \n",
              "C                            52                  45                 45  "
            ]
          },
          "execution_count": 29,
          "metadata": {},
          "output_type": "execute_result"
        }
      ],
      "source": [
        "invoices_by_category = df.pivot_table(index=['Branch'], columns=['Product line'], values='Invoice ID' , aggfunc=\"count\")\n",
        "invoices_by_category"
      ]
    },
    {
      "cell_type": "markdown",
      "metadata": {
        "ExecuteTime": {
          "end_time": "2022-11-01T16:50:46.961201Z",
          "start_time": "2022-11-01T16:50:46.955894Z"
        },
        "id": "f5bbfa34"
      },
      "source": [
        "Очікуваний результат:"
      ]
    },
    {
      "cell_type": "markdown",
      "metadata": {
        "id": "34b9bcdc"
      },
      "source": [
        "![](https://drive.google.com/uc?export=view&id=1rueAdko6S3UxIHGtojetTxlES-EyM6Yb)"
      ]
    },
    {
      "cell_type": "markdown",
      "metadata": {
        "id": "woygDEA0OSwJ"
      },
      "source": [
        "3.2. Викристовуючи змінну `invoices_by_category` дайте відповідь програмно (тобто значення треба не просто знайти очима, а вивести за допомогою коду), в якому філіалі магазину (`Branch`) найбільше інвойсів із покупкою товарів категорії \"Електронні аксесуари\" (`Electronic accessories`)?\n"
      ]
    },
    {
      "cell_type": "code",
      "execution_count": 31,
      "metadata": {
        "id": "B5x8kTE-Qcq8"
      },
      "outputs": [
        {
          "data": {
            "application/vnd.microsoft.datawrangler.viewer.v0+json": {
              "columns": [
                {
                  "name": "Branch",
                  "rawType": "object",
                  "type": "string"
                },
                {
                  "name": "Electronic accessories",
                  "rawType": "int64",
                  "type": "integer"
                }
              ],
              "ref": "45c61431-2244-4a63-b29c-b38b8c2ea56c",
              "rows": [
                [
                  "A",
                  "60"
                ]
              ],
              "shape": {
                "columns": 1,
                "rows": 1
              }
            },
            "text/plain": [
              "Branch\n",
              "A    60\n",
              "Name: Electronic accessories, dtype: int64"
            ]
          },
          "execution_count": 31,
          "metadata": {},
          "output_type": "execute_result"
        }
      ],
      "source": [
        "invoices_by_category['Electronic accessories'].nlargest(1)"
      ]
    },
    {
      "cell_type": "markdown",
      "metadata": {
        "ExecuteTime": {
          "end_time": "2022-11-01T17:56:02.981755Z",
          "start_time": "2022-11-01T17:56:02.977086Z"
        },
        "id": "d005a2b8"
      },
      "source": [
        "4-6. **Творче завдання на розвиток аналітичного мислення**\n",
        "\n",
        "Крок 1. Сформулюйте ТРИ питання (гіпотези) до наявних даних, які допомогли б вам зрозуміти, які користувачі що, де та коли найбільше/найменше купують, аби дати на основі цих гіпотез рекомендації бізнесу. Звісно питання мають бути не тими, на які ми вже відповіли в завданнях модулю.\n",
        "\n",
        "Крок 2. Знайдіть відповіді на свої питання з допомогою функціоналу pandas.\n",
        "\n",
        "Крок 3. Напишіть, як відповідь на це питання може бути використана для прийняття бізнес рішень.   \n",
        "   \n",
        " Питання можуть бути будь-якої складності, але їх має бути 3. Кожне питання оцінюється як 1 завдання. Без виконання цього завдання ДЗ не приймається. Якщо є питання щодо виконання - пишіть у чат 🙌\n"
      ]
    },
    {
      "cell_type": "markdown",
      "metadata": {},
      "source": [
        "1) Які тенденції кількості покупок та загальної суми покупок наявні в залежності від - Genger, Custom type для різних Branch та Product line \n",
        "2) Чи є проблеми з використанням певного способу оплати на різних Branch\n",
        "3) Чи є тенденції суттєвого зниження рейтингів для певної Branch та Product line \n",
        "4) Які тенденції кількості покупок та загальної суми покупок наявні в залежності від - дня та на різних Branch "
      ]
    },
    {
      "cell_type": "code",
      "execution_count": null,
      "metadata": {},
      "outputs": [
        {
          "data": {
            "application/vnd.microsoft.datawrangler.viewer.v0+json": {
              "columns": [
                {
                  "name": "('Branch', 'Gender')",
                  "rawType": "object",
                  "type": "unknown"
                },
                {
                  "name": "Electronic accessories",
                  "rawType": "int64",
                  "type": "integer"
                },
                {
                  "name": "Fashion accessories",
                  "rawType": "int64",
                  "type": "integer"
                },
                {
                  "name": "Food and beverages",
                  "rawType": "int64",
                  "type": "integer"
                },
                {
                  "name": "Health and beauty",
                  "rawType": "int64",
                  "type": "integer"
                },
                {
                  "name": "Home and lifestyle",
                  "rawType": "int64",
                  "type": "integer"
                },
                {
                  "name": "Sports and travel",
                  "rawType": "int64",
                  "type": "integer"
                }
              ],
              "ref": "76d232c0-1aeb-4afa-bc90-7966a3a2321c",
              "rows": [
                [
                  "('A', 'Female')",
                  "28",
                  "28",
                  "23",
                  "21",
                  "32",
                  "29"
                ],
                [
                  "('A', 'Male')",
                  "32",
                  "23",
                  "35",
                  "26",
                  "33",
                  "30"
                ],
                [
                  "('B', 'Female')",
                  "28",
                  "33",
                  "29",
                  "20",
                  "22",
                  "30"
                ],
                [
                  "('B', 'Male')",
                  "27",
                  "29",
                  "21",
                  "33",
                  "28",
                  "32"
                ],
                [
                  "('C', 'Female')",
                  "28",
                  "35",
                  "38",
                  "23",
                  "25",
                  "29"
                ],
                [
                  "('C', 'Male')",
                  "27",
                  "30",
                  "28",
                  "29",
                  "20",
                  "16"
                ]
              ],
              "shape": {
                "columns": 6,
                "rows": 6
              }
            },
            "text/html": [
              "<div>\n",
              "<style scoped>\n",
              "    .dataframe tbody tr th:only-of-type {\n",
              "        vertical-align: middle;\n",
              "    }\n",
              "\n",
              "    .dataframe tbody tr th {\n",
              "        vertical-align: top;\n",
              "    }\n",
              "\n",
              "    .dataframe thead th {\n",
              "        text-align: right;\n",
              "    }\n",
              "</style>\n",
              "<table border=\"1\" class=\"dataframe\">\n",
              "  <thead>\n",
              "    <tr style=\"text-align: right;\">\n",
              "      <th></th>\n",
              "      <th>Product line</th>\n",
              "      <th>Electronic accessories</th>\n",
              "      <th>Fashion accessories</th>\n",
              "      <th>Food and beverages</th>\n",
              "      <th>Health and beauty</th>\n",
              "      <th>Home and lifestyle</th>\n",
              "      <th>Sports and travel</th>\n",
              "    </tr>\n",
              "    <tr>\n",
              "      <th>Branch</th>\n",
              "      <th>Gender</th>\n",
              "      <th></th>\n",
              "      <th></th>\n",
              "      <th></th>\n",
              "      <th></th>\n",
              "      <th></th>\n",
              "      <th></th>\n",
              "    </tr>\n",
              "  </thead>\n",
              "  <tbody>\n",
              "    <tr>\n",
              "      <th rowspan=\"2\" valign=\"top\">A</th>\n",
              "      <th>Female</th>\n",
              "      <td>28</td>\n",
              "      <td>28</td>\n",
              "      <td>23</td>\n",
              "      <td>21</td>\n",
              "      <td>32</td>\n",
              "      <td>29</td>\n",
              "    </tr>\n",
              "    <tr>\n",
              "      <th>Male</th>\n",
              "      <td>32</td>\n",
              "      <td>23</td>\n",
              "      <td>35</td>\n",
              "      <td>26</td>\n",
              "      <td>33</td>\n",
              "      <td>30</td>\n",
              "    </tr>\n",
              "    <tr>\n",
              "      <th rowspan=\"2\" valign=\"top\">B</th>\n",
              "      <th>Female</th>\n",
              "      <td>28</td>\n",
              "      <td>33</td>\n",
              "      <td>29</td>\n",
              "      <td>20</td>\n",
              "      <td>22</td>\n",
              "      <td>30</td>\n",
              "    </tr>\n",
              "    <tr>\n",
              "      <th>Male</th>\n",
              "      <td>27</td>\n",
              "      <td>29</td>\n",
              "      <td>21</td>\n",
              "      <td>33</td>\n",
              "      <td>28</td>\n",
              "      <td>32</td>\n",
              "    </tr>\n",
              "    <tr>\n",
              "      <th rowspan=\"2\" valign=\"top\">C</th>\n",
              "      <th>Female</th>\n",
              "      <td>28</td>\n",
              "      <td>35</td>\n",
              "      <td>38</td>\n",
              "      <td>23</td>\n",
              "      <td>25</td>\n",
              "      <td>29</td>\n",
              "    </tr>\n",
              "    <tr>\n",
              "      <th>Male</th>\n",
              "      <td>27</td>\n",
              "      <td>30</td>\n",
              "      <td>28</td>\n",
              "      <td>29</td>\n",
              "      <td>20</td>\n",
              "      <td>16</td>\n",
              "    </tr>\n",
              "  </tbody>\n",
              "</table>\n",
              "</div>"
            ],
            "text/plain": [
              "Product line   Electronic accessories  Fashion accessories  \\\n",
              "Branch Gender                                                \n",
              "A      Female                      28                   28   \n",
              "       Male                        32                   23   \n",
              "B      Female                      28                   33   \n",
              "       Male                        27                   29   \n",
              "C      Female                      28                   35   \n",
              "       Male                        27                   30   \n",
              "\n",
              "Product line   Food and beverages  Health and beauty  Home and lifestyle  \\\n",
              "Branch Gender                                                              \n",
              "A      Female                  23                 21                  32   \n",
              "       Male                    35                 26                  33   \n",
              "B      Female                  29                 20                  22   \n",
              "       Male                    21                 33                  28   \n",
              "C      Female                  38                 23                  25   \n",
              "       Male                    28                 29                  20   \n",
              "\n",
              "Product line   Sports and travel  \n",
              "Branch Gender                     \n",
              "A      Female                 29  \n",
              "       Male                   30  \n",
              "B      Female                 30  \n",
              "       Male                   32  \n",
              "C      Female                 29  \n",
              "       Male                   16  "
            ]
          },
          "execution_count": 46,
          "metadata": {},
          "output_type": "execute_result"
        }
      ],
      "source": [
        "df.pivot_table(index=['Branch','Gender'], columns=['Product line'], values='Invoice ID' , aggfunc=\"count\")\n",
        "# 1) Які тенденції кількості покупок та загальної суми покупок наявні в залежності від - Genger, Custom type для різних Branch та Product line \n",
        "# для Branch 'C' - 'Sports and travel'  для чолоіків значно менший ніж для жінок, відповідно варто збільшити або покращити асортимент цієї групи товарів для чоловіків\n",
        "# для Branch 'A' - 'Food and beverages'  для жінок значно менший ніж для чоловіків, відповідно варто збільшити або покращити асортимент цієї групи товарів для жінок"
      ]
    },
    {
      "cell_type": "code",
      "execution_count": 109,
      "metadata": {},
      "outputs": [
        {
          "data": {
            "application/vnd.microsoft.datawrangler.viewer.v0+json": {
              "columns": [
                {
                  "name": "Branch",
                  "rawType": "object",
                  "type": "string"
                },
                {
                  "name": "Female",
                  "rawType": "int64",
                  "type": "integer"
                },
                {
                  "name": "Male",
                  "rawType": "int64",
                  "type": "integer"
                }
              ],
              "ref": "07aa852b-7364-4392-b989-9d3e7d00ca48",
              "rows": [
                [
                  "A",
                  "161",
                  "179"
                ],
                [
                  "B",
                  "162",
                  "170"
                ],
                [
                  "C",
                  "178",
                  "150"
                ]
              ],
              "shape": {
                "columns": 2,
                "rows": 3
              }
            },
            "text/html": [
              "<div>\n",
              "<style scoped>\n",
              "    .dataframe tbody tr th:only-of-type {\n",
              "        vertical-align: middle;\n",
              "    }\n",
              "\n",
              "    .dataframe tbody tr th {\n",
              "        vertical-align: top;\n",
              "    }\n",
              "\n",
              "    .dataframe thead th {\n",
              "        text-align: right;\n",
              "    }\n",
              "</style>\n",
              "<table border=\"1\" class=\"dataframe\">\n",
              "  <thead>\n",
              "    <tr style=\"text-align: right;\">\n",
              "      <th>Gender</th>\n",
              "      <th>Female</th>\n",
              "      <th>Male</th>\n",
              "    </tr>\n",
              "    <tr>\n",
              "      <th>Branch</th>\n",
              "      <th></th>\n",
              "      <th></th>\n",
              "    </tr>\n",
              "  </thead>\n",
              "  <tbody>\n",
              "    <tr>\n",
              "      <th>A</th>\n",
              "      <td>161</td>\n",
              "      <td>179</td>\n",
              "    </tr>\n",
              "    <tr>\n",
              "      <th>B</th>\n",
              "      <td>162</td>\n",
              "      <td>170</td>\n",
              "    </tr>\n",
              "    <tr>\n",
              "      <th>C</th>\n",
              "      <td>178</td>\n",
              "      <td>150</td>\n",
              "    </tr>\n",
              "  </tbody>\n",
              "</table>\n",
              "</div>"
            ],
            "text/plain": [
              "Gender  Female  Male\n",
              "Branch              \n",
              "A          161   179\n",
              "B          162   170\n",
              "C          178   150"
            ]
          },
          "execution_count": 109,
          "metadata": {},
          "output_type": "execute_result"
        }
      ],
      "source": [
        "df.Gender.value_counts(normalize=True)\n",
        "df.pivot_table(index=['Branch'], columns=['Gender'], values='Invoice ID' , aggfunc=\"count\")\n"
      ]
    },
    {
      "cell_type": "code",
      "execution_count": 110,
      "metadata": {},
      "outputs": [
        {
          "data": {
            "application/vnd.microsoft.datawrangler.viewer.v0+json": {
              "columns": [
                {
                  "name": "Branch",
                  "rawType": "object",
                  "type": "string"
                },
                {
                  "name": "Member",
                  "rawType": "int64",
                  "type": "integer"
                },
                {
                  "name": "Normal",
                  "rawType": "int64",
                  "type": "integer"
                }
              ],
              "ref": "1ecf60d0-d252-4b23-84a3-2889fff4cd44",
              "rows": [
                [
                  "A",
                  "167",
                  "173"
                ],
                [
                  "B",
                  "165",
                  "167"
                ],
                [
                  "C",
                  "169",
                  "159"
                ]
              ],
              "shape": {
                "columns": 2,
                "rows": 3
              }
            },
            "text/html": [
              "<div>\n",
              "<style scoped>\n",
              "    .dataframe tbody tr th:only-of-type {\n",
              "        vertical-align: middle;\n",
              "    }\n",
              "\n",
              "    .dataframe tbody tr th {\n",
              "        vertical-align: top;\n",
              "    }\n",
              "\n",
              "    .dataframe thead th {\n",
              "        text-align: right;\n",
              "    }\n",
              "</style>\n",
              "<table border=\"1\" class=\"dataframe\">\n",
              "  <thead>\n",
              "    <tr style=\"text-align: right;\">\n",
              "      <th>Customer type</th>\n",
              "      <th>Member</th>\n",
              "      <th>Normal</th>\n",
              "    </tr>\n",
              "    <tr>\n",
              "      <th>Branch</th>\n",
              "      <th></th>\n",
              "      <th></th>\n",
              "    </tr>\n",
              "  </thead>\n",
              "  <tbody>\n",
              "    <tr>\n",
              "      <th>A</th>\n",
              "      <td>167</td>\n",
              "      <td>173</td>\n",
              "    </tr>\n",
              "    <tr>\n",
              "      <th>B</th>\n",
              "      <td>165</td>\n",
              "      <td>167</td>\n",
              "    </tr>\n",
              "    <tr>\n",
              "      <th>C</th>\n",
              "      <td>169</td>\n",
              "      <td>159</td>\n",
              "    </tr>\n",
              "  </tbody>\n",
              "</table>\n",
              "</div>"
            ],
            "text/plain": [
              "Customer type  Member  Normal\n",
              "Branch                       \n",
              "A                 167     173\n",
              "B                 165     167\n",
              "C                 169     159"
            ]
          },
          "execution_count": 110,
          "metadata": {},
          "output_type": "execute_result"
        }
      ],
      "source": [
        "df['Customer type'].value_counts(normalize=True)\n",
        "df.pivot_table(index=['Branch'], columns=['Customer type'], values='Invoice ID' , aggfunc=\"count\")\n"
      ]
    },
    {
      "cell_type": "code",
      "execution_count": null,
      "metadata": {},
      "outputs": [
        {
          "data": {
            "application/vnd.microsoft.datawrangler.viewer.v0+json": {
              "columns": [
                {
                  "name": "('Branch', 'Customer type')",
                  "rawType": "object",
                  "type": "unknown"
                },
                {
                  "name": "Electronic accessories",
                  "rawType": "int64",
                  "type": "integer"
                },
                {
                  "name": "Fashion accessories",
                  "rawType": "int64",
                  "type": "integer"
                },
                {
                  "name": "Food and beverages",
                  "rawType": "int64",
                  "type": "integer"
                },
                {
                  "name": "Health and beauty",
                  "rawType": "int64",
                  "type": "integer"
                },
                {
                  "name": "Home and lifestyle",
                  "rawType": "int64",
                  "type": "integer"
                },
                {
                  "name": "Sports and travel",
                  "rawType": "int64",
                  "type": "integer"
                }
              ],
              "ref": "04b64113-a89f-4e55-977e-29c826d45d83",
              "rows": [
                [
                  "('A', 'Member')",
                  "31",
                  "22",
                  "29",
                  "22",
                  "34",
                  "29"
                ],
                [
                  "('A', 'Normal')",
                  "29",
                  "29",
                  "29",
                  "25",
                  "31",
                  "30"
                ],
                [
                  "('B', 'Member')",
                  "27",
                  "32",
                  "29",
                  "26",
                  "21",
                  "30"
                ],
                [
                  "('B', 'Normal')",
                  "28",
                  "30",
                  "21",
                  "27",
                  "29",
                  "32"
                ],
                [
                  "('C', 'Member')",
                  "20",
                  "32",
                  "36",
                  "25",
                  "28",
                  "28"
                ],
                [
                  "('C', 'Normal')",
                  "35",
                  "33",
                  "30",
                  "27",
                  "17",
                  "17"
                ]
              ],
              "shape": {
                "columns": 6,
                "rows": 6
              }
            },
            "text/html": [
              "<div>\n",
              "<style scoped>\n",
              "    .dataframe tbody tr th:only-of-type {\n",
              "        vertical-align: middle;\n",
              "    }\n",
              "\n",
              "    .dataframe tbody tr th {\n",
              "        vertical-align: top;\n",
              "    }\n",
              "\n",
              "    .dataframe thead th {\n",
              "        text-align: right;\n",
              "    }\n",
              "</style>\n",
              "<table border=\"1\" class=\"dataframe\">\n",
              "  <thead>\n",
              "    <tr style=\"text-align: right;\">\n",
              "      <th></th>\n",
              "      <th>Product line</th>\n",
              "      <th>Electronic accessories</th>\n",
              "      <th>Fashion accessories</th>\n",
              "      <th>Food and beverages</th>\n",
              "      <th>Health and beauty</th>\n",
              "      <th>Home and lifestyle</th>\n",
              "      <th>Sports and travel</th>\n",
              "    </tr>\n",
              "    <tr>\n",
              "      <th>Branch</th>\n",
              "      <th>Customer type</th>\n",
              "      <th></th>\n",
              "      <th></th>\n",
              "      <th></th>\n",
              "      <th></th>\n",
              "      <th></th>\n",
              "      <th></th>\n",
              "    </tr>\n",
              "  </thead>\n",
              "  <tbody>\n",
              "    <tr>\n",
              "      <th rowspan=\"2\" valign=\"top\">A</th>\n",
              "      <th>Member</th>\n",
              "      <td>31</td>\n",
              "      <td>22</td>\n",
              "      <td>29</td>\n",
              "      <td>22</td>\n",
              "      <td>34</td>\n",
              "      <td>29</td>\n",
              "    </tr>\n",
              "    <tr>\n",
              "      <th>Normal</th>\n",
              "      <td>29</td>\n",
              "      <td>29</td>\n",
              "      <td>29</td>\n",
              "      <td>25</td>\n",
              "      <td>31</td>\n",
              "      <td>30</td>\n",
              "    </tr>\n",
              "    <tr>\n",
              "      <th rowspan=\"2\" valign=\"top\">B</th>\n",
              "      <th>Member</th>\n",
              "      <td>27</td>\n",
              "      <td>32</td>\n",
              "      <td>29</td>\n",
              "      <td>26</td>\n",
              "      <td>21</td>\n",
              "      <td>30</td>\n",
              "    </tr>\n",
              "    <tr>\n",
              "      <th>Normal</th>\n",
              "      <td>28</td>\n",
              "      <td>30</td>\n",
              "      <td>21</td>\n",
              "      <td>27</td>\n",
              "      <td>29</td>\n",
              "      <td>32</td>\n",
              "    </tr>\n",
              "    <tr>\n",
              "      <th rowspan=\"2\" valign=\"top\">C</th>\n",
              "      <th>Member</th>\n",
              "      <td>20</td>\n",
              "      <td>32</td>\n",
              "      <td>36</td>\n",
              "      <td>25</td>\n",
              "      <td>28</td>\n",
              "      <td>28</td>\n",
              "    </tr>\n",
              "    <tr>\n",
              "      <th>Normal</th>\n",
              "      <td>35</td>\n",
              "      <td>33</td>\n",
              "      <td>30</td>\n",
              "      <td>27</td>\n",
              "      <td>17</td>\n",
              "      <td>17</td>\n",
              "    </tr>\n",
              "  </tbody>\n",
              "</table>\n",
              "</div>"
            ],
            "text/plain": [
              "Product line          Electronic accessories  Fashion accessories  \\\n",
              "Branch Customer type                                                \n",
              "A      Member                             31                   22   \n",
              "       Normal                             29                   29   \n",
              "B      Member                             27                   32   \n",
              "       Normal                             28                   30   \n",
              "C      Member                             20                   32   \n",
              "       Normal                             35                   33   \n",
              "\n",
              "Product line          Food and beverages  Health and beauty  \\\n",
              "Branch Customer type                                          \n",
              "A      Member                         29                 22   \n",
              "       Normal                         29                 25   \n",
              "B      Member                         29                 26   \n",
              "       Normal                         21                 27   \n",
              "C      Member                         36                 25   \n",
              "       Normal                         30                 27   \n",
              "\n",
              "Product line          Home and lifestyle  Sports and travel  \n",
              "Branch Customer type                                         \n",
              "A      Member                         34                 29  \n",
              "       Normal                         31                 30  \n",
              "B      Member                         21                 30  \n",
              "       Normal                         29                 32  \n",
              "C      Member                         28                 28  \n",
              "       Normal                         17                 17  "
            ]
          },
          "execution_count": 45,
          "metadata": {},
          "output_type": "execute_result"
        }
      ],
      "source": [
        "df.pivot_table(index=['Branch','Customer type'], columns=['Product line'], values='Invoice ID' , aggfunc=\"count\")\n",
        "# 1) Які тенденції кількості покупок та загальної суми покупок наявні в залежності від - Genger, Custom type для різних Branch та Product line \n",
        "# для Branch 'C'  - 'Electronic accessories' - треба розробити підхід більшого залучення  'Member', бо наразі чомусь 'Normal' частіше куують цю категорію),\n",
        "#  також для категорій товарів Home and lifestyle та Sports and travel -  для Normal досить мало продажів - > треба або залучати ставати мемберами або переглянути умови продажу"
      ]
    },
    {
      "cell_type": "code",
      "execution_count": null,
      "metadata": {},
      "outputs": [
        {
          "data": {
            "application/vnd.microsoft.datawrangler.viewer.v0+json": {
              "columns": [
                {
                  "name": "('Branch', 'Gender')",
                  "rawType": "object",
                  "type": "unknown"
                },
                {
                  "name": "('Invoice ID', 'Member')",
                  "rawType": "int64",
                  "type": "integer"
                },
                {
                  "name": "('Invoice ID', 'Normal')",
                  "rawType": "int64",
                  "type": "integer"
                },
                {
                  "name": "('Total', 'Member')",
                  "rawType": "float64",
                  "type": "float"
                },
                {
                  "name": "('Total', 'Normal')",
                  "rawType": "float64",
                  "type": "float"
                }
              ],
              "ref": "9ccde970-1830-4ebc-b8b3-c5dc87d4982c",
              "rows": [
                [
                  "('A', 'Female')",
                  "80",
                  "81",
                  "26643.07",
                  "26626.1"
                ],
                [
                  "('A', 'Male')",
                  "87",
                  "92",
                  "26994.41",
                  "25936.8"
                ],
                [
                  "('B', 'Female')",
                  "85",
                  "77",
                  "26850.43",
                  "26077.86"
                ],
                [
                  "('B', 'Male')",
                  "80",
                  "90",
                  "26854.25",
                  "26415.12"
                ],
                [
                  "('C', 'Female')",
                  "96",
                  "82",
                  "34653.44",
                  "27032.02"
                ],
                [
                  "('C', 'Male')",
                  "73",
                  "77",
                  "22227.84",
                  "26655.4"
                ]
              ],
              "shape": {
                "columns": 4,
                "rows": 6
              }
            },
            "text/html": [
              "<div>\n",
              "<style scoped>\n",
              "    .dataframe tbody tr th:only-of-type {\n",
              "        vertical-align: middle;\n",
              "    }\n",
              "\n",
              "    .dataframe tbody tr th {\n",
              "        vertical-align: top;\n",
              "    }\n",
              "\n",
              "    .dataframe thead tr th {\n",
              "        text-align: left;\n",
              "    }\n",
              "\n",
              "    .dataframe thead tr:last-of-type th {\n",
              "        text-align: right;\n",
              "    }\n",
              "</style>\n",
              "<table border=\"1\" class=\"dataframe\">\n",
              "  <thead>\n",
              "    <tr>\n",
              "      <th></th>\n",
              "      <th></th>\n",
              "      <th colspan=\"2\" halign=\"left\">Invoice ID</th>\n",
              "      <th colspan=\"2\" halign=\"left\">Total</th>\n",
              "    </tr>\n",
              "    <tr>\n",
              "      <th></th>\n",
              "      <th>Customer type</th>\n",
              "      <th>Member</th>\n",
              "      <th>Normal</th>\n",
              "      <th>Member</th>\n",
              "      <th>Normal</th>\n",
              "    </tr>\n",
              "    <tr>\n",
              "      <th>Branch</th>\n",
              "      <th>Gender</th>\n",
              "      <th></th>\n",
              "      <th></th>\n",
              "      <th></th>\n",
              "      <th></th>\n",
              "    </tr>\n",
              "  </thead>\n",
              "  <tbody>\n",
              "    <tr>\n",
              "      <th rowspan=\"2\" valign=\"top\">A</th>\n",
              "      <th>Female</th>\n",
              "      <td>80</td>\n",
              "      <td>81</td>\n",
              "      <td>26643.07</td>\n",
              "      <td>26626.10</td>\n",
              "    </tr>\n",
              "    <tr>\n",
              "      <th>Male</th>\n",
              "      <td>87</td>\n",
              "      <td>92</td>\n",
              "      <td>26994.41</td>\n",
              "      <td>25936.80</td>\n",
              "    </tr>\n",
              "    <tr>\n",
              "      <th rowspan=\"2\" valign=\"top\">B</th>\n",
              "      <th>Female</th>\n",
              "      <td>85</td>\n",
              "      <td>77</td>\n",
              "      <td>26850.43</td>\n",
              "      <td>26077.86</td>\n",
              "    </tr>\n",
              "    <tr>\n",
              "      <th>Male</th>\n",
              "      <td>80</td>\n",
              "      <td>90</td>\n",
              "      <td>26854.25</td>\n",
              "      <td>26415.12</td>\n",
              "    </tr>\n",
              "    <tr>\n",
              "      <th rowspan=\"2\" valign=\"top\">C</th>\n",
              "      <th>Female</th>\n",
              "      <td>96</td>\n",
              "      <td>82</td>\n",
              "      <td>34653.44</td>\n",
              "      <td>27032.02</td>\n",
              "    </tr>\n",
              "    <tr>\n",
              "      <th>Male</th>\n",
              "      <td>73</td>\n",
              "      <td>77</td>\n",
              "      <td>22227.84</td>\n",
              "      <td>26655.40</td>\n",
              "    </tr>\n",
              "  </tbody>\n",
              "</table>\n",
              "</div>"
            ],
            "text/plain": [
              "              Invoice ID            Total          \n",
              "Customer type     Member Normal    Member    Normal\n",
              "Branch Gender                                      \n",
              "A      Female         80     81  26643.07  26626.10\n",
              "       Male           87     92  26994.41  25936.80\n",
              "B      Female         85     77  26850.43  26077.86\n",
              "       Male           80     90  26854.25  26415.12\n",
              "C      Female         96     82  34653.44  27032.02\n",
              "       Male           73     77  22227.84  26655.40"
            ]
          },
          "execution_count": 115,
          "metadata": {},
          "output_type": "execute_result"
        }
      ],
      "source": [
        "df.pivot_table(index=['Branch','Gender'], columns=['Customer type'], values=['Total','Invoice ID'] , aggfunc={'Total': \"sum\",'Invoice ID':\"count\"}).round(2)\n",
        "# 1) Які тенденції кількості покупок та загальної суми покупок наявні в залежності від - Genger, Custom type для різних Branch та Product line \n",
        "# мембери чоловіки в локації A та B  витрачаються більше коштів ніж мембери в локації C  - треба переглянути умови мемберів локації С та переглянути асортимент для чоловіків"
      ]
    },
    {
      "cell_type": "code",
      "execution_count": null,
      "metadata": {},
      "outputs": [
        {
          "data": {
            "application/vnd.microsoft.datawrangler.viewer.v0+json": {
              "columns": [
                {
                  "name": "Branch",
                  "rawType": "object",
                  "type": "string"
                },
                {
                  "name": "('Invoice ID', 'Female')",
                  "rawType": "int64",
                  "type": "integer"
                },
                {
                  "name": "('Invoice ID', 'Male')",
                  "rawType": "int64",
                  "type": "integer"
                },
                {
                  "name": "('Total', 'Female')",
                  "rawType": "float64",
                  "type": "float"
                },
                {
                  "name": "('Total', 'Male')",
                  "rawType": "float64",
                  "type": "float"
                }
              ],
              "ref": "c2fd0228-79a9-4062-bfc1-0228cd202b62",
              "rows": [
                [
                  "A",
                  "161",
                  "179",
                  "53269.17",
                  "52931.2"
                ],
                [
                  "B",
                  "162",
                  "170",
                  "52928.3",
                  "53269.38"
                ],
                [
                  "C",
                  "178",
                  "150",
                  "61685.46",
                  "48883.24"
                ]
              ],
              "shape": {
                "columns": 4,
                "rows": 3
              }
            },
            "text/html": [
              "<div>\n",
              "<style scoped>\n",
              "    .dataframe tbody tr th:only-of-type {\n",
              "        vertical-align: middle;\n",
              "    }\n",
              "\n",
              "    .dataframe tbody tr th {\n",
              "        vertical-align: top;\n",
              "    }\n",
              "\n",
              "    .dataframe thead tr th {\n",
              "        text-align: left;\n",
              "    }\n",
              "\n",
              "    .dataframe thead tr:last-of-type th {\n",
              "        text-align: right;\n",
              "    }\n",
              "</style>\n",
              "<table border=\"1\" class=\"dataframe\">\n",
              "  <thead>\n",
              "    <tr>\n",
              "      <th></th>\n",
              "      <th colspan=\"2\" halign=\"left\">Invoice ID</th>\n",
              "      <th colspan=\"2\" halign=\"left\">Total</th>\n",
              "    </tr>\n",
              "    <tr>\n",
              "      <th>Gender</th>\n",
              "      <th>Female</th>\n",
              "      <th>Male</th>\n",
              "      <th>Female</th>\n",
              "      <th>Male</th>\n",
              "    </tr>\n",
              "    <tr>\n",
              "      <th>Branch</th>\n",
              "      <th></th>\n",
              "      <th></th>\n",
              "      <th></th>\n",
              "      <th></th>\n",
              "    </tr>\n",
              "  </thead>\n",
              "  <tbody>\n",
              "    <tr>\n",
              "      <th>A</th>\n",
              "      <td>161</td>\n",
              "      <td>179</td>\n",
              "      <td>53269.17</td>\n",
              "      <td>52931.20</td>\n",
              "    </tr>\n",
              "    <tr>\n",
              "      <th>B</th>\n",
              "      <td>162</td>\n",
              "      <td>170</td>\n",
              "      <td>52928.30</td>\n",
              "      <td>53269.38</td>\n",
              "    </tr>\n",
              "    <tr>\n",
              "      <th>C</th>\n",
              "      <td>178</td>\n",
              "      <td>150</td>\n",
              "      <td>61685.46</td>\n",
              "      <td>48883.24</td>\n",
              "    </tr>\n",
              "  </tbody>\n",
              "</table>\n",
              "</div>"
            ],
            "text/plain": [
              "       Invoice ID          Total          \n",
              "Gender     Female Male    Female      Male\n",
              "Branch                                    \n",
              "A             161  179  53269.17  52931.20\n",
              "B             162  170  52928.30  53269.38\n",
              "C             178  150  61685.46  48883.24"
            ]
          },
          "execution_count": 112,
          "metadata": {},
          "output_type": "execute_result"
        }
      ],
      "source": [
        "df.pivot_table(index=['Branch'], columns=['Gender'], values=['Total','Invoice ID'] , aggfunc={'Total': \"sum\",'Invoice ID':\"count\"}).round(2)\n",
        "# 1) Які тенденції кількості покупок та загальної суми покупок наявні в залежності від - Genger, Custom type для різних Branch та Product line \n",
        "# мембери чоловіки в локації A та B  витрачаються більше коштів ніж мембери в локації C  - треба переглянути умови мемберів локації С та переглянути асортимент для чоловіків"
      ]
    },
    {
      "cell_type": "code",
      "execution_count": 113,
      "metadata": {},
      "outputs": [
        {
          "data": {
            "application/vnd.microsoft.datawrangler.viewer.v0+json": {
              "columns": [
                {
                  "name": "Branch",
                  "rawType": "object",
                  "type": "string"
                },
                {
                  "name": "('Invoice ID', 'Member')",
                  "rawType": "int64",
                  "type": "integer"
                },
                {
                  "name": "('Invoice ID', 'Normal')",
                  "rawType": "int64",
                  "type": "integer"
                },
                {
                  "name": "('Total', 'Member')",
                  "rawType": "float64",
                  "type": "float"
                },
                {
                  "name": "('Total', 'Normal')",
                  "rawType": "float64",
                  "type": "float"
                }
              ],
              "ref": "71f292f7-75d2-4a02-98bb-de9646b8a3a4",
              "rows": [
                [
                  "A",
                  "167",
                  "173",
                  "53637.48",
                  "52562.9"
                ],
                [
                  "B",
                  "165",
                  "167",
                  "53704.69",
                  "52492.99"
                ],
                [
                  "C",
                  "169",
                  "159",
                  "56881.28",
                  "53687.42"
                ]
              ],
              "shape": {
                "columns": 4,
                "rows": 3
              }
            },
            "text/html": [
              "<div>\n",
              "<style scoped>\n",
              "    .dataframe tbody tr th:only-of-type {\n",
              "        vertical-align: middle;\n",
              "    }\n",
              "\n",
              "    .dataframe tbody tr th {\n",
              "        vertical-align: top;\n",
              "    }\n",
              "\n",
              "    .dataframe thead tr th {\n",
              "        text-align: left;\n",
              "    }\n",
              "\n",
              "    .dataframe thead tr:last-of-type th {\n",
              "        text-align: right;\n",
              "    }\n",
              "</style>\n",
              "<table border=\"1\" class=\"dataframe\">\n",
              "  <thead>\n",
              "    <tr>\n",
              "      <th></th>\n",
              "      <th colspan=\"2\" halign=\"left\">Invoice ID</th>\n",
              "      <th colspan=\"2\" halign=\"left\">Total</th>\n",
              "    </tr>\n",
              "    <tr>\n",
              "      <th>Customer type</th>\n",
              "      <th>Member</th>\n",
              "      <th>Normal</th>\n",
              "      <th>Member</th>\n",
              "      <th>Normal</th>\n",
              "    </tr>\n",
              "    <tr>\n",
              "      <th>Branch</th>\n",
              "      <th></th>\n",
              "      <th></th>\n",
              "      <th></th>\n",
              "      <th></th>\n",
              "    </tr>\n",
              "  </thead>\n",
              "  <tbody>\n",
              "    <tr>\n",
              "      <th>A</th>\n",
              "      <td>167</td>\n",
              "      <td>173</td>\n",
              "      <td>53637.48</td>\n",
              "      <td>52562.90</td>\n",
              "    </tr>\n",
              "    <tr>\n",
              "      <th>B</th>\n",
              "      <td>165</td>\n",
              "      <td>167</td>\n",
              "      <td>53704.69</td>\n",
              "      <td>52492.99</td>\n",
              "    </tr>\n",
              "    <tr>\n",
              "      <th>C</th>\n",
              "      <td>169</td>\n",
              "      <td>159</td>\n",
              "      <td>56881.28</td>\n",
              "      <td>53687.42</td>\n",
              "    </tr>\n",
              "  </tbody>\n",
              "</table>\n",
              "</div>"
            ],
            "text/plain": [
              "              Invoice ID            Total          \n",
              "Customer type     Member Normal    Member    Normal\n",
              "Branch                                             \n",
              "A                    167    173  53637.48  52562.90\n",
              "B                    165    167  53704.69  52492.99\n",
              "C                    169    159  56881.28  53687.42"
            ]
          },
          "execution_count": 113,
          "metadata": {},
          "output_type": "execute_result"
        }
      ],
      "source": [
        "df.pivot_table(index=['Branch'], columns=['Customer type'], values=['Total','Invoice ID'] , aggfunc={'Total': \"sum\",'Invoice ID':\"count\"}).round(2)"
      ]
    },
    {
      "cell_type": "code",
      "execution_count": 116,
      "metadata": {},
      "outputs": [
        {
          "data": {
            "application/vnd.microsoft.datawrangler.viewer.v0+json": {
              "columns": [
                {
                  "name": "('Branch', 'Gender', 'Customer type')",
                  "rawType": "object",
                  "type": "unknown"
                },
                {
                  "name": "Electronic accessories",
                  "rawType": "int64",
                  "type": "integer"
                },
                {
                  "name": "Fashion accessories",
                  "rawType": "int64",
                  "type": "integer"
                },
                {
                  "name": "Food and beverages",
                  "rawType": "int64",
                  "type": "integer"
                },
                {
                  "name": "Health and beauty",
                  "rawType": "int64",
                  "type": "integer"
                },
                {
                  "name": "Home and lifestyle",
                  "rawType": "int64",
                  "type": "integer"
                },
                {
                  "name": "Sports and travel",
                  "rawType": "int64",
                  "type": "integer"
                }
              ],
              "ref": "ce243713-0b65-4ad6-8d46-5e78b8de4ee3",
              "rows": [
                [
                  "('A', 'Female', 'Member')",
                  "12",
                  "12",
                  "10",
                  "12",
                  "16",
                  "18"
                ],
                [
                  "('A', 'Female', 'Normal')",
                  "16",
                  "16",
                  "13",
                  "9",
                  "16",
                  "11"
                ],
                [
                  "('A', 'Male', 'Member')",
                  "19",
                  "10",
                  "19",
                  "10",
                  "18",
                  "11"
                ],
                [
                  "('A', 'Male', 'Normal')",
                  "13",
                  "13",
                  "16",
                  "16",
                  "15",
                  "19"
                ],
                [
                  "('B', 'Female', 'Member')",
                  "14",
                  "16",
                  "18",
                  "7",
                  "12",
                  "18"
                ],
                [
                  "('B', 'Female', 'Normal')",
                  "14",
                  "17",
                  "11",
                  "13",
                  "10",
                  "12"
                ],
                [
                  "('B', 'Male', 'Member')",
                  "13",
                  "16",
                  "11",
                  "19",
                  "9",
                  "12"
                ],
                [
                  "('B', 'Male', 'Normal')",
                  "14",
                  "13",
                  "10",
                  "14",
                  "19",
                  "20"
                ],
                [
                  "('C', 'Female', 'Member')",
                  "9",
                  "19",
                  "23",
                  "11",
                  "19",
                  "15"
                ],
                [
                  "('C', 'Female', 'Normal')",
                  "19",
                  "16",
                  "15",
                  "12",
                  "6",
                  "14"
                ],
                [
                  "('C', 'Male', 'Member')",
                  "11",
                  "13",
                  "13",
                  "14",
                  "9",
                  "13"
                ],
                [
                  "('C', 'Male', 'Normal')",
                  "16",
                  "17",
                  "15",
                  "15",
                  "11",
                  "3"
                ]
              ],
              "shape": {
                "columns": 6,
                "rows": 12
              }
            },
            "text/html": [
              "<div>\n",
              "<style scoped>\n",
              "    .dataframe tbody tr th:only-of-type {\n",
              "        vertical-align: middle;\n",
              "    }\n",
              "\n",
              "    .dataframe tbody tr th {\n",
              "        vertical-align: top;\n",
              "    }\n",
              "\n",
              "    .dataframe thead th {\n",
              "        text-align: right;\n",
              "    }\n",
              "</style>\n",
              "<table border=\"1\" class=\"dataframe\">\n",
              "  <thead>\n",
              "    <tr style=\"text-align: right;\">\n",
              "      <th></th>\n",
              "      <th></th>\n",
              "      <th>Product line</th>\n",
              "      <th>Electronic accessories</th>\n",
              "      <th>Fashion accessories</th>\n",
              "      <th>Food and beverages</th>\n",
              "      <th>Health and beauty</th>\n",
              "      <th>Home and lifestyle</th>\n",
              "      <th>Sports and travel</th>\n",
              "    </tr>\n",
              "    <tr>\n",
              "      <th>Branch</th>\n",
              "      <th>Gender</th>\n",
              "      <th>Customer type</th>\n",
              "      <th></th>\n",
              "      <th></th>\n",
              "      <th></th>\n",
              "      <th></th>\n",
              "      <th></th>\n",
              "      <th></th>\n",
              "    </tr>\n",
              "  </thead>\n",
              "  <tbody>\n",
              "    <tr>\n",
              "      <th rowspan=\"4\" valign=\"top\">A</th>\n",
              "      <th rowspan=\"2\" valign=\"top\">Female</th>\n",
              "      <th>Member</th>\n",
              "      <td>12</td>\n",
              "      <td>12</td>\n",
              "      <td>10</td>\n",
              "      <td>12</td>\n",
              "      <td>16</td>\n",
              "      <td>18</td>\n",
              "    </tr>\n",
              "    <tr>\n",
              "      <th>Normal</th>\n",
              "      <td>16</td>\n",
              "      <td>16</td>\n",
              "      <td>13</td>\n",
              "      <td>9</td>\n",
              "      <td>16</td>\n",
              "      <td>11</td>\n",
              "    </tr>\n",
              "    <tr>\n",
              "      <th rowspan=\"2\" valign=\"top\">Male</th>\n",
              "      <th>Member</th>\n",
              "      <td>19</td>\n",
              "      <td>10</td>\n",
              "      <td>19</td>\n",
              "      <td>10</td>\n",
              "      <td>18</td>\n",
              "      <td>11</td>\n",
              "    </tr>\n",
              "    <tr>\n",
              "      <th>Normal</th>\n",
              "      <td>13</td>\n",
              "      <td>13</td>\n",
              "      <td>16</td>\n",
              "      <td>16</td>\n",
              "      <td>15</td>\n",
              "      <td>19</td>\n",
              "    </tr>\n",
              "    <tr>\n",
              "      <th rowspan=\"4\" valign=\"top\">B</th>\n",
              "      <th rowspan=\"2\" valign=\"top\">Female</th>\n",
              "      <th>Member</th>\n",
              "      <td>14</td>\n",
              "      <td>16</td>\n",
              "      <td>18</td>\n",
              "      <td>7</td>\n",
              "      <td>12</td>\n",
              "      <td>18</td>\n",
              "    </tr>\n",
              "    <tr>\n",
              "      <th>Normal</th>\n",
              "      <td>14</td>\n",
              "      <td>17</td>\n",
              "      <td>11</td>\n",
              "      <td>13</td>\n",
              "      <td>10</td>\n",
              "      <td>12</td>\n",
              "    </tr>\n",
              "    <tr>\n",
              "      <th rowspan=\"2\" valign=\"top\">Male</th>\n",
              "      <th>Member</th>\n",
              "      <td>13</td>\n",
              "      <td>16</td>\n",
              "      <td>11</td>\n",
              "      <td>19</td>\n",
              "      <td>9</td>\n",
              "      <td>12</td>\n",
              "    </tr>\n",
              "    <tr>\n",
              "      <th>Normal</th>\n",
              "      <td>14</td>\n",
              "      <td>13</td>\n",
              "      <td>10</td>\n",
              "      <td>14</td>\n",
              "      <td>19</td>\n",
              "      <td>20</td>\n",
              "    </tr>\n",
              "    <tr>\n",
              "      <th rowspan=\"4\" valign=\"top\">C</th>\n",
              "      <th rowspan=\"2\" valign=\"top\">Female</th>\n",
              "      <th>Member</th>\n",
              "      <td>9</td>\n",
              "      <td>19</td>\n",
              "      <td>23</td>\n",
              "      <td>11</td>\n",
              "      <td>19</td>\n",
              "      <td>15</td>\n",
              "    </tr>\n",
              "    <tr>\n",
              "      <th>Normal</th>\n",
              "      <td>19</td>\n",
              "      <td>16</td>\n",
              "      <td>15</td>\n",
              "      <td>12</td>\n",
              "      <td>6</td>\n",
              "      <td>14</td>\n",
              "    </tr>\n",
              "    <tr>\n",
              "      <th rowspan=\"2\" valign=\"top\">Male</th>\n",
              "      <th>Member</th>\n",
              "      <td>11</td>\n",
              "      <td>13</td>\n",
              "      <td>13</td>\n",
              "      <td>14</td>\n",
              "      <td>9</td>\n",
              "      <td>13</td>\n",
              "    </tr>\n",
              "    <tr>\n",
              "      <th>Normal</th>\n",
              "      <td>16</td>\n",
              "      <td>17</td>\n",
              "      <td>15</td>\n",
              "      <td>15</td>\n",
              "      <td>11</td>\n",
              "      <td>3</td>\n",
              "    </tr>\n",
              "  </tbody>\n",
              "</table>\n",
              "</div>"
            ],
            "text/plain": [
              "Product line                 Electronic accessories  Fashion accessories  \\\n",
              "Branch Gender Customer type                                                \n",
              "A      Female Member                             12                   12   \n",
              "              Normal                             16                   16   \n",
              "       Male   Member                             19                   10   \n",
              "              Normal                             13                   13   \n",
              "B      Female Member                             14                   16   \n",
              "              Normal                             14                   17   \n",
              "       Male   Member                             13                   16   \n",
              "              Normal                             14                   13   \n",
              "C      Female Member                              9                   19   \n",
              "              Normal                             19                   16   \n",
              "       Male   Member                             11                   13   \n",
              "              Normal                             16                   17   \n",
              "\n",
              "Product line                 Food and beverages  Health and beauty  \\\n",
              "Branch Gender Customer type                                          \n",
              "A      Female Member                         10                 12   \n",
              "              Normal                         13                  9   \n",
              "       Male   Member                         19                 10   \n",
              "              Normal                         16                 16   \n",
              "B      Female Member                         18                  7   \n",
              "              Normal                         11                 13   \n",
              "       Male   Member                         11                 19   \n",
              "              Normal                         10                 14   \n",
              "C      Female Member                         23                 11   \n",
              "              Normal                         15                 12   \n",
              "       Male   Member                         13                 14   \n",
              "              Normal                         15                 15   \n",
              "\n",
              "Product line                 Home and lifestyle  Sports and travel  \n",
              "Branch Gender Customer type                                         \n",
              "A      Female Member                         16                 18  \n",
              "              Normal                         16                 11  \n",
              "       Male   Member                         18                 11  \n",
              "              Normal                         15                 19  \n",
              "B      Female Member                         12                 18  \n",
              "              Normal                         10                 12  \n",
              "       Male   Member                          9                 12  \n",
              "              Normal                         19                 20  \n",
              "C      Female Member                         19                 15  \n",
              "              Normal                          6                 14  \n",
              "       Male   Member                          9                 13  \n",
              "              Normal                         11                  3  "
            ]
          },
          "execution_count": 116,
          "metadata": {},
          "output_type": "execute_result"
        }
      ],
      "source": [
        "df.pivot_table(index=['Branch','Gender','Customer type'], columns=['Product line'], values='Invoice ID' , aggfunc=\"count\")"
      ]
    },
    {
      "cell_type": "code",
      "execution_count": null,
      "metadata": {},
      "outputs": [
        {
          "data": {
            "application/vnd.microsoft.datawrangler.viewer.v0+json": {
              "columns": [
                {
                  "name": "Payment",
                  "rawType": "object",
                  "type": "string"
                },
                {
                  "name": "proportion",
                  "rawType": "float64",
                  "type": "float"
                }
              ],
              "ref": "19b4be44-2f86-43d3-8a37-93edf8b4e8d7",
              "rows": [
                [
                  "Ewallet",
                  "0.345"
                ],
                [
                  "Cash",
                  "0.344"
                ],
                [
                  "Credit card",
                  "0.311"
                ]
              ],
              "shape": {
                "columns": 1,
                "rows": 3
              }
            },
            "text/plain": [
              "Payment\n",
              "Ewallet        0.345\n",
              "Cash           0.344\n",
              "Credit card    0.311\n",
              "Name: proportion, dtype: float64"
            ]
          },
          "execution_count": 41,
          "metadata": {},
          "output_type": "execute_result"
        }
      ],
      "source": [
        "df.Payment.value_counts(normalize=True)\n",
        "# 2) Чи є проблеми з використанням певного способу оплати на різних Branch\n",
        "#  усі способи оплати використовуються інтенсивно"
      ]
    },
    {
      "cell_type": "code",
      "execution_count": null,
      "metadata": {},
      "outputs": [
        {
          "data": {
            "application/vnd.microsoft.datawrangler.viewer.v0+json": {
              "columns": [
                {
                  "name": "Branch",
                  "rawType": "object",
                  "type": "string"
                },
                {
                  "name": "Cash",
                  "rawType": "int64",
                  "type": "integer"
                },
                {
                  "name": "Credit card",
                  "rawType": "int64",
                  "type": "integer"
                },
                {
                  "name": "Ewallet",
                  "rawType": "int64",
                  "type": "integer"
                }
              ],
              "ref": "bf2dc359-bac4-47eb-9ffb-fa3e907393e1",
              "rows": [
                [
                  "A",
                  "110",
                  "104",
                  "126"
                ],
                [
                  "B",
                  "110",
                  "109",
                  "113"
                ],
                [
                  "C",
                  "124",
                  "98",
                  "106"
                ]
              ],
              "shape": {
                "columns": 3,
                "rows": 3
              }
            },
            "text/html": [
              "<div>\n",
              "<style scoped>\n",
              "    .dataframe tbody tr th:only-of-type {\n",
              "        vertical-align: middle;\n",
              "    }\n",
              "\n",
              "    .dataframe tbody tr th {\n",
              "        vertical-align: top;\n",
              "    }\n",
              "\n",
              "    .dataframe thead th {\n",
              "        text-align: right;\n",
              "    }\n",
              "</style>\n",
              "<table border=\"1\" class=\"dataframe\">\n",
              "  <thead>\n",
              "    <tr style=\"text-align: right;\">\n",
              "      <th>Payment</th>\n",
              "      <th>Cash</th>\n",
              "      <th>Credit card</th>\n",
              "      <th>Ewallet</th>\n",
              "    </tr>\n",
              "    <tr>\n",
              "      <th>Branch</th>\n",
              "      <th></th>\n",
              "      <th></th>\n",
              "      <th></th>\n",
              "    </tr>\n",
              "  </thead>\n",
              "  <tbody>\n",
              "    <tr>\n",
              "      <th>A</th>\n",
              "      <td>110</td>\n",
              "      <td>104</td>\n",
              "      <td>126</td>\n",
              "    </tr>\n",
              "    <tr>\n",
              "      <th>B</th>\n",
              "      <td>110</td>\n",
              "      <td>109</td>\n",
              "      <td>113</td>\n",
              "    </tr>\n",
              "    <tr>\n",
              "      <th>C</th>\n",
              "      <td>124</td>\n",
              "      <td>98</td>\n",
              "      <td>106</td>\n",
              "    </tr>\n",
              "  </tbody>\n",
              "</table>\n",
              "</div>"
            ],
            "text/plain": [
              "Payment  Cash  Credit card  Ewallet\n",
              "Branch                             \n",
              "A         110          104      126\n",
              "B         110          109      113\n",
              "C         124           98      106"
            ]
          },
          "execution_count": 43,
          "metadata": {},
          "output_type": "execute_result"
        }
      ],
      "source": [
        "df.pivot_table(index=['Branch'], columns=['Payment'], values='Invoice ID' , aggfunc=\"count\")\n",
        "# 2) Чи є проблеми з використанням певного способу оплати на різних Branch \n",
        "# усі способи оплати інтесивно використовуються на кожній локації - з оплатою немає проблем"
      ]
    },
    {
      "cell_type": "code",
      "execution_count": 44,
      "metadata": {},
      "outputs": [
        {
          "data": {
            "application/vnd.microsoft.datawrangler.viewer.v0+json": {
              "columns": [
                {
                  "name": "('Branch', 'Payment')",
                  "rawType": "object",
                  "type": "unknown"
                },
                {
                  "name": "Electronic accessories",
                  "rawType": "int64",
                  "type": "integer"
                },
                {
                  "name": "Fashion accessories",
                  "rawType": "int64",
                  "type": "integer"
                },
                {
                  "name": "Food and beverages",
                  "rawType": "int64",
                  "type": "integer"
                },
                {
                  "name": "Health and beauty",
                  "rawType": "int64",
                  "type": "integer"
                },
                {
                  "name": "Home and lifestyle",
                  "rawType": "int64",
                  "type": "integer"
                },
                {
                  "name": "Sports and travel",
                  "rawType": "int64",
                  "type": "integer"
                }
              ],
              "ref": "5049a41b-0bd4-4f65-8c6e-5a2120d6030a",
              "rows": [
                [
                  "('A', 'Cash')",
                  "18",
                  "13",
                  "18",
                  "17",
                  "24",
                  "20"
                ],
                [
                  "('A', 'Credit card')",
                  "21",
                  "17",
                  "21",
                  "14",
                  "15",
                  "16"
                ],
                [
                  "('A', 'Ewallet')",
                  "21",
                  "21",
                  "19",
                  "16",
                  "26",
                  "23"
                ],
                [
                  "('B', 'Cash')",
                  "24",
                  "22",
                  "8",
                  "17",
                  "13",
                  "26"
                ],
                [
                  "('B', 'Credit card')",
                  "15",
                  "19",
                  "25",
                  "17",
                  "15",
                  "18"
                ],
                [
                  "('B', 'Ewallet')",
                  "16",
                  "21",
                  "17",
                  "19",
                  "22",
                  "18"
                ],
                [
                  "('C', 'Cash')",
                  "29",
                  "22",
                  "31",
                  "15",
                  "14",
                  "13"
                ],
                [
                  "('C', 'Credit card')",
                  "10",
                  "20",
                  "15",
                  "19",
                  "15",
                  "19"
                ],
                [
                  "('C', 'Ewallet')",
                  "16",
                  "23",
                  "20",
                  "18",
                  "16",
                  "13"
                ]
              ],
              "shape": {
                "columns": 6,
                "rows": 9
              }
            },
            "text/html": [
              "<div>\n",
              "<style scoped>\n",
              "    .dataframe tbody tr th:only-of-type {\n",
              "        vertical-align: middle;\n",
              "    }\n",
              "\n",
              "    .dataframe tbody tr th {\n",
              "        vertical-align: top;\n",
              "    }\n",
              "\n",
              "    .dataframe thead th {\n",
              "        text-align: right;\n",
              "    }\n",
              "</style>\n",
              "<table border=\"1\" class=\"dataframe\">\n",
              "  <thead>\n",
              "    <tr style=\"text-align: right;\">\n",
              "      <th></th>\n",
              "      <th>Product line</th>\n",
              "      <th>Electronic accessories</th>\n",
              "      <th>Fashion accessories</th>\n",
              "      <th>Food and beverages</th>\n",
              "      <th>Health and beauty</th>\n",
              "      <th>Home and lifestyle</th>\n",
              "      <th>Sports and travel</th>\n",
              "    </tr>\n",
              "    <tr>\n",
              "      <th>Branch</th>\n",
              "      <th>Payment</th>\n",
              "      <th></th>\n",
              "      <th></th>\n",
              "      <th></th>\n",
              "      <th></th>\n",
              "      <th></th>\n",
              "      <th></th>\n",
              "    </tr>\n",
              "  </thead>\n",
              "  <tbody>\n",
              "    <tr>\n",
              "      <th rowspan=\"3\" valign=\"top\">A</th>\n",
              "      <th>Cash</th>\n",
              "      <td>18</td>\n",
              "      <td>13</td>\n",
              "      <td>18</td>\n",
              "      <td>17</td>\n",
              "      <td>24</td>\n",
              "      <td>20</td>\n",
              "    </tr>\n",
              "    <tr>\n",
              "      <th>Credit card</th>\n",
              "      <td>21</td>\n",
              "      <td>17</td>\n",
              "      <td>21</td>\n",
              "      <td>14</td>\n",
              "      <td>15</td>\n",
              "      <td>16</td>\n",
              "    </tr>\n",
              "    <tr>\n",
              "      <th>Ewallet</th>\n",
              "      <td>21</td>\n",
              "      <td>21</td>\n",
              "      <td>19</td>\n",
              "      <td>16</td>\n",
              "      <td>26</td>\n",
              "      <td>23</td>\n",
              "    </tr>\n",
              "    <tr>\n",
              "      <th rowspan=\"3\" valign=\"top\">B</th>\n",
              "      <th>Cash</th>\n",
              "      <td>24</td>\n",
              "      <td>22</td>\n",
              "      <td>8</td>\n",
              "      <td>17</td>\n",
              "      <td>13</td>\n",
              "      <td>26</td>\n",
              "    </tr>\n",
              "    <tr>\n",
              "      <th>Credit card</th>\n",
              "      <td>15</td>\n",
              "      <td>19</td>\n",
              "      <td>25</td>\n",
              "      <td>17</td>\n",
              "      <td>15</td>\n",
              "      <td>18</td>\n",
              "    </tr>\n",
              "    <tr>\n",
              "      <th>Ewallet</th>\n",
              "      <td>16</td>\n",
              "      <td>21</td>\n",
              "      <td>17</td>\n",
              "      <td>19</td>\n",
              "      <td>22</td>\n",
              "      <td>18</td>\n",
              "    </tr>\n",
              "    <tr>\n",
              "      <th rowspan=\"3\" valign=\"top\">C</th>\n",
              "      <th>Cash</th>\n",
              "      <td>29</td>\n",
              "      <td>22</td>\n",
              "      <td>31</td>\n",
              "      <td>15</td>\n",
              "      <td>14</td>\n",
              "      <td>13</td>\n",
              "    </tr>\n",
              "    <tr>\n",
              "      <th>Credit card</th>\n",
              "      <td>10</td>\n",
              "      <td>20</td>\n",
              "      <td>15</td>\n",
              "      <td>19</td>\n",
              "      <td>15</td>\n",
              "      <td>19</td>\n",
              "    </tr>\n",
              "    <tr>\n",
              "      <th>Ewallet</th>\n",
              "      <td>16</td>\n",
              "      <td>23</td>\n",
              "      <td>20</td>\n",
              "      <td>18</td>\n",
              "      <td>16</td>\n",
              "      <td>13</td>\n",
              "    </tr>\n",
              "  </tbody>\n",
              "</table>\n",
              "</div>"
            ],
            "text/plain": [
              "Product line        Electronic accessories  Fashion accessories  \\\n",
              "Branch Payment                                                    \n",
              "A      Cash                             18                   13   \n",
              "       Credit card                      21                   17   \n",
              "       Ewallet                          21                   21   \n",
              "B      Cash                             24                   22   \n",
              "       Credit card                      15                   19   \n",
              "       Ewallet                          16                   21   \n",
              "C      Cash                             29                   22   \n",
              "       Credit card                      10                   20   \n",
              "       Ewallet                          16                   23   \n",
              "\n",
              "Product line        Food and beverages  Health and beauty  Home and lifestyle  \\\n",
              "Branch Payment                                                                  \n",
              "A      Cash                         18                 17                  24   \n",
              "       Credit card                  21                 14                  15   \n",
              "       Ewallet                      19                 16                  26   \n",
              "B      Cash                          8                 17                  13   \n",
              "       Credit card                  25                 17                  15   \n",
              "       Ewallet                      17                 19                  22   \n",
              "C      Cash                         31                 15                  14   \n",
              "       Credit card                  15                 19                  15   \n",
              "       Ewallet                      20                 18                  16   \n",
              "\n",
              "Product line        Sports and travel  \n",
              "Branch Payment                         \n",
              "A      Cash                        20  \n",
              "       Credit card                 16  \n",
              "       Ewallet                     23  \n",
              "B      Cash                        26  \n",
              "       Credit card                 18  \n",
              "       Ewallet                     18  \n",
              "C      Cash                        13  \n",
              "       Credit card                 19  \n",
              "       Ewallet                     13  "
            ]
          },
          "execution_count": 44,
          "metadata": {},
          "output_type": "execute_result"
        }
      ],
      "source": [
        "df.pivot_table(index=['Branch','Payment'], columns=['Product line'], values='Invoice ID' , aggfunc=\"count\")"
      ]
    },
    {
      "cell_type": "code",
      "execution_count": null,
      "metadata": {},
      "outputs": [
        {
          "data": {
            "application/vnd.microsoft.datawrangler.viewer.v0+json": {
              "columns": [
                {
                  "name": "('Branch', 'Gender', 'Customer type')",
                  "rawType": "object",
                  "type": "unknown"
                },
                {
                  "name": "Electronic accessories",
                  "rawType": "float64",
                  "type": "float"
                },
                {
                  "name": "Fashion accessories",
                  "rawType": "float64",
                  "type": "float"
                },
                {
                  "name": "Food and beverages",
                  "rawType": "float64",
                  "type": "float"
                },
                {
                  "name": "Health and beauty",
                  "rawType": "float64",
                  "type": "float"
                },
                {
                  "name": "Home and lifestyle",
                  "rawType": "float64",
                  "type": "float"
                },
                {
                  "name": "Sports and travel",
                  "rawType": "float64",
                  "type": "float"
                }
              ],
              "ref": "2fc72ae4-e40e-4c05-8477-430e83d142f3",
              "rows": [
                [
                  "('A', 'Female', 'Member')",
                  "6.42",
                  "6.64",
                  "6.88",
                  "6.61",
                  "6.98",
                  "7.02"
                ],
                [
                  "('A', 'Female', 'Normal')",
                  "6.22",
                  "7.31",
                  "7.09",
                  "7.52",
                  "6.28",
                  "7.38"
                ],
                [
                  "('A', 'Male', 'Member')",
                  "7.55",
                  "6.66",
                  "7.11",
                  "7.47",
                  "6.64",
                  "7.86"
                ],
                [
                  "('A', 'Male', 'Normal')",
                  "7.28",
                  "6.73",
                  "7.79",
                  "6.41",
                  "7.91",
                  "7.06"
                ],
                [
                  "('B', 'Female', 'Member')",
                  "7.04",
                  "6.46",
                  "7.12",
                  "8.01",
                  "7.28",
                  "6.21"
                ],
                [
                  "('B', 'Female', 'Normal')",
                  "7.16",
                  "6.89",
                  "7.66",
                  "6.9",
                  "5.79",
                  "6.61"
                ],
                [
                  "('B', 'Male', 'Member')",
                  "7.31",
                  "6.46",
                  "6.87",
                  "6.87",
                  "6.04",
                  "6.08"
                ],
                [
                  "('B', 'Male', 'Normal')",
                  "6.96",
                  "7.15",
                  "6.17",
                  "7.14",
                  "6.64",
                  "6.98"
                ],
                [
                  "('C', 'Female', 'Member')",
                  "6.76",
                  "7.93",
                  "6.94",
                  "7.24",
                  "6.97",
                  "6.68"
                ],
                [
                  "('C', 'Female', 'Normal')",
                  "7.04",
                  "7.24",
                  "7.68",
                  "7.08",
                  "7.4",
                  "6.9"
                ],
                [
                  "('C', 'Male', 'Member')",
                  "6.11",
                  "7.22",
                  "6.96",
                  "6.89",
                  "7.18",
                  "7.33"
                ],
                [
                  "('C', 'Male', 'Normal')",
                  "6.83",
                  "7.26",
                  "6.79",
                  "6.85",
                  "6.94",
                  "8.07"
                ]
              ],
              "shape": {
                "columns": 6,
                "rows": 12
              }
            },
            "text/html": [
              "<div>\n",
              "<style scoped>\n",
              "    .dataframe tbody tr th:only-of-type {\n",
              "        vertical-align: middle;\n",
              "    }\n",
              "\n",
              "    .dataframe tbody tr th {\n",
              "        vertical-align: top;\n",
              "    }\n",
              "\n",
              "    .dataframe thead th {\n",
              "        text-align: right;\n",
              "    }\n",
              "</style>\n",
              "<table border=\"1\" class=\"dataframe\">\n",
              "  <thead>\n",
              "    <tr style=\"text-align: right;\">\n",
              "      <th></th>\n",
              "      <th></th>\n",
              "      <th>Product line</th>\n",
              "      <th>Electronic accessories</th>\n",
              "      <th>Fashion accessories</th>\n",
              "      <th>Food and beverages</th>\n",
              "      <th>Health and beauty</th>\n",
              "      <th>Home and lifestyle</th>\n",
              "      <th>Sports and travel</th>\n",
              "    </tr>\n",
              "    <tr>\n",
              "      <th>Branch</th>\n",
              "      <th>Gender</th>\n",
              "      <th>Customer type</th>\n",
              "      <th></th>\n",
              "      <th></th>\n",
              "      <th></th>\n",
              "      <th></th>\n",
              "      <th></th>\n",
              "      <th></th>\n",
              "    </tr>\n",
              "  </thead>\n",
              "  <tbody>\n",
              "    <tr>\n",
              "      <th rowspan=\"4\" valign=\"top\">A</th>\n",
              "      <th rowspan=\"2\" valign=\"top\">Female</th>\n",
              "      <th>Member</th>\n",
              "      <td>6.42</td>\n",
              "      <td>6.64</td>\n",
              "      <td>6.88</td>\n",
              "      <td>6.61</td>\n",
              "      <td>6.98</td>\n",
              "      <td>7.02</td>\n",
              "    </tr>\n",
              "    <tr>\n",
              "      <th>Normal</th>\n",
              "      <td>6.22</td>\n",
              "      <td>7.31</td>\n",
              "      <td>7.09</td>\n",
              "      <td>7.52</td>\n",
              "      <td>6.28</td>\n",
              "      <td>7.38</td>\n",
              "    </tr>\n",
              "    <tr>\n",
              "      <th rowspan=\"2\" valign=\"top\">Male</th>\n",
              "      <th>Member</th>\n",
              "      <td>7.55</td>\n",
              "      <td>6.66</td>\n",
              "      <td>7.11</td>\n",
              "      <td>7.47</td>\n",
              "      <td>6.64</td>\n",
              "      <td>7.86</td>\n",
              "    </tr>\n",
              "    <tr>\n",
              "      <th>Normal</th>\n",
              "      <td>7.28</td>\n",
              "      <td>6.73</td>\n",
              "      <td>7.79</td>\n",
              "      <td>6.41</td>\n",
              "      <td>7.91</td>\n",
              "      <td>7.06</td>\n",
              "    </tr>\n",
              "    <tr>\n",
              "      <th rowspan=\"4\" valign=\"top\">B</th>\n",
              "      <th rowspan=\"2\" valign=\"top\">Female</th>\n",
              "      <th>Member</th>\n",
              "      <td>7.04</td>\n",
              "      <td>6.46</td>\n",
              "      <td>7.12</td>\n",
              "      <td>8.01</td>\n",
              "      <td>7.28</td>\n",
              "      <td>6.21</td>\n",
              "    </tr>\n",
              "    <tr>\n",
              "      <th>Normal</th>\n",
              "      <td>7.16</td>\n",
              "      <td>6.89</td>\n",
              "      <td>7.66</td>\n",
              "      <td>6.90</td>\n",
              "      <td>5.79</td>\n",
              "      <td>6.61</td>\n",
              "    </tr>\n",
              "    <tr>\n",
              "      <th rowspan=\"2\" valign=\"top\">Male</th>\n",
              "      <th>Member</th>\n",
              "      <td>7.31</td>\n",
              "      <td>6.46</td>\n",
              "      <td>6.87</td>\n",
              "      <td>6.87</td>\n",
              "      <td>6.04</td>\n",
              "      <td>6.08</td>\n",
              "    </tr>\n",
              "    <tr>\n",
              "      <th>Normal</th>\n",
              "      <td>6.96</td>\n",
              "      <td>7.15</td>\n",
              "      <td>6.17</td>\n",
              "      <td>7.14</td>\n",
              "      <td>6.64</td>\n",
              "      <td>6.98</td>\n",
              "    </tr>\n",
              "    <tr>\n",
              "      <th rowspan=\"4\" valign=\"top\">C</th>\n",
              "      <th rowspan=\"2\" valign=\"top\">Female</th>\n",
              "      <th>Member</th>\n",
              "      <td>6.76</td>\n",
              "      <td>7.93</td>\n",
              "      <td>6.94</td>\n",
              "      <td>7.24</td>\n",
              "      <td>6.97</td>\n",
              "      <td>6.68</td>\n",
              "    </tr>\n",
              "    <tr>\n",
              "      <th>Normal</th>\n",
              "      <td>7.04</td>\n",
              "      <td>7.24</td>\n",
              "      <td>7.68</td>\n",
              "      <td>7.08</td>\n",
              "      <td>7.40</td>\n",
              "      <td>6.90</td>\n",
              "    </tr>\n",
              "    <tr>\n",
              "      <th rowspan=\"2\" valign=\"top\">Male</th>\n",
              "      <th>Member</th>\n",
              "      <td>6.11</td>\n",
              "      <td>7.22</td>\n",
              "      <td>6.96</td>\n",
              "      <td>6.89</td>\n",
              "      <td>7.18</td>\n",
              "      <td>7.33</td>\n",
              "    </tr>\n",
              "    <tr>\n",
              "      <th>Normal</th>\n",
              "      <td>6.83</td>\n",
              "      <td>7.26</td>\n",
              "      <td>6.79</td>\n",
              "      <td>6.85</td>\n",
              "      <td>6.94</td>\n",
              "      <td>8.07</td>\n",
              "    </tr>\n",
              "  </tbody>\n",
              "</table>\n",
              "</div>"
            ],
            "text/plain": [
              "Product line                 Electronic accessories  Fashion accessories  \\\n",
              "Branch Gender Customer type                                                \n",
              "A      Female Member                           6.42                 6.64   \n",
              "              Normal                           6.22                 7.31   \n",
              "       Male   Member                           7.55                 6.66   \n",
              "              Normal                           7.28                 6.73   \n",
              "B      Female Member                           7.04                 6.46   \n",
              "              Normal                           7.16                 6.89   \n",
              "       Male   Member                           7.31                 6.46   \n",
              "              Normal                           6.96                 7.15   \n",
              "C      Female Member                           6.76                 7.93   \n",
              "              Normal                           7.04                 7.24   \n",
              "       Male   Member                           6.11                 7.22   \n",
              "              Normal                           6.83                 7.26   \n",
              "\n",
              "Product line                 Food and beverages  Health and beauty  \\\n",
              "Branch Gender Customer type                                          \n",
              "A      Female Member                       6.88               6.61   \n",
              "              Normal                       7.09               7.52   \n",
              "       Male   Member                       7.11               7.47   \n",
              "              Normal                       7.79               6.41   \n",
              "B      Female Member                       7.12               8.01   \n",
              "              Normal                       7.66               6.90   \n",
              "       Male   Member                       6.87               6.87   \n",
              "              Normal                       6.17               7.14   \n",
              "C      Female Member                       6.94               7.24   \n",
              "              Normal                       7.68               7.08   \n",
              "       Male   Member                       6.96               6.89   \n",
              "              Normal                       6.79               6.85   \n",
              "\n",
              "Product line                 Home and lifestyle  Sports and travel  \n",
              "Branch Gender Customer type                                         \n",
              "A      Female Member                       6.98               7.02  \n",
              "              Normal                       6.28               7.38  \n",
              "       Male   Member                       6.64               7.86  \n",
              "              Normal                       7.91               7.06  \n",
              "B      Female Member                       7.28               6.21  \n",
              "              Normal                       5.79               6.61  \n",
              "       Male   Member                       6.04               6.08  \n",
              "              Normal                       6.64               6.98  \n",
              "C      Female Member                       6.97               6.68  \n",
              "              Normal                       7.40               6.90  \n",
              "       Male   Member                       7.18               7.33  \n",
              "              Normal                       6.94               8.07  "
            ]
          },
          "execution_count": 105,
          "metadata": {},
          "output_type": "execute_result"
        }
      ],
      "source": [
        "df.pivot_table(index=['Branch','Gender','Customer type'], columns=['Product line'], values='Rating' , aggfunc=\"mean\").round(2)\n",
        "# 3) Чи є тенденції суттєвого зниження рейтингів для певної Branch та Product line \n",
        "# усі Product Line на віх Branch мають прийнятний середній рейтинг від 6 до 8"
      ]
    },
    {
      "cell_type": "code",
      "execution_count": null,
      "metadata": {},
      "outputs": [
        {
          "data": {
            "application/vnd.microsoft.datawrangler.viewer.v0+json": {
              "columns": [
                {
                  "name": "('Branch', 'Customer type')",
                  "rawType": "object",
                  "type": "unknown"
                },
                {
                  "name": "('min', 'Electronic accessories')",
                  "rawType": "float64",
                  "type": "float"
                },
                {
                  "name": "('min', 'Fashion accessories')",
                  "rawType": "float64",
                  "type": "float"
                },
                {
                  "name": "('min', 'Food and beverages')",
                  "rawType": "float64",
                  "type": "float"
                },
                {
                  "name": "('min', 'Health and beauty')",
                  "rawType": "float64",
                  "type": "float"
                },
                {
                  "name": "('min', 'Home and lifestyle')",
                  "rawType": "float64",
                  "type": "float"
                },
                {
                  "name": "('min', 'Sports and travel')",
                  "rawType": "float64",
                  "type": "float"
                },
                {
                  "name": "('mean', 'Electronic accessories')",
                  "rawType": "float64",
                  "type": "float"
                },
                {
                  "name": "('mean', 'Fashion accessories')",
                  "rawType": "float64",
                  "type": "float"
                },
                {
                  "name": "('mean', 'Food and beverages')",
                  "rawType": "float64",
                  "type": "float"
                },
                {
                  "name": "('mean', 'Health and beauty')",
                  "rawType": "float64",
                  "type": "float"
                },
                {
                  "name": "('mean', 'Home and lifestyle')",
                  "rawType": "float64",
                  "type": "float"
                },
                {
                  "name": "('mean', 'Sports and travel')",
                  "rawType": "float64",
                  "type": "float"
                },
                {
                  "name": "('max', 'Electronic accessories')",
                  "rawType": "float64",
                  "type": "float"
                },
                {
                  "name": "('max', 'Fashion accessories')",
                  "rawType": "float64",
                  "type": "float"
                },
                {
                  "name": "('max', 'Food and beverages')",
                  "rawType": "float64",
                  "type": "float"
                },
                {
                  "name": "('max', 'Health and beauty')",
                  "rawType": "float64",
                  "type": "float"
                },
                {
                  "name": "('max', 'Home and lifestyle')",
                  "rawType": "float64",
                  "type": "float"
                },
                {
                  "name": "('max', 'Sports and travel')",
                  "rawType": "float64",
                  "type": "float"
                }
              ],
              "ref": "4f6f7fe5-3bee-4954-8215-19addb4817cf",
              "rows": [
                [
                  "('A', 'Member')",
                  "4.3",
                  "4.1",
                  "4.0",
                  "4.2",
                  "4.1",
                  "4.2",
                  "7.11",
                  "6.65",
                  "7.03",
                  "7.0",
                  "6.8",
                  "7.34",
                  "9.8",
                  "9.9",
                  "9.8",
                  "9.2",
                  "9.8",
                  "9.9"
                ],
                [
                  "('A', 'Normal')",
                  "4.5",
                  "4.0",
                  "4.4",
                  "4.3",
                  "4.1",
                  "4.1",
                  "6.7",
                  "7.05",
                  "7.48",
                  "6.81",
                  "7.07",
                  "7.18",
                  "9.9",
                  "9.3",
                  "9.9",
                  "10.0",
                  "9.9",
                  "9.7"
                ],
                [
                  "('B', 'Member')",
                  "4.3",
                  "4.1",
                  "4.0",
                  "4.0",
                  "4.7",
                  "4.1",
                  "7.17",
                  "6.46",
                  "7.02",
                  "7.18",
                  "6.75",
                  "6.16",
                  "9.9",
                  "9.9",
                  "9.5",
                  "9.8",
                  "9.8",
                  "10.0"
                ],
                [
                  "('B', 'Normal')",
                  "4.0",
                  "4.2",
                  "4.2",
                  "4.0",
                  "4.1",
                  "4.1",
                  "7.06",
                  "7.0",
                  "6.95",
                  "7.03",
                  "6.34",
                  "6.84",
                  "10.0",
                  "9.7",
                  "9.9",
                  "9.9",
                  "9.8",
                  "10.0"
                ],
                [
                  "('C', 'Member')",
                  "4.3",
                  "4.0",
                  "4.0",
                  "4.1",
                  "4.6",
                  "4.3",
                  "6.4",
                  "7.64",
                  "6.95",
                  "7.04",
                  "7.04",
                  "6.98",
                  "9.7",
                  "9.8",
                  "9.9",
                  "9.9",
                  "9.8",
                  "10.0"
                ],
                [
                  "('C', 'Normal')",
                  "4.1",
                  "4.5",
                  "4.2",
                  "4.9",
                  "4.3",
                  "4.0",
                  "6.95",
                  "7.25",
                  "7.24",
                  "6.96",
                  "7.1",
                  "7.11",
                  "9.8",
                  "9.9",
                  "9.9",
                  "9.5",
                  "9.0",
                  "9.5"
                ]
              ],
              "shape": {
                "columns": 18,
                "rows": 6
              }
            },
            "text/html": [
              "<div>\n",
              "<style scoped>\n",
              "    .dataframe tbody tr th:only-of-type {\n",
              "        vertical-align: middle;\n",
              "    }\n",
              "\n",
              "    .dataframe tbody tr th {\n",
              "        vertical-align: top;\n",
              "    }\n",
              "\n",
              "    .dataframe thead tr th {\n",
              "        text-align: left;\n",
              "    }\n",
              "\n",
              "    .dataframe thead tr:last-of-type th {\n",
              "        text-align: right;\n",
              "    }\n",
              "</style>\n",
              "<table border=\"1\" class=\"dataframe\">\n",
              "  <thead>\n",
              "    <tr>\n",
              "      <th></th>\n",
              "      <th></th>\n",
              "      <th colspan=\"6\" halign=\"left\">min</th>\n",
              "      <th colspan=\"6\" halign=\"left\">mean</th>\n",
              "      <th colspan=\"6\" halign=\"left\">max</th>\n",
              "    </tr>\n",
              "    <tr>\n",
              "      <th></th>\n",
              "      <th>Product line</th>\n",
              "      <th>Electronic accessories</th>\n",
              "      <th>Fashion accessories</th>\n",
              "      <th>Food and beverages</th>\n",
              "      <th>Health and beauty</th>\n",
              "      <th>Home and lifestyle</th>\n",
              "      <th>Sports and travel</th>\n",
              "      <th>Electronic accessories</th>\n",
              "      <th>Fashion accessories</th>\n",
              "      <th>Food and beverages</th>\n",
              "      <th>Health and beauty</th>\n",
              "      <th>Home and lifestyle</th>\n",
              "      <th>Sports and travel</th>\n",
              "      <th>Electronic accessories</th>\n",
              "      <th>Fashion accessories</th>\n",
              "      <th>Food and beverages</th>\n",
              "      <th>Health and beauty</th>\n",
              "      <th>Home and lifestyle</th>\n",
              "      <th>Sports and travel</th>\n",
              "    </tr>\n",
              "    <tr>\n",
              "      <th>Branch</th>\n",
              "      <th>Customer type</th>\n",
              "      <th></th>\n",
              "      <th></th>\n",
              "      <th></th>\n",
              "      <th></th>\n",
              "      <th></th>\n",
              "      <th></th>\n",
              "      <th></th>\n",
              "      <th></th>\n",
              "      <th></th>\n",
              "      <th></th>\n",
              "      <th></th>\n",
              "      <th></th>\n",
              "      <th></th>\n",
              "      <th></th>\n",
              "      <th></th>\n",
              "      <th></th>\n",
              "      <th></th>\n",
              "      <th></th>\n",
              "    </tr>\n",
              "  </thead>\n",
              "  <tbody>\n",
              "    <tr>\n",
              "      <th rowspan=\"2\" valign=\"top\">A</th>\n",
              "      <th>Member</th>\n",
              "      <td>4.3</td>\n",
              "      <td>4.1</td>\n",
              "      <td>4.0</td>\n",
              "      <td>4.2</td>\n",
              "      <td>4.1</td>\n",
              "      <td>4.2</td>\n",
              "      <td>7.11</td>\n",
              "      <td>6.65</td>\n",
              "      <td>7.03</td>\n",
              "      <td>7.00</td>\n",
              "      <td>6.80</td>\n",
              "      <td>7.34</td>\n",
              "      <td>9.8</td>\n",
              "      <td>9.9</td>\n",
              "      <td>9.8</td>\n",
              "      <td>9.2</td>\n",
              "      <td>9.8</td>\n",
              "      <td>9.9</td>\n",
              "    </tr>\n",
              "    <tr>\n",
              "      <th>Normal</th>\n",
              "      <td>4.5</td>\n",
              "      <td>4.0</td>\n",
              "      <td>4.4</td>\n",
              "      <td>4.3</td>\n",
              "      <td>4.1</td>\n",
              "      <td>4.1</td>\n",
              "      <td>6.70</td>\n",
              "      <td>7.05</td>\n",
              "      <td>7.48</td>\n",
              "      <td>6.81</td>\n",
              "      <td>7.07</td>\n",
              "      <td>7.18</td>\n",
              "      <td>9.9</td>\n",
              "      <td>9.3</td>\n",
              "      <td>9.9</td>\n",
              "      <td>10.0</td>\n",
              "      <td>9.9</td>\n",
              "      <td>9.7</td>\n",
              "    </tr>\n",
              "    <tr>\n",
              "      <th rowspan=\"2\" valign=\"top\">B</th>\n",
              "      <th>Member</th>\n",
              "      <td>4.3</td>\n",
              "      <td>4.1</td>\n",
              "      <td>4.0</td>\n",
              "      <td>4.0</td>\n",
              "      <td>4.7</td>\n",
              "      <td>4.1</td>\n",
              "      <td>7.17</td>\n",
              "      <td>6.46</td>\n",
              "      <td>7.02</td>\n",
              "      <td>7.18</td>\n",
              "      <td>6.75</td>\n",
              "      <td>6.16</td>\n",
              "      <td>9.9</td>\n",
              "      <td>9.9</td>\n",
              "      <td>9.5</td>\n",
              "      <td>9.8</td>\n",
              "      <td>9.8</td>\n",
              "      <td>10.0</td>\n",
              "    </tr>\n",
              "    <tr>\n",
              "      <th>Normal</th>\n",
              "      <td>4.0</td>\n",
              "      <td>4.2</td>\n",
              "      <td>4.2</td>\n",
              "      <td>4.0</td>\n",
              "      <td>4.1</td>\n",
              "      <td>4.1</td>\n",
              "      <td>7.06</td>\n",
              "      <td>7.00</td>\n",
              "      <td>6.95</td>\n",
              "      <td>7.03</td>\n",
              "      <td>6.34</td>\n",
              "      <td>6.84</td>\n",
              "      <td>10.0</td>\n",
              "      <td>9.7</td>\n",
              "      <td>9.9</td>\n",
              "      <td>9.9</td>\n",
              "      <td>9.8</td>\n",
              "      <td>10.0</td>\n",
              "    </tr>\n",
              "    <tr>\n",
              "      <th rowspan=\"2\" valign=\"top\">C</th>\n",
              "      <th>Member</th>\n",
              "      <td>4.3</td>\n",
              "      <td>4.0</td>\n",
              "      <td>4.0</td>\n",
              "      <td>4.1</td>\n",
              "      <td>4.6</td>\n",
              "      <td>4.3</td>\n",
              "      <td>6.40</td>\n",
              "      <td>7.64</td>\n",
              "      <td>6.95</td>\n",
              "      <td>7.04</td>\n",
              "      <td>7.04</td>\n",
              "      <td>6.98</td>\n",
              "      <td>9.7</td>\n",
              "      <td>9.8</td>\n",
              "      <td>9.9</td>\n",
              "      <td>9.9</td>\n",
              "      <td>9.8</td>\n",
              "      <td>10.0</td>\n",
              "    </tr>\n",
              "    <tr>\n",
              "      <th>Normal</th>\n",
              "      <td>4.1</td>\n",
              "      <td>4.5</td>\n",
              "      <td>4.2</td>\n",
              "      <td>4.9</td>\n",
              "      <td>4.3</td>\n",
              "      <td>4.0</td>\n",
              "      <td>6.95</td>\n",
              "      <td>7.25</td>\n",
              "      <td>7.24</td>\n",
              "      <td>6.96</td>\n",
              "      <td>7.10</td>\n",
              "      <td>7.11</td>\n",
              "      <td>9.8</td>\n",
              "      <td>9.9</td>\n",
              "      <td>9.9</td>\n",
              "      <td>9.5</td>\n",
              "      <td>9.0</td>\n",
              "      <td>9.5</td>\n",
              "    </tr>\n",
              "  </tbody>\n",
              "</table>\n",
              "</div>"
            ],
            "text/plain": [
              "                                        min                      \\\n",
              "Product line         Electronic accessories Fashion accessories   \n",
              "Branch Customer type                                              \n",
              "A      Member                           4.3                 4.1   \n",
              "       Normal                           4.5                 4.0   \n",
              "B      Member                           4.3                 4.1   \n",
              "       Normal                           4.0                 4.2   \n",
              "C      Member                           4.3                 4.0   \n",
              "       Normal                           4.1                 4.5   \n",
              "\n",
              "                                                                              \\\n",
              "Product line         Food and beverages Health and beauty Home and lifestyle   \n",
              "Branch Customer type                                                           \n",
              "A      Member                       4.0               4.2                4.1   \n",
              "       Normal                       4.4               4.3                4.1   \n",
              "B      Member                       4.0               4.0                4.7   \n",
              "       Normal                       4.2               4.0                4.1   \n",
              "C      Member                       4.0               4.1                4.6   \n",
              "       Normal                       4.2               4.9                4.3   \n",
              "\n",
              "                                                         mean  \\\n",
              "Product line         Sports and travel Electronic accessories   \n",
              "Branch Customer type                                            \n",
              "A      Member                      4.2                   7.11   \n",
              "       Normal                      4.1                   6.70   \n",
              "B      Member                      4.1                   7.17   \n",
              "       Normal                      4.1                   7.06   \n",
              "C      Member                      4.3                   6.40   \n",
              "       Normal                      4.0                   6.95   \n",
              "\n",
              "                                                                               \\\n",
              "Product line         Fashion accessories Food and beverages Health and beauty   \n",
              "Branch Customer type                                                            \n",
              "A      Member                       6.65               7.03              7.00   \n",
              "       Normal                       7.05               7.48              6.81   \n",
              "B      Member                       6.46               7.02              7.18   \n",
              "       Normal                       7.00               6.95              7.03   \n",
              "C      Member                       7.64               6.95              7.04   \n",
              "       Normal                       7.25               7.24              6.96   \n",
              "\n",
              "                                                           \\\n",
              "Product line         Home and lifestyle Sports and travel   \n",
              "Branch Customer type                                        \n",
              "A      Member                      6.80              7.34   \n",
              "       Normal                      7.07              7.18   \n",
              "B      Member                      6.75              6.16   \n",
              "       Normal                      6.34              6.84   \n",
              "C      Member                      7.04              6.98   \n",
              "       Normal                      7.10              7.11   \n",
              "\n",
              "                                        max                      \\\n",
              "Product line         Electronic accessories Fashion accessories   \n",
              "Branch Customer type                                              \n",
              "A      Member                           9.8                 9.9   \n",
              "       Normal                           9.9                 9.3   \n",
              "B      Member                           9.9                 9.9   \n",
              "       Normal                          10.0                 9.7   \n",
              "C      Member                           9.7                 9.8   \n",
              "       Normal                           9.8                 9.9   \n",
              "\n",
              "                                                                              \\\n",
              "Product line         Food and beverages Health and beauty Home and lifestyle   \n",
              "Branch Customer type                                                           \n",
              "A      Member                       9.8               9.2                9.8   \n",
              "       Normal                       9.9              10.0                9.9   \n",
              "B      Member                       9.5               9.8                9.8   \n",
              "       Normal                       9.9               9.9                9.8   \n",
              "C      Member                       9.9               9.9                9.8   \n",
              "       Normal                       9.9               9.5                9.0   \n",
              "\n",
              "                                        \n",
              "Product line         Sports and travel  \n",
              "Branch Customer type                    \n",
              "A      Member                      9.9  \n",
              "       Normal                      9.7  \n",
              "B      Member                     10.0  \n",
              "       Normal                     10.0  \n",
              "C      Member                     10.0  \n",
              "       Normal                      9.5  "
            ]
          },
          "execution_count": 108,
          "metadata": {},
          "output_type": "execute_result"
        }
      ],
      "source": [
        "# 3) Чи є тенденції суттєвого зниження рейтингів для певної Branch та Product line \n",
        "# усі Branch мають одного порядку мінімальний(4-5), середній(6-8) та максимальний(8-10) рейтинги\n",
        "df.pivot_table(index=['Branch',\"Customer type\"], columns=['Product line'], values='Rating' , aggfunc=[\"min\",\"mean\",\"max\"]).round(2)"
      ]
    },
    {
      "cell_type": "code",
      "execution_count": null,
      "metadata": {},
      "outputs": [
        {
          "data": {
            "application/vnd.microsoft.datawrangler.viewer.v0+json": {
              "columns": [
                {
                  "name": "Day",
                  "rawType": "object",
                  "type": "string"
                },
                {
                  "name": "('Invoice ID', 'A')",
                  "rawType": "int64",
                  "type": "integer"
                },
                {
                  "name": "('Invoice ID', 'B')",
                  "rawType": "int64",
                  "type": "integer"
                },
                {
                  "name": "('Invoice ID', 'C')",
                  "rawType": "int64",
                  "type": "integer"
                },
                {
                  "name": "('Total', 'A')",
                  "rawType": "float64",
                  "type": "float"
                },
                {
                  "name": "('Total', 'B')",
                  "rawType": "float64",
                  "type": "float"
                },
                {
                  "name": "('Total', 'C')",
                  "rawType": "float64",
                  "type": "float"
                }
              ],
              "ref": "386f4fad-755c-4a0f-bbbb-eac3a5625a1b",
              "rows": [
                [
                  "Friday",
                  "50",
                  "51",
                  "38",
                  "14543.86",
                  "14417.76",
                  "14964.72"
                ],
                [
                  "Monday",
                  "48",
                  "39",
                  "38",
                  "14239.06",
                  "12734.7",
                  "10925.31"
                ],
                [
                  "Saturday",
                  "50",
                  "60",
                  "54",
                  "16765.41",
                  "21284.42",
                  "18070.97"
                ],
                [
                  "Sunday",
                  "52",
                  "35",
                  "46",
                  "17006.82",
                  "10415.33",
                  "17035.75"
                ],
                [
                  "Thursday",
                  "46",
                  "44",
                  "48",
                  "15422.27",
                  "15778.62",
                  "14148.35"
                ],
                [
                  "Tuesday",
                  "51",
                  "53",
                  "54",
                  "14955.21",
                  "18859.24",
                  "17667.79"
                ],
                [
                  "Wednesday",
                  "43",
                  "50",
                  "50",
                  "13267.73",
                  "12707.59",
                  "17755.81"
                ]
              ],
              "shape": {
                "columns": 6,
                "rows": 7
              }
            },
            "text/html": [
              "<div>\n",
              "<style scoped>\n",
              "    .dataframe tbody tr th:only-of-type {\n",
              "        vertical-align: middle;\n",
              "    }\n",
              "\n",
              "    .dataframe tbody tr th {\n",
              "        vertical-align: top;\n",
              "    }\n",
              "\n",
              "    .dataframe thead tr th {\n",
              "        text-align: left;\n",
              "    }\n",
              "\n",
              "    .dataframe thead tr:last-of-type th {\n",
              "        text-align: right;\n",
              "    }\n",
              "</style>\n",
              "<table border=\"1\" class=\"dataframe\">\n",
              "  <thead>\n",
              "    <tr>\n",
              "      <th></th>\n",
              "      <th colspan=\"3\" halign=\"left\">Invoice ID</th>\n",
              "      <th colspan=\"3\" halign=\"left\">Total</th>\n",
              "    </tr>\n",
              "    <tr>\n",
              "      <th>Branch</th>\n",
              "      <th>A</th>\n",
              "      <th>B</th>\n",
              "      <th>C</th>\n",
              "      <th>A</th>\n",
              "      <th>B</th>\n",
              "      <th>C</th>\n",
              "    </tr>\n",
              "    <tr>\n",
              "      <th>Day</th>\n",
              "      <th></th>\n",
              "      <th></th>\n",
              "      <th></th>\n",
              "      <th></th>\n",
              "      <th></th>\n",
              "      <th></th>\n",
              "    </tr>\n",
              "  </thead>\n",
              "  <tbody>\n",
              "    <tr>\n",
              "      <th>Friday</th>\n",
              "      <td>50</td>\n",
              "      <td>51</td>\n",
              "      <td>38</td>\n",
              "      <td>14543.86</td>\n",
              "      <td>14417.76</td>\n",
              "      <td>14964.72</td>\n",
              "    </tr>\n",
              "    <tr>\n",
              "      <th>Monday</th>\n",
              "      <td>48</td>\n",
              "      <td>39</td>\n",
              "      <td>38</td>\n",
              "      <td>14239.06</td>\n",
              "      <td>12734.70</td>\n",
              "      <td>10925.31</td>\n",
              "    </tr>\n",
              "    <tr>\n",
              "      <th>Saturday</th>\n",
              "      <td>50</td>\n",
              "      <td>60</td>\n",
              "      <td>54</td>\n",
              "      <td>16765.41</td>\n",
              "      <td>21284.42</td>\n",
              "      <td>18070.97</td>\n",
              "    </tr>\n",
              "    <tr>\n",
              "      <th>Sunday</th>\n",
              "      <td>52</td>\n",
              "      <td>35</td>\n",
              "      <td>46</td>\n",
              "      <td>17006.82</td>\n",
              "      <td>10415.33</td>\n",
              "      <td>17035.75</td>\n",
              "    </tr>\n",
              "    <tr>\n",
              "      <th>Thursday</th>\n",
              "      <td>46</td>\n",
              "      <td>44</td>\n",
              "      <td>48</td>\n",
              "      <td>15422.27</td>\n",
              "      <td>15778.62</td>\n",
              "      <td>14148.35</td>\n",
              "    </tr>\n",
              "    <tr>\n",
              "      <th>Tuesday</th>\n",
              "      <td>51</td>\n",
              "      <td>53</td>\n",
              "      <td>54</td>\n",
              "      <td>14955.21</td>\n",
              "      <td>18859.24</td>\n",
              "      <td>17667.79</td>\n",
              "    </tr>\n",
              "    <tr>\n",
              "      <th>Wednesday</th>\n",
              "      <td>43</td>\n",
              "      <td>50</td>\n",
              "      <td>50</td>\n",
              "      <td>13267.73</td>\n",
              "      <td>12707.59</td>\n",
              "      <td>17755.81</td>\n",
              "    </tr>\n",
              "  </tbody>\n",
              "</table>\n",
              "</div>"
            ],
            "text/plain": [
              "          Invoice ID             Total                    \n",
              "Branch             A   B   C         A         B         C\n",
              "Day                                                       \n",
              "Friday            50  51  38  14543.86  14417.76  14964.72\n",
              "Monday            48  39  38  14239.06  12734.70  10925.31\n",
              "Saturday          50  60  54  16765.41  21284.42  18070.97\n",
              "Sunday            52  35  46  17006.82  10415.33  17035.75\n",
              "Thursday          46  44  48  15422.27  15778.62  14148.35\n",
              "Tuesday           51  53  54  14955.21  18859.24  17667.79\n",
              "Wednesday         43  50  50  13267.73  12707.59  17755.81"
            ]
          },
          "execution_count": 104,
          "metadata": {},
          "output_type": "execute_result"
        }
      ],
      "source": [
        "from datetime import date\n",
        "import calendar\n",
        "\n",
        "df['Date'] = pd.to_datetime(df['Date'])\n",
        "df['Day'] = 'day'\n",
        "for i,item in enumerate(df['Date']):\n",
        "    item = item.date()\n",
        "    df.loc[i , 'Day'] = calendar.day_name[item.weekday()]\n",
        "df.Day.value_counts()\n",
        "df.pivot_table(index=['Day'], columns=['Branch'], values=['Total','Invoice ID'] , aggfunc={'Total': \"sum\",'Invoice ID':\"count\"}).round(2)\n",
        "\n",
        "# 4) Які тенденції кількості покупок та загальної суми покупок наявні в залежності від - дня та на різних Branch \n",
        "# для локації А - більше продажів по Sunday,Tuesday - найменше Wednesday,Thursday\n",
        "# для локації B - більше продажів по Saturday,Tuesday - найменше Sunday,Monday\n",
        "# для локації C - більше продажів по Saturday,Tuesday - найменше Friday,Monday\n",
        "\n",
        "# Висновок найактуальніше планувати маркетингові акції на дні коли у відповідній локації найбільше продажів та уникати дні найменших продажів"
      ]
    },
    {
      "cell_type": "code",
      "execution_count": 117,
      "metadata": {},
      "outputs": [
        {
          "data": {
            "application/vnd.microsoft.datawrangler.viewer.v0+json": {
              "columns": [
                {
                  "name": "Day",
                  "rawType": "object",
                  "type": "string"
                },
                {
                  "name": "('Invoice ID', 'Electronic accessories')",
                  "rawType": "int64",
                  "type": "integer"
                },
                {
                  "name": "('Invoice ID', 'Fashion accessories')",
                  "rawType": "int64",
                  "type": "integer"
                },
                {
                  "name": "('Invoice ID', 'Food and beverages')",
                  "rawType": "int64",
                  "type": "integer"
                },
                {
                  "name": "('Invoice ID', 'Health and beauty')",
                  "rawType": "int64",
                  "type": "integer"
                },
                {
                  "name": "('Invoice ID', 'Home and lifestyle')",
                  "rawType": "int64",
                  "type": "integer"
                },
                {
                  "name": "('Invoice ID', 'Sports and travel')",
                  "rawType": "int64",
                  "type": "integer"
                },
                {
                  "name": "('Total', 'Electronic accessories')",
                  "rawType": "float64",
                  "type": "float"
                },
                {
                  "name": "('Total', 'Fashion accessories')",
                  "rawType": "float64",
                  "type": "float"
                },
                {
                  "name": "('Total', 'Food and beverages')",
                  "rawType": "float64",
                  "type": "float"
                },
                {
                  "name": "('Total', 'Health and beauty')",
                  "rawType": "float64",
                  "type": "float"
                },
                {
                  "name": "('Total', 'Home and lifestyle')",
                  "rawType": "float64",
                  "type": "float"
                },
                {
                  "name": "('Total', 'Sports and travel')",
                  "rawType": "float64",
                  "type": "float"
                }
              ],
              "ref": "13b80da8-f775-4fa4-8a9f-14e1345995cf",
              "rows": [
                [
                  "Friday",
                  "17",
                  "30",
                  "19",
                  "26",
                  "24",
                  "23",
                  "4848.15",
                  "9554.76",
                  "4558.43",
                  "8331.02",
                  "6875.42",
                  "9758.56"
                ],
                [
                  "Monday",
                  "23",
                  "18",
                  "22",
                  "26",
                  "20",
                  "16",
                  "5922.13",
                  "6419.52",
                  "6612.23",
                  "8448.24",
                  "6095.34",
                  "4401.62"
                ],
                [
                  "Saturday",
                  "27",
                  "35",
                  "31",
                  "19",
                  "24",
                  "28",
                  "9744.38",
                  "10778.92",
                  "9375.4",
                  "7410.34",
                  "9208.01",
                  "9603.76"
                ],
                [
                  "Sunday",
                  "20",
                  "20",
                  "23",
                  "14",
                  "32",
                  "24",
                  "6411.88",
                  "5583.74",
                  "7763.42",
                  "4973.34",
                  "12072.29",
                  "7653.23"
                ],
                [
                  "Thursday",
                  "36",
                  "21",
                  "20",
                  "19",
                  "19",
                  "23",
                  "12435.16",
                  "7725.89",
                  "6798.59",
                  "5582.47",
                  "5427.3",
                  "7379.83"
                ],
                [
                  "Tuesday",
                  "29",
                  "26",
                  "26",
                  "29",
                  "22",
                  "26",
                  "10110.92",
                  "7423.28",
                  "9848.3",
                  "8559.59",
                  "7708.73",
                  "7831.42"
                ],
                [
                  "Wednesday",
                  "18",
                  "28",
                  "33",
                  "19",
                  "19",
                  "26",
                  "4864.91",
                  "6819.78",
                  "11188.48",
                  "5888.75",
                  "6474.81",
                  "8494.4"
                ]
              ],
              "shape": {
                "columns": 12,
                "rows": 7
              }
            },
            "text/html": [
              "<div>\n",
              "<style scoped>\n",
              "    .dataframe tbody tr th:only-of-type {\n",
              "        vertical-align: middle;\n",
              "    }\n",
              "\n",
              "    .dataframe tbody tr th {\n",
              "        vertical-align: top;\n",
              "    }\n",
              "\n",
              "    .dataframe thead tr th {\n",
              "        text-align: left;\n",
              "    }\n",
              "\n",
              "    .dataframe thead tr:last-of-type th {\n",
              "        text-align: right;\n",
              "    }\n",
              "</style>\n",
              "<table border=\"1\" class=\"dataframe\">\n",
              "  <thead>\n",
              "    <tr>\n",
              "      <th></th>\n",
              "      <th colspan=\"6\" halign=\"left\">Invoice ID</th>\n",
              "      <th colspan=\"6\" halign=\"left\">Total</th>\n",
              "    </tr>\n",
              "    <tr>\n",
              "      <th>Product line</th>\n",
              "      <th>Electronic accessories</th>\n",
              "      <th>Fashion accessories</th>\n",
              "      <th>Food and beverages</th>\n",
              "      <th>Health and beauty</th>\n",
              "      <th>Home and lifestyle</th>\n",
              "      <th>Sports and travel</th>\n",
              "      <th>Electronic accessories</th>\n",
              "      <th>Fashion accessories</th>\n",
              "      <th>Food and beverages</th>\n",
              "      <th>Health and beauty</th>\n",
              "      <th>Home and lifestyle</th>\n",
              "      <th>Sports and travel</th>\n",
              "    </tr>\n",
              "    <tr>\n",
              "      <th>Day</th>\n",
              "      <th></th>\n",
              "      <th></th>\n",
              "      <th></th>\n",
              "      <th></th>\n",
              "      <th></th>\n",
              "      <th></th>\n",
              "      <th></th>\n",
              "      <th></th>\n",
              "      <th></th>\n",
              "      <th></th>\n",
              "      <th></th>\n",
              "      <th></th>\n",
              "    </tr>\n",
              "  </thead>\n",
              "  <tbody>\n",
              "    <tr>\n",
              "      <th>Friday</th>\n",
              "      <td>17</td>\n",
              "      <td>30</td>\n",
              "      <td>19</td>\n",
              "      <td>26</td>\n",
              "      <td>24</td>\n",
              "      <td>23</td>\n",
              "      <td>4848.15</td>\n",
              "      <td>9554.76</td>\n",
              "      <td>4558.43</td>\n",
              "      <td>8331.02</td>\n",
              "      <td>6875.42</td>\n",
              "      <td>9758.56</td>\n",
              "    </tr>\n",
              "    <tr>\n",
              "      <th>Monday</th>\n",
              "      <td>23</td>\n",
              "      <td>18</td>\n",
              "      <td>22</td>\n",
              "      <td>26</td>\n",
              "      <td>20</td>\n",
              "      <td>16</td>\n",
              "      <td>5922.13</td>\n",
              "      <td>6419.52</td>\n",
              "      <td>6612.23</td>\n",
              "      <td>8448.24</td>\n",
              "      <td>6095.34</td>\n",
              "      <td>4401.62</td>\n",
              "    </tr>\n",
              "    <tr>\n",
              "      <th>Saturday</th>\n",
              "      <td>27</td>\n",
              "      <td>35</td>\n",
              "      <td>31</td>\n",
              "      <td>19</td>\n",
              "      <td>24</td>\n",
              "      <td>28</td>\n",
              "      <td>9744.38</td>\n",
              "      <td>10778.92</td>\n",
              "      <td>9375.40</td>\n",
              "      <td>7410.34</td>\n",
              "      <td>9208.01</td>\n",
              "      <td>9603.76</td>\n",
              "    </tr>\n",
              "    <tr>\n",
              "      <th>Sunday</th>\n",
              "      <td>20</td>\n",
              "      <td>20</td>\n",
              "      <td>23</td>\n",
              "      <td>14</td>\n",
              "      <td>32</td>\n",
              "      <td>24</td>\n",
              "      <td>6411.88</td>\n",
              "      <td>5583.74</td>\n",
              "      <td>7763.42</td>\n",
              "      <td>4973.34</td>\n",
              "      <td>12072.29</td>\n",
              "      <td>7653.23</td>\n",
              "    </tr>\n",
              "    <tr>\n",
              "      <th>Thursday</th>\n",
              "      <td>36</td>\n",
              "      <td>21</td>\n",
              "      <td>20</td>\n",
              "      <td>19</td>\n",
              "      <td>19</td>\n",
              "      <td>23</td>\n",
              "      <td>12435.16</td>\n",
              "      <td>7725.89</td>\n",
              "      <td>6798.59</td>\n",
              "      <td>5582.47</td>\n",
              "      <td>5427.30</td>\n",
              "      <td>7379.83</td>\n",
              "    </tr>\n",
              "    <tr>\n",
              "      <th>Tuesday</th>\n",
              "      <td>29</td>\n",
              "      <td>26</td>\n",
              "      <td>26</td>\n",
              "      <td>29</td>\n",
              "      <td>22</td>\n",
              "      <td>26</td>\n",
              "      <td>10110.92</td>\n",
              "      <td>7423.28</td>\n",
              "      <td>9848.30</td>\n",
              "      <td>8559.59</td>\n",
              "      <td>7708.73</td>\n",
              "      <td>7831.42</td>\n",
              "    </tr>\n",
              "    <tr>\n",
              "      <th>Wednesday</th>\n",
              "      <td>18</td>\n",
              "      <td>28</td>\n",
              "      <td>33</td>\n",
              "      <td>19</td>\n",
              "      <td>19</td>\n",
              "      <td>26</td>\n",
              "      <td>4864.91</td>\n",
              "      <td>6819.78</td>\n",
              "      <td>11188.48</td>\n",
              "      <td>5888.75</td>\n",
              "      <td>6474.81</td>\n",
              "      <td>8494.40</td>\n",
              "    </tr>\n",
              "  </tbody>\n",
              "</table>\n",
              "</div>"
            ],
            "text/plain": [
              "                         Invoice ID                                         \\\n",
              "Product line Electronic accessories Fashion accessories Food and beverages   \n",
              "Day                                                                          \n",
              "Friday                           17                  30                 19   \n",
              "Monday                           23                  18                 22   \n",
              "Saturday                         27                  35                 31   \n",
              "Sunday                           20                  20                 23   \n",
              "Thursday                         36                  21                 20   \n",
              "Tuesday                          29                  26                 26   \n",
              "Wednesday                        18                  28                 33   \n",
              "\n",
              "                                                                     \\\n",
              "Product line Health and beauty Home and lifestyle Sports and travel   \n",
              "Day                                                                   \n",
              "Friday                      26                 24                23   \n",
              "Monday                      26                 20                16   \n",
              "Saturday                    19                 24                28   \n",
              "Sunday                      14                 32                24   \n",
              "Thursday                    19                 19                23   \n",
              "Tuesday                     29                 22                26   \n",
              "Wednesday                   19                 19                26   \n",
              "\n",
              "                              Total                                         \\\n",
              "Product line Electronic accessories Fashion accessories Food and beverages   \n",
              "Day                                                                          \n",
              "Friday                      4848.15             9554.76            4558.43   \n",
              "Monday                      5922.13             6419.52            6612.23   \n",
              "Saturday                    9744.38            10778.92            9375.40   \n",
              "Sunday                      6411.88             5583.74            7763.42   \n",
              "Thursday                   12435.16             7725.89            6798.59   \n",
              "Tuesday                    10110.92             7423.28            9848.30   \n",
              "Wednesday                   4864.91             6819.78           11188.48   \n",
              "\n",
              "                                                                     \n",
              "Product line Health and beauty Home and lifestyle Sports and travel  \n",
              "Day                                                                  \n",
              "Friday                 8331.02            6875.42           9758.56  \n",
              "Monday                 8448.24            6095.34           4401.62  \n",
              "Saturday               7410.34            9208.01           9603.76  \n",
              "Sunday                 4973.34           12072.29           7653.23  \n",
              "Thursday               5582.47            5427.30           7379.83  \n",
              "Tuesday                8559.59            7708.73           7831.42  \n",
              "Wednesday              5888.75            6474.81           8494.40  "
            ]
          },
          "execution_count": 117,
          "metadata": {},
          "output_type": "execute_result"
        }
      ],
      "source": [
        "df.pivot_table(index=['Day'], columns=['Product line'], values=['Total','Invoice ID'] , aggfunc={'Total': \"sum\",'Invoice ID':\"count\"}).round(2)"
      ]
    }
  ],
  "metadata": {
    "colab": {
      "include_colab_link": true,
      "provenance": []
    },
    "kernelspec": {
      "display_name": "py312",
      "language": "python",
      "name": "python3"
    },
    "language_info": {
      "codemirror_mode": {
        "name": "ipython",
        "version": 3
      },
      "file_extension": ".py",
      "mimetype": "text/x-python",
      "name": "python",
      "nbconvert_exporter": "python",
      "pygments_lexer": "ipython3",
      "version": "3.12.11"
    }
  },
  "nbformat": 4,
  "nbformat_minor": 0
}
