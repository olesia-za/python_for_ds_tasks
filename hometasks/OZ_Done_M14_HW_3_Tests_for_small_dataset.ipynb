{
  "cells": [
    {
      "cell_type": "markdown",
      "metadata": {
        "colab_type": "text",
        "id": "view-in-github"
      },
      "source": [
        "<a href=\"https://colab.research.google.com/github/olesia-za/python_for_ds_tasks/blob/main/OZ_Done_M14_HW_3_Tests_for_small_dataset.ipynb\" target=\"_parent\"><img src=\"https://colab.research.google.com/assets/colab-badge.svg\" alt=\"Open In Colab\"/></a>"
      ]
    },
    {
      "cell_type": "markdown",
      "id": "e152f6d6",
      "metadata": {
        "ExecuteTime": {
          "end_time": "2022-12-10T14:29:24.703416Z",
          "start_time": "2022-12-10T14:29:24.688485Z"
        },
        "id": "e152f6d6"
      },
      "source": [
        "# Тести для малих вибірок та пропорцій\n",
        "\n"
      ]
    },
    {
      "cell_type": "markdown",
      "id": "abdcef5d",
      "metadata": {
        "id": "abdcef5d"
      },
      "source": [
        "**Завдання 1**. E-commerce компанія після редизайну сайту підозрює, що **середній час до покупки (time-to-purchase)** користувачів **збільшився**.\n",
        "Історично середній час від першого заходу на сайт до покупки становив $\\mu_0 = 123.7$ хвилин.\n",
        "\n",
        "Команда аналітиків випадково обрала дані **7 покупців після редизайну**:\n",
        "`128, 135, 121, 142, 126, 151, 123`\n",
        "\n",
        "З допомогою наявних даних зʼясуйте, чи збільшився середній час покупки після редизайну.\n",
        "\n",
        "Для цього виконайте наступні 6 кроків. Правильне виконання кожного з кроків оцінюється в 1 бал.\n",
        "\n",
        "1. Запишіть нульову та альтернативну гіпотези і визначте тип тесту.\n",
        "2. Обчисліть вибіркові статистики: $\\bar x$, $s$, $n$.\n",
        "3. Оберіть тип тесту та виконайте його (знайдіть критичне значення тесту, статистику тесту та р-значення) будь-яким пасуючим способом, щоб перевірити гіпотезу на рівні значущості $\\alpha = 0.10$.\n",
        "4. Прийміть рішення, чи відхиляєте ви гіпотезу $H_0$ використовуючи p-value.\n",
        "5. Напишіть висновок: чи справді редизайн сайту подовжив час до покупки?\n",
        "6. Чи зміниться ваше рішення при зміні рівня значущості на $\\alpha = 0.05$.\n"
      ]
    },
    {
      "cell_type": "code",
      "execution_count": 25,
      "id": "BcS4cm11QYpT",
      "metadata": {
        "id": "BcS4cm11QYpT"
      },
      "outputs": [],
      "source": [
        "import numpy as np\n",
        "import pandas as pd\n",
        "from scipy import stats\n",
        "\n",
        "# # Гіпотези:\n",
        "# H0 - mu=123.7 (середній час до покупки на сайті)\n",
        "# Ha - mu>123.7 (середній час збільшився)\n",
        "# це правосторонній тест\n",
        "\n",
        "sample_data = np.array([[128, 135, 121, 142, 126, 151, 123]]).T\n",
        "sample_mean = np.mean(sample_data)\n",
        "sample_std = np.std(sample_data, ddof=1)\n",
        "n = len(sample_data)\n",
        "population_mean = 123.7\n",
        "alpha = 0.10\n"
      ]
    },
    {
      "cell_type": "code",
      "execution_count": 26,
      "id": "8459ddd1",
      "metadata": {},
      "outputs": [],
      "source": [
        "# Крок 2. Обчислимо t-статистику вручну\n",
        "t_stat = (sample_mean - population_mean) / (sample_std / np.sqrt(n))\n",
        "\n",
        "# Крок 3. Критичне значення для правостороннього тесту\n",
        "df = n - 1\n",
        "t_crit = stats.t.ppf(1- alpha, df)\n",
        "\n",
        "# Крок 4. p-value\n",
        "p_value = 1 - stats.t.cdf(t_stat, df)"
      ]
    },
    {
      "cell_type": "code",
      "execution_count": 29,
      "id": "6a628ee7",
      "metadata": {},
      "outputs": [
        {
          "name": "stdout",
          "output_type": "stream",
          "text": [
            "Вибіркове середнє: 132.29\n",
            "Вибіркове стандартне відхилення: 10.98\n",
            "t-статистика: 2.069\n",
            "Критичне значення (df=6): 1.440\n",
            "p-value: 0.0420\n",
            "Відхиляємо H0: і приймаємо альтернативу, що середній час до покупки на сайті перевищує 123.7хв на рівні значущості 0.1\n",
            "Відхиляємо H0: і приймаємо альтернативу, що середній час до покупки на сайті перевищує 123.7хв на рівні значущості 0.1\n"
          ]
        }
      ],
      "source": [
        "print(f\"Вибіркове середнє: {sample_mean:.2f}\")\n",
        "print(f\"Вибіркове стандартне відхилення: {sample_std:.2f}\")\n",
        "print(f\"t-статистика: {t_stat:.3f}\")\n",
        "print(f\"Критичне значення (df={df}): {t_crit:.3f}\")\n",
        "print(f\"p-value: {p_value:.4f}\")\n",
        "\n",
        "# Крок 5. Висновок\n",
        "if t_stat > t_crit:\n",
        "    print(f\"Відхиляємо H0: і приймаємо альтернативу, що середній час до покупки на сайті перевищує 123.7хв на рівні значущості {alpha}\")\n",
        "else:\n",
        "    print(\"Не відхиляємо H0: доказів недостатньо\")\n",
        "\n",
        "if p_value < alpha:\n",
        "    print(f\"Відхиляємо H0: і приймаємо альтернативу, що середній час до покупки на сайті перевищує 123.7хв на рівні значущості {alpha}\")\n",
        "else:\n",
        "    print(\"Не відхиляємо H0: доказів недостатньо\")"
      ]
    },
    {
      "cell_type": "code",
      "execution_count": null,
      "id": "99abee81",
      "metadata": {},
      "outputs": [
        {
          "name": "stdout",
          "output_type": "stream",
          "text": [
            "scipy: t = [2.06872731], p-value = [0.04201765]\n",
            "Відхиляємо H0: і приймаємо альтернативу, що середній час до покупки на сайті перевищує 123.7хв на рівні значущості 0.1\n",
            "Відхиляємо H0: і приймаємо альтернативу, що середній час до покупки на сайті перевищує 123.7хв на рівні значущості 0.1\n"
          ]
        }
      ],
      "source": [
        "# scipy тест alpha=0.10\n",
        "res = stats.ttest_1samp(sample_data, popmean=population_mean, alternative=\"greater\")\n",
        "print(f\"scipy: t = {res.statistic}, p-value = {res.pvalue}\")\n",
        "\n",
        "# висновок на основі р-значення\n",
        "if res.pvalue < alpha:\n",
        "    print(f\"Відхиляємо H0: і приймаємо альтернативу, що середній час до покупки на сайті перевищує 123.7хв на рівні значущості {alpha}\")\n",
        "else:\n",
        "    print(\"Не відхиляємо H0: доказів недостатньо\")\n",
        "\n",
        "    t_crit = stats.t.ppf(alpha, res.df)\n",
        "\n",
        "if t_stat > t_crit:\n",
        "    print(f\"Відхиляємо H0: і приймаємо альтернативу, що середній час до покупки на сайті перевищує 123.7хв на рівні значущості {alpha}\")\n",
        "else:\n",
        "    print(\"Не відхиляємо H0: доказів недостатньо\")\n",
        "\n",
        "# при alpha=0.05 висновок той самий p-value 0.04201765 < 0.1 та < 0.05, тому приймаємо альтернативу середній час до покупки збільшився"
      ]
    },
    {
      "cell_type": "markdown",
      "id": "5govLcx8FPSl",
      "metadata": {
        "id": "5govLcx8FPSl"
      },
      "source": [
        "**Завдання 2.**\n",
        "\n",
        "До спеціальної рекламної кампанії **23%** дорослих упізнавали логотип компанії. Після завершення кампанії відділ маркетингу провів опитування: з **1200** випадково відібраних дорослих **311** упізнали логотип.\n",
        "\n",
        "Перевірте на рівні значущості **3%** ($\\alpha=0.03$), чи дають ці дані достатні підстави стверджувати, що **тепер більше ніж 23%** дорослих упізнають логотип компанії. Для розвʼязку використовуйте бібліотеку `statsmodels`.\n",
        "\n",
        "Зробіть висновок, чи зросла впізнаваність логотипу.\n",
        "\n",
        "Додатково, обчисліть довірчий інтревал на заданому рівні значущості і проінтерпретуйте текстом - як він додатково пояснює прийняте нами рішення?"
      ]
    },
    {
      "cell_type": "code",
      "execution_count": null,
      "id": "rcplRfotId51",
      "metadata": {
        "id": "rcplRfotId51"
      },
      "outputs": [
        {
          "name": "stdout",
          "output_type": "stream",
          "text": [
            "🔹 Тест для однієї пропорції\n",
            "Z-статистика = 2.306\n",
            "p-value = 0.0106\n",
            "97% довірчий інтервал: (0.23171700302179205, 0.28661633031154127)\n",
            "Z-критичне = 1.881\n",
            "Відхиляємо H0: конверсія на сайті 0.23 на рівні значущості 0.03\n",
            "Відхиляємо H0: конверсія на сайті 0.23 на рівні значущості 0.03, тобо конверсія на сайті збільшилася і зросла впізнаваність логотипу\n"
          ]
        }
      ],
      "source": [
        "import statsmodels.api as sm\n",
        "from statsmodels.stats.proportion import proportions_ztest, proportion_confint\n",
        "\n",
        "# # Гіпотези:\n",
        "# H0 - p=0.23 (конверсія на сайті)\n",
        "# Ha - p>0.23 (конверсія збільшилась)\n",
        "# це правосторонній тест\n",
        "\n",
        "count_before = 1200*0.23 \n",
        "count_before\n",
        "сount = 311\n",
        "nobs = 1200\n",
        "p0 = 0.23\n",
        "alpha = 0.03    \n",
        "\n",
        "# z-тест для пропорції\n",
        "stat, pval = proportions_ztest(сount, nobs, p0, alternative='larger')\n",
        "confint = proportion_confint(сount, nobs, alpha=alpha, method='normal')\n",
        "\n",
        "print(\"🔹 Тест для однієї пропорції\")\n",
        "print(f\"Z-статистика = {stat:.3f}\")\n",
        "print(f\"p-value = {pval:.4f}\")\n",
        "print(f\"97% довірчий інтервал: {confint}\") \n",
        "t_crit = stats.norm.ppf(1 - alpha)\n",
        "print(f\"Z-критичне = {t_crit:.3f}\")\n",
        "\n",
        "# висновок на основі р-значення\n",
        "if pval < alpha:\n",
        "    print(f\"Відхиляємо H0: конверсія на сайті 0.23 на рівні значущості {alpha}\")\n",
        "else:\n",
        "    print(\"Не відхиляємо H0: доказів недостатньо\")\n",
        "\n",
        "# висновок на основі t-статистики\n",
        "if t_stat > t_crit:\n",
        "    print(f\"Відхиляємо H0: конверсія на сайті 0.23 на рівні значущості {alpha}, тобо конверсія на сайті збільшилася і зросла впізнаваність логотипу\")\n",
        "else:\n",
        "    print(\"Не відхиляємо H0: доказів недостатньо\")\n",
        "\n",
        "# довірчий інтервал у проміжку від 0 до 1, тому це додаткове підтвердження, що застосування Z-тесту коректне, також  0.23 не входить до довірчого інтервалу, \n",
        "# отже ми достатньо впевнено можемо відхиліти H0 і приймаємо альтернативу\n"
      ]
    }
  ],
  "metadata": {
    "colab": {
      "include_colab_link": true,
      "provenance": []
    },
    "hide_input": false,
    "kernelspec": {
      "display_name": "py312",
      "language": "python",
      "name": "python3"
    },
    "language_info": {
      "codemirror_mode": {
        "name": "ipython",
        "version": 3
      },
      "file_extension": ".py",
      "mimetype": "text/x-python",
      "name": "python",
      "nbconvert_exporter": "python",
      "pygments_lexer": "ipython3",
      "version": "3.12.11"
    },
    "toc": {
      "base_numbering": 1,
      "nav_menu": {},
      "number_sections": true,
      "sideBar": true,
      "skip_h1_title": false,
      "title_cell": "Table of Contents",
      "title_sidebar": "Contents",
      "toc_cell": false,
      "toc_position": {},
      "toc_section_display": true,
      "toc_window_display": false
    },
    "varInspector": {
      "cols": {
        "lenName": 16,
        "lenType": 16,
        "lenVar": 40
      },
      "kernels_config": {
        "python": {
          "delete_cmd_postfix": "",
          "delete_cmd_prefix": "del ",
          "library": "var_list.py",
          "varRefreshCmd": "print(var_dic_list())"
        },
        "r": {
          "delete_cmd_postfix": ") ",
          "delete_cmd_prefix": "rm(",
          "library": "var_list.r",
          "varRefreshCmd": "cat(var_dic_list()) "
        }
      },
      "types_to_exclude": [
        "module",
        "function",
        "builtin_function_or_method",
        "instance",
        "_Feature"
      ],
      "window_display": false
    }
  },
  "nbformat": 4,
  "nbformat_minor": 5
}
