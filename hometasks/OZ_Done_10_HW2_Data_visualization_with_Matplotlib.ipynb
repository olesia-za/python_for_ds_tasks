{
  "cells": [
    {
      "cell_type": "markdown",
      "metadata": {
        "colab_type": "text",
        "id": "view-in-github"
      },
      "source": [
        "<a href=\"https://colab.research.google.com/github/olesia-za/python_for_ds_tasks/blob/main/OZ_Done_10_HW2_Data_visualization_with_Matplotlib_ipynb\" target=\"_parent\"><img src=\"https://colab.research.google.com/assets/colab-badge.svg\" alt=\"Open In Colab\"/></a>"
      ]
    },
    {
      "cell_type": "markdown",
      "id": "c4efdb01",
      "metadata": {
        "id": "c4efdb01"
      },
      "source": [
        "# Домашнє завдання: Візуалізація даних з Matplotlib\n",
        "\n",
        "## Опис завдання\n",
        "У цьому домашньому завданні ви продовжите працювати з датасетом про оренду велосипедів `yulu_rental.csv`, але тепер будете використовувати бібліотеку Matplotlib для створення більш складних та налаштованих візуалізацій.\n",
        "\n",
        "**Опис колонок:**\n",
        "- `datetime` - дата та час\n",
        "- `season` - сезон (1=весна, 2=літо, 3=осінь, 4=зима)\n",
        "- `holiday` - чи є день святковим (0=ні, 1=так)\n",
        "- `workingday` - чи є день робочим (0=ні, 1=так)\n",
        "- `weather` - погодні умови (1=ясно, 2=туман, 3=легкий дощ, 4=сильний дощ)\n",
        "- `temp` - температура в градусах Цельсія\n",
        "- `atemp` - відчувається як температура\n",
        "- `humidity` - вологість (%)\n",
        "- `windspeed` - швидкість вітру\n",
        "- `casual` - кількість випадкових користувачів\n",
        "- `registered` - кількість зареєстрованих користувачів\n",
        "- `count` - загальна кількість орендованих велосипедів\n",
        "\n",
        "## Підготовка даних\n"
      ]
    },
    {
      "cell_type": "code",
      "execution_count": null,
      "id": "f6a1eda2",
      "metadata": {
        "id": "f6a1eda2"
      },
      "outputs": [],
      "source": [
        "import pandas as pd\n",
        "import matplotlib.pyplot as plt\n",
        "import numpy as np\n",
        "\n",
        "# Завантаження даних\n",
        "df = pd.read_csv('../data/yulu_rental.csv')\n",
        "df['datetime'] = pd.to_datetime(df['datetime'])\n",
        "df.set_index('datetime', inplace=True)\n",
        "\n",
        "# Додаткові колонки\n",
        "df['month'] = df.index.month\n",
        "df['hour'] = df.index.hour\n",
        "df['weekday'] = df.index.day_name()\n",
        "df['weekday_num'] = df.index.weekday\n",
        "df['week'] = df.index.isocalendar().week\n",
        "df['year'] = df.index.year\n",
        "df['day'] = df.index.day"
      ]
    },
    {
      "cell_type": "markdown",
      "id": "638da344",
      "metadata": {
        "id": "638da344"
      },
      "source": [
        "## Завдання 1: Порівняння Pandas vs Matplotlib\n",
        "\n",
        "**Завдання:**\n",
        "Побудуйте лінійний графік середньої кількості оренд помісячно впродовж всього періоду в даних двома способами:\n",
        "1. Використовуючи Pandas (DataFrame.plot())\n",
        "2. Використовуючи Matplotlib безпосередньо\n",
        "\n",
        "В обох методах додайте маркери-кружечки. Можна також задати свій відмінний від стандартного колір.\n",
        "\n",
        "Підказка: отримати потрібний формат даних найзручніше з методом датафрейму `resample`.\n",
        "\n",
        "**Опишіть свої спостереження:** чим відрізняються 2 побудованих графіки? Який вам більше подобається?"
      ]
    },
    {
      "cell_type": "code",
      "execution_count": null,
      "id": "Gf_9oaYyerOM",
      "metadata": {
        "id": "Gf_9oaYyerOM"
      },
      "outputs": [],
      "source": []
    },
    {
      "cell_type": "markdown",
      "id": "effcb545",
      "metadata": {
        "id": "effcb545"
      },
      "source": [
        "## Завдання 2: Робота зі списками та numpy\n",
        "\n",
        "**Завдання:**\n",
        "Вам задані 3 списки:\n",
        "1. Номер дня тижня.\n",
        "2. Продажі в тиждень 1.\n",
        "3. Продажі в тиждень 2.\n",
        "\n",
        "Створіть графік, на якому лінійними графіками різних кольорів накладено продажі за обидва тижні.\n",
        "\n",
        "Обовʼязково додайте назву графіку, підписи вісям ОХ, ОУ, назви кожного з рядів даних, легенду.\n",
        "\n",
        "**Дайте відповіді на питання**\n",
        "1. Судячи з графіку, в який тиждень проодажі були стабільніше?\n",
        "2. Чи можете ви підкріпити свій висновок обчисленнями? Якими саме? Можна (але не обовʼязково) навести ці обчислення."
      ]
    },
    {
      "cell_type": "code",
      "execution_count": null,
      "id": "53217c64-9b33-45b1-87a4-eb5e32195ccf",
      "metadata": {
        "id": "53217c64-9b33-45b1-87a4-eb5e32195ccf"
      },
      "outputs": [],
      "source": [
        "# Дані у вигляді списків\n",
        "days = [1, 2, 3, 4, 5, 6, 7] # 1 - це понеділок\n",
        "sales_week1 = [1349,1562,1600,1606,1510,959,822]  # Продажі за тиждень1\n",
        "sales_week2 = [1321,1263,1162,1406,1421,1248,1204]  # Продажі за тиждень1"
      ]
    },
    {
      "cell_type": "code",
      "execution_count": null,
      "id": "eg_qysx6eq2G",
      "metadata": {
        "id": "eg_qysx6eq2G"
      },
      "outputs": [],
      "source": []
    },
    {
      "cell_type": "markdown",
      "id": "161ea092",
      "metadata": {
        "id": "161ea092"
      },
      "source": [
        "## Завдання 3: Subplot - 2x2 сітка графіків\n",
        "\n",
        "**Завдання:**\n",
        "Створіть сітку 2x2 з чотирма різними графіками, використовуючи `plt.subplot()`:\n",
        "1. Лінійний графік середньої температури помісячно.\n",
        "2. Стовпчикова діаграма середньої годинної кількості оренд за сезонами.\n",
        "3. Гістограма вологості за всіма погодинними вимірами.\n",
        "4. Scatter plot температури vs кількості оренд.\n",
        "\n",
        "Кожен підграфік має містити всі необхідні підписи. Дашборд має містити назву."
      ]
    },
    {
      "cell_type": "code",
      "execution_count": null,
      "id": "qABtExVEesXW",
      "metadata": {
        "id": "qABtExVEesXW"
      },
      "outputs": [],
      "source": []
    },
    {
      "cell_type": "markdown",
      "id": "c605ab7c",
      "metadata": {
        "id": "c605ab7c"
      },
      "source": [
        "## Завдання 4: Subplots - об'єктно-орієнтований підхід\n",
        "\n",
        "**Завдання:**\n",
        "Створіть той самий набір графіків, але використовуючи `fig, ax = plt.subplots()`.\n",
        "\n",
        "**Дайте відповідь на питання своїми словами**\n",
        "- Чим відрізняється підхід побудови кількох графіків на одній фігурі з `plt.subplots()` від `plt.subplot()`?"
      ]
    },
    {
      "cell_type": "code",
      "execution_count": null,
      "id": "uAeSwRiBetDG",
      "metadata": {
        "id": "uAeSwRiBetDG"
      },
      "outputs": [],
      "source": []
    },
    {
      "cell_type": "markdown",
      "id": "dce71d56",
      "metadata": {
        "id": "dce71d56"
      },
      "source": [
        "## Завдання 5: Тонкі налаштування форматування графіка\n",
        "\n",
        "**Завдання:**\n",
        "Подібно до прикладу, наведеного в лекції, створіть професійно оформлений графік помісячної динаміки оренди з максимальною кількістю деталей та налаштувань. Ваш графік має включати:\n",
        "\n",
        "**Обов'язкові елементи:**\n",
        "1. **Три лінії:** середнє, максимум, мінімум за місяцями\n",
        "2. **Різні стилі ліній:** суцільна, пунктирна, крапкова + різні маркери\n",
        "3. **Заливка області** між мінімумом та максимумом\n",
        "4. **Дві анотації:** для найвищого та найнижчого середнього значення\n",
        "5. **Горизонтальна лінія** середнього за весь рік\n",
        "6. **Двошарова сітка:** основна та допоміжна\n",
        "7. **Стилізована легенда** з тінню\n",
        "8. **Текстовий блок** зі статистикою в кутку графіка\n",
        "9. **Професійне оформлення:** заголовки, підписи осей з жирним шрифтом\n",
        "\n",
        "**Результат:** Графік повинен виглядати як готова ілюстрація для бізнес-звіту або наукової публікації.\n",
        "\n",
        "Приклад очікуваного результату.\n",
        "![](https://drive.google.com/uc?id=1YoJByivzlqncEF2zbWu3EhGSZ7XRme8T)\n",
        "\n",
        "\n",
        "**Питання для інтерпретації:**\n",
        "1. Яка перевага додавання анотацій на графік?\n",
        "2. Для чого використовується fill_between()?\n",
        "3. Як текстовий блок допомагає в інтерпретації даних?"
      ]
    },
    {
      "cell_type": "code",
      "execution_count": null,
      "id": "NEbNlTYmevrN",
      "metadata": {
        "id": "NEbNlTYmevrN"
      },
      "outputs": [],
      "source": []
    }
  ],
  "metadata": {
    "colab": {
      "include_colab_link": true,
      "provenance": []
    },
    "kernelspec": {
      "display_name": "Python 3 (ipykernel)",
      "language": "python",
      "name": "python3"
    },
    "language_info": {
      "codemirror_mode": {
        "name": "ipython",
        "version": 3
      },
      "file_extension": ".py",
      "mimetype": "text/x-python",
      "name": "python",
      "nbconvert_exporter": "python",
      "pygments_lexer": "ipython3",
      "version": "3.12.0"
    }
  },
  "nbformat": 4,
  "nbformat_minor": 5
}
