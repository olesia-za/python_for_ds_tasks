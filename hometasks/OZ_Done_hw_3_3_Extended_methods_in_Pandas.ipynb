{
  "cells": [
    {
      "cell_type": "markdown",
      "metadata": {
        "colab_type": "text",
        "id": "view-in-github"
      },
      "source": [
        "<a href=\"https://colab.research.google.com/github/olesia-za/python_for_ds_tasks/blob/main/OZ_Done_hw_3_3_%D0%A0%D0%BE%D0%B7%D1%88%D0%B8%D1%80%D0%B5%D0%BD%D1%96_%D0%BC%D0%B5%D1%82%D0%BE%D0%B4%D0%B8_%D0%BE%D0%B1%D1%80%D0%BE%D0%B1%D0%BA%D0%B8_%D0%B4%D0%B0%D0%BD%D0%B8%D1%85_%D1%83_Pandas.ipynb\" target=\"_parent\"><img src=\"https://colab.research.google.com/assets/colab-badge.svg\" alt=\"Open In Colab\"/></a>"
      ]
    },
    {
      "cell_type": "markdown",
      "metadata": {
        "id": "wF6xe36Osbxi"
      },
      "source": [
        "# Домашнє завдання до теми \"Розширені методи обробки даних у Pandas\""
      ]
    },
    {
      "cell_type": "markdown",
      "metadata": {
        "id": "Fa2CIJElO3L3"
      },
      "source": [
        "В цьому домашньому завданні продовжуємо працювати з набором даних `supermarket_sales.csv`."
      ]
    },
    {
      "cell_type": "markdown",
      "metadata": {
        "id": "z0F_6xB-DQi7"
      },
      "source": [
        "0. Імпортуйте бібліотеку pandas та зчитайте дані у змінну `df` типу `pandas.DataFrame`."
      ]
    },
    {
      "cell_type": "code",
      "execution_count": 3,
      "metadata": {
        "id": "-4jR3F-rDQi7"
      },
      "outputs": [],
      "source": [
        "import pandas as pd\n",
        "df = pd.read_csv('../data/supermarket_sales.csv')"
      ]
    },
    {
      "cell_type": "markdown",
      "metadata": {
        "id": "hH26_h5wOLfj"
      },
      "source": [
        "1. Відсортуйте дані за спаданням ціни товара ('Unit price') і виведіть 5 перших рядочків на екран."
      ]
    },
    {
      "cell_type": "code",
      "execution_count": 4,
      "metadata": {
        "id": "C_CMIujQN9s6"
      },
      "outputs": [
        {
          "data": {
            "application/vnd.microsoft.datawrangler.viewer.v0+json": {
              "columns": [
                {
                  "name": "index",
                  "rawType": "int64",
                  "type": "integer"
                },
                {
                  "name": "Unit price",
                  "rawType": "float64",
                  "type": "float"
                }
              ],
              "ref": "82dac9ce-d92e-4f55-a287-79c9c3e81b12",
              "rows": [
                [
                  "122",
                  "99.96"
                ],
                [
                  "983",
                  "99.96"
                ],
                [
                  "930",
                  "99.92"
                ],
                [
                  "494",
                  "99.89"
                ],
                [
                  "283",
                  "99.83"
                ]
              ],
              "shape": {
                "columns": 1,
                "rows": 5
              }
            },
            "text/plain": [
              "122    99.96\n",
              "983    99.96\n",
              "930    99.92\n",
              "494    99.89\n",
              "283    99.83\n",
              "Name: Unit price, dtype: float64"
            ]
          },
          "execution_count": 4,
          "metadata": {},
          "output_type": "execute_result"
        }
      ],
      "source": [
        "df['Unit price'].nlargest(5) \n",
        "# .sort_values(ascending=False) is taken into account already by nlargest"
      ]
    },
    {
      "cell_type": "markdown",
      "metadata": {
        "id": "H7IyOIfIONXy"
      },
      "source": [
        "2. Знайдіть інвойс (рядок в даних) в категорії товарів `Electronic accessories`, в якому був куплений товар з найбільшою кількістю і найбільшою ціною. Виведіть цей рядок даних на екран."
      ]
    },
    {
      "cell_type": "code",
      "execution_count": null,
      "metadata": {
        "id": "rHtk3rXoNHr5"
      },
      "outputs": [
        {
          "data": {
            "application/vnd.microsoft.datawrangler.viewer.v0+json": {
              "columns": [
                {
                  "name": "index",
                  "rawType": "int64",
                  "type": "integer"
                },
                {
                  "name": "Invoice ID",
                  "rawType": "object",
                  "type": "string"
                },
                {
                  "name": "Branch",
                  "rawType": "object",
                  "type": "string"
                },
                {
                  "name": "City",
                  "rawType": "object",
                  "type": "string"
                },
                {
                  "name": "Customer type",
                  "rawType": "object",
                  "type": "string"
                },
                {
                  "name": "Gender",
                  "rawType": "object",
                  "type": "string"
                },
                {
                  "name": "Product line",
                  "rawType": "object",
                  "type": "string"
                },
                {
                  "name": "Unit price",
                  "rawType": "float64",
                  "type": "float"
                },
                {
                  "name": "Quantity",
                  "rawType": "int64",
                  "type": "integer"
                },
                {
                  "name": "Tax 5%",
                  "rawType": "float64",
                  "type": "float"
                },
                {
                  "name": "Total",
                  "rawType": "float64",
                  "type": "float"
                },
                {
                  "name": "Date",
                  "rawType": "object",
                  "type": "string"
                },
                {
                  "name": "Time",
                  "rawType": "object",
                  "type": "string"
                },
                {
                  "name": "Payment",
                  "rawType": "object",
                  "type": "string"
                },
                {
                  "name": "cogs",
                  "rawType": "float64",
                  "type": "float"
                },
                {
                  "name": "gross margin percentage",
                  "rawType": "float64",
                  "type": "float"
                },
                {
                  "name": "gross income",
                  "rawType": "float64",
                  "type": "float"
                },
                {
                  "name": "Rating",
                  "rawType": "float64",
                  "type": "float"
                }
              ],
              "ref": "fa2b8328-39a1-4cfe-aada-fa62642cae01",
              "rows": [
                [
                  "105",
                  "704-48-3927",
                  "A",
                  "Yangon",
                  "Member",
                  "Male",
                  "Electronic accessories",
                  "88.67",
                  "10",
                  "44.335",
                  "931.035",
                  "1/12/2019",
                  "14:50",
                  "Ewallet",
                  "886.7",
                  "4.761904762",
                  "44.335",
                  "7.3"
                ]
              ],
              "shape": {
                "columns": 17,
                "rows": 1
              }
            },
            "text/html": [
              "<div>\n",
              "<style scoped>\n",
              "    .dataframe tbody tr th:only-of-type {\n",
              "        vertical-align: middle;\n",
              "    }\n",
              "\n",
              "    .dataframe tbody tr th {\n",
              "        vertical-align: top;\n",
              "    }\n",
              "\n",
              "    .dataframe thead th {\n",
              "        text-align: right;\n",
              "    }\n",
              "</style>\n",
              "<table border=\"1\" class=\"dataframe\">\n",
              "  <thead>\n",
              "    <tr style=\"text-align: right;\">\n",
              "      <th></th>\n",
              "      <th>Invoice ID</th>\n",
              "      <th>Branch</th>\n",
              "      <th>City</th>\n",
              "      <th>Customer type</th>\n",
              "      <th>Gender</th>\n",
              "      <th>Product line</th>\n",
              "      <th>Unit price</th>\n",
              "      <th>Quantity</th>\n",
              "      <th>Tax 5%</th>\n",
              "      <th>Total</th>\n",
              "      <th>Date</th>\n",
              "      <th>Time</th>\n",
              "      <th>Payment</th>\n",
              "      <th>cogs</th>\n",
              "      <th>gross margin percentage</th>\n",
              "      <th>gross income</th>\n",
              "      <th>Rating</th>\n",
              "    </tr>\n",
              "  </thead>\n",
              "  <tbody>\n",
              "    <tr>\n",
              "      <th>105</th>\n",
              "      <td>704-48-3927</td>\n",
              "      <td>A</td>\n",
              "      <td>Yangon</td>\n",
              "      <td>Member</td>\n",
              "      <td>Male</td>\n",
              "      <td>Electronic accessories</td>\n",
              "      <td>88.67</td>\n",
              "      <td>10</td>\n",
              "      <td>44.335</td>\n",
              "      <td>931.035</td>\n",
              "      <td>1/12/2019</td>\n",
              "      <td>14:50</td>\n",
              "      <td>Ewallet</td>\n",
              "      <td>886.7</td>\n",
              "      <td>4.761905</td>\n",
              "      <td>44.335</td>\n",
              "      <td>7.3</td>\n",
              "    </tr>\n",
              "  </tbody>\n",
              "</table>\n",
              "</div>"
            ],
            "text/plain": [
              "      Invoice ID Branch    City Customer type Gender            Product line  \\\n",
              "105  704-48-3927      A  Yangon        Member   Male  Electronic accessories   \n",
              "\n",
              "     Unit price  Quantity  Tax 5%    Total       Date   Time  Payment   cogs  \\\n",
              "105       88.67        10  44.335  931.035  1/12/2019  14:50  Ewallet  886.7   \n",
              "\n",
              "     gross margin percentage  gross income  Rating  \n",
              "105                 4.761905        44.335     7.3  "
            ]
          },
          "execution_count": 15,
          "metadata": {},
          "output_type": "execute_result"
        }
      ],
      "source": [
        "df[df['Product line'] == 'Electronic accessories'].sort_values(by =['Quantity', 'Unit price'], ascending = [False, False]).head(1)"
      ]
    },
    {
      "cell_type": "code",
      "execution_count": 16,
      "metadata": {},
      "outputs": [
        {
          "data": {
            "application/vnd.microsoft.datawrangler.viewer.v0+json": {
              "columns": [
                {
                  "name": "index",
                  "rawType": "int64",
                  "type": "integer"
                },
                {
                  "name": "Invoice ID",
                  "rawType": "object",
                  "type": "string"
                },
                {
                  "name": "Branch",
                  "rawType": "object",
                  "type": "string"
                },
                {
                  "name": "City",
                  "rawType": "object",
                  "type": "string"
                },
                {
                  "name": "Customer type",
                  "rawType": "object",
                  "type": "string"
                },
                {
                  "name": "Gender",
                  "rawType": "object",
                  "type": "string"
                },
                {
                  "name": "Product line",
                  "rawType": "object",
                  "type": "string"
                },
                {
                  "name": "Unit price",
                  "rawType": "float64",
                  "type": "float"
                },
                {
                  "name": "Quantity",
                  "rawType": "int64",
                  "type": "integer"
                },
                {
                  "name": "Tax 5%",
                  "rawType": "float64",
                  "type": "float"
                },
                {
                  "name": "Total",
                  "rawType": "float64",
                  "type": "float"
                },
                {
                  "name": "Date",
                  "rawType": "object",
                  "type": "string"
                },
                {
                  "name": "Time",
                  "rawType": "object",
                  "type": "string"
                },
                {
                  "name": "Payment",
                  "rawType": "object",
                  "type": "string"
                },
                {
                  "name": "cogs",
                  "rawType": "float64",
                  "type": "float"
                },
                {
                  "name": "gross margin percentage",
                  "rawType": "float64",
                  "type": "float"
                },
                {
                  "name": "gross income",
                  "rawType": "float64",
                  "type": "float"
                },
                {
                  "name": "Rating",
                  "rawType": "float64",
                  "type": "float"
                }
              ],
              "ref": "a9960f72-0387-4380-8f55-22a11f3a30a2",
              "rows": [
                [
                  "105",
                  "704-48-3927",
                  "A",
                  "Yangon",
                  "Member",
                  "Male",
                  "Electronic accessories",
                  "88.67",
                  "10",
                  "44.335",
                  "931.035",
                  "1/12/2019",
                  "14:50",
                  "Ewallet",
                  "886.7",
                  "4.761904762",
                  "44.335",
                  "7.3"
                ]
              ],
              "shape": {
                "columns": 17,
                "rows": 1
              }
            },
            "text/html": [
              "<div>\n",
              "<style scoped>\n",
              "    .dataframe tbody tr th:only-of-type {\n",
              "        vertical-align: middle;\n",
              "    }\n",
              "\n",
              "    .dataframe tbody tr th {\n",
              "        vertical-align: top;\n",
              "    }\n",
              "\n",
              "    .dataframe thead th {\n",
              "        text-align: right;\n",
              "    }\n",
              "</style>\n",
              "<table border=\"1\" class=\"dataframe\">\n",
              "  <thead>\n",
              "    <tr style=\"text-align: right;\">\n",
              "      <th></th>\n",
              "      <th>Invoice ID</th>\n",
              "      <th>Branch</th>\n",
              "      <th>City</th>\n",
              "      <th>Customer type</th>\n",
              "      <th>Gender</th>\n",
              "      <th>Product line</th>\n",
              "      <th>Unit price</th>\n",
              "      <th>Quantity</th>\n",
              "      <th>Tax 5%</th>\n",
              "      <th>Total</th>\n",
              "      <th>Date</th>\n",
              "      <th>Time</th>\n",
              "      <th>Payment</th>\n",
              "      <th>cogs</th>\n",
              "      <th>gross margin percentage</th>\n",
              "      <th>gross income</th>\n",
              "      <th>Rating</th>\n",
              "    </tr>\n",
              "  </thead>\n",
              "  <tbody>\n",
              "    <tr>\n",
              "      <th>105</th>\n",
              "      <td>704-48-3927</td>\n",
              "      <td>A</td>\n",
              "      <td>Yangon</td>\n",
              "      <td>Member</td>\n",
              "      <td>Male</td>\n",
              "      <td>Electronic accessories</td>\n",
              "      <td>88.67</td>\n",
              "      <td>10</td>\n",
              "      <td>44.335</td>\n",
              "      <td>931.035</td>\n",
              "      <td>1/12/2019</td>\n",
              "      <td>14:50</td>\n",
              "      <td>Ewallet</td>\n",
              "      <td>886.7</td>\n",
              "      <td>4.761905</td>\n",
              "      <td>44.335</td>\n",
              "      <td>7.3</td>\n",
              "    </tr>\n",
              "  </tbody>\n",
              "</table>\n",
              "</div>"
            ],
            "text/plain": [
              "      Invoice ID Branch    City Customer type Gender            Product line  \\\n",
              "105  704-48-3927      A  Yangon        Member   Male  Electronic accessories   \n",
              "\n",
              "     Unit price  Quantity  Tax 5%    Total       Date   Time  Payment   cogs  \\\n",
              "105       88.67        10  44.335  931.035  1/12/2019  14:50  Ewallet  886.7   \n",
              "\n",
              "     gross margin percentage  gross income  Rating  \n",
              "105                 4.761905        44.335     7.3  "
            ]
          },
          "execution_count": 16,
          "metadata": {},
          "output_type": "execute_result"
        }
      ],
      "source": [
        "# or alternatively:\n",
        "df[df['Product line'] == 'Electronic accessories'].nlargest(1, ['Quantity', 'Unit price'])"
      ]
    },
    {
      "cell_type": "markdown",
      "metadata": {
        "id": "n2iSihPRDHvv"
      },
      "source": [
        "3.1. Створіть нову колонку в даних `Rating Category`, яка визначає категорію рейтингу (`Rating`): високий, середній чи низький за наступним правилом:\n",
        "- якщо рейтинг вищий або рівний 8 - то він високий (`High`)\n",
        "- якщо рейтинг від 6 до 8 не включаючи - то він середній (`Medium`)\n",
        "- інакше - низький (`Low`)."
      ]
    },
    {
      "cell_type": "code",
      "execution_count": 31,
      "metadata": {
        "id": "WfYpk_VdD_sI"
      },
      "outputs": [
        {
          "data": {
            "application/vnd.microsoft.datawrangler.viewer.v0+json": {
              "columns": [
                {
                  "name": "index",
                  "rawType": "int64",
                  "type": "integer"
                },
                {
                  "name": "Invoice ID",
                  "rawType": "object",
                  "type": "string"
                },
                {
                  "name": "Branch",
                  "rawType": "object",
                  "type": "string"
                },
                {
                  "name": "City",
                  "rawType": "object",
                  "type": "string"
                },
                {
                  "name": "Customer type",
                  "rawType": "object",
                  "type": "string"
                },
                {
                  "name": "Gender",
                  "rawType": "object",
                  "type": "string"
                },
                {
                  "name": "Product line",
                  "rawType": "object",
                  "type": "string"
                },
                {
                  "name": "Unit price",
                  "rawType": "float64",
                  "type": "float"
                },
                {
                  "name": "Quantity",
                  "rawType": "int64",
                  "type": "integer"
                },
                {
                  "name": "Tax 5%",
                  "rawType": "float64",
                  "type": "float"
                },
                {
                  "name": "Total",
                  "rawType": "float64",
                  "type": "float"
                },
                {
                  "name": "Date",
                  "rawType": "object",
                  "type": "string"
                },
                {
                  "name": "Time",
                  "rawType": "object",
                  "type": "string"
                },
                {
                  "name": "Payment",
                  "rawType": "object",
                  "type": "string"
                },
                {
                  "name": "cogs",
                  "rawType": "float64",
                  "type": "float"
                },
                {
                  "name": "gross margin percentage",
                  "rawType": "float64",
                  "type": "float"
                },
                {
                  "name": "gross income",
                  "rawType": "float64",
                  "type": "float"
                },
                {
                  "name": "Rating",
                  "rawType": "float64",
                  "type": "float"
                },
                {
                  "name": "Rating category",
                  "rawType": "object",
                  "type": "string"
                },
                {
                  "name": "Hour",
                  "rawType": "int64",
                  "type": "integer"
                }
              ],
              "ref": "03cd43b9-d9e0-4416-88ab-f131b70f9fb9",
              "rows": [
                [
                  "0",
                  "750-67-8428",
                  "A",
                  "Yangon",
                  "Member",
                  "Female",
                  "Health and beauty",
                  "74.69",
                  "7",
                  "26.1415",
                  "548.9715",
                  "1/5/2019",
                  "13:08",
                  "Ewallet",
                  "522.83",
                  "4.761904762",
                  "26.1415",
                  "9.1",
                  "High",
                  "13"
                ],
                [
                  "1",
                  "226-31-3081",
                  "C",
                  "Naypyitaw",
                  "Normal",
                  "Female",
                  "Electronic accessories",
                  "15.28",
                  "5",
                  "3.82",
                  "80.22",
                  "3/8/2019",
                  "10:29",
                  "Cash",
                  "76.4",
                  "4.761904762",
                  "3.82",
                  "9.6",
                  "High",
                  "10"
                ]
              ],
              "shape": {
                "columns": 19,
                "rows": 2
              }
            },
            "text/html": [
              "<div>\n",
              "<style scoped>\n",
              "    .dataframe tbody tr th:only-of-type {\n",
              "        vertical-align: middle;\n",
              "    }\n",
              "\n",
              "    .dataframe tbody tr th {\n",
              "        vertical-align: top;\n",
              "    }\n",
              "\n",
              "    .dataframe thead th {\n",
              "        text-align: right;\n",
              "    }\n",
              "</style>\n",
              "<table border=\"1\" class=\"dataframe\">\n",
              "  <thead>\n",
              "    <tr style=\"text-align: right;\">\n",
              "      <th></th>\n",
              "      <th>Invoice ID</th>\n",
              "      <th>Branch</th>\n",
              "      <th>City</th>\n",
              "      <th>Customer type</th>\n",
              "      <th>Gender</th>\n",
              "      <th>Product line</th>\n",
              "      <th>Unit price</th>\n",
              "      <th>Quantity</th>\n",
              "      <th>Tax 5%</th>\n",
              "      <th>Total</th>\n",
              "      <th>Date</th>\n",
              "      <th>Time</th>\n",
              "      <th>Payment</th>\n",
              "      <th>cogs</th>\n",
              "      <th>gross margin percentage</th>\n",
              "      <th>gross income</th>\n",
              "      <th>Rating</th>\n",
              "      <th>Rating category</th>\n",
              "      <th>Hour</th>\n",
              "    </tr>\n",
              "  </thead>\n",
              "  <tbody>\n",
              "    <tr>\n",
              "      <th>0</th>\n",
              "      <td>750-67-8428</td>\n",
              "      <td>A</td>\n",
              "      <td>Yangon</td>\n",
              "      <td>Member</td>\n",
              "      <td>Female</td>\n",
              "      <td>Health and beauty</td>\n",
              "      <td>74.69</td>\n",
              "      <td>7</td>\n",
              "      <td>26.1415</td>\n",
              "      <td>548.9715</td>\n",
              "      <td>1/5/2019</td>\n",
              "      <td>13:08</td>\n",
              "      <td>Ewallet</td>\n",
              "      <td>522.83</td>\n",
              "      <td>4.761905</td>\n",
              "      <td>26.1415</td>\n",
              "      <td>9.1</td>\n",
              "      <td>High</td>\n",
              "      <td>13</td>\n",
              "    </tr>\n",
              "    <tr>\n",
              "      <th>1</th>\n",
              "      <td>226-31-3081</td>\n",
              "      <td>C</td>\n",
              "      <td>Naypyitaw</td>\n",
              "      <td>Normal</td>\n",
              "      <td>Female</td>\n",
              "      <td>Electronic accessories</td>\n",
              "      <td>15.28</td>\n",
              "      <td>5</td>\n",
              "      <td>3.8200</td>\n",
              "      <td>80.2200</td>\n",
              "      <td>3/8/2019</td>\n",
              "      <td>10:29</td>\n",
              "      <td>Cash</td>\n",
              "      <td>76.40</td>\n",
              "      <td>4.761905</td>\n",
              "      <td>3.8200</td>\n",
              "      <td>9.6</td>\n",
              "      <td>High</td>\n",
              "      <td>10</td>\n",
              "    </tr>\n",
              "  </tbody>\n",
              "</table>\n",
              "</div>"
            ],
            "text/plain": [
              "    Invoice ID Branch       City Customer type  Gender  \\\n",
              "0  750-67-8428      A     Yangon        Member  Female   \n",
              "1  226-31-3081      C  Naypyitaw        Normal  Female   \n",
              "\n",
              "             Product line  Unit price  Quantity   Tax 5%     Total      Date  \\\n",
              "0       Health and beauty       74.69         7  26.1415  548.9715  1/5/2019   \n",
              "1  Electronic accessories       15.28         5   3.8200   80.2200  3/8/2019   \n",
              "\n",
              "    Time  Payment    cogs  gross margin percentage  gross income  Rating  \\\n",
              "0  13:08  Ewallet  522.83                 4.761905       26.1415     9.1   \n",
              "1  10:29     Cash   76.40                 4.761905        3.8200     9.6   \n",
              "\n",
              "  Rating category  Hour  \n",
              "0            High    13  \n",
              "1            High    10  "
            ]
          },
          "execution_count": 31,
          "metadata": {},
          "output_type": "execute_result"
        }
      ],
      "source": [
        "df['Rating category'] = df.Rating.apply(lambda x: 'High' if x >= 8 else ('Medium' if x >= 6 else 'Low'))\n",
        "df.head(2)"
      ]
    },
    {
      "cell_type": "markdown",
      "metadata": {
        "id": "0tTSRjXDEdDe"
      },
      "source": [
        "3.2. Виведіть, який відсоток даних становить кожне зі значень категорій рейтингу."
      ]
    },
    {
      "cell_type": "code",
      "execution_count": 19,
      "metadata": {
        "id": "gYd_Y96ODS3a"
      },
      "outputs": [
        {
          "data": {
            "application/vnd.microsoft.datawrangler.viewer.v0+json": {
              "columns": [
                {
                  "name": "Rating category",
                  "rawType": "object",
                  "type": "string"
                },
                {
                  "name": "count",
                  "rawType": "int64",
                  "type": "integer"
                }
              ],
              "ref": "c001c632-e140-4b60-ab52-2df483467228",
              "rows": [
                [
                  "Medium",
                  "356"
                ],
                [
                  "High",
                  "329"
                ],
                [
                  "Low",
                  "315"
                ]
              ],
              "shape": {
                "columns": 1,
                "rows": 3
              }
            },
            "text/plain": [
              "Rating category\n",
              "Medium    356\n",
              "High      329\n",
              "Low       315\n",
              "Name: count, dtype: int64"
            ]
          },
          "execution_count": 19,
          "metadata": {},
          "output_type": "execute_result"
        }
      ],
      "source": [
        "df['Rating category'].value_counts()"
      ]
    },
    {
      "cell_type": "markdown",
      "metadata": {
        "id": "qGPne8sFHGGM"
      },
      "source": [
        "4.1. Запустіть код нижче аби створити змінну `time`. Ця змінна містить час в форматі \"година:хвилина\". Напишіть функцію `get_hour`, яка буде зі змінної формату як `time` дістати лише години і конвертувати їх у тип `int`.\n",
        "\n",
        "Запустіть написану функцію на змінній `time` та перевірте правильність роботи функції."
      ]
    },
    {
      "cell_type": "code",
      "execution_count": 21,
      "metadata": {
        "id": "OZ2DD2AGEZme"
      },
      "outputs": [],
      "source": [
        "time = '11:28'\n",
        "\n",
        "def get_hour(time):\n",
        "    hour = int(time.split(':')[0])\n",
        "    return hour"
      ]
    },
    {
      "cell_type": "code",
      "execution_count": 22,
      "metadata": {
        "id": "BxDWBPalHimp"
      },
      "outputs": [
        {
          "data": {
            "text/plain": [
              "11"
            ]
          },
          "execution_count": 22,
          "metadata": {},
          "output_type": "execute_result"
        }
      ],
      "source": [
        "get_hour(time)"
      ]
    },
    {
      "cell_type": "markdown",
      "metadata": {
        "id": "3F7Nmc84IM9C"
      },
      "source": [
        "4.2. З допомогою функції `get_hour` і метода `DataFrame.apply()` створіть нову колонку `Hour` в нашому наборі даних, яка буде містити години здійснення покупки, обчислені на основі часу здійснення покупки `Time`."
      ]
    },
    {
      "cell_type": "code",
      "execution_count": 25,
      "metadata": {
        "id": "P-DQNIwQH_Io"
      },
      "outputs": [
        {
          "data": {
            "application/vnd.microsoft.datawrangler.viewer.v0+json": {
              "columns": [
                {
                  "name": "index",
                  "rawType": "int64",
                  "type": "integer"
                },
                {
                  "name": "Invoice ID",
                  "rawType": "object",
                  "type": "string"
                },
                {
                  "name": "Branch",
                  "rawType": "object",
                  "type": "string"
                },
                {
                  "name": "City",
                  "rawType": "object",
                  "type": "string"
                },
                {
                  "name": "Customer type",
                  "rawType": "object",
                  "type": "string"
                },
                {
                  "name": "Gender",
                  "rawType": "object",
                  "type": "string"
                },
                {
                  "name": "Product line",
                  "rawType": "object",
                  "type": "string"
                },
                {
                  "name": "Unit price",
                  "rawType": "float64",
                  "type": "float"
                },
                {
                  "name": "Quantity",
                  "rawType": "int64",
                  "type": "integer"
                },
                {
                  "name": "Tax 5%",
                  "rawType": "float64",
                  "type": "float"
                },
                {
                  "name": "Total",
                  "rawType": "float64",
                  "type": "float"
                },
                {
                  "name": "Date",
                  "rawType": "object",
                  "type": "string"
                },
                {
                  "name": "Time",
                  "rawType": "object",
                  "type": "string"
                },
                {
                  "name": "Payment",
                  "rawType": "object",
                  "type": "string"
                },
                {
                  "name": "cogs",
                  "rawType": "float64",
                  "type": "float"
                },
                {
                  "name": "gross margin percentage",
                  "rawType": "float64",
                  "type": "float"
                },
                {
                  "name": "gross income",
                  "rawType": "float64",
                  "type": "float"
                },
                {
                  "name": "Rating",
                  "rawType": "float64",
                  "type": "float"
                },
                {
                  "name": "Rating category",
                  "rawType": "object",
                  "type": "string"
                },
                {
                  "name": "Hour",
                  "rawType": "int64",
                  "type": "integer"
                }
              ],
              "ref": "a8ff98ed-9206-47e1-8c45-2fb5246ed4a2",
              "rows": [
                [
                  "0",
                  "750-67-8428",
                  "A",
                  "Yangon",
                  "Member",
                  "Female",
                  "Health and beauty",
                  "74.69",
                  "7",
                  "26.1415",
                  "548.9715",
                  "1/5/2019",
                  "13:08",
                  "Ewallet",
                  "522.83",
                  "4.761904762",
                  "26.1415",
                  "9.1",
                  "High",
                  "13"
                ],
                [
                  "1",
                  "226-31-3081",
                  "C",
                  "Naypyitaw",
                  "Normal",
                  "Female",
                  "Electronic accessories",
                  "15.28",
                  "5",
                  "3.82",
                  "80.22",
                  "3/8/2019",
                  "10:29",
                  "Cash",
                  "76.4",
                  "4.761904762",
                  "3.82",
                  "9.6",
                  "High",
                  "10"
                ]
              ],
              "shape": {
                "columns": 19,
                "rows": 2
              }
            },
            "text/html": [
              "<div>\n",
              "<style scoped>\n",
              "    .dataframe tbody tr th:only-of-type {\n",
              "        vertical-align: middle;\n",
              "    }\n",
              "\n",
              "    .dataframe tbody tr th {\n",
              "        vertical-align: top;\n",
              "    }\n",
              "\n",
              "    .dataframe thead th {\n",
              "        text-align: right;\n",
              "    }\n",
              "</style>\n",
              "<table border=\"1\" class=\"dataframe\">\n",
              "  <thead>\n",
              "    <tr style=\"text-align: right;\">\n",
              "      <th></th>\n",
              "      <th>Invoice ID</th>\n",
              "      <th>Branch</th>\n",
              "      <th>City</th>\n",
              "      <th>Customer type</th>\n",
              "      <th>Gender</th>\n",
              "      <th>Product line</th>\n",
              "      <th>Unit price</th>\n",
              "      <th>Quantity</th>\n",
              "      <th>Tax 5%</th>\n",
              "      <th>Total</th>\n",
              "      <th>Date</th>\n",
              "      <th>Time</th>\n",
              "      <th>Payment</th>\n",
              "      <th>cogs</th>\n",
              "      <th>gross margin percentage</th>\n",
              "      <th>gross income</th>\n",
              "      <th>Rating</th>\n",
              "      <th>Rating category</th>\n",
              "      <th>Hour</th>\n",
              "    </tr>\n",
              "  </thead>\n",
              "  <tbody>\n",
              "    <tr>\n",
              "      <th>0</th>\n",
              "      <td>750-67-8428</td>\n",
              "      <td>A</td>\n",
              "      <td>Yangon</td>\n",
              "      <td>Member</td>\n",
              "      <td>Female</td>\n",
              "      <td>Health and beauty</td>\n",
              "      <td>74.69</td>\n",
              "      <td>7</td>\n",
              "      <td>26.1415</td>\n",
              "      <td>548.9715</td>\n",
              "      <td>1/5/2019</td>\n",
              "      <td>13:08</td>\n",
              "      <td>Ewallet</td>\n",
              "      <td>522.83</td>\n",
              "      <td>4.761905</td>\n",
              "      <td>26.1415</td>\n",
              "      <td>9.1</td>\n",
              "      <td>High</td>\n",
              "      <td>13</td>\n",
              "    </tr>\n",
              "    <tr>\n",
              "      <th>1</th>\n",
              "      <td>226-31-3081</td>\n",
              "      <td>C</td>\n",
              "      <td>Naypyitaw</td>\n",
              "      <td>Normal</td>\n",
              "      <td>Female</td>\n",
              "      <td>Electronic accessories</td>\n",
              "      <td>15.28</td>\n",
              "      <td>5</td>\n",
              "      <td>3.8200</td>\n",
              "      <td>80.2200</td>\n",
              "      <td>3/8/2019</td>\n",
              "      <td>10:29</td>\n",
              "      <td>Cash</td>\n",
              "      <td>76.40</td>\n",
              "      <td>4.761905</td>\n",
              "      <td>3.8200</td>\n",
              "      <td>9.6</td>\n",
              "      <td>High</td>\n",
              "      <td>10</td>\n",
              "    </tr>\n",
              "  </tbody>\n",
              "</table>\n",
              "</div>"
            ],
            "text/plain": [
              "    Invoice ID Branch       City Customer type  Gender  \\\n",
              "0  750-67-8428      A     Yangon        Member  Female   \n",
              "1  226-31-3081      C  Naypyitaw        Normal  Female   \n",
              "\n",
              "             Product line  Unit price  Quantity   Tax 5%     Total      Date  \\\n",
              "0       Health and beauty       74.69         7  26.1415  548.9715  1/5/2019   \n",
              "1  Electronic accessories       15.28         5   3.8200   80.2200  3/8/2019   \n",
              "\n",
              "    Time  Payment    cogs  gross margin percentage  gross income  Rating  \\\n",
              "0  13:08  Ewallet  522.83                 4.761905       26.1415     9.1   \n",
              "1  10:29     Cash   76.40                 4.761905        3.8200     9.6   \n",
              "\n",
              "  Rating category  Hour  \n",
              "0            High    13  \n",
              "1            High    10  "
            ]
          },
          "execution_count": 25,
          "metadata": {},
          "output_type": "execute_result"
        }
      ],
      "source": [
        "df['Hour'] = df['Time'].apply(get_hour)\n",
        "df.head(2)"
      ]
    },
    {
      "cell_type": "markdown",
      "metadata": {
        "id": "VcuugIB2IszQ"
      },
      "source": [
        "4.3. Виведіть кількість значень за кожною годиною покупки і дайте відповідь \"О яких годинах найбільше здійснюють покупок покупці і чому на Ваш погляд саме о цих годинах? Чи це слогічно, що найбільше покупок саме в ці години?\"."
      ]
    },
    {
      "cell_type": "code",
      "execution_count": null,
      "metadata": {
        "id": "5NgTbHM8I-Or"
      },
      "outputs": [
        {
          "data": {
            "application/vnd.microsoft.datawrangler.viewer.v0+json": {
              "columns": [
                {
                  "name": "Hour",
                  "rawType": "int64",
                  "type": "integer"
                },
                {
                  "name": "count",
                  "rawType": "int64",
                  "type": "integer"
                }
              ],
              "ref": "a5db1b85-49a3-4b93-91fb-9d2fcdfd0c41",
              "rows": [
                [
                  "19",
                  "113"
                ],
                [
                  "13",
                  "103"
                ],
                [
                  "15",
                  "102"
                ],
                [
                  "10",
                  "101"
                ],
                [
                  "18",
                  "93"
                ],
                [
                  "11",
                  "90"
                ],
                [
                  "12",
                  "89"
                ],
                [
                  "14",
                  "83"
                ],
                [
                  "16",
                  "77"
                ],
                [
                  "20",
                  "75"
                ],
                [
                  "17",
                  "74"
                ]
              ],
              "shape": {
                "columns": 1,
                "rows": 11
              }
            },
            "text/plain": [
              "Hour\n",
              "19    113\n",
              "13    103\n",
              "15    102\n",
              "10    101\n",
              "18     93\n",
              "11     90\n",
              "12     89\n",
              "14     83\n",
              "16     77\n",
              "20     75\n",
              "17     74\n",
              "Name: count, dtype: int64"
            ]
          },
          "execution_count": 30,
          "metadata": {},
          "output_type": "execute_result"
        }
      ],
      "source": [
        "df.Hour.value_counts().sort_values(ascending=False)\n",
        "# о 19 найбільше покупок - можна пояснити часом після роботи ( о 18 ще значна кількільсть людей на роботі або не дісьалися до магазину і після 20 вже вдома)\n",
        "# о 13 - можна пояснити обідом і вільним від роботи часом та можливістю здійснити покупки\n",
        "# о 15 та 10 дещо дивно, але можливо значан кількість людей в цій місцевості закінчує роботу до 15 або в цей час діє якась година знижок\n",
        "# щодо 10ої можливо в цей час відкриваються магазини - тому є певний пік покупок або так само діє година знижок\n"
      ]
    },
    {
      "cell_type": "markdown",
      "metadata": {
        "id": "vUniX9GAKtco"
      },
      "source": [
        "5. Виведіть середнє значення чеку (`Total`) для покупок в містах, наявних в даних, за допомогою функції `groupby`."
      ]
    },
    {
      "cell_type": "code",
      "execution_count": 33,
      "metadata": {
        "id": "eWRBQoO_JBY3"
      },
      "outputs": [
        {
          "data": {
            "application/vnd.microsoft.datawrangler.viewer.v0+json": {
              "columns": [
                {
                  "name": "City",
                  "rawType": "object",
                  "type": "string"
                },
                {
                  "name": "Total",
                  "rawType": "float64",
                  "type": "float"
                }
              ],
              "ref": "fd38374e-b601-4f06-b154-417cbfbbc8c1",
              "rows": [
                [
                  "Mandalay",
                  "319.8725060240964"
                ],
                [
                  "Naypyitaw",
                  "337.0997149390244"
                ],
                [
                  "Yangon",
                  "312.35403088235296"
                ]
              ],
              "shape": {
                "columns": 1,
                "rows": 3
              }
            },
            "text/plain": [
              "City\n",
              "Mandalay     319.872506\n",
              "Naypyitaw    337.099715\n",
              "Yangon       312.354031\n",
              "Name: Total, dtype: float64"
            ]
          },
          "execution_count": 33,
          "metadata": {},
          "output_type": "execute_result"
        }
      ],
      "source": [
        "df.groupby(['City']).Total.mean()"
      ]
    },
    {
      "cell_type": "markdown",
      "metadata": {
        "id": "kgXBFApjLQxp"
      },
      "source": [
        "6. Виведіть кількість покупок, середнє, мінімальне та максимальне значення для загальної суми чеку (Total) в містах, наявних в даних, за допомогою функції groupby.\n",
        "Зробіть висновки з цих показників та дайте рекомендації для мережі супермаркетів."
      ]
    },
    {
      "cell_type": "code",
      "execution_count": null,
      "metadata": {
        "id": "qdspE5eWK0bq"
      },
      "outputs": [
        {
          "data": {
            "application/vnd.microsoft.datawrangler.viewer.v0+json": {
              "columns": [
                {
                  "name": "City",
                  "rawType": "object",
                  "type": "string"
                },
                {
                  "name": "size",
                  "rawType": "int64",
                  "type": "integer"
                },
                {
                  "name": "mean",
                  "rawType": "float64",
                  "type": "float"
                },
                {
                  "name": "max",
                  "rawType": "float64",
                  "type": "float"
                },
                {
                  "name": "sum",
                  "rawType": "float64",
                  "type": "float"
                }
              ],
              "ref": "6df92706-63bc-4ce1-9d82-65f5a4d32ef5",
              "rows": [
                [
                  "Naypyitaw",
                  "328",
                  "337.1",
                  "1042.65",
                  "110568.71"
                ],
                [
                  "Mandalay",
                  "332",
                  "319.87",
                  "1022.49",
                  "106197.67"
                ],
                [
                  "Yangon",
                  "340",
                  "312.35",
                  "1039.29",
                  "106200.37"
                ]
              ],
              "shape": {
                "columns": 4,
                "rows": 3
              }
            },
            "text/html": [
              "<div>\n",
              "<style scoped>\n",
              "    .dataframe tbody tr th:only-of-type {\n",
              "        vertical-align: middle;\n",
              "    }\n",
              "\n",
              "    .dataframe tbody tr th {\n",
              "        vertical-align: top;\n",
              "    }\n",
              "\n",
              "    .dataframe thead th {\n",
              "        text-align: right;\n",
              "    }\n",
              "</style>\n",
              "<table border=\"1\" class=\"dataframe\">\n",
              "  <thead>\n",
              "    <tr style=\"text-align: right;\">\n",
              "      <th></th>\n",
              "      <th>size</th>\n",
              "      <th>mean</th>\n",
              "      <th>max</th>\n",
              "      <th>sum</th>\n",
              "    </tr>\n",
              "    <tr>\n",
              "      <th>City</th>\n",
              "      <th></th>\n",
              "      <th></th>\n",
              "      <th></th>\n",
              "      <th></th>\n",
              "    </tr>\n",
              "  </thead>\n",
              "  <tbody>\n",
              "    <tr>\n",
              "      <th>Naypyitaw</th>\n",
              "      <td>328</td>\n",
              "      <td>337.10</td>\n",
              "      <td>1042.65</td>\n",
              "      <td>110568.71</td>\n",
              "    </tr>\n",
              "    <tr>\n",
              "      <th>Mandalay</th>\n",
              "      <td>332</td>\n",
              "      <td>319.87</td>\n",
              "      <td>1022.49</td>\n",
              "      <td>106197.67</td>\n",
              "    </tr>\n",
              "    <tr>\n",
              "      <th>Yangon</th>\n",
              "      <td>340</td>\n",
              "      <td>312.35</td>\n",
              "      <td>1039.29</td>\n",
              "      <td>106200.37</td>\n",
              "    </tr>\n",
              "  </tbody>\n",
              "</table>\n",
              "</div>"
            ],
            "text/plain": [
              "           size    mean      max        sum\n",
              "City                                       \n",
              "Naypyitaw   328  337.10  1042.65  110568.71\n",
              "Mandalay    332  319.87  1022.49  106197.67\n",
              "Yangon      340  312.35  1039.29  106200.37"
            ]
          },
          "execution_count": 41,
          "metadata": {},
          "output_type": "execute_result"
        }
      ],
      "source": [
        "df.groupby(['City']).Total.agg(['size', 'mean', 'max', 'sum']).sort_values(by='mean', ascending=False).round(2)\n",
        "# у Naypyitaw найбільший середній чек та виручка, але найменше покупок - можливо це пов'язано з тим, що там менше населення але більші доходи та/або більше купують дорогих товарів\n",
        "# у Yangon найбільше покупок, але середній чек менший ніж у Naypyitaw та Mandalay, можливо варто додати акції на дорогі товари\n",
        "#  загалом треба більше інформації по групам товарів, щоб зробити більш точні висновки"
      ]
    },
    {
      "cell_type": "markdown",
      "metadata": {
        "id": "_GPVYoEe6M9E"
      },
      "source": [
        "7. Ми внесли деякі зміни в наш набір даних, тож, давайте запишемо результат у файл. Запишіть оновлену версію даних у файл `supermarket_sales_enriched.csv`. Зверніть увагу, аби не записати нічого зайвого, наприклад, індекси рядків нам в файлі не потрібні, оскільки вони стандартні."
      ]
    },
    {
      "cell_type": "code",
      "execution_count": 43,
      "metadata": {
        "id": "MyEE8sAR6ele"
      },
      "outputs": [],
      "source": [
        "df.to_csv('../data/supermarket_sales_enriched.csv', index=False)"
      ]
    }
  ],
  "metadata": {
    "colab": {
      "include_colab_link": true,
      "provenance": []
    },
    "kernelspec": {
      "display_name": "py312",
      "language": "python",
      "name": "python3"
    },
    "language_info": {
      "codemirror_mode": {
        "name": "ipython",
        "version": 3
      },
      "file_extension": ".py",
      "mimetype": "text/x-python",
      "name": "python",
      "nbconvert_exporter": "python",
      "pygments_lexer": "ipython3",
      "version": "3.12.11"
    }
  },
  "nbformat": 4,
  "nbformat_minor": 0
}
