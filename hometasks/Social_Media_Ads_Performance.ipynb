{
 "cells": [
  {
   "cell_type": "code",
   "execution_count": 6,
   "id": "6a0db5b9",
   "metadata": {},
   "outputs": [],
   "source": [
    "import pandas as pd\n",
    "\n",
    "df_users= pd.read_csv('../data/p_users.csv')\n",
    "df_ad_events= pd.read_csv('../data/p_ad_events.csv')\n",
    "df_ads= pd.read_csv('../data/p_ads.csv')\n",
    "df_campaigns= pd.read_csv('../data/p_campaigns.csv')"
   ]
  },
  {
   "cell_type": "code",
   "execution_count": 4,
   "id": "24bf6a2a",
   "metadata": {},
   "outputs": [
    {
     "data": {
      "application/vnd.microsoft.datawrangler.viewer.v0+json": {
       "columns": [
        {
         "name": "index",
         "rawType": "int64",
         "type": "integer"
        },
        {
         "name": "user_id",
         "rawType": "object",
         "type": "string"
        },
        {
         "name": "user_gender",
         "rawType": "object",
         "type": "string"
        },
        {
         "name": "user_age",
         "rawType": "int64",
         "type": "integer"
        },
        {
         "name": "age_group",
         "rawType": "object",
         "type": "string"
        },
        {
         "name": "country",
         "rawType": "object",
         "type": "string"
        },
        {
         "name": "location",
         "rawType": "object",
         "type": "string"
        },
        {
         "name": "interests",
         "rawType": "object",
         "type": "string"
        }
       ],
       "ref": "1129f093-5e15-4d95-8438-d69cfe877fcd",
       "rows": [
        [
         "0",
         "a2474",
         "Female",
         "24",
         "18-24",
         "United Kingdom",
         "New Mariomouth",
         "fitness, health"
        ],
        [
         "1",
         "141e5",
         "Male",
         "21",
         "18-24",
         "Germany",
         "Danielsfort",
         "food, fitness, lifestyle"
        ],
        [
         "2",
         "34db0",
         "Male",
         "27",
         "25-34",
         "Australia",
         "Vincentchester",
         "fashion, news"
        ],
        [
         "3",
         "20d08",
         "Female",
         "28",
         "25-34",
         "India",
         "Lisaport",
         "health, news, finance"
        ],
        [
         "4",
         "9e830",
         "Male",
         "28",
         "25-34",
         "United States",
         "Brownmouth",
         "health, photography, lifestyle"
        ]
       ],
       "shape": {
        "columns": 7,
        "rows": 5
       }
      },
      "text/html": [
       "<div>\n",
       "<style scoped>\n",
       "    .dataframe tbody tr th:only-of-type {\n",
       "        vertical-align: middle;\n",
       "    }\n",
       "\n",
       "    .dataframe tbody tr th {\n",
       "        vertical-align: top;\n",
       "    }\n",
       "\n",
       "    .dataframe thead th {\n",
       "        text-align: right;\n",
       "    }\n",
       "</style>\n",
       "<table border=\"1\" class=\"dataframe\">\n",
       "  <thead>\n",
       "    <tr style=\"text-align: right;\">\n",
       "      <th></th>\n",
       "      <th>user_id</th>\n",
       "      <th>user_gender</th>\n",
       "      <th>user_age</th>\n",
       "      <th>age_group</th>\n",
       "      <th>country</th>\n",
       "      <th>location</th>\n",
       "      <th>interests</th>\n",
       "    </tr>\n",
       "  </thead>\n",
       "  <tbody>\n",
       "    <tr>\n",
       "      <th>0</th>\n",
       "      <td>a2474</td>\n",
       "      <td>Female</td>\n",
       "      <td>24</td>\n",
       "      <td>18-24</td>\n",
       "      <td>United Kingdom</td>\n",
       "      <td>New Mariomouth</td>\n",
       "      <td>fitness, health</td>\n",
       "    </tr>\n",
       "    <tr>\n",
       "      <th>1</th>\n",
       "      <td>141e5</td>\n",
       "      <td>Male</td>\n",
       "      <td>21</td>\n",
       "      <td>18-24</td>\n",
       "      <td>Germany</td>\n",
       "      <td>Danielsfort</td>\n",
       "      <td>food, fitness, lifestyle</td>\n",
       "    </tr>\n",
       "    <tr>\n",
       "      <th>2</th>\n",
       "      <td>34db0</td>\n",
       "      <td>Male</td>\n",
       "      <td>27</td>\n",
       "      <td>25-34</td>\n",
       "      <td>Australia</td>\n",
       "      <td>Vincentchester</td>\n",
       "      <td>fashion, news</td>\n",
       "    </tr>\n",
       "    <tr>\n",
       "      <th>3</th>\n",
       "      <td>20d08</td>\n",
       "      <td>Female</td>\n",
       "      <td>28</td>\n",
       "      <td>25-34</td>\n",
       "      <td>India</td>\n",
       "      <td>Lisaport</td>\n",
       "      <td>health, news, finance</td>\n",
       "    </tr>\n",
       "    <tr>\n",
       "      <th>4</th>\n",
       "      <td>9e830</td>\n",
       "      <td>Male</td>\n",
       "      <td>28</td>\n",
       "      <td>25-34</td>\n",
       "      <td>United States</td>\n",
       "      <td>Brownmouth</td>\n",
       "      <td>health, photography, lifestyle</td>\n",
       "    </tr>\n",
       "  </tbody>\n",
       "</table>\n",
       "</div>"
      ],
      "text/plain": [
       "  user_id user_gender  user_age age_group         country        location  \\\n",
       "0   a2474      Female        24     18-24  United Kingdom  New Mariomouth   \n",
       "1   141e5        Male        21     18-24         Germany     Danielsfort   \n",
       "2   34db0        Male        27     25-34       Australia  Vincentchester   \n",
       "3   20d08      Female        28     25-34           India        Lisaport   \n",
       "4   9e830        Male        28     25-34   United States      Brownmouth   \n",
       "\n",
       "                        interests  \n",
       "0                 fitness, health  \n",
       "1        food, fitness, lifestyle  \n",
       "2                   fashion, news  \n",
       "3           health, news, finance  \n",
       "4  health, photography, lifestyle  "
      ]
     },
     "execution_count": 4,
     "metadata": {},
     "output_type": "execute_result"
    }
   ],
   "source": [
    "df_users.head()"
   ]
  },
  {
   "cell_type": "code",
   "execution_count": 15,
   "id": "dea5d774",
   "metadata": {},
   "outputs": [
    {
     "name": "stdout",
     "output_type": "stream",
     "text": [
      "<class 'pandas.core.frame.DataFrame'>\n",
      "RangeIndex: 10000 entries, 0 to 9999\n",
      "Data columns (total 7 columns):\n",
      " #   Column       Non-Null Count  Dtype \n",
      "---  ------       --------------  ----- \n",
      " 0   user_id      10000 non-null  object\n",
      " 1   user_gender  10000 non-null  object\n",
      " 2   user_age     10000 non-null  int64 \n",
      " 3   age_group    10000 non-null  object\n",
      " 4   country      10000 non-null  object\n",
      " 5   location     10000 non-null  object\n",
      " 6   interests    10000 non-null  object\n",
      "dtypes: int64(1), object(6)\n",
      "memory usage: 547.0+ KB\n"
     ]
    },
    {
     "data": {
      "text/plain": [
       "(None,\n",
       " user_id        9950\n",
       " user_gender       3\n",
       " user_age         50\n",
       " age_group         6\n",
       " country          10\n",
       " location       7706\n",
       " interests      1641\n",
       " dtype: int64)"
      ]
     },
     "execution_count": 15,
     "metadata": {},
     "output_type": "execute_result"
    }
   ],
   "source": [
    "df_users.info(), df_users.nunique()"
   ]
  },
  {
   "cell_type": "code",
   "execution_count": 7,
   "id": "45283444",
   "metadata": {},
   "outputs": [],
   "source": [
    "users_duplicates = df_users[df_users['user_id'].duplicated()]['user_id'].sort_values(ascending=False)\n",
    "df_users[df_users['user_id'].isin(users_duplicates)].sort_values(by='user_id')\n",
    "df_users = df_users.drop_duplicates(subset=['user_id']).reset_index(drop=True)"
   ]
  },
  {
   "cell_type": "code",
   "execution_count": 8,
   "id": "3c245f72",
   "metadata": {},
   "outputs": [
    {
     "data": {
      "application/vnd.microsoft.datawrangler.viewer.v0+json": {
       "columns": [
        {
         "name": "index",
         "rawType": "object",
         "type": "string"
        },
        {
         "name": "user_id",
         "rawType": "object",
         "type": "unknown"
        },
        {
         "name": "user_gender",
         "rawType": "object",
         "type": "unknown"
        },
        {
         "name": "user_age",
         "rawType": "float64",
         "type": "float"
        },
        {
         "name": "age_group",
         "rawType": "object",
         "type": "unknown"
        },
        {
         "name": "country",
         "rawType": "object",
         "type": "unknown"
        },
        {
         "name": "location",
         "rawType": "object",
         "type": "unknown"
        },
        {
         "name": "interests",
         "rawType": "object",
         "type": "unknown"
        }
       ],
       "ref": "130498b6-e53e-49c3-a5d4-08b56e03f193",
       "rows": [
        [
         "count",
         "9950",
         "9950",
         "9950.0",
         "9950",
         "9950",
         "9950",
         "9950"
        ],
        [
         "unique",
         "9950",
         "3",
         null,
         "6",
         "10",
         "7679",
         "1639"
        ],
        [
         "top",
         "99e3f",
         "Male",
         null,
         "25-34",
         "United States",
         "West Michael",
         "fitness"
        ],
        [
         "freq",
         "1",
         "5505",
         null,
         "4113",
         "3002",
         "15",
         "283"
        ],
        [
         "mean",
         null,
         null,
         "28.0",
         null,
         null,
         null,
         null
        ],
        [
         "std",
         null,
         null,
         "8.0",
         null,
         null,
         null,
         null
        ],
        [
         "min",
         null,
         null,
         "16.0",
         null,
         null,
         null,
         null
        ],
        [
         "25%",
         null,
         null,
         "21.0",
         null,
         null,
         null,
         null
        ],
        [
         "50%",
         null,
         null,
         "26.0",
         null,
         null,
         null,
         null
        ],
        [
         "75%",
         null,
         null,
         "32.0",
         null,
         null,
         null,
         null
        ],
        [
         "max",
         null,
         null,
         "65.0",
         null,
         null,
         null,
         null
        ]
       ],
       "shape": {
        "columns": 7,
        "rows": 11
       }
      },
      "text/html": [
       "<div>\n",
       "<style scoped>\n",
       "    .dataframe tbody tr th:only-of-type {\n",
       "        vertical-align: middle;\n",
       "    }\n",
       "\n",
       "    .dataframe tbody tr th {\n",
       "        vertical-align: top;\n",
       "    }\n",
       "\n",
       "    .dataframe thead th {\n",
       "        text-align: right;\n",
       "    }\n",
       "</style>\n",
       "<table border=\"1\" class=\"dataframe\">\n",
       "  <thead>\n",
       "    <tr style=\"text-align: right;\">\n",
       "      <th></th>\n",
       "      <th>user_id</th>\n",
       "      <th>user_gender</th>\n",
       "      <th>user_age</th>\n",
       "      <th>age_group</th>\n",
       "      <th>country</th>\n",
       "      <th>location</th>\n",
       "      <th>interests</th>\n",
       "    </tr>\n",
       "  </thead>\n",
       "  <tbody>\n",
       "    <tr>\n",
       "      <th>count</th>\n",
       "      <td>9950</td>\n",
       "      <td>9950</td>\n",
       "      <td>9950.0</td>\n",
       "      <td>9950</td>\n",
       "      <td>9950</td>\n",
       "      <td>9950</td>\n",
       "      <td>9950</td>\n",
       "    </tr>\n",
       "    <tr>\n",
       "      <th>unique</th>\n",
       "      <td>9950</td>\n",
       "      <td>3</td>\n",
       "      <td>NaN</td>\n",
       "      <td>6</td>\n",
       "      <td>10</td>\n",
       "      <td>7679</td>\n",
       "      <td>1639</td>\n",
       "    </tr>\n",
       "    <tr>\n",
       "      <th>top</th>\n",
       "      <td>99e3f</td>\n",
       "      <td>Male</td>\n",
       "      <td>NaN</td>\n",
       "      <td>25-34</td>\n",
       "      <td>United States</td>\n",
       "      <td>West Michael</td>\n",
       "      <td>fitness</td>\n",
       "    </tr>\n",
       "    <tr>\n",
       "      <th>freq</th>\n",
       "      <td>1</td>\n",
       "      <td>5505</td>\n",
       "      <td>NaN</td>\n",
       "      <td>4113</td>\n",
       "      <td>3002</td>\n",
       "      <td>15</td>\n",
       "      <td>283</td>\n",
       "    </tr>\n",
       "    <tr>\n",
       "      <th>mean</th>\n",
       "      <td>NaN</td>\n",
       "      <td>NaN</td>\n",
       "      <td>28.0</td>\n",
       "      <td>NaN</td>\n",
       "      <td>NaN</td>\n",
       "      <td>NaN</td>\n",
       "      <td>NaN</td>\n",
       "    </tr>\n",
       "    <tr>\n",
       "      <th>std</th>\n",
       "      <td>NaN</td>\n",
       "      <td>NaN</td>\n",
       "      <td>8.0</td>\n",
       "      <td>NaN</td>\n",
       "      <td>NaN</td>\n",
       "      <td>NaN</td>\n",
       "      <td>NaN</td>\n",
       "    </tr>\n",
       "    <tr>\n",
       "      <th>min</th>\n",
       "      <td>NaN</td>\n",
       "      <td>NaN</td>\n",
       "      <td>16.0</td>\n",
       "      <td>NaN</td>\n",
       "      <td>NaN</td>\n",
       "      <td>NaN</td>\n",
       "      <td>NaN</td>\n",
       "    </tr>\n",
       "    <tr>\n",
       "      <th>25%</th>\n",
       "      <td>NaN</td>\n",
       "      <td>NaN</td>\n",
       "      <td>21.0</td>\n",
       "      <td>NaN</td>\n",
       "      <td>NaN</td>\n",
       "      <td>NaN</td>\n",
       "      <td>NaN</td>\n",
       "    </tr>\n",
       "    <tr>\n",
       "      <th>50%</th>\n",
       "      <td>NaN</td>\n",
       "      <td>NaN</td>\n",
       "      <td>26.0</td>\n",
       "      <td>NaN</td>\n",
       "      <td>NaN</td>\n",
       "      <td>NaN</td>\n",
       "      <td>NaN</td>\n",
       "    </tr>\n",
       "    <tr>\n",
       "      <th>75%</th>\n",
       "      <td>NaN</td>\n",
       "      <td>NaN</td>\n",
       "      <td>32.0</td>\n",
       "      <td>NaN</td>\n",
       "      <td>NaN</td>\n",
       "      <td>NaN</td>\n",
       "      <td>NaN</td>\n",
       "    </tr>\n",
       "    <tr>\n",
       "      <th>max</th>\n",
       "      <td>NaN</td>\n",
       "      <td>NaN</td>\n",
       "      <td>65.0</td>\n",
       "      <td>NaN</td>\n",
       "      <td>NaN</td>\n",
       "      <td>NaN</td>\n",
       "      <td>NaN</td>\n",
       "    </tr>\n",
       "  </tbody>\n",
       "</table>\n",
       "</div>"
      ],
      "text/plain": [
       "       user_id user_gender  user_age age_group        country      location  \\\n",
       "count     9950        9950    9950.0      9950           9950          9950   \n",
       "unique    9950           3       NaN         6             10          7679   \n",
       "top      99e3f        Male       NaN     25-34  United States  West Michael   \n",
       "freq         1        5505       NaN      4113           3002            15   \n",
       "mean       NaN         NaN      28.0       NaN            NaN           NaN   \n",
       "std        NaN         NaN       8.0       NaN            NaN           NaN   \n",
       "min        NaN         NaN      16.0       NaN            NaN           NaN   \n",
       "25%        NaN         NaN      21.0       NaN            NaN           NaN   \n",
       "50%        NaN         NaN      26.0       NaN            NaN           NaN   \n",
       "75%        NaN         NaN      32.0       NaN            NaN           NaN   \n",
       "max        NaN         NaN      65.0       NaN            NaN           NaN   \n",
       "\n",
       "       interests  \n",
       "count       9950  \n",
       "unique      1639  \n",
       "top      fitness  \n",
       "freq         283  \n",
       "mean         NaN  \n",
       "std          NaN  \n",
       "min          NaN  \n",
       "25%          NaN  \n",
       "50%          NaN  \n",
       "75%          NaN  \n",
       "max          NaN  "
      ]
     },
     "execution_count": 8,
     "metadata": {},
     "output_type": "execute_result"
    }
   ],
   "source": [
    "df_users.describe(include='all').round(0)"
   ]
  },
  {
   "cell_type": "code",
   "execution_count": 7,
   "id": "ee582236",
   "metadata": {},
   "outputs": [
    {
     "data": {
      "application/vnd.microsoft.datawrangler.viewer.v0+json": {
       "columns": [
        {
         "name": "index",
         "rawType": "int64",
         "type": "integer"
        },
        {
         "name": "ad_id",
         "rawType": "int64",
         "type": "integer"
        },
        {
         "name": "campaign_id",
         "rawType": "int64",
         "type": "integer"
        },
        {
         "name": "ad_platform",
         "rawType": "object",
         "type": "string"
        },
        {
         "name": "ad_type",
         "rawType": "object",
         "type": "string"
        },
        {
         "name": "target_gender",
         "rawType": "object",
         "type": "string"
        },
        {
         "name": "target_age_group",
         "rawType": "object",
         "type": "string"
        },
        {
         "name": "target_interests",
         "rawType": "object",
         "type": "string"
        }
       ],
       "ref": "51f3cc2b-66c4-42ac-923c-bfbc7c19aaef",
       "rows": [
        [
         "0",
         "1",
         "28",
         "Facebook",
         "Video",
         "Female",
         "35-44",
         "art, technology"
        ],
        [
         "1",
         "2",
         "33",
         "Facebook",
         "Stories",
         "All",
         "25-34",
         "travel, photography"
        ],
        [
         "2",
         "3",
         "20",
         "Instagram",
         "Carousel",
         "All",
         "25-34",
         "technology"
        ],
        [
         "3",
         "4",
         "28",
         "Facebook",
         "Stories",
         "Female",
         "25-34",
         "news"
        ],
        [
         "4",
         "5",
         "24",
         "Instagram",
         "Image",
         "Female",
         "25-34",
         "news"
        ]
       ],
       "shape": {
        "columns": 7,
        "rows": 5
       }
      },
      "text/html": [
       "<div>\n",
       "<style scoped>\n",
       "    .dataframe tbody tr th:only-of-type {\n",
       "        vertical-align: middle;\n",
       "    }\n",
       "\n",
       "    .dataframe tbody tr th {\n",
       "        vertical-align: top;\n",
       "    }\n",
       "\n",
       "    .dataframe thead th {\n",
       "        text-align: right;\n",
       "    }\n",
       "</style>\n",
       "<table border=\"1\" class=\"dataframe\">\n",
       "  <thead>\n",
       "    <tr style=\"text-align: right;\">\n",
       "      <th></th>\n",
       "      <th>ad_id</th>\n",
       "      <th>campaign_id</th>\n",
       "      <th>ad_platform</th>\n",
       "      <th>ad_type</th>\n",
       "      <th>target_gender</th>\n",
       "      <th>target_age_group</th>\n",
       "      <th>target_interests</th>\n",
       "    </tr>\n",
       "  </thead>\n",
       "  <tbody>\n",
       "    <tr>\n",
       "      <th>0</th>\n",
       "      <td>1</td>\n",
       "      <td>28</td>\n",
       "      <td>Facebook</td>\n",
       "      <td>Video</td>\n",
       "      <td>Female</td>\n",
       "      <td>35-44</td>\n",
       "      <td>art, technology</td>\n",
       "    </tr>\n",
       "    <tr>\n",
       "      <th>1</th>\n",
       "      <td>2</td>\n",
       "      <td>33</td>\n",
       "      <td>Facebook</td>\n",
       "      <td>Stories</td>\n",
       "      <td>All</td>\n",
       "      <td>25-34</td>\n",
       "      <td>travel, photography</td>\n",
       "    </tr>\n",
       "    <tr>\n",
       "      <th>2</th>\n",
       "      <td>3</td>\n",
       "      <td>20</td>\n",
       "      <td>Instagram</td>\n",
       "      <td>Carousel</td>\n",
       "      <td>All</td>\n",
       "      <td>25-34</td>\n",
       "      <td>technology</td>\n",
       "    </tr>\n",
       "    <tr>\n",
       "      <th>3</th>\n",
       "      <td>4</td>\n",
       "      <td>28</td>\n",
       "      <td>Facebook</td>\n",
       "      <td>Stories</td>\n",
       "      <td>Female</td>\n",
       "      <td>25-34</td>\n",
       "      <td>news</td>\n",
       "    </tr>\n",
       "    <tr>\n",
       "      <th>4</th>\n",
       "      <td>5</td>\n",
       "      <td>24</td>\n",
       "      <td>Instagram</td>\n",
       "      <td>Image</td>\n",
       "      <td>Female</td>\n",
       "      <td>25-34</td>\n",
       "      <td>news</td>\n",
       "    </tr>\n",
       "  </tbody>\n",
       "</table>\n",
       "</div>"
      ],
      "text/plain": [
       "   ad_id  campaign_id ad_platform   ad_type target_gender target_age_group  \\\n",
       "0      1           28    Facebook     Video        Female            35-44   \n",
       "1      2           33    Facebook   Stories           All            25-34   \n",
       "2      3           20   Instagram  Carousel           All            25-34   \n",
       "3      4           28    Facebook   Stories        Female            25-34   \n",
       "4      5           24   Instagram     Image        Female            25-34   \n",
       "\n",
       "      target_interests  \n",
       "0      art, technology  \n",
       "1  travel, photography  \n",
       "2           technology  \n",
       "3                 news  \n",
       "4                 news  "
      ]
     },
     "execution_count": 7,
     "metadata": {},
     "output_type": "execute_result"
    }
   ],
   "source": [
    "df_ads.head()"
   ]
  },
  {
   "cell_type": "code",
   "execution_count": 9,
   "id": "ee09e612",
   "metadata": {},
   "outputs": [
    {
     "name": "stdout",
     "output_type": "stream",
     "text": [
      "<class 'pandas.core.frame.DataFrame'>\n",
      "RangeIndex: 200 entries, 0 to 199\n",
      "Data columns (total 7 columns):\n",
      " #   Column            Non-Null Count  Dtype \n",
      "---  ------            --------------  ----- \n",
      " 0   ad_id             200 non-null    int64 \n",
      " 1   campaign_id       200 non-null    int64 \n",
      " 2   ad_platform       200 non-null    object\n",
      " 3   ad_type           200 non-null    object\n",
      " 4   target_gender     200 non-null    object\n",
      " 5   target_age_group  200 non-null    object\n",
      " 6   target_interests  200 non-null    object\n",
      "dtypes: int64(2), object(5)\n",
      "memory usage: 11.1+ KB\n"
     ]
    },
    {
     "data": {
      "text/plain": [
       "(None, 200, 48)"
      ]
     },
     "execution_count": 9,
     "metadata": {},
     "output_type": "execute_result"
    }
   ],
   "source": [
    "df_ads.info(), df_ads['ad_id'].nunique(), df_ads['campaign_id'].nunique()"
   ]
  },
  {
   "cell_type": "code",
   "execution_count": 10,
   "id": "c2cb4e04",
   "metadata": {},
   "outputs": [
    {
     "data": {
      "application/vnd.microsoft.datawrangler.viewer.v0+json": {
       "columns": [
        {
         "name": "index",
         "rawType": "int64",
         "type": "integer"
        },
        {
         "name": "campaign_id",
         "rawType": "int64",
         "type": "integer"
        },
        {
         "name": "name",
         "rawType": "object",
         "type": "string"
        },
        {
         "name": "start_date",
         "rawType": "object",
         "type": "string"
        },
        {
         "name": "end_date",
         "rawType": "object",
         "type": "string"
        },
        {
         "name": "duration_days",
         "rawType": "int64",
         "type": "integer"
        },
        {
         "name": "total_budget",
         "rawType": "float64",
         "type": "float"
        }
       ],
       "ref": "4b06a1f7-3e5a-4c5e-a896-5d21828e0c51",
       "rows": [
        [
         "0",
         "1",
         "Campaign_1_Launch",
         "2025-05-25",
         "2025-07-23",
         "59",
         "24021.32"
        ],
        [
         "1",
         "2",
         "Campaign_2_Launch",
         "2025-04-16",
         "2025-07-07",
         "82",
         "79342.41"
        ],
        [
         "2",
         "3",
         "Campaign_3_Winter",
         "2025-05-04",
         "2025-06-29",
         "56",
         "14343.25"
        ],
        [
         "3",
         "4",
         "Campaign_4_Summer",
         "2025-06-04",
         "2025-08-08",
         "65",
         "45326.6"
        ],
        [
         "4",
         "5",
         "Campaign_5_Launch",
         "2025-07-11",
         "2025-08-28",
         "48",
         "68376.69"
        ]
       ],
       "shape": {
        "columns": 6,
        "rows": 5
       }
      },
      "text/html": [
       "<div>\n",
       "<style scoped>\n",
       "    .dataframe tbody tr th:only-of-type {\n",
       "        vertical-align: middle;\n",
       "    }\n",
       "\n",
       "    .dataframe tbody tr th {\n",
       "        vertical-align: top;\n",
       "    }\n",
       "\n",
       "    .dataframe thead th {\n",
       "        text-align: right;\n",
       "    }\n",
       "</style>\n",
       "<table border=\"1\" class=\"dataframe\">\n",
       "  <thead>\n",
       "    <tr style=\"text-align: right;\">\n",
       "      <th></th>\n",
       "      <th>campaign_id</th>\n",
       "      <th>name</th>\n",
       "      <th>start_date</th>\n",
       "      <th>end_date</th>\n",
       "      <th>duration_days</th>\n",
       "      <th>total_budget</th>\n",
       "    </tr>\n",
       "  </thead>\n",
       "  <tbody>\n",
       "    <tr>\n",
       "      <th>0</th>\n",
       "      <td>1</td>\n",
       "      <td>Campaign_1_Launch</td>\n",
       "      <td>2025-05-25</td>\n",
       "      <td>2025-07-23</td>\n",
       "      <td>59</td>\n",
       "      <td>24021.32</td>\n",
       "    </tr>\n",
       "    <tr>\n",
       "      <th>1</th>\n",
       "      <td>2</td>\n",
       "      <td>Campaign_2_Launch</td>\n",
       "      <td>2025-04-16</td>\n",
       "      <td>2025-07-07</td>\n",
       "      <td>82</td>\n",
       "      <td>79342.41</td>\n",
       "    </tr>\n",
       "    <tr>\n",
       "      <th>2</th>\n",
       "      <td>3</td>\n",
       "      <td>Campaign_3_Winter</td>\n",
       "      <td>2025-05-04</td>\n",
       "      <td>2025-06-29</td>\n",
       "      <td>56</td>\n",
       "      <td>14343.25</td>\n",
       "    </tr>\n",
       "    <tr>\n",
       "      <th>3</th>\n",
       "      <td>4</td>\n",
       "      <td>Campaign_4_Summer</td>\n",
       "      <td>2025-06-04</td>\n",
       "      <td>2025-08-08</td>\n",
       "      <td>65</td>\n",
       "      <td>45326.60</td>\n",
       "    </tr>\n",
       "    <tr>\n",
       "      <th>4</th>\n",
       "      <td>5</td>\n",
       "      <td>Campaign_5_Launch</td>\n",
       "      <td>2025-07-11</td>\n",
       "      <td>2025-08-28</td>\n",
       "      <td>48</td>\n",
       "      <td>68376.69</td>\n",
       "    </tr>\n",
       "  </tbody>\n",
       "</table>\n",
       "</div>"
      ],
      "text/plain": [
       "   campaign_id               name  start_date    end_date  duration_days  \\\n",
       "0            1  Campaign_1_Launch  2025-05-25  2025-07-23             59   \n",
       "1            2  Campaign_2_Launch  2025-04-16  2025-07-07             82   \n",
       "2            3  Campaign_3_Winter  2025-05-04  2025-06-29             56   \n",
       "3            4  Campaign_4_Summer  2025-06-04  2025-08-08             65   \n",
       "4            5  Campaign_5_Launch  2025-07-11  2025-08-28             48   \n",
       "\n",
       "   total_budget  \n",
       "0      24021.32  \n",
       "1      79342.41  \n",
       "2      14343.25  \n",
       "3      45326.60  \n",
       "4      68376.69  "
      ]
     },
     "execution_count": 10,
     "metadata": {},
     "output_type": "execute_result"
    }
   ],
   "source": [
    "df_campaigns.head()"
   ]
  },
  {
   "cell_type": "code",
   "execution_count": 11,
   "id": "65807e0d",
   "metadata": {},
   "outputs": [
    {
     "name": "stdout",
     "output_type": "stream",
     "text": [
      "<class 'pandas.core.frame.DataFrame'>\n",
      "RangeIndex: 50 entries, 0 to 49\n",
      "Data columns (total 6 columns):\n",
      " #   Column         Non-Null Count  Dtype  \n",
      "---  ------         --------------  -----  \n",
      " 0   campaign_id    50 non-null     int64  \n",
      " 1   name           50 non-null     object \n",
      " 2   start_date     50 non-null     object \n",
      " 3   end_date       50 non-null     object \n",
      " 4   duration_days  50 non-null     int64  \n",
      " 5   total_budget   50 non-null     float64\n",
      "dtypes: float64(1), int64(2), object(3)\n",
      "memory usage: 2.5+ KB\n"
     ]
    },
    {
     "data": {
      "text/plain": [
       "(None,\n",
       " campaign_id      50\n",
       " name             50\n",
       " start_date       41\n",
       " end_date         46\n",
       " duration_days    33\n",
       " total_budget     50\n",
       " dtype: int64)"
      ]
     },
     "execution_count": 11,
     "metadata": {},
     "output_type": "execute_result"
    }
   ],
   "source": [
    "df_campaigns.info(),df_campaigns.nunique()"
   ]
  },
  {
   "cell_type": "code",
   "execution_count": 12,
   "id": "f36e326a",
   "metadata": {},
   "outputs": [
    {
     "data": {
      "application/vnd.microsoft.datawrangler.viewer.v0+json": {
       "columns": [
        {
         "name": "index",
         "rawType": "int64",
         "type": "integer"
        },
        {
         "name": "event_id",
         "rawType": "int64",
         "type": "integer"
        },
        {
         "name": "ad_id",
         "rawType": "int64",
         "type": "integer"
        },
        {
         "name": "user_id",
         "rawType": "object",
         "type": "string"
        },
        {
         "name": "timestamp",
         "rawType": "object",
         "type": "string"
        },
        {
         "name": "day_of_week",
         "rawType": "object",
         "type": "string"
        },
        {
         "name": "time_of_day",
         "rawType": "object",
         "type": "string"
        },
        {
         "name": "event_type",
         "rawType": "object",
         "type": "string"
        }
       ],
       "ref": "e64fbac8-889c-485e-9442-a274f521949b",
       "rows": [
        [
         "0",
         "1",
         "197",
         "2359b",
         "2025-07-26 00:19:56",
         "Saturday",
         "Night",
         "Like"
        ],
        [
         "1",
         "2",
         "51",
         "f9c67",
         "2025-06-15 08:28:07",
         "Sunday",
         "Morning",
         "Share"
        ],
        [
         "2",
         "3",
         "46",
         "5b868",
         "2025-06-27 00:40:02",
         "Friday",
         "Night",
         "Impression"
        ],
        [
         "3",
         "4",
         "166",
         "3d440",
         "2025-06-05 19:20:45",
         "Thursday",
         "Evening",
         "Impression"
        ],
        [
         "4",
         "5",
         "52",
         "68f1a",
         "2025-07-22 08:30:29",
         "Tuesday",
         "Morning",
         "Impression"
        ]
       ],
       "shape": {
        "columns": 7,
        "rows": 5
       }
      },
      "text/html": [
       "<div>\n",
       "<style scoped>\n",
       "    .dataframe tbody tr th:only-of-type {\n",
       "        vertical-align: middle;\n",
       "    }\n",
       "\n",
       "    .dataframe tbody tr th {\n",
       "        vertical-align: top;\n",
       "    }\n",
       "\n",
       "    .dataframe thead th {\n",
       "        text-align: right;\n",
       "    }\n",
       "</style>\n",
       "<table border=\"1\" class=\"dataframe\">\n",
       "  <thead>\n",
       "    <tr style=\"text-align: right;\">\n",
       "      <th></th>\n",
       "      <th>event_id</th>\n",
       "      <th>ad_id</th>\n",
       "      <th>user_id</th>\n",
       "      <th>timestamp</th>\n",
       "      <th>day_of_week</th>\n",
       "      <th>time_of_day</th>\n",
       "      <th>event_type</th>\n",
       "    </tr>\n",
       "  </thead>\n",
       "  <tbody>\n",
       "    <tr>\n",
       "      <th>0</th>\n",
       "      <td>1</td>\n",
       "      <td>197</td>\n",
       "      <td>2359b</td>\n",
       "      <td>2025-07-26 00:19:56</td>\n",
       "      <td>Saturday</td>\n",
       "      <td>Night</td>\n",
       "      <td>Like</td>\n",
       "    </tr>\n",
       "    <tr>\n",
       "      <th>1</th>\n",
       "      <td>2</td>\n",
       "      <td>51</td>\n",
       "      <td>f9c67</td>\n",
       "      <td>2025-06-15 08:28:07</td>\n",
       "      <td>Sunday</td>\n",
       "      <td>Morning</td>\n",
       "      <td>Share</td>\n",
       "    </tr>\n",
       "    <tr>\n",
       "      <th>2</th>\n",
       "      <td>3</td>\n",
       "      <td>46</td>\n",
       "      <td>5b868</td>\n",
       "      <td>2025-06-27 00:40:02</td>\n",
       "      <td>Friday</td>\n",
       "      <td>Night</td>\n",
       "      <td>Impression</td>\n",
       "    </tr>\n",
       "    <tr>\n",
       "      <th>3</th>\n",
       "      <td>4</td>\n",
       "      <td>166</td>\n",
       "      <td>3d440</td>\n",
       "      <td>2025-06-05 19:20:45</td>\n",
       "      <td>Thursday</td>\n",
       "      <td>Evening</td>\n",
       "      <td>Impression</td>\n",
       "    </tr>\n",
       "    <tr>\n",
       "      <th>4</th>\n",
       "      <td>5</td>\n",
       "      <td>52</td>\n",
       "      <td>68f1a</td>\n",
       "      <td>2025-07-22 08:30:29</td>\n",
       "      <td>Tuesday</td>\n",
       "      <td>Morning</td>\n",
       "      <td>Impression</td>\n",
       "    </tr>\n",
       "  </tbody>\n",
       "</table>\n",
       "</div>"
      ],
      "text/plain": [
       "   event_id  ad_id user_id            timestamp day_of_week time_of_day  \\\n",
       "0         1    197   2359b  2025-07-26 00:19:56    Saturday       Night   \n",
       "1         2     51   f9c67  2025-06-15 08:28:07      Sunday     Morning   \n",
       "2         3     46   5b868  2025-06-27 00:40:02      Friday       Night   \n",
       "3         4    166   3d440  2025-06-05 19:20:45    Thursday     Evening   \n",
       "4         5     52   68f1a  2025-07-22 08:30:29     Tuesday     Morning   \n",
       "\n",
       "   event_type  \n",
       "0        Like  \n",
       "1       Share  \n",
       "2  Impression  \n",
       "3  Impression  \n",
       "4  Impression  "
      ]
     },
     "execution_count": 12,
     "metadata": {},
     "output_type": "execute_result"
    }
   ],
   "source": [
    "df_ad_events.head()"
   ]
  },
  {
   "cell_type": "code",
   "execution_count": 13,
   "id": "de34a44d",
   "metadata": {},
   "outputs": [
    {
     "name": "stdout",
     "output_type": "stream",
     "text": [
      "<class 'pandas.core.frame.DataFrame'>\n",
      "RangeIndex: 400000 entries, 0 to 399999\n",
      "Data columns (total 7 columns):\n",
      " #   Column       Non-Null Count   Dtype \n",
      "---  ------       --------------   ----- \n",
      " 0   event_id     400000 non-null  int64 \n",
      " 1   ad_id        400000 non-null  int64 \n",
      " 2   user_id      400000 non-null  object\n",
      " 3   timestamp    400000 non-null  object\n",
      " 4   day_of_week  400000 non-null  object\n",
      " 5   time_of_day  400000 non-null  object\n",
      " 6   event_type   400000 non-null  object\n",
      "dtypes: int64(2), object(5)\n",
      "memory usage: 21.4+ MB\n"
     ]
    },
    {
     "data": {
      "text/plain": [
       "(None,\n",
       " event_id       400000\n",
       " ad_id             200\n",
       " user_id          9950\n",
       " timestamp      389968\n",
       " day_of_week         7\n",
       " time_of_day         4\n",
       " event_type          6\n",
       " dtype: int64)"
      ]
     },
     "execution_count": 13,
     "metadata": {},
     "output_type": "execute_result"
    }
   ],
   "source": [
    "df_ad_events.info(), df_ad_events.nunique()"
   ]
  },
  {
   "cell_type": "code",
   "execution_count": 14,
   "id": "630bc64d",
   "metadata": {},
   "outputs": [
    {
     "data": {
      "application/vnd.microsoft.datawrangler.viewer.v0+json": {
       "columns": [
        {
         "name": "event_type",
         "rawType": "object",
         "type": "string"
        },
        {
         "name": "proportion",
         "rawType": "float64",
         "type": "float"
        }
       ],
       "ref": "dfc3d52f-26e6-4a44-8c74-629dcb40c082",
       "rows": [
        [
         "Impression",
         "0.84953"
        ],
        [
         "Click",
         "0.1001975"
        ],
        [
         "Like",
         "0.0300325"
        ],
        [
         "Comment",
         "0.01027"
        ],
        [
         "Purchase",
         "0.0050775"
        ],
        [
         "Share",
         "0.0048925"
        ]
       ],
       "shape": {
        "columns": 1,
        "rows": 6
       }
      },
      "text/plain": [
       "event_type\n",
       "Impression    0.849530\n",
       "Click         0.100197\n",
       "Like          0.030033\n",
       "Comment       0.010270\n",
       "Purchase      0.005078\n",
       "Share         0.004893\n",
       "Name: proportion, dtype: float64"
      ]
     },
     "execution_count": 14,
     "metadata": {},
     "output_type": "execute_result"
    }
   ],
   "source": [
    "df_ad_events['event_type'].value_counts(normalize=True)"
   ]
  },
  {
   "cell_type": "code",
   "execution_count": 15,
   "id": "84b98e48",
   "metadata": {},
   "outputs": [
    {
     "data": {
      "application/vnd.microsoft.datawrangler.viewer.v0+json": {
       "columns": [
        {
         "name": "event_type",
         "rawType": "object",
         "type": "string"
        },
        {
         "name": "event_count",
         "rawType": "int64",
         "type": "integer"
        },
        {
         "name": "unique_ads",
         "rawType": "int64",
         "type": "integer"
        },
        {
         "name": "unique_users",
         "rawType": "int64",
         "type": "integer"
        }
       ],
       "ref": "439eb664-4ed9-4a05-b5d9-b5505f629875",
       "rows": [
        [
         "Impression",
         "339812",
         "200",
         "9950"
        ],
        [
         "Click",
         "40079",
         "200",
         "9772"
        ],
        [
         "Like",
         "12013",
         "200",
         "6959"
        ],
        [
         "Comment",
         "4108",
         "200",
         "3339"
        ],
        [
         "Purchase",
         "2031",
         "200",
         "1835"
        ],
        [
         "Share",
         "1957",
         "200",
         "1789"
        ]
       ],
       "shape": {
        "columns": 3,
        "rows": 6
       }
      },
      "text/html": [
       "<div>\n",
       "<style scoped>\n",
       "    .dataframe tbody tr th:only-of-type {\n",
       "        vertical-align: middle;\n",
       "    }\n",
       "\n",
       "    .dataframe tbody tr th {\n",
       "        vertical-align: top;\n",
       "    }\n",
       "\n",
       "    .dataframe thead th {\n",
       "        text-align: right;\n",
       "    }\n",
       "</style>\n",
       "<table border=\"1\" class=\"dataframe\">\n",
       "  <thead>\n",
       "    <tr style=\"text-align: right;\">\n",
       "      <th></th>\n",
       "      <th>event_count</th>\n",
       "      <th>unique_ads</th>\n",
       "      <th>unique_users</th>\n",
       "    </tr>\n",
       "    <tr>\n",
       "      <th>event_type</th>\n",
       "      <th></th>\n",
       "      <th></th>\n",
       "      <th></th>\n",
       "    </tr>\n",
       "  </thead>\n",
       "  <tbody>\n",
       "    <tr>\n",
       "      <th>Impression</th>\n",
       "      <td>339812</td>\n",
       "      <td>200</td>\n",
       "      <td>9950</td>\n",
       "    </tr>\n",
       "    <tr>\n",
       "      <th>Click</th>\n",
       "      <td>40079</td>\n",
       "      <td>200</td>\n",
       "      <td>9772</td>\n",
       "    </tr>\n",
       "    <tr>\n",
       "      <th>Like</th>\n",
       "      <td>12013</td>\n",
       "      <td>200</td>\n",
       "      <td>6959</td>\n",
       "    </tr>\n",
       "    <tr>\n",
       "      <th>Comment</th>\n",
       "      <td>4108</td>\n",
       "      <td>200</td>\n",
       "      <td>3339</td>\n",
       "    </tr>\n",
       "    <tr>\n",
       "      <th>Purchase</th>\n",
       "      <td>2031</td>\n",
       "      <td>200</td>\n",
       "      <td>1835</td>\n",
       "    </tr>\n",
       "    <tr>\n",
       "      <th>Share</th>\n",
       "      <td>1957</td>\n",
       "      <td>200</td>\n",
       "      <td>1789</td>\n",
       "    </tr>\n",
       "  </tbody>\n",
       "</table>\n",
       "</div>"
      ],
      "text/plain": [
       "            event_count  unique_ads  unique_users\n",
       "event_type                                       \n",
       "Impression       339812         200          9950\n",
       "Click             40079         200          9772\n",
       "Like              12013         200          6959\n",
       "Comment            4108         200          3339\n",
       "Purchase           2031         200          1835\n",
       "Share              1957         200          1789"
      ]
     },
     "execution_count": 15,
     "metadata": {},
     "output_type": "execute_result"
    }
   ],
   "source": [
    "df_ad_events.groupby('event_type').agg(event_count = ('event_type', 'count'),\n",
    "                                       unique_ads=('ad_id', 'nunique'),\n",
    "                                       unique_users=('user_id', 'nunique')\n",
    ").sort_values(by='event_count', ascending=False)"
   ]
  },
  {
   "cell_type": "code",
   "execution_count": 16,
   "id": "c8183200",
   "metadata": {},
   "outputs": [
    {
     "data": {
      "application/vnd.microsoft.datawrangler.viewer.v0+json": {
       "columns": [
        {
         "name": "('user_id', 'ad_id')",
         "rawType": "object",
         "type": "unknown"
        },
        {
         "name": "Click",
         "rawType": "int64",
         "type": "integer"
        },
        {
         "name": "Comment",
         "rawType": "int64",
         "type": "integer"
        },
        {
         "name": "Impression",
         "rawType": "int64",
         "type": "integer"
        },
        {
         "name": "Like",
         "rawType": "int64",
         "type": "integer"
        },
        {
         "name": "Purchase",
         "rawType": "int64",
         "type": "integer"
        },
        {
         "name": "Share",
         "rawType": "int64",
         "type": "integer"
        }
       ],
       "ref": "97b38b6e-bc5a-4bcb-a676-6d63a33c612b",
       "rows": [
        [
         "('1228e', np.int64(119))",
         "0",
         "0",
         "0",
         "0",
         "1",
         "1"
        ],
        [
         "('8804d', np.int64(111))",
         "0",
         "0",
         "0",
         "0",
         "1",
         "1"
        ],
        [
         "('bc490', np.int64(114))",
         "0",
         "0",
         "0",
         "0",
         "1",
         "1"
        ],
        [
         "('4ee79', np.int64(154))",
         "0",
         "1",
         "0",
         "0",
         "1",
         "0"
        ],
        [
         "('892c5', np.int64(139))",
         "0",
         "1",
         "0",
         "0",
         "1",
         "0"
        ],
        [
         "('ca44a', np.int64(73))",
         "0",
         "1",
         "0",
         "0",
         "1",
         "0"
        ],
        [
         "('ea7f1', np.int64(5))",
         "0",
         "1",
         "1",
         "0",
         "1",
         "0"
        ],
        [
         "('00336', np.int64(190))",
         "0",
         "0",
         "0",
         "0",
         "1",
         "0"
        ],
        [
         "('00545', np.int64(38))",
         "0",
         "0",
         "0",
         "0",
         "1",
         "0"
        ],
        [
         "('00545', np.int64(92))",
         "0",
         "0",
         "1",
         "0",
         "1",
         "0"
        ],
        [
         "('00567', np.int64(56))",
         "0",
         "0",
         "0",
         "0",
         "1",
         "0"
        ],
        [
         "('006b2', np.int64(192))",
         "0",
         "0",
         "1",
         "0",
         "1",
         "0"
        ],
        [
         "('0073a', np.int64(165))",
         "0",
         "0",
         "0",
         "0",
         "1",
         "0"
        ],
        [
         "('007fb', np.int64(39))",
         "0",
         "0",
         "0",
         "0",
         "1",
         "0"
        ],
        [
         "('00d31', np.int64(192))",
         "0",
         "0",
         "2",
         "0",
         "1",
         "0"
        ],
        [
         "('00e8d', np.int64(157))",
         "0",
         "0",
         "0",
         "0",
         "1",
         "0"
        ],
        [
         "('00f82', np.int64(64))",
         "0",
         "0",
         "0",
         "0",
         "1",
         "0"
        ],
        [
         "('00f82', np.int64(76))",
         "0",
         "0",
         "0",
         "0",
         "1",
         "0"
        ],
        [
         "('01049', np.int64(64))",
         "0",
         "0",
         "1",
         "0",
         "1",
         "0"
        ],
        [
         "('01062', np.int64(61))",
         "0",
         "0",
         "0",
         "0",
         "1",
         "0"
        ],
        [
         "('01062', np.int64(189))",
         "0",
         "0",
         "0",
         "0",
         "1",
         "0"
        ],
        [
         "('01111', np.int64(91))",
         "0",
         "0",
         "0",
         "0",
         "1",
         "0"
        ],
        [
         "('01440', np.int64(151))",
         "0",
         "0",
         "0",
         "0",
         "1",
         "0"
        ],
        [
         "('01512', np.int64(44))",
         "0",
         "0",
         "0",
         "0",
         "1",
         "0"
        ],
        [
         "('01512', np.int64(146))",
         "0",
         "0",
         "0",
         "0",
         "1",
         "0"
        ],
        [
         "('01585', np.int64(190))",
         "0",
         "0",
         "0",
         "0",
         "1",
         "0"
        ],
        [
         "('01863', np.int64(68))",
         "0",
         "0",
         "1",
         "0",
         "1",
         "0"
        ],
        [
         "('019fd', np.int64(66))",
         "0",
         "0",
         "0",
         "0",
         "1",
         "0"
        ],
        [
         "('01e33', np.int64(81))",
         "0",
         "0",
         "0",
         "0",
         "1",
         "0"
        ],
        [
         "('01eff', np.int64(91))",
         "0",
         "0",
         "0",
         "0",
         "1",
         "0"
        ],
        [
         "('01f58', np.int64(170))",
         "0",
         "0",
         "1",
         "0",
         "1",
         "0"
        ],
        [
         "('021cc', np.int64(13))",
         "0",
         "0",
         "0",
         "0",
         "1",
         "0"
        ],
        [
         "('021cc', np.int64(120))",
         "0",
         "0",
         "0",
         "0",
         "1",
         "0"
        ],
        [
         "('02600', np.int64(14))",
         "0",
         "0",
         "0",
         "0",
         "1",
         "0"
        ],
        [
         "('026fc', np.int64(197))",
         "0",
         "0",
         "1",
         "0",
         "1",
         "0"
        ],
        [
         "('02726', np.int64(153))",
         "0",
         "0",
         "0",
         "0",
         "1",
         "0"
        ],
        [
         "('02ba5', np.int64(179))",
         "1",
         "0",
         "0",
         "0",
         "1",
         "0"
        ],
        [
         "('0301e', np.int64(154))",
         "0",
         "0",
         "0",
         "0",
         "1",
         "0"
        ],
        [
         "('03579', np.int64(154))",
         "0",
         "0",
         "0",
         "0",
         "1",
         "0"
        ],
        [
         "('03a5b', np.int64(34))",
         "0",
         "0",
         "0",
         "0",
         "1",
         "0"
        ],
        [
         "('03c8a', np.int64(71))",
         "0",
         "0",
         "0",
         "0",
         "1",
         "0"
        ],
        [
         "('03d1a', np.int64(136))",
         "0",
         "0",
         "0",
         "0",
         "1",
         "0"
        ],
        [
         "('0458d', np.int64(153))",
         "0",
         "0",
         "1",
         "0",
         "1",
         "0"
        ],
        [
         "('04a36', np.int64(179))",
         "0",
         "0",
         "0",
         "0",
         "1",
         "0"
        ],
        [
         "('04dce', np.int64(127))",
         "0",
         "0",
         "0",
         "0",
         "1",
         "0"
        ],
        [
         "('052ef', np.int64(111))",
         "0",
         "0",
         "0",
         "0",
         "1",
         "0"
        ],
        [
         "('05409', np.int64(126))",
         "0",
         "0",
         "1",
         "0",
         "1",
         "0"
        ],
        [
         "('05436', np.int64(179))",
         "0",
         "0",
         "0",
         "0",
         "1",
         "0"
        ],
        [
         "('05441', np.int64(46))",
         "0",
         "0",
         "0",
         "0",
         "1",
         "0"
        ],
        [
         "('0584d', np.int64(129))",
         "0",
         "0",
         "0",
         "0",
         "1",
         "0"
        ]
       ],
       "shape": {
        "columns": 6,
        "rows": 362122
       }
      },
      "text/html": [
       "<div>\n",
       "<style scoped>\n",
       "    .dataframe tbody tr th:only-of-type {\n",
       "        vertical-align: middle;\n",
       "    }\n",
       "\n",
       "    .dataframe tbody tr th {\n",
       "        vertical-align: top;\n",
       "    }\n",
       "\n",
       "    .dataframe thead th {\n",
       "        text-align: right;\n",
       "    }\n",
       "</style>\n",
       "<table border=\"1\" class=\"dataframe\">\n",
       "  <thead>\n",
       "    <tr style=\"text-align: right;\">\n",
       "      <th></th>\n",
       "      <th>event_type</th>\n",
       "      <th>Click</th>\n",
       "      <th>Comment</th>\n",
       "      <th>Impression</th>\n",
       "      <th>Like</th>\n",
       "      <th>Purchase</th>\n",
       "      <th>Share</th>\n",
       "    </tr>\n",
       "    <tr>\n",
       "      <th>user_id</th>\n",
       "      <th>ad_id</th>\n",
       "      <th></th>\n",
       "      <th></th>\n",
       "      <th></th>\n",
       "      <th></th>\n",
       "      <th></th>\n",
       "      <th></th>\n",
       "    </tr>\n",
       "  </thead>\n",
       "  <tbody>\n",
       "    <tr>\n",
       "      <th>1228e</th>\n",
       "      <th>119</th>\n",
       "      <td>0</td>\n",
       "      <td>0</td>\n",
       "      <td>0</td>\n",
       "      <td>0</td>\n",
       "      <td>1</td>\n",
       "      <td>1</td>\n",
       "    </tr>\n",
       "    <tr>\n",
       "      <th>8804d</th>\n",
       "      <th>111</th>\n",
       "      <td>0</td>\n",
       "      <td>0</td>\n",
       "      <td>0</td>\n",
       "      <td>0</td>\n",
       "      <td>1</td>\n",
       "      <td>1</td>\n",
       "    </tr>\n",
       "    <tr>\n",
       "      <th>bc490</th>\n",
       "      <th>114</th>\n",
       "      <td>0</td>\n",
       "      <td>0</td>\n",
       "      <td>0</td>\n",
       "      <td>0</td>\n",
       "      <td>1</td>\n",
       "      <td>1</td>\n",
       "    </tr>\n",
       "    <tr>\n",
       "      <th>4ee79</th>\n",
       "      <th>154</th>\n",
       "      <td>0</td>\n",
       "      <td>1</td>\n",
       "      <td>0</td>\n",
       "      <td>0</td>\n",
       "      <td>1</td>\n",
       "      <td>0</td>\n",
       "    </tr>\n",
       "    <tr>\n",
       "      <th>892c5</th>\n",
       "      <th>139</th>\n",
       "      <td>0</td>\n",
       "      <td>1</td>\n",
       "      <td>0</td>\n",
       "      <td>0</td>\n",
       "      <td>1</td>\n",
       "      <td>0</td>\n",
       "    </tr>\n",
       "    <tr>\n",
       "      <th>...</th>\n",
       "      <th>...</th>\n",
       "      <td>...</td>\n",
       "      <td>...</td>\n",
       "      <td>...</td>\n",
       "      <td>...</td>\n",
       "      <td>...</td>\n",
       "      <td>...</td>\n",
       "    </tr>\n",
       "    <tr>\n",
       "      <th rowspan=\"5\" valign=\"top\">fffa7</th>\n",
       "      <th>176</th>\n",
       "      <td>1</td>\n",
       "      <td>0</td>\n",
       "      <td>0</td>\n",
       "      <td>0</td>\n",
       "      <td>0</td>\n",
       "      <td>0</td>\n",
       "    </tr>\n",
       "    <tr>\n",
       "      <th>181</th>\n",
       "      <td>1</td>\n",
       "      <td>0</td>\n",
       "      <td>0</td>\n",
       "      <td>0</td>\n",
       "      <td>0</td>\n",
       "      <td>0</td>\n",
       "    </tr>\n",
       "    <tr>\n",
       "      <th>188</th>\n",
       "      <td>0</td>\n",
       "      <td>0</td>\n",
       "      <td>1</td>\n",
       "      <td>0</td>\n",
       "      <td>0</td>\n",
       "      <td>0</td>\n",
       "    </tr>\n",
       "    <tr>\n",
       "      <th>191</th>\n",
       "      <td>0</td>\n",
       "      <td>0</td>\n",
       "      <td>1</td>\n",
       "      <td>0</td>\n",
       "      <td>0</td>\n",
       "      <td>0</td>\n",
       "    </tr>\n",
       "    <tr>\n",
       "      <th>196</th>\n",
       "      <td>1</td>\n",
       "      <td>0</td>\n",
       "      <td>0</td>\n",
       "      <td>0</td>\n",
       "      <td>0</td>\n",
       "      <td>0</td>\n",
       "    </tr>\n",
       "  </tbody>\n",
       "</table>\n",
       "<p>362122 rows × 6 columns</p>\n",
       "</div>"
      ],
      "text/plain": [
       "event_type     Click  Comment  Impression  Like  Purchase  Share\n",
       "user_id ad_id                                                   \n",
       "1228e   119        0        0           0     0         1      1\n",
       "8804d   111        0        0           0     0         1      1\n",
       "bc490   114        0        0           0     0         1      1\n",
       "4ee79   154        0        1           0     0         1      0\n",
       "892c5   139        0        1           0     0         1      0\n",
       "...              ...      ...         ...   ...       ...    ...\n",
       "fffa7   176        1        0           0     0         0      0\n",
       "        181        1        0           0     0         0      0\n",
       "        188        0        0           1     0         0      0\n",
       "        191        0        0           1     0         0      0\n",
       "        196        1        0           0     0         0      0\n",
       "\n",
       "[362122 rows x 6 columns]"
      ]
     },
     "execution_count": 16,
     "metadata": {},
     "output_type": "execute_result"
    }
   ],
   "source": [
    "df_ad_events.groupby(['user_id','ad_id'])['event_type'].value_counts().unstack(fill_value=0).sort_values(by=['Purchase','Share','Comment'], ascending=False)"
   ]
  },
  {
   "cell_type": "code",
   "execution_count": 17,
   "id": "3e703272",
   "metadata": {},
   "outputs": [
    {
     "data": {
      "application/vnd.microsoft.datawrangler.viewer.v0+json": {
       "columns": [
        {
         "name": "index",
         "rawType": "int64",
         "type": "integer"
        },
        {
         "name": "event_id",
         "rawType": "int64",
         "type": "integer"
        },
        {
         "name": "ad_id",
         "rawType": "int64",
         "type": "integer"
        },
        {
         "name": "user_id",
         "rawType": "object",
         "type": "string"
        },
        {
         "name": "timestamp",
         "rawType": "object",
         "type": "string"
        },
        {
         "name": "day_of_week",
         "rawType": "object",
         "type": "string"
        },
        {
         "name": "time_of_day",
         "rawType": "object",
         "type": "string"
        },
        {
         "name": "event_type",
         "rawType": "object",
         "type": "string"
        }
       ],
       "ref": "ac7c24ee-9d84-4b3b-a2af-c3754235ad81",
       "rows": [
        [
         "63841",
         "63842",
         "108",
         "ffcdd",
         "2025-06-22 17:05:23",
         "Sunday",
         "Afternoon",
         "Impression"
        ],
        [
         "117290",
         "117291",
         "108",
         "ffcdd",
         "2025-06-11 14:17:32",
         "Wednesday",
         "Afternoon",
         "Impression"
        ],
        [
         "377938",
         "377939",
         "108",
         "ffcdd",
         "2025-05-22 09:53:41",
         "Thursday",
         "Morning",
         "Impression"
        ]
       ],
       "shape": {
        "columns": 7,
        "rows": 3
       }
      },
      "text/html": [
       "<div>\n",
       "<style scoped>\n",
       "    .dataframe tbody tr th:only-of-type {\n",
       "        vertical-align: middle;\n",
       "    }\n",
       "\n",
       "    .dataframe tbody tr th {\n",
       "        vertical-align: top;\n",
       "    }\n",
       "\n",
       "    .dataframe thead th {\n",
       "        text-align: right;\n",
       "    }\n",
       "</style>\n",
       "<table border=\"1\" class=\"dataframe\">\n",
       "  <thead>\n",
       "    <tr style=\"text-align: right;\">\n",
       "      <th></th>\n",
       "      <th>event_id</th>\n",
       "      <th>ad_id</th>\n",
       "      <th>user_id</th>\n",
       "      <th>timestamp</th>\n",
       "      <th>day_of_week</th>\n",
       "      <th>time_of_day</th>\n",
       "      <th>event_type</th>\n",
       "    </tr>\n",
       "  </thead>\n",
       "  <tbody>\n",
       "    <tr>\n",
       "      <th>63841</th>\n",
       "      <td>63842</td>\n",
       "      <td>108</td>\n",
       "      <td>ffcdd</td>\n",
       "      <td>2025-06-22 17:05:23</td>\n",
       "      <td>Sunday</td>\n",
       "      <td>Afternoon</td>\n",
       "      <td>Impression</td>\n",
       "    </tr>\n",
       "    <tr>\n",
       "      <th>117290</th>\n",
       "      <td>117291</td>\n",
       "      <td>108</td>\n",
       "      <td>ffcdd</td>\n",
       "      <td>2025-06-11 14:17:32</td>\n",
       "      <td>Wednesday</td>\n",
       "      <td>Afternoon</td>\n",
       "      <td>Impression</td>\n",
       "    </tr>\n",
       "    <tr>\n",
       "      <th>377938</th>\n",
       "      <td>377939</td>\n",
       "      <td>108</td>\n",
       "      <td>ffcdd</td>\n",
       "      <td>2025-05-22 09:53:41</td>\n",
       "      <td>Thursday</td>\n",
       "      <td>Morning</td>\n",
       "      <td>Impression</td>\n",
       "    </tr>\n",
       "  </tbody>\n",
       "</table>\n",
       "</div>"
      ],
      "text/plain": [
       "        event_id  ad_id user_id            timestamp day_of_week time_of_day  \\\n",
       "63841      63842    108   ffcdd  2025-06-22 17:05:23      Sunday   Afternoon   \n",
       "117290    117291    108   ffcdd  2025-06-11 14:17:32   Wednesday   Afternoon   \n",
       "377938    377939    108   ffcdd  2025-05-22 09:53:41    Thursday     Morning   \n",
       "\n",
       "        event_type  \n",
       "63841   Impression  \n",
       "117290  Impression  \n",
       "377938  Impression  "
      ]
     },
     "execution_count": 17,
     "metadata": {},
     "output_type": "execute_result"
    }
   ],
   "source": [
    "# df_ad_events.merge(df_ads, on='ad_id', how='left').merge(df_campaigns, on='campaign_id', how='left').merge(df_users, on='user_id', how='left')\n",
    "df_ad_events[(df_ad_events['user_id']=='ffcdd') & (df_ad_events['ad_id']==108)]"
   ]
  },
  {
   "cell_type": "code",
   "execution_count": 18,
   "id": "6060e161",
   "metadata": {},
   "outputs": [
    {
     "data": {
      "application/vnd.microsoft.datawrangler.viewer.v0+json": {
       "columns": [
        {
         "name": "index",
         "rawType": "int64",
         "type": "integer"
        },
        {
         "name": "event_id",
         "rawType": "int64",
         "type": "integer"
        },
        {
         "name": "ad_id",
         "rawType": "int64",
         "type": "integer"
        },
        {
         "name": "user_id",
         "rawType": "object",
         "type": "string"
        },
        {
         "name": "timestamp",
         "rawType": "object",
         "type": "string"
        },
        {
         "name": "day_of_week",
         "rawType": "object",
         "type": "string"
        },
        {
         "name": "time_of_day",
         "rawType": "object",
         "type": "string"
        },
        {
         "name": "event_type",
         "rawType": "object",
         "type": "string"
        },
        {
         "name": "campaign_id",
         "rawType": "int64",
         "type": "integer"
        },
        {
         "name": "ad_platform",
         "rawType": "object",
         "type": "string"
        },
        {
         "name": "ad_type",
         "rawType": "object",
         "type": "string"
        },
        {
         "name": "target_gender",
         "rawType": "object",
         "type": "string"
        },
        {
         "name": "target_age_group",
         "rawType": "object",
         "type": "string"
        },
        {
         "name": "target_interests",
         "rawType": "object",
         "type": "string"
        },
        {
         "name": "name",
         "rawType": "object",
         "type": "string"
        },
        {
         "name": "start_date",
         "rawType": "object",
         "type": "string"
        },
        {
         "name": "end_date",
         "rawType": "object",
         "type": "string"
        },
        {
         "name": "duration_days",
         "rawType": "int64",
         "type": "integer"
        },
        {
         "name": "total_budget",
         "rawType": "float64",
         "type": "float"
        },
        {
         "name": "user_gender",
         "rawType": "object",
         "type": "string"
        },
        {
         "name": "user_age",
         "rawType": "int64",
         "type": "integer"
        },
        {
         "name": "age_group",
         "rawType": "object",
         "type": "string"
        },
        {
         "name": "country",
         "rawType": "object",
         "type": "string"
        },
        {
         "name": "location",
         "rawType": "object",
         "type": "string"
        },
        {
         "name": "interests",
         "rawType": "object",
         "type": "string"
        }
       ],
       "ref": "22407192-c6f1-46ae-bf3a-b10a8d659f4e",
       "rows": [
        [
         "0",
         "1",
         "197",
         "2359b",
         "2025-07-26 00:19:56",
         "Saturday",
         "Night",
         "Like",
         "9",
         "Facebook",
         "Stories",
         "All",
         "All",
         "lifestyle, gaming",
         "Campaign_9_Launch",
         "2025-05-25",
         "2025-07-13",
         "49",
         "40094.07",
         "Female",
         "24",
         "18-24",
         "United States",
         "West Shawna",
         "gaming, food"
        ],
        [
         "1",
         "2",
         "51",
         "f9c67",
         "2025-06-15 08:28:07",
         "Sunday",
         "Morning",
         "Share",
         "26",
         "Instagram",
         "Carousel",
         "All",
         "18-24",
         "photography",
         "Campaign_26_Winter",
         "2025-04-01",
         "2025-06-17",
         "77",
         "44538.87",
         "Female",
         "30",
         "25-34",
         "United States",
         "Meyersland",
         "photography, finance"
        ],
        [
         "2",
         "3",
         "46",
         "5b868",
         "2025-06-27 00:40:02",
         "Friday",
         "Night",
         "Impression",
         "10",
         "Instagram",
         "Carousel",
         "All",
         "35-44",
         "technology, travel",
         "Campaign_10_Winter",
         "2025-05-17",
         "2025-07-21",
         "65",
         "19669.27",
         "Male",
         "20",
         "18-24",
         "United States",
         "Barrerahaven",
         "fashion, sports, travel"
        ],
        [
         "3",
         "4",
         "166",
         "3d440",
         "2025-06-05 19:20:45",
         "Thursday",
         "Evening",
         "Impression",
         "14",
         "Instagram",
         "Image",
         "All",
         "All",
         "fashion",
         "Campaign_14_Summer",
         "2025-04-15",
         "2025-06-04",
         "50",
         "39849.94",
         "Female",
         "18",
         "18-24",
         "United States",
         "Lake Angelaland",
         "food, art"
        ],
        [
         "4",
         "5",
         "52",
         "68f1a",
         "2025-07-22 08:30:29",
         "Tuesday",
         "Morning",
         "Impression",
         "2",
         "Instagram",
         "Stories",
         "Female",
         "35-44",
         "health, lifestyle",
         "Campaign_2_Launch",
         "2025-04-16",
         "2025-07-07",
         "82",
         "79342.41",
         "Male",
         "58",
         "55-65",
         "United Kingdom",
         "Robinsonberg",
         "finance, lifestyle"
        ]
       ],
       "shape": {
        "columns": 24,
        "rows": 5
       }
      },
      "text/html": [
       "<div>\n",
       "<style scoped>\n",
       "    .dataframe tbody tr th:only-of-type {\n",
       "        vertical-align: middle;\n",
       "    }\n",
       "\n",
       "    .dataframe tbody tr th {\n",
       "        vertical-align: top;\n",
       "    }\n",
       "\n",
       "    .dataframe thead th {\n",
       "        text-align: right;\n",
       "    }\n",
       "</style>\n",
       "<table border=\"1\" class=\"dataframe\">\n",
       "  <thead>\n",
       "    <tr style=\"text-align: right;\">\n",
       "      <th></th>\n",
       "      <th>event_id</th>\n",
       "      <th>ad_id</th>\n",
       "      <th>user_id</th>\n",
       "      <th>timestamp</th>\n",
       "      <th>day_of_week</th>\n",
       "      <th>time_of_day</th>\n",
       "      <th>event_type</th>\n",
       "      <th>campaign_id</th>\n",
       "      <th>ad_platform</th>\n",
       "      <th>ad_type</th>\n",
       "      <th>...</th>\n",
       "      <th>start_date</th>\n",
       "      <th>end_date</th>\n",
       "      <th>duration_days</th>\n",
       "      <th>total_budget</th>\n",
       "      <th>user_gender</th>\n",
       "      <th>user_age</th>\n",
       "      <th>age_group</th>\n",
       "      <th>country</th>\n",
       "      <th>location</th>\n",
       "      <th>interests</th>\n",
       "    </tr>\n",
       "  </thead>\n",
       "  <tbody>\n",
       "    <tr>\n",
       "      <th>0</th>\n",
       "      <td>1</td>\n",
       "      <td>197</td>\n",
       "      <td>2359b</td>\n",
       "      <td>2025-07-26 00:19:56</td>\n",
       "      <td>Saturday</td>\n",
       "      <td>Night</td>\n",
       "      <td>Like</td>\n",
       "      <td>9</td>\n",
       "      <td>Facebook</td>\n",
       "      <td>Stories</td>\n",
       "      <td>...</td>\n",
       "      <td>2025-05-25</td>\n",
       "      <td>2025-07-13</td>\n",
       "      <td>49</td>\n",
       "      <td>40094.07</td>\n",
       "      <td>Female</td>\n",
       "      <td>24</td>\n",
       "      <td>18-24</td>\n",
       "      <td>United States</td>\n",
       "      <td>West Shawna</td>\n",
       "      <td>gaming, food</td>\n",
       "    </tr>\n",
       "    <tr>\n",
       "      <th>1</th>\n",
       "      <td>2</td>\n",
       "      <td>51</td>\n",
       "      <td>f9c67</td>\n",
       "      <td>2025-06-15 08:28:07</td>\n",
       "      <td>Sunday</td>\n",
       "      <td>Morning</td>\n",
       "      <td>Share</td>\n",
       "      <td>26</td>\n",
       "      <td>Instagram</td>\n",
       "      <td>Carousel</td>\n",
       "      <td>...</td>\n",
       "      <td>2025-04-01</td>\n",
       "      <td>2025-06-17</td>\n",
       "      <td>77</td>\n",
       "      <td>44538.87</td>\n",
       "      <td>Female</td>\n",
       "      <td>30</td>\n",
       "      <td>25-34</td>\n",
       "      <td>United States</td>\n",
       "      <td>Meyersland</td>\n",
       "      <td>photography, finance</td>\n",
       "    </tr>\n",
       "    <tr>\n",
       "      <th>2</th>\n",
       "      <td>3</td>\n",
       "      <td>46</td>\n",
       "      <td>5b868</td>\n",
       "      <td>2025-06-27 00:40:02</td>\n",
       "      <td>Friday</td>\n",
       "      <td>Night</td>\n",
       "      <td>Impression</td>\n",
       "      <td>10</td>\n",
       "      <td>Instagram</td>\n",
       "      <td>Carousel</td>\n",
       "      <td>...</td>\n",
       "      <td>2025-05-17</td>\n",
       "      <td>2025-07-21</td>\n",
       "      <td>65</td>\n",
       "      <td>19669.27</td>\n",
       "      <td>Male</td>\n",
       "      <td>20</td>\n",
       "      <td>18-24</td>\n",
       "      <td>United States</td>\n",
       "      <td>Barrerahaven</td>\n",
       "      <td>fashion, sports, travel</td>\n",
       "    </tr>\n",
       "    <tr>\n",
       "      <th>3</th>\n",
       "      <td>4</td>\n",
       "      <td>166</td>\n",
       "      <td>3d440</td>\n",
       "      <td>2025-06-05 19:20:45</td>\n",
       "      <td>Thursday</td>\n",
       "      <td>Evening</td>\n",
       "      <td>Impression</td>\n",
       "      <td>14</td>\n",
       "      <td>Instagram</td>\n",
       "      <td>Image</td>\n",
       "      <td>...</td>\n",
       "      <td>2025-04-15</td>\n",
       "      <td>2025-06-04</td>\n",
       "      <td>50</td>\n",
       "      <td>39849.94</td>\n",
       "      <td>Female</td>\n",
       "      <td>18</td>\n",
       "      <td>18-24</td>\n",
       "      <td>United States</td>\n",
       "      <td>Lake Angelaland</td>\n",
       "      <td>food, art</td>\n",
       "    </tr>\n",
       "    <tr>\n",
       "      <th>4</th>\n",
       "      <td>5</td>\n",
       "      <td>52</td>\n",
       "      <td>68f1a</td>\n",
       "      <td>2025-07-22 08:30:29</td>\n",
       "      <td>Tuesday</td>\n",
       "      <td>Morning</td>\n",
       "      <td>Impression</td>\n",
       "      <td>2</td>\n",
       "      <td>Instagram</td>\n",
       "      <td>Stories</td>\n",
       "      <td>...</td>\n",
       "      <td>2025-04-16</td>\n",
       "      <td>2025-07-07</td>\n",
       "      <td>82</td>\n",
       "      <td>79342.41</td>\n",
       "      <td>Male</td>\n",
       "      <td>58</td>\n",
       "      <td>55-65</td>\n",
       "      <td>United Kingdom</td>\n",
       "      <td>Robinsonberg</td>\n",
       "      <td>finance, lifestyle</td>\n",
       "    </tr>\n",
       "  </tbody>\n",
       "</table>\n",
       "<p>5 rows × 24 columns</p>\n",
       "</div>"
      ],
      "text/plain": [
       "   event_id  ad_id user_id            timestamp day_of_week time_of_day  \\\n",
       "0         1    197   2359b  2025-07-26 00:19:56    Saturday       Night   \n",
       "1         2     51   f9c67  2025-06-15 08:28:07      Sunday     Morning   \n",
       "2         3     46   5b868  2025-06-27 00:40:02      Friday       Night   \n",
       "3         4    166   3d440  2025-06-05 19:20:45    Thursday     Evening   \n",
       "4         5     52   68f1a  2025-07-22 08:30:29     Tuesday     Morning   \n",
       "\n",
       "   event_type  campaign_id ad_platform   ad_type  ...  start_date    end_date  \\\n",
       "0        Like            9    Facebook   Stories  ...  2025-05-25  2025-07-13   \n",
       "1       Share           26   Instagram  Carousel  ...  2025-04-01  2025-06-17   \n",
       "2  Impression           10   Instagram  Carousel  ...  2025-05-17  2025-07-21   \n",
       "3  Impression           14   Instagram     Image  ...  2025-04-15  2025-06-04   \n",
       "4  Impression            2   Instagram   Stories  ...  2025-04-16  2025-07-07   \n",
       "\n",
       "  duration_days total_budget user_gender user_age  age_group         country  \\\n",
       "0            49     40094.07      Female       24      18-24   United States   \n",
       "1            77     44538.87      Female       30      25-34   United States   \n",
       "2            65     19669.27        Male       20      18-24   United States   \n",
       "3            50     39849.94      Female       18      18-24   United States   \n",
       "4            82     79342.41        Male       58      55-65  United Kingdom   \n",
       "\n",
       "          location                interests  \n",
       "0      West Shawna             gaming, food  \n",
       "1       Meyersland     photography, finance  \n",
       "2     Barrerahaven  fashion, sports, travel  \n",
       "3  Lake Angelaland                food, art  \n",
       "4     Robinsonberg       finance, lifestyle  \n",
       "\n",
       "[5 rows x 24 columns]"
      ]
     },
     "execution_count": 18,
     "metadata": {},
     "output_type": "execute_result"
    }
   ],
   "source": [
    "df_ad_events_merged = df_ad_events.merge(df_ads, on='ad_id', how='left', suffixes=('', '_ad')\n",
    "                                    ).merge(df_campaigns, on='campaign_id', how='left', suffixes=('', '_с')\n",
    "                                    ).merge(df_users, on='user_id', how='left')\n",
    "df_ad_events_merged.head()"
   ]
  },
  {
   "cell_type": "code",
   "execution_count": 19,
   "id": "badaf37d",
   "metadata": {},
   "outputs": [],
   "source": [
    "df_ad_events_merged['user_id'].nunique(), df_ad_events_merged['ad_id'].nunique(), df_ad_events_merged['campaign_id'].nunique()\n",
    "df_ad_events_merged.to_csv('../data/ad_events_merged.csv', index=False)"
   ]
  },
  {
   "cell_type": "code",
   "execution_count": null,
   "id": "9eafdc60",
   "metadata": {},
   "outputs": [
    {
     "data": {
      "application/vnd.microsoft.datawrangler.viewer.v0+json": {
       "columns": [
        {
         "name": "('user_id', 'campaign_id')",
         "rawType": "object",
         "type": "unknown"
        },
        {
         "name": "Click",
         "rawType": "int64",
         "type": "integer"
        },
        {
         "name": "Comment",
         "rawType": "int64",
         "type": "integer"
        },
        {
         "name": "Impression",
         "rawType": "int64",
         "type": "integer"
        },
        {
         "name": "Like",
         "rawType": "int64",
         "type": "integer"
        },
        {
         "name": "Purchase",
         "rawType": "int64",
         "type": "integer"
        },
        {
         "name": "Share",
         "rawType": "int64",
         "type": "integer"
        }
       ],
       "ref": "1a5c32dd-3220-4a0a-bf7c-5a06ef278025",
       "rows": [
        [
         "('1d530', np.int64(42))",
         "0",
         "0",
         "1",
         "1",
         "2",
         "0"
        ],
        [
         "('471ab', np.int64(39))",
         "0",
         "0",
         "1",
         "0",
         "2",
         "0"
        ],
        [
         "('dda3a', np.int64(15))",
         "0",
         "0",
         "1",
         "0",
         "2",
         "0"
        ],
        [
         "('f0655', np.int64(17))",
         "0",
         "0",
         "2",
         "0",
         "2",
         "0"
        ],
        [
         "('0fae7', np.int64(34))",
         "1",
         "0",
         "2",
         "0",
         "1",
         "1"
        ],
        [
         "('1228e', np.int64(44))",
         "0",
         "0",
         "0",
         "0",
         "1",
         "1"
        ],
        [
         "('67e9b', np.int64(17))",
         "0",
         "0",
         "0",
         "0",
         "1",
         "1"
        ],
        [
         "('708cc', np.int64(34))",
         "0",
         "0",
         "3",
         "0",
         "1",
         "1"
        ],
        [
         "('7817e', np.int64(40))",
         "0",
         "0",
         "0",
         "0",
         "1",
         "1"
        ],
        [
         "('8804d', np.int64(42))",
         "0",
         "0",
         "0",
         "0",
         "1",
         "1"
        ],
        [
         "('9a832', np.int64(10))",
         "0",
         "0",
         "1",
         "0",
         "1",
         "1"
        ],
        [
         "('aaaef', np.int64(8))",
         "0",
         "0",
         "0",
         "0",
         "1",
         "1"
        ],
        [
         "('bc490', np.int64(38))",
         "0",
         "0",
         "1",
         "0",
         "1",
         "1"
        ],
        [
         "('bfc9b', np.int64(21))",
         "0",
         "0",
         "0",
         "0",
         "1",
         "1"
        ],
        [
         "('db2d1', np.int64(9))",
         "2",
         "0",
         "1",
         "0",
         "1",
         "1"
        ],
        [
         "('ef5aa', np.int64(38))",
         "0",
         "0",
         "2",
         "0",
         "1",
         "1"
        ],
        [
         "('fceb8', np.int64(42))",
         "0",
         "0",
         "1",
         "0",
         "1",
         "1"
        ],
        [
         "('fd382', np.int64(1))",
         "0",
         "0",
         "1",
         "0",
         "1",
         "1"
        ],
        [
         "('fe3b5', np.int64(15))",
         "0",
         "0",
         "1",
         "0",
         "1",
         "1"
        ],
        [
         "('11bbd', np.int64(33))",
         "1",
         "1",
         "0",
         "0",
         "1",
         "0"
        ],
        [
         "('1f7ba', np.int64(38))",
         "0",
         "1",
         "4",
         "0",
         "1",
         "0"
        ],
        [
         "('2d739', np.int64(13))",
         "0",
         "1",
         "2",
         "0",
         "1",
         "0"
        ],
        [
         "('46188', np.int64(20))",
         "0",
         "1",
         "2",
         "0",
         "1",
         "0"
        ],
        [
         "('4ee79', np.int64(27))",
         "0",
         "1",
         "0",
         "0",
         "1",
         "0"
        ],
        [
         "('5b364', np.int64(41))",
         "0",
         "1",
         "0",
         "0",
         "1",
         "0"
        ],
        [
         "('78461', np.int64(8))",
         "0",
         "1",
         "1",
         "0",
         "1",
         "0"
        ],
        [
         "('80c17', np.int64(25))",
         "0",
         "1",
         "0",
         "0",
         "1",
         "0"
        ],
        [
         "('823dc', np.int64(23))",
         "0",
         "1",
         "0",
         "0",
         "1",
         "0"
        ],
        [
         "('892c5', np.int64(12))",
         "0",
         "1",
         "0",
         "0",
         "1",
         "0"
        ],
        [
         "('8d60b', np.int64(24))",
         "0",
         "1",
         "1",
         "0",
         "1",
         "0"
        ],
        [
         "('a0ee1', np.int64(13))",
         "0",
         "1",
         "2",
         "0",
         "1",
         "0"
        ],
        [
         "('a622f', np.int64(44))",
         "0",
         "1",
         "0",
         "0",
         "1",
         "0"
        ],
        [
         "('ba5af', np.int64(47))",
         "1",
         "1",
         "1",
         "0",
         "1",
         "0"
        ],
        [
         "('ca44a', np.int64(47))",
         "0",
         "1",
         "0",
         "0",
         "1",
         "0"
        ],
        [
         "('ea7f1', np.int64(24))",
         "0",
         "1",
         "2",
         "0",
         "1",
         "0"
        ],
        [
         "('00336', np.int64(33))",
         "0",
         "0",
         "2",
         "0",
         "1",
         "0"
        ],
        [
         "('00545', np.int64(2))",
         "0",
         "0",
         "0",
         "0",
         "1",
         "0"
        ],
        [
         "('00545', np.int64(4))",
         "0",
         "0",
         "3",
         "0",
         "1",
         "0"
        ],
        [
         "('00567', np.int64(1))",
         "0",
         "0",
         "0",
         "0",
         "1",
         "0"
        ],
        [
         "('006b2', np.int64(47))",
         "0",
         "0",
         "3",
         "1",
         "1",
         "0"
        ],
        [
         "('0073a', np.int64(6))",
         "0",
         "0",
         "0",
         "0",
         "1",
         "0"
        ],
        [
         "('007fb', np.int64(34))",
         "0",
         "0",
         "3",
         "0",
         "1",
         "0"
        ],
        [
         "('00d31', np.int64(47))",
         "0",
         "0",
         "4",
         "0",
         "1",
         "0"
        ],
        [
         "('00e8d', np.int64(32))",
         "1",
         "0",
         "0",
         "0",
         "1",
         "0"
        ],
        [
         "('00f82', np.int64(11))",
         "0",
         "0",
         "2",
         "0",
         "1",
         "0"
        ],
        [
         "('00f82', np.int64(33))",
         "0",
         "0",
         "1",
         "0",
         "1",
         "0"
        ],
        [
         "('01049', np.int64(33))",
         "0",
         "0",
         "3",
         "0",
         "1",
         "0"
        ],
        [
         "('01062', np.int64(38))",
         "0",
         "0",
         "1",
         "0",
         "1",
         "0"
        ],
        [
         "('01062', np.int64(41))",
         "0",
         "0",
         "1",
         "0",
         "1",
         "0"
        ],
        [
         "('01111', np.int64(37))",
         "0",
         "0",
         "3",
         "0",
         "1",
         "0"
        ]
       ],
       "shape": {
        "columns": 6,
        "rows": 254658
       }
      },
      "text/html": [
       "<div>\n",
       "<style scoped>\n",
       "    .dataframe tbody tr th:only-of-type {\n",
       "        vertical-align: middle;\n",
       "    }\n",
       "\n",
       "    .dataframe tbody tr th {\n",
       "        vertical-align: top;\n",
       "    }\n",
       "\n",
       "    .dataframe thead th {\n",
       "        text-align: right;\n",
       "    }\n",
       "</style>\n",
       "<table border=\"1\" class=\"dataframe\">\n",
       "  <thead>\n",
       "    <tr style=\"text-align: right;\">\n",
       "      <th></th>\n",
       "      <th>event_type</th>\n",
       "      <th>Click</th>\n",
       "      <th>Comment</th>\n",
       "      <th>Impression</th>\n",
       "      <th>Like</th>\n",
       "      <th>Purchase</th>\n",
       "      <th>Share</th>\n",
       "    </tr>\n",
       "    <tr>\n",
       "      <th>user_id</th>\n",
       "      <th>campaign_id</th>\n",
       "      <th></th>\n",
       "      <th></th>\n",
       "      <th></th>\n",
       "      <th></th>\n",
       "      <th></th>\n",
       "      <th></th>\n",
       "    </tr>\n",
       "  </thead>\n",
       "  <tbody>\n",
       "    <tr>\n",
       "      <th>1d530</th>\n",
       "      <th>42</th>\n",
       "      <td>0</td>\n",
       "      <td>0</td>\n",
       "      <td>1</td>\n",
       "      <td>1</td>\n",
       "      <td>2</td>\n",
       "      <td>0</td>\n",
       "    </tr>\n",
       "    <tr>\n",
       "      <th>471ab</th>\n",
       "      <th>39</th>\n",
       "      <td>0</td>\n",
       "      <td>0</td>\n",
       "      <td>1</td>\n",
       "      <td>0</td>\n",
       "      <td>2</td>\n",
       "      <td>0</td>\n",
       "    </tr>\n",
       "    <tr>\n",
       "      <th>dda3a</th>\n",
       "      <th>15</th>\n",
       "      <td>0</td>\n",
       "      <td>0</td>\n",
       "      <td>1</td>\n",
       "      <td>0</td>\n",
       "      <td>2</td>\n",
       "      <td>0</td>\n",
       "    </tr>\n",
       "    <tr>\n",
       "      <th>f0655</th>\n",
       "      <th>17</th>\n",
       "      <td>0</td>\n",
       "      <td>0</td>\n",
       "      <td>2</td>\n",
       "      <td>0</td>\n",
       "      <td>2</td>\n",
       "      <td>0</td>\n",
       "    </tr>\n",
       "    <tr>\n",
       "      <th>0fae7</th>\n",
       "      <th>34</th>\n",
       "      <td>1</td>\n",
       "      <td>0</td>\n",
       "      <td>2</td>\n",
       "      <td>0</td>\n",
       "      <td>1</td>\n",
       "      <td>1</td>\n",
       "    </tr>\n",
       "    <tr>\n",
       "      <th>...</th>\n",
       "      <th>...</th>\n",
       "      <td>...</td>\n",
       "      <td>...</td>\n",
       "      <td>...</td>\n",
       "      <td>...</td>\n",
       "      <td>...</td>\n",
       "      <td>...</td>\n",
       "    </tr>\n",
       "    <tr>\n",
       "      <th rowspan=\"5\" valign=\"top\">fffa7</th>\n",
       "      <th>37</th>\n",
       "      <td>1</td>\n",
       "      <td>0</td>\n",
       "      <td>2</td>\n",
       "      <td>0</td>\n",
       "      <td>0</td>\n",
       "      <td>0</td>\n",
       "    </tr>\n",
       "    <tr>\n",
       "      <th>38</th>\n",
       "      <td>0</td>\n",
       "      <td>0</td>\n",
       "      <td>3</td>\n",
       "      <td>0</td>\n",
       "      <td>0</td>\n",
       "      <td>0</td>\n",
       "    </tr>\n",
       "    <tr>\n",
       "      <th>45</th>\n",
       "      <td>0</td>\n",
       "      <td>0</td>\n",
       "      <td>1</td>\n",
       "      <td>0</td>\n",
       "      <td>0</td>\n",
       "      <td>0</td>\n",
       "    </tr>\n",
       "    <tr>\n",
       "      <th>46</th>\n",
       "      <td>0</td>\n",
       "      <td>0</td>\n",
       "      <td>1</td>\n",
       "      <td>0</td>\n",
       "      <td>0</td>\n",
       "      <td>0</td>\n",
       "    </tr>\n",
       "    <tr>\n",
       "      <th>47</th>\n",
       "      <td>0</td>\n",
       "      <td>0</td>\n",
       "      <td>1</td>\n",
       "      <td>0</td>\n",
       "      <td>0</td>\n",
       "      <td>0</td>\n",
       "    </tr>\n",
       "  </tbody>\n",
       "</table>\n",
       "<p>254658 rows × 6 columns</p>\n",
       "</div>"
      ],
      "text/plain": [
       "event_type           Click  Comment  Impression  Like  Purchase  Share\n",
       "user_id campaign_id                                                   \n",
       "1d530   42               0        0           1     1         2      0\n",
       "471ab   39               0        0           1     0         2      0\n",
       "dda3a   15               0        0           1     0         2      0\n",
       "f0655   17               0        0           2     0         2      0\n",
       "0fae7   34               1        0           2     0         1      1\n",
       "...                    ...      ...         ...   ...       ...    ...\n",
       "fffa7   37               1        0           2     0         0      0\n",
       "        38               0        0           3     0         0      0\n",
       "        45               0        0           1     0         0      0\n",
       "        46               0        0           1     0         0      0\n",
       "        47               0        0           1     0         0      0\n",
       "\n",
       "[254658 rows x 6 columns]"
      ]
     },
     "execution_count": 21,
     "metadata": {},
     "output_type": "execute_result"
    }
   ],
   "source": [
    "df_ad_events_merged.groupby(['user_id','campaign_id'])['event_type'].value_counts().unstack(fill_value=0).sort_values(by=['Purchase','Share','Comment'], ascending=False)\n",
    "#  You can buy without Impression or maybe Click - it is strange but it is wrong to calculate conversion like Purchase/Impression. "
   ]
  },
  {
   "cell_type": "code",
   "execution_count": 22,
   "id": "d009ffce",
   "metadata": {},
   "outputs": [
    {
     "data": {
      "application/vnd.microsoft.datawrangler.viewer.v0+json": {
       "columns": [
        {
         "name": "index",
         "rawType": "int64",
         "type": "integer"
        },
        {
         "name": "event_id",
         "rawType": "int64",
         "type": "integer"
        },
        {
         "name": "ad_id",
         "rawType": "int64",
         "type": "integer"
        },
        {
         "name": "user_id",
         "rawType": "object",
         "type": "string"
        },
        {
         "name": "timestamp",
         "rawType": "object",
         "type": "string"
        },
        {
         "name": "day_of_week",
         "rawType": "object",
         "type": "string"
        },
        {
         "name": "time_of_day",
         "rawType": "object",
         "type": "string"
        },
        {
         "name": "event_type",
         "rawType": "object",
         "type": "string"
        },
        {
         "name": "campaign_id",
         "rawType": "int64",
         "type": "integer"
        },
        {
         "name": "ad_platform",
         "rawType": "object",
         "type": "string"
        },
        {
         "name": "ad_type",
         "rawType": "object",
         "type": "string"
        },
        {
         "name": "target_gender",
         "rawType": "object",
         "type": "string"
        },
        {
         "name": "target_age_group",
         "rawType": "object",
         "type": "string"
        },
        {
         "name": "target_interests",
         "rawType": "object",
         "type": "string"
        },
        {
         "name": "name",
         "rawType": "object",
         "type": "string"
        },
        {
         "name": "start_date",
         "rawType": "object",
         "type": "string"
        },
        {
         "name": "end_date",
         "rawType": "object",
         "type": "string"
        },
        {
         "name": "duration_days",
         "rawType": "int64",
         "type": "integer"
        },
        {
         "name": "total_budget",
         "rawType": "float64",
         "type": "float"
        },
        {
         "name": "user_gender",
         "rawType": "object",
         "type": "string"
        },
        {
         "name": "user_age",
         "rawType": "int64",
         "type": "integer"
        },
        {
         "name": "age_group",
         "rawType": "object",
         "type": "string"
        },
        {
         "name": "country",
         "rawType": "object",
         "type": "string"
        },
        {
         "name": "location",
         "rawType": "object",
         "type": "string"
        },
        {
         "name": "interests",
         "rawType": "object",
         "type": "string"
        }
       ],
       "ref": "9674012b-cda3-4a57-9cb6-16926f8cb06e",
       "rows": [
        [
         "103105",
         "103106",
         "56",
         "00567",
         "2025-06-13 22:23:09",
         "Friday",
         "Evening",
         "Purchase",
         "1",
         "Instagram",
         "Stories",
         "Female",
         "35-44",
         "news",
         "Campaign_1_Launch",
         "2025-05-25",
         "2025-07-23",
         "59",
         "24021.32",
         "Male",
         "28",
         "25-34",
         "United States",
         "Lake Andrew",
         "gaming"
        ]
       ],
       "shape": {
        "columns": 24,
        "rows": 1
       }
      },
      "text/html": [
       "<div>\n",
       "<style scoped>\n",
       "    .dataframe tbody tr th:only-of-type {\n",
       "        vertical-align: middle;\n",
       "    }\n",
       "\n",
       "    .dataframe tbody tr th {\n",
       "        vertical-align: top;\n",
       "    }\n",
       "\n",
       "    .dataframe thead th {\n",
       "        text-align: right;\n",
       "    }\n",
       "</style>\n",
       "<table border=\"1\" class=\"dataframe\">\n",
       "  <thead>\n",
       "    <tr style=\"text-align: right;\">\n",
       "      <th></th>\n",
       "      <th>event_id</th>\n",
       "      <th>ad_id</th>\n",
       "      <th>user_id</th>\n",
       "      <th>timestamp</th>\n",
       "      <th>day_of_week</th>\n",
       "      <th>time_of_day</th>\n",
       "      <th>event_type</th>\n",
       "      <th>campaign_id</th>\n",
       "      <th>ad_platform</th>\n",
       "      <th>ad_type</th>\n",
       "      <th>...</th>\n",
       "      <th>start_date</th>\n",
       "      <th>end_date</th>\n",
       "      <th>duration_days</th>\n",
       "      <th>total_budget</th>\n",
       "      <th>user_gender</th>\n",
       "      <th>user_age</th>\n",
       "      <th>age_group</th>\n",
       "      <th>country</th>\n",
       "      <th>location</th>\n",
       "      <th>interests</th>\n",
       "    </tr>\n",
       "  </thead>\n",
       "  <tbody>\n",
       "    <tr>\n",
       "      <th>103105</th>\n",
       "      <td>103106</td>\n",
       "      <td>56</td>\n",
       "      <td>00567</td>\n",
       "      <td>2025-06-13 22:23:09</td>\n",
       "      <td>Friday</td>\n",
       "      <td>Evening</td>\n",
       "      <td>Purchase</td>\n",
       "      <td>1</td>\n",
       "      <td>Instagram</td>\n",
       "      <td>Stories</td>\n",
       "      <td>...</td>\n",
       "      <td>2025-05-25</td>\n",
       "      <td>2025-07-23</td>\n",
       "      <td>59</td>\n",
       "      <td>24021.32</td>\n",
       "      <td>Male</td>\n",
       "      <td>28</td>\n",
       "      <td>25-34</td>\n",
       "      <td>United States</td>\n",
       "      <td>Lake Andrew</td>\n",
       "      <td>gaming</td>\n",
       "    </tr>\n",
       "  </tbody>\n",
       "</table>\n",
       "<p>1 rows × 24 columns</p>\n",
       "</div>"
      ],
      "text/plain": [
       "        event_id  ad_id user_id            timestamp day_of_week time_of_day  \\\n",
       "103105    103106     56   00567  2025-06-13 22:23:09      Friday     Evening   \n",
       "\n",
       "       event_type  campaign_id ad_platform  ad_type  ...  start_date  \\\n",
       "103105   Purchase            1   Instagram  Stories  ...  2025-05-25   \n",
       "\n",
       "          end_date duration_days total_budget user_gender user_age  age_group  \\\n",
       "103105  2025-07-23            59     24021.32        Male       28      25-34   \n",
       "\n",
       "              country     location  interests  \n",
       "103105  United States  Lake Andrew     gaming  \n",
       "\n",
       "[1 rows x 24 columns]"
      ]
     },
     "execution_count": 22,
     "metadata": {},
     "output_type": "execute_result"
    }
   ],
   "source": [
    "df_ad_events_merged[(df_ad_events_merged['user_id']=='00567') & (df_ad_events_merged['campaign_id']==1)]"
   ]
  },
  {
   "cell_type": "code",
   "execution_count": 37,
   "id": "b65b93a8",
   "metadata": {},
   "outputs": [
    {
     "data": {
      "application/vnd.microsoft.datawrangler.viewer.v0+json": {
       "columns": [
        {
         "name": "index",
         "rawType": "int64",
         "type": "integer"
        },
        {
         "name": "Campaign_ID",
         "rawType": "int64",
         "type": "integer"
        },
        {
         "name": "Company",
         "rawType": "object",
         "type": "string"
        },
        {
         "name": "Campaign_Type",
         "rawType": "object",
         "type": "string"
        },
        {
         "name": "Target_Audience",
         "rawType": "object",
         "type": "string"
        },
        {
         "name": "Duration",
         "rawType": "object",
         "type": "string"
        },
        {
         "name": "Channel_Used",
         "rawType": "object",
         "type": "string"
        },
        {
         "name": "Conversion_Rate",
         "rawType": "float64",
         "type": "float"
        },
        {
         "name": "Acquisition_Cost",
         "rawType": "float64",
         "type": "float"
        },
        {
         "name": "ROI",
         "rawType": "float64",
         "type": "float"
        },
        {
         "name": "Location",
         "rawType": "object",
         "type": "string"
        },
        {
         "name": "Date",
         "rawType": "object",
         "type": "string"
        },
        {
         "name": "Clicks",
         "rawType": "int64",
         "type": "integer"
        },
        {
         "name": "Impressions",
         "rawType": "int64",
         "type": "integer"
        },
        {
         "name": "Engagement_Score",
         "rawType": "int64",
         "type": "integer"
        },
        {
         "name": "Customer_Segment",
         "rawType": "object",
         "type": "string"
        }
       ],
       "ref": "8967cd5b-255e-4628-896a-5d302888ee9d",
       "rows": [
        [
         "0",
         "1",
         "Innovate Industries",
         "Email",
         "Men 18-24",
         "30 days",
         "Google Ads",
         "0.04",
         "16174.0",
         "6.29",
         "Chicago",
         "1/1/2021",
         "506",
         "1922",
         "6",
         "Health & Wellness"
        ],
        [
         "1",
         "2",
         "NexGen Systems",
         "Email",
         "Women 35-44",
         "60 days",
         "Google Ads",
         "0.12",
         "11566.0",
         "5.61",
         "New York",
         "1/2/2021",
         "116",
         "7523",
         "7",
         "Fashionistas"
        ],
        [
         "2",
         "3",
         "Alpha Innovations",
         "Influencer",
         "Men 25-34",
         "30 days",
         "YouTube",
         "0.07",
         "10200.0",
         "7.18",
         "Los Angeles",
         "1/3/2021",
         "584",
         "7698",
         "1",
         "Outdoor Adventurers"
        ],
        [
         "3",
         "4",
         "DataTech Solutions",
         "Display",
         "All Ages",
         "60 days",
         "YouTube",
         "0.11",
         "12724.0",
         "5.55",
         "Miami",
         "1/4/2021",
         "217",
         "1820",
         "7",
         "Health & Wellness"
        ],
        [
         "4",
         "5",
         "NexGen Systems",
         "Email",
         "Men 25-34",
         "15 days",
         "YouTube",
         "0.05",
         "16452.0",
         "6.5",
         "Los Angeles",
         "1/5/2021",
         "379",
         "4201",
         "3",
         "Health & Wellness"
        ]
       ],
       "shape": {
        "columns": 15,
        "rows": 5
       }
      },
      "text/html": [
       "<div>\n",
       "<style scoped>\n",
       "    .dataframe tbody tr th:only-of-type {\n",
       "        vertical-align: middle;\n",
       "    }\n",
       "\n",
       "    .dataframe tbody tr th {\n",
       "        vertical-align: top;\n",
       "    }\n",
       "\n",
       "    .dataframe thead th {\n",
       "        text-align: right;\n",
       "    }\n",
       "</style>\n",
       "<table border=\"1\" class=\"dataframe\">\n",
       "  <thead>\n",
       "    <tr style=\"text-align: right;\">\n",
       "      <th></th>\n",
       "      <th>Campaign_ID</th>\n",
       "      <th>Company</th>\n",
       "      <th>Campaign_Type</th>\n",
       "      <th>Target_Audience</th>\n",
       "      <th>Duration</th>\n",
       "      <th>Channel_Used</th>\n",
       "      <th>Conversion_Rate</th>\n",
       "      <th>Acquisition_Cost</th>\n",
       "      <th>ROI</th>\n",
       "      <th>Location</th>\n",
       "      <th>Date</th>\n",
       "      <th>Clicks</th>\n",
       "      <th>Impressions</th>\n",
       "      <th>Engagement_Score</th>\n",
       "      <th>Customer_Segment</th>\n",
       "    </tr>\n",
       "  </thead>\n",
       "  <tbody>\n",
       "    <tr>\n",
       "      <th>0</th>\n",
       "      <td>1</td>\n",
       "      <td>Innovate Industries</td>\n",
       "      <td>Email</td>\n",
       "      <td>Men 18-24</td>\n",
       "      <td>30 days</td>\n",
       "      <td>Google Ads</td>\n",
       "      <td>0.04</td>\n",
       "      <td>16174.0</td>\n",
       "      <td>6.29</td>\n",
       "      <td>Chicago</td>\n",
       "      <td>1/1/2021</td>\n",
       "      <td>506</td>\n",
       "      <td>1922</td>\n",
       "      <td>6</td>\n",
       "      <td>Health &amp; Wellness</td>\n",
       "    </tr>\n",
       "    <tr>\n",
       "      <th>1</th>\n",
       "      <td>2</td>\n",
       "      <td>NexGen Systems</td>\n",
       "      <td>Email</td>\n",
       "      <td>Women 35-44</td>\n",
       "      <td>60 days</td>\n",
       "      <td>Google Ads</td>\n",
       "      <td>0.12</td>\n",
       "      <td>11566.0</td>\n",
       "      <td>5.61</td>\n",
       "      <td>New York</td>\n",
       "      <td>1/2/2021</td>\n",
       "      <td>116</td>\n",
       "      <td>7523</td>\n",
       "      <td>7</td>\n",
       "      <td>Fashionistas</td>\n",
       "    </tr>\n",
       "    <tr>\n",
       "      <th>2</th>\n",
       "      <td>3</td>\n",
       "      <td>Alpha Innovations</td>\n",
       "      <td>Influencer</td>\n",
       "      <td>Men 25-34</td>\n",
       "      <td>30 days</td>\n",
       "      <td>YouTube</td>\n",
       "      <td>0.07</td>\n",
       "      <td>10200.0</td>\n",
       "      <td>7.18</td>\n",
       "      <td>Los Angeles</td>\n",
       "      <td>1/3/2021</td>\n",
       "      <td>584</td>\n",
       "      <td>7698</td>\n",
       "      <td>1</td>\n",
       "      <td>Outdoor Adventurers</td>\n",
       "    </tr>\n",
       "    <tr>\n",
       "      <th>3</th>\n",
       "      <td>4</td>\n",
       "      <td>DataTech Solutions</td>\n",
       "      <td>Display</td>\n",
       "      <td>All Ages</td>\n",
       "      <td>60 days</td>\n",
       "      <td>YouTube</td>\n",
       "      <td>0.11</td>\n",
       "      <td>12724.0</td>\n",
       "      <td>5.55</td>\n",
       "      <td>Miami</td>\n",
       "      <td>1/4/2021</td>\n",
       "      <td>217</td>\n",
       "      <td>1820</td>\n",
       "      <td>7</td>\n",
       "      <td>Health &amp; Wellness</td>\n",
       "    </tr>\n",
       "    <tr>\n",
       "      <th>4</th>\n",
       "      <td>5</td>\n",
       "      <td>NexGen Systems</td>\n",
       "      <td>Email</td>\n",
       "      <td>Men 25-34</td>\n",
       "      <td>15 days</td>\n",
       "      <td>YouTube</td>\n",
       "      <td>0.05</td>\n",
       "      <td>16452.0</td>\n",
       "      <td>6.50</td>\n",
       "      <td>Los Angeles</td>\n",
       "      <td>1/5/2021</td>\n",
       "      <td>379</td>\n",
       "      <td>4201</td>\n",
       "      <td>3</td>\n",
       "      <td>Health &amp; Wellness</td>\n",
       "    </tr>\n",
       "  </tbody>\n",
       "</table>\n",
       "</div>"
      ],
      "text/plain": [
       "   Campaign_ID              Company Campaign_Type Target_Audience Duration  \\\n",
       "0            1  Innovate Industries         Email       Men 18-24  30 days   \n",
       "1            2       NexGen Systems         Email     Women 35-44  60 days   \n",
       "2            3    Alpha Innovations    Influencer       Men 25-34  30 days   \n",
       "3            4   DataTech Solutions       Display        All Ages  60 days   \n",
       "4            5       NexGen Systems         Email       Men 25-34  15 days   \n",
       "\n",
       "  Channel_Used  Conversion_Rate  Acquisition_Cost   ROI     Location  \\\n",
       "0   Google Ads             0.04           16174.0  6.29      Chicago   \n",
       "1   Google Ads             0.12           11566.0  5.61     New York   \n",
       "2      YouTube             0.07           10200.0  7.18  Los Angeles   \n",
       "3      YouTube             0.11           12724.0  5.55        Miami   \n",
       "4      YouTube             0.05           16452.0  6.50  Los Angeles   \n",
       "\n",
       "       Date  Clicks  Impressions  Engagement_Score     Customer_Segment  \n",
       "0  1/1/2021     506         1922                 6    Health & Wellness  \n",
       "1  1/2/2021     116         7523                 7         Fashionistas  \n",
       "2  1/3/2021     584         7698                 1  Outdoor Adventurers  \n",
       "3  1/4/2021     217         1820                 7    Health & Wellness  \n",
       "4  1/5/2021     379         4201                 3    Health & Wellness  "
      ]
     },
     "execution_count": 37,
     "metadata": {},
     "output_type": "execute_result"
    }
   ],
   "source": [
    "\n",
    "df_m= pd.read_csv('../data/marketing_campaign_dataset.csv')\n",
    "df_m.head()"
   ]
  },
  {
   "cell_type": "code",
   "execution_count": 26,
   "id": "ff65d80e",
   "metadata": {},
   "outputs": [
    {
     "name": "stdout",
     "output_type": "stream",
     "text": [
      "<class 'pandas.core.frame.DataFrame'>\n",
      "RangeIndex: 200005 entries, 0 to 200004\n",
      "Data columns (total 15 columns):\n",
      " #   Column            Non-Null Count   Dtype  \n",
      "---  ------            --------------   -----  \n",
      " 0   Campaign_ID       200005 non-null  int64  \n",
      " 1   Company           200005 non-null  object \n",
      " 2   Campaign_Type     200005 non-null  object \n",
      " 3   Target_Audience   200005 non-null  object \n",
      " 4   Duration          200005 non-null  object \n",
      " 5   Channel_Used      200005 non-null  object \n",
      " 6   Conversion_Rate   200005 non-null  float64\n",
      " 7   Acquisition_Cost  200005 non-null  float64\n",
      " 8   ROI               200005 non-null  float64\n",
      " 9   Location          200005 non-null  object \n",
      " 10  Date              200005 non-null  object \n",
      " 11  Clicks            200005 non-null  int64  \n",
      " 12  Impressions       200005 non-null  int64  \n",
      " 13  Engagement_Score  200005 non-null  int64  \n",
      " 14  Customer_Segment  200005 non-null  object \n",
      "dtypes: float64(3), int64(4), object(8)\n",
      "memory usage: 22.9+ MB\n"
     ]
    },
    {
     "data": {
      "text/plain": [
       "(None,\n",
       " Campaign_ID         200005\n",
       " Company                  5\n",
       " Campaign_Type            5\n",
       " Target_Audience          5\n",
       " Duration                 4\n",
       " Channel_Used             6\n",
       " Conversion_Rate         15\n",
       " Acquisition_Cost     15001\n",
       " ROI                    601\n",
       " Location                 5\n",
       " Date                   365\n",
       " Clicks                 901\n",
       " Impressions           9001\n",
       " Engagement_Score        10\n",
       " Customer_Segment         5\n",
       " dtype: int64)"
      ]
     },
     "execution_count": 26,
     "metadata": {},
     "output_type": "execute_result"
    }
   ],
   "source": [
    "df_m.info(), df_m.nunique()\n"
   ]
  },
  {
   "cell_type": "code",
   "execution_count": 34,
   "id": "a037b3f0",
   "metadata": {},
   "outputs": [
    {
     "name": "stdout",
     "output_type": "stream",
     "text": [
      "<class 'pandas.core.frame.DataFrame'>\n",
      "RangeIndex: 100000 entries, 0 to 99999\n",
      "Data columns (total 14 columns):\n",
      " #   Column               Non-Null Count   Dtype  \n",
      "---  ------               --------------   -----  \n",
      " 0   CampaignID           100000 non-null  object \n",
      " 1   GoalAmount           100000 non-null  int64  \n",
      " 2   RaisedAmount         100000 non-null  float64\n",
      " 3   DurationDays         100000 non-null  int64  \n",
      " 4   NumBackers           100000 non-null  int64  \n",
      " 5   Category             100000 non-null  object \n",
      " 6   LaunchMonth          100000 non-null  object \n",
      " 7   Country              100000 non-null  object \n",
      " 8   Currency             100000 non-null  object \n",
      " 9   OwnerExperience      100000 non-null  int64  \n",
      " 10  VideoIncluded        100000 non-null  object \n",
      " 11  SocialMediaPresence  100000 non-null  int64  \n",
      " 12  NumUpdates           100000 non-null  int64  \n",
      " 13  IsSuccessful         100000 non-null  int64  \n",
      "dtypes: float64(1), int64(7), object(6)\n",
      "memory usage: 10.7+ MB\n"
     ]
    },
    {
     "data": {
      "text/plain": [
       "(None,\n",
       " CampaignID             100000\n",
       " GoalAmount              63116\n",
       " RaisedAmount           100000\n",
       " DurationDays               75\n",
       " NumBackers               1990\n",
       " Category                    5\n",
       " LaunchMonth                12\n",
       " Country                     5\n",
       " Currency                    5\n",
       " OwnerExperience            20\n",
       " VideoIncluded               2\n",
       " SocialMediaPresence     63134\n",
       " NumUpdates                 50\n",
       " IsSuccessful                2\n",
       " dtype: int64)"
      ]
     },
     "execution_count": 34,
     "metadata": {},
     "output_type": "execute_result"
    }
   ],
   "source": [
    "df_ca= pd.read_csv('../data/campaign_data.csv')\n",
    "df_ca.info(), df_ca.nunique()"
   ]
  },
  {
   "cell_type": "code",
   "execution_count": 35,
   "id": "e0fc0fb7",
   "metadata": {},
   "outputs": [
    {
     "data": {
      "application/vnd.microsoft.datawrangler.viewer.v0+json": {
       "columns": [
        {
         "name": "index",
         "rawType": "int64",
         "type": "integer"
        },
        {
         "name": "CampaignID",
         "rawType": "object",
         "type": "string"
        },
        {
         "name": "GoalAmount",
         "rawType": "int64",
         "type": "integer"
        },
        {
         "name": "RaisedAmount",
         "rawType": "float64",
         "type": "float"
        },
        {
         "name": "DurationDays",
         "rawType": "int64",
         "type": "integer"
        },
        {
         "name": "NumBackers",
         "rawType": "int64",
         "type": "integer"
        },
        {
         "name": "Category",
         "rawType": "object",
         "type": "string"
        },
        {
         "name": "LaunchMonth",
         "rawType": "object",
         "type": "string"
        },
        {
         "name": "Country",
         "rawType": "object",
         "type": "string"
        },
        {
         "name": "Currency",
         "rawType": "object",
         "type": "string"
        },
        {
         "name": "OwnerExperience",
         "rawType": "int64",
         "type": "integer"
        },
        {
         "name": "VideoIncluded",
         "rawType": "object",
         "type": "string"
        },
        {
         "name": "SocialMediaPresence",
         "rawType": "int64",
         "type": "integer"
        },
        {
         "name": "NumUpdates",
         "rawType": "int64",
         "type": "integer"
        },
        {
         "name": "IsSuccessful",
         "rawType": "int64",
         "type": "integer"
        }
       ],
       "ref": "da2f20ff-a66d-4321-b8f4-df2ab92fe749",
       "rows": [
        [
         "0",
         "CID_00000",
         "76159",
         "73518.02895458053",
         "15",
         "1903",
         "Film",
         "September",
         "Australia",
         "GBP",
         "11",
         "Yes",
         "41758",
         "3",
         "0"
        ],
        [
         "1",
         "CID_00001",
         "69394",
         "60068.68328829211",
         "49",
         "469",
         "Art",
         "October",
         "Australia",
         "GBP",
         "7",
         "Yes",
         "79112",
         "48",
         "0"
        ],
        [
         "2",
         "CID_00002",
         "18652",
         "22958.153469639627",
         "58",
         "148",
         "Film",
         "February",
         "USA",
         "EUR",
         "17",
         "No",
         "3942",
         "9",
         "1"
        ],
        [
         "3",
         "CID_00003",
         "19487",
         "24229.048389653817",
         "39",
         "780",
         "Film",
         "October",
         "Germany",
         "AUD",
         "10",
         "No",
         "22047",
         "35",
         "1"
        ],
        [
         "4",
         "CID_00004",
         "26734",
         "17984.630310924433",
         "68",
         "1622",
         "Games",
         "September",
         "Australia",
         "AUD",
         "12",
         "Yes",
         "72568",
         "17",
         "0"
        ]
       ],
       "shape": {
        "columns": 14,
        "rows": 5
       }
      },
      "text/html": [
       "<div>\n",
       "<style scoped>\n",
       "    .dataframe tbody tr th:only-of-type {\n",
       "        vertical-align: middle;\n",
       "    }\n",
       "\n",
       "    .dataframe tbody tr th {\n",
       "        vertical-align: top;\n",
       "    }\n",
       "\n",
       "    .dataframe thead th {\n",
       "        text-align: right;\n",
       "    }\n",
       "</style>\n",
       "<table border=\"1\" class=\"dataframe\">\n",
       "  <thead>\n",
       "    <tr style=\"text-align: right;\">\n",
       "      <th></th>\n",
       "      <th>CampaignID</th>\n",
       "      <th>GoalAmount</th>\n",
       "      <th>RaisedAmount</th>\n",
       "      <th>DurationDays</th>\n",
       "      <th>NumBackers</th>\n",
       "      <th>Category</th>\n",
       "      <th>LaunchMonth</th>\n",
       "      <th>Country</th>\n",
       "      <th>Currency</th>\n",
       "      <th>OwnerExperience</th>\n",
       "      <th>VideoIncluded</th>\n",
       "      <th>SocialMediaPresence</th>\n",
       "      <th>NumUpdates</th>\n",
       "      <th>IsSuccessful</th>\n",
       "    </tr>\n",
       "  </thead>\n",
       "  <tbody>\n",
       "    <tr>\n",
       "      <th>0</th>\n",
       "      <td>CID_00000</td>\n",
       "      <td>76159</td>\n",
       "      <td>73518.028955</td>\n",
       "      <td>15</td>\n",
       "      <td>1903</td>\n",
       "      <td>Film</td>\n",
       "      <td>September</td>\n",
       "      <td>Australia</td>\n",
       "      <td>GBP</td>\n",
       "      <td>11</td>\n",
       "      <td>Yes</td>\n",
       "      <td>41758</td>\n",
       "      <td>3</td>\n",
       "      <td>0</td>\n",
       "    </tr>\n",
       "    <tr>\n",
       "      <th>1</th>\n",
       "      <td>CID_00001</td>\n",
       "      <td>69394</td>\n",
       "      <td>60068.683288</td>\n",
       "      <td>49</td>\n",
       "      <td>469</td>\n",
       "      <td>Art</td>\n",
       "      <td>October</td>\n",
       "      <td>Australia</td>\n",
       "      <td>GBP</td>\n",
       "      <td>7</td>\n",
       "      <td>Yes</td>\n",
       "      <td>79112</td>\n",
       "      <td>48</td>\n",
       "      <td>0</td>\n",
       "    </tr>\n",
       "    <tr>\n",
       "      <th>2</th>\n",
       "      <td>CID_00002</td>\n",
       "      <td>18652</td>\n",
       "      <td>22958.153470</td>\n",
       "      <td>58</td>\n",
       "      <td>148</td>\n",
       "      <td>Film</td>\n",
       "      <td>February</td>\n",
       "      <td>USA</td>\n",
       "      <td>EUR</td>\n",
       "      <td>17</td>\n",
       "      <td>No</td>\n",
       "      <td>3942</td>\n",
       "      <td>9</td>\n",
       "      <td>1</td>\n",
       "    </tr>\n",
       "    <tr>\n",
       "      <th>3</th>\n",
       "      <td>CID_00003</td>\n",
       "      <td>19487</td>\n",
       "      <td>24229.048390</td>\n",
       "      <td>39</td>\n",
       "      <td>780</td>\n",
       "      <td>Film</td>\n",
       "      <td>October</td>\n",
       "      <td>Germany</td>\n",
       "      <td>AUD</td>\n",
       "      <td>10</td>\n",
       "      <td>No</td>\n",
       "      <td>22047</td>\n",
       "      <td>35</td>\n",
       "      <td>1</td>\n",
       "    </tr>\n",
       "    <tr>\n",
       "      <th>4</th>\n",
       "      <td>CID_00004</td>\n",
       "      <td>26734</td>\n",
       "      <td>17984.630311</td>\n",
       "      <td>68</td>\n",
       "      <td>1622</td>\n",
       "      <td>Games</td>\n",
       "      <td>September</td>\n",
       "      <td>Australia</td>\n",
       "      <td>AUD</td>\n",
       "      <td>12</td>\n",
       "      <td>Yes</td>\n",
       "      <td>72568</td>\n",
       "      <td>17</td>\n",
       "      <td>0</td>\n",
       "    </tr>\n",
       "  </tbody>\n",
       "</table>\n",
       "</div>"
      ],
      "text/plain": [
       "  CampaignID  GoalAmount  RaisedAmount  DurationDays  NumBackers Category  \\\n",
       "0  CID_00000       76159  73518.028955            15        1903     Film   \n",
       "1  CID_00001       69394  60068.683288            49         469      Art   \n",
       "2  CID_00002       18652  22958.153470            58         148     Film   \n",
       "3  CID_00003       19487  24229.048390            39         780     Film   \n",
       "4  CID_00004       26734  17984.630311            68        1622    Games   \n",
       "\n",
       "  LaunchMonth    Country Currency  OwnerExperience VideoIncluded  \\\n",
       "0   September  Australia      GBP               11           Yes   \n",
       "1     October  Australia      GBP                7           Yes   \n",
       "2    February        USA      EUR               17            No   \n",
       "3     October    Germany      AUD               10            No   \n",
       "4   September  Australia      AUD               12           Yes   \n",
       "\n",
       "   SocialMediaPresence  NumUpdates  IsSuccessful  \n",
       "0                41758           3             0  \n",
       "1                79112          48             0  \n",
       "2                 3942           9             1  \n",
       "3                22047          35             1  \n",
       "4                72568          17             0  "
      ]
     },
     "execution_count": 35,
     "metadata": {},
     "output_type": "execute_result"
    }
   ],
   "source": [
    "df_ca.head()"
   ]
  },
  {
   "cell_type": "code",
   "execution_count": 36,
   "id": "d582580e",
   "metadata": {},
   "outputs": [],
   "source": [
    "df_ca['amountDifference'] = (df_ca['GoalAmount'] - df_ca['RaisedAmount'])/df_ca['GoalAmount'] * 100\n"
   ]
  }
 ],
 "metadata": {
  "kernelspec": {
   "display_name": "py312",
   "language": "python",
   "name": "python3"
  },
  "language_info": {
   "codemirror_mode": {
    "name": "ipython",
    "version": 3
   },
   "file_extension": ".py",
   "mimetype": "text/x-python",
   "name": "python",
   "nbconvert_exporter": "python",
   "pygments_lexer": "ipython3",
   "version": "3.12.11"
  }
 },
 "nbformat": 4,
 "nbformat_minor": 5
}
