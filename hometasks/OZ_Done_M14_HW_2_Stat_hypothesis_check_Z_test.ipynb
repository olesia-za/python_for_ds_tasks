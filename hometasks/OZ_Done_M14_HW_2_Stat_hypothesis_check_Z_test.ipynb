{
  "cells": [
    {
      "cell_type": "markdown",
      "metadata": {
        "colab_type": "text",
        "id": "view-in-github"
      },
      "source": [
        "<a href=\"https://colab.research.google.com/github/olesia-za/python_for_ds_tasks/blob/main/OZ_Done_M14_HW_2_Stat_hypothesis_check_Z_test.ipynb\" target=\"_parent\"><img src=\"https://colab.research.google.com/assets/colab-badge.svg\" alt=\"Open In Colab\"/></a>"
      ]
    },
    {
      "cell_type": "markdown",
      "id": "e152f6d6",
      "metadata": {
        "ExecuteTime": {
          "end_time": "2022-12-10T14:29:24.703416Z",
          "start_time": "2022-12-10T14:29:24.688485Z"
        },
        "id": "e152f6d6"
      },
      "source": [
        "#Перевірка статиcтичних гіпотез. Z-test.\n",
        "\n"
      ]
    },
    {
      "cell_type": "markdown",
      "id": "cd404683",
      "metadata": {
        "id": "cd404683"
      },
      "source": [
        "0. Зчитайте дані з `data.csv` у змінну data, яка має тип pandas.DataFrame. Ми будемо далі працювати з цією змінною."
      ]
    },
    {
      "cell_type": "code",
      "execution_count": 2,
      "id": "b20b6ba2",
      "metadata": {
        "id": "b20b6ba2"
      },
      "outputs": [],
      "source": [
        "import pandas as pd\n",
        "import numpy as np\n",
        "import matplotlib.pyplot as plt\n",
        "import seaborn as sns\n",
        "from scipy import stats\n",
        "\n",
        "# Налаштування для візуалізації\n",
        "plt.rcParams['figure.figsize'] = (12, 7)\n",
        "plt.rcParams['font.size'] = 12\n",
        "\n",
        "data = pd.read_csv('../data/data.csv')\n"
      ]
    },
    {
      "cell_type": "markdown",
      "id": "3d06cbbf",
      "metadata": {
        "id": "3d06cbbf"
      },
      "source": [
        "Запустіть код нижче. Для коректної робити всіх подальших методів дані мають бути у вигляді одновимірного `numpy.ndarray` вектора та мати розмірність (100,). Така розмірність означає, що дані - одновимірні (колонка), якщо б розмірність була (100, 1), то дані сприймаються методами як двовимірні (таблиця), хоча для нас виглядати можуть так само."
      ]
    },
    {
      "cell_type": "code",
      "execution_count": 3,
      "id": "cce1632b",
      "metadata": {
        "colab": {
          "base_uri": "https://localhost:8080/"
        },
        "id": "cce1632b",
        "outputId": "2e142439-2a4f-4057-ff9d-e6a4b3d7e955"
      },
      "outputs": [
        {
          "data": {
            "text/plain": [
              "(100,)"
            ]
          },
          "execution_count": 3,
          "metadata": {},
          "output_type": "execute_result"
        }
      ],
      "source": [
        "data = data.data.values\n",
        "data.shape"
      ]
    },
    {
      "cell_type": "markdown",
      "id": "abdcef5d",
      "metadata": {
        "id": "abdcef5d"
      },
      "source": [
        "**Завдання 1**. Зчитані дані - це сума покупок в доларах наших покупців на сайті протягом липня 2025 року.\n",
        "\n",
        "До цього місяця, ми мали продажі в середньому на чек $20.\n",
        "\n",
        "Необхідно зʼясувати, чи вийшло у нас статистично значущо **підвищити** середній чек за липень 2025?\n",
        "\n",
        "Аби дати відповідь - ми проведемо z-test на рівні значущості $\\alpha=0.05$ двома способами. В цьому завданні ми будемо виконувати обчислення \"вручну\" з використанням бібліотек numpy та scipy.stats подібно до прикладу в лекції. Для цього виконайте наступні 7 кроків. Правильне виконання кожного з кроків оцінюється в 1 бал.\n",
        "\n",
        "1. Запишіть параметри задачі у змінні Python:\n",
        "    - `sample_mean` - $\\bar{x}$, середнє значення в вибірці\n",
        "    - `population_mean` - $\\mu_0$, середнє значення в популяції (тобто те, з яким ми порівнюємо середнє вибіркове значення)\n",
        "    - `population_std` - $\\sigma$, вибіркове стандартне відхилення, яке ми вважаємо, що є рівним ст. відх. популяції, адже маємо достатньо велику вибірку.\n",
        "    - `sample_size` - $n$, розмір вибірки\n",
        "    - `alpha` - $\\alpha$ рівень значущості\n",
        "    \n",
        "    **Увага!** Для обчислення стандартного відхилення маємо скористатись функцією `np.std(your_dataframe, ddof=1)`. Чому так - розбираємо в лекції про t-test.\n",
        "\n",
        "\n",
        "2. Визначте для цієї задачі:\n",
        "    - якою є гіпотеза $H_0$\n",
        "    - якою є альтернативна гіпотеза $H_a$\n",
        "    - з яким типом тесту ми маємо справу - лівосторонній, правосторонній чи двосторонній.\n",
        "\n",
        "3. Обчисліть стандартну помилку SE.\n",
        "4. Розрахуйте z-статистику.\n",
        "5. Знайдіть критичне z-значення з допомогою бібліотеки stats.\n",
        "6. Обчисліть p-value з допомогою бібліотеки stats.\n",
        "7. Прийміть рішення, чи відхиляєте ви гіпотезу $H_0$. Для прийняття рішення зробіть і порівняння z-статистики з критичним значенням, і проаналізуйте p-value."
      ]
    },
    {
      "cell_type": "code",
      "execution_count": null,
      "id": "NX2XezWLdf4t",
      "metadata": {
        "id": "NX2XezWLdf4t"
      },
      "outputs": [
        {
          "name": "stdout",
          "output_type": "stream",
          "text": [
            "Sample Mean: 19.37755319670441\n",
            "Z-Statistic: -0.995347738933505\n",
            "Z-Critical: 1.6448536269514722\n",
            "P-Value: 0.8402164165464012\n",
            "\n",
            "z-статистика = -0.995\n",
            "Критичне значення = 1.645\n",
            "Порівняння: -0.995 ≤ 1.645\n",
            "Висновок: z-статистика НЕ перевищує критичне значення\n",
            "Рішення: НЕ ВІДХИЛЯЄМО H₀\n",
            "\n",
            "p-value = 0.840216\n",
            "Рівень значущості α = 0.05\n",
            "Порівняння: 0.840216 ≥ 0.05\n",
            "Висновок: p-value НЕ менше за рівень значущості\n",
            "Рішення: НЕ ВІДХИЛЯЄМО H₀\n"
          ]
        }
      ],
      "source": [
        "# Гіпотези:\n",
        "# H0 - mu=20 (середній чек дорівнює 20)\n",
        "# Ha - mu>20 (середній чек більше за 20)\n",
        "# це правосторонній тест\n",
        "\n",
        "sample_mean = np.mean(data)\n",
        "population_mean = 20\n",
        "population_std = np.std(data, ddof=1)\n",
        "n = len(data)\n",
        "alpha = 0.05\n",
        "\n",
        "se = population_std / np.sqrt(n)\n",
        "z_statistic = (sample_mean - population_mean) / se\n",
        "z_critical = stats.norm.ppf(1 - alpha)\n",
        "p_value = 1 - stats.norm.cdf(z_statistic)\n",
        "print(f\"Sample Mean: {sample_mean}\")\n",
        "print(f\"Z-Statistic: {z_statistic}\")\n",
        "print(f\"Z-Critical: {z_critical}\")\n",
        "print(f\"P-Value: {p_value}\\n\")\n",
        "\n",
        "print(f\"z-статистика = {z_statistic:.3f}\")\n",
        "print(f\"Критичне значення = {z_critical:.3f}\")\n",
        "print(f\"Порівняння: {z_statistic:.3f} {'>' if z_statistic > z_critical else '≤'} {z_critical:.3f}\")\n",
        "if z_statistic > z_critical:\n",
        "    print(\"Висновок: z-статистика ПЕРЕВИЩУЄ критичне значення\")\n",
        "    decision1 = \"ВІДХИЛЯЄМО H₀\"\n",
        "else:\n",
        "    print(\"Висновок: z-статистика НЕ перевищує критичне значення\")\n",
        "    decision1 = \"НЕ ВІДХИЛЯЄМО H₀\"\n",
        "\n",
        "print(f\"Рішення: {decision1}\\n\")\n",
        "\n",
        "print(f\"p-value = {p_value:.6f}\")\n",
        "print(f\"Рівень значущості α = {alpha}\")\n",
        "print(f\"Порівняння: {p_value:.6f} {'<' if p_value < alpha else '≥'} {alpha}\")\n",
        "\n",
        "if p_value < alpha:\n",
        "    print(\"Висновок: p-value МЕНШЕ за рівень значущості\")\n",
        "    decision2 = \"ВІДХИЛЯЄМО H₀\"\n",
        "else:\n",
        "    print(\"Висновок: p-value НЕ менше за рівень значущості\")\n",
        "    decision2 = \"НЕ ВІДХИЛЯЄМО H₀\"\n",
        "\n",
        "print(f\"Рішення: {decision2}\")\n",
        "\n",
        "# Висновок - не відхиляємо H0, середній чек = 20    \n",
        "\n"
      ]
    },
    {
      "cell_type": "markdown",
      "id": "0FOBByRMXkL2",
      "metadata": {
        "id": "0FOBByRMXkL2"
      },
      "source": [
        "**Завдання 2.** Виконайте обчислення z-test з використанням бібліотеки statsmodels.\n",
        "\n",
        "Отримайте z-статистику та р-значення.\n",
        "\n",
        "Виведіть p-значення та зробіть висновок, чи ми маємо достатньо доказів, аби стверджувати, що середній чек зріс.\n",
        "\n",
        "Чи зійшлись значення z-статистику та р-значення в цьому завданні з попередніми обчисленнями?\n",
        "\n",
        "Завдання оцінюється в 3 бали."
      ]
    },
    {
      "cell_type": "code",
      "execution_count": 18,
      "id": "f_Oa0DJhdg6v",
      "metadata": {
        "id": "f_Oa0DJhdg6v"
      },
      "outputs": [
        {
          "name": "stdout",
          "output_type": "stream",
          "text": [
            "Результати z-тесту:\n",
            "  Z-статистика: -0.995\n",
            "  P-value: 0.840216\n",
            "\n",
            "ІНТЕРПРЕТАЦІЯ:\n",
            "----------------------------------------\n",
            "❌ НЕ ВІДХИЛЯЄМО H₀\n",
            "   p-value (0.840216) ≥ α (0.05)\n",
            "   Висновок: Немає достатніх доказів про значуще збільшення середнього чеку понад 20\n",
            "\n",
            "============================================================\n",
            "ПОРІВНЯННЯ З РУЧНИМИ РОЗРАХУНКАМИ:\n",
            "============================================================\n",
            "Z-статистика:\n",
            "  Ручний розрахунок: -0.995\n",
            "  Statsmodels:       -0.995\n",
            "  Різниця:           0.000\n",
            "\n"
          ]
        }
      ],
      "source": [
        "from statsmodels.stats import weightstats as stests\n",
        "\n",
        "# Виконуємо правосторонній z-тест\n",
        "z_stat_sm, p_val_sm = stests.ztest(data,           # наші дані\n",
        "                                    value=population_mean,  # μ₀ = 20\n",
        "                                    alternative='larger')   # H₁: μ > 20\n",
        "print(f\"Результати z-тесту:\")\n",
        "print(f\"  Z-статистика: {z_stat_sm:.3f}\")\n",
        "print(f\"  P-value: {p_val_sm:.6f}\")\n",
        "print()\n",
        "\n",
        "# Інтерпретація результатів\n",
        "print(\"ІНТЕРПРЕТАЦІЯ:\")\n",
        "print(\"-\" * 40)\n",
        "if p_val_sm < alpha:\n",
        "    print(f\"✅ ВІДХИЛЯЄМО H₀\")\n",
        "    print(f\"   p-value ({p_val_sm:.6f}) < α ({alpha})\")\n",
        "    print(\"   Висновок: Cередній чек має статистично значуще вищення за 20\")\n",
        "else:\n",
        "    print(f\"❌ НЕ ВІДХИЛЯЄМО H₀\")\n",
        "    print(f\"   p-value ({p_val_sm:.6f}) ≥ α ({alpha})\")\n",
        "    print(\"   Висновок: Немає достатніх доказів про значуще збільшення середнього чеку понад 20\")\n",
        "\n",
        "# Порівняння з ручними розрахунками\n",
        "print(\"\\n\" + \"=\" * 60)\n",
        "print(\"ПОРІВНЯННЯ З РУЧНИМИ РОЗРАХУНКАМИ:\")\n",
        "print(\"=\" * 60)\n",
        "print(f\"Z-статистика:\")\n",
        "print(f\"  Ручний розрахунок: {z_statistic:.3f}\")\n",
        "print(f\"  Statsmodels:       {z_stat_sm:.3f}\")\n",
        "print(f\"  Різниця:           {abs(z_statistic - z_stat_sm):.3f}\")\n",
        "print()\n"
      ]
    }
  ],
  "metadata": {
    "colab": {
      "include_colab_link": true,
      "provenance": []
    },
    "hide_input": false,
    "kernelspec": {
      "display_name": "py312",
      "language": "python",
      "name": "python3"
    },
    "language_info": {
      "codemirror_mode": {
        "name": "ipython",
        "version": 3
      },
      "file_extension": ".py",
      "mimetype": "text/x-python",
      "name": "python",
      "nbconvert_exporter": "python",
      "pygments_lexer": "ipython3",
      "version": "3.12.11"
    },
    "toc": {
      "base_numbering": 1,
      "nav_menu": {},
      "number_sections": true,
      "sideBar": true,
      "skip_h1_title": false,
      "title_cell": "Table of Contents",
      "title_sidebar": "Contents",
      "toc_cell": false,
      "toc_position": {},
      "toc_section_display": true,
      "toc_window_display": false
    },
    "varInspector": {
      "cols": {
        "lenName": 16,
        "lenType": 16,
        "lenVar": 40
      },
      "kernels_config": {
        "python": {
          "delete_cmd_postfix": "",
          "delete_cmd_prefix": "del ",
          "library": "var_list.py",
          "varRefreshCmd": "print(var_dic_list())"
        },
        "r": {
          "delete_cmd_postfix": ") ",
          "delete_cmd_prefix": "rm(",
          "library": "var_list.r",
          "varRefreshCmd": "cat(var_dic_list()) "
        }
      },
      "types_to_exclude": [
        "module",
        "function",
        "builtin_function_or_method",
        "instance",
        "_Feature"
      ],
      "window_display": false
    }
  },
  "nbformat": 4,
  "nbformat_minor": 5
}
