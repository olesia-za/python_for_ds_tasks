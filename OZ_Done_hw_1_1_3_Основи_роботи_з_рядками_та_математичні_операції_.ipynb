{
  "cells": [
    {
      "cell_type": "markdown",
      "metadata": {
        "colab_type": "text",
        "id": "view-in-github"
      },
      "source": [
        "<a href=\"https://colab.research.google.com/github/olesia-za/python_for_ds_tasks/blob/main/hw_1_1_3_%D0%9E%D1%81%D0%BD%D0%BE%D0%B2%D0%B8_%D1%80%D0%BE%D0%B1%D0%BE%D1%82%D0%B8_%D0%B7_%D1%80%D1%8F%D0%B4%D0%BA%D0%B0%D0%BC%D0%B8_%D1%82%D0%B0_%D0%BC%D0%B0%D1%82%D0%B5%D0%BC%D0%B0%D1%82%D0%B8%D1%87%D0%BD%D1%96_%D0%BE%D0%BF%D0%B5%D1%80%D0%B0%D1%86%D1%96%D1%97_.ipynb\" target=\"_parent\"><img src=\"https://colab.research.google.com/assets/colab-badge.svg\" alt=\"Open In Colab\"/></a>"
      ]
    },
    {
      "cell_type": "markdown",
      "metadata": {
        "id": "9ngpqNFm8w1a"
      },
      "source": [
        "# Домашнє завдання до теми \"Основи роботи з рядками та математичні операції\""
      ]
    },
    {
      "cell_type": "markdown",
      "metadata": {
        "id": "DEkQSeSyTum-"
      },
      "source": [
        "1. Створіть змінні `a`, `b`, `c` та `d`, задайте їм значення відповідно 101, 210, 111, 402, та обчисліть з допомогою Python наступний вираз:  $$ \\frac{(a+b) * c}{d} $$\n",
        "\n",
        "**Важливо**: тут ми маємо обчислити значення саме з використанням змінних, а не просто чисел, як би ми робили у калькуряторі. Змінні потрібні аби за бажання ми могли змінити їх значення та не переписувати код обчислення виразу, бо він буде працювати для різних значень змінних."
      ]
    },
    {
      "cell_type": "code",
      "execution_count": 3,
      "metadata": {
        "id": "u1ICQq5L3eKH"
      },
      "outputs": [
        {
          "data": {
            "text/plain": [
              "85.8731343283582"
            ]
          },
          "execution_count": 3,
          "metadata": {},
          "output_type": "execute_result"
        }
      ],
      "source": [
        "a = 101\n",
        "b = 210\n",
        "c = 111\n",
        "d = 402\n",
        "(a+b)*c/d"
      ]
    },
    {
      "cell_type": "markdown",
      "metadata": {
        "id": "FnBVPt7G3bcR"
      },
      "source": [
        "Очікувана відповідь: 85.8731343283582"
      ]
    },
    {
      "cell_type": "markdown",
      "metadata": {
        "id": "HI3eEYZRT4Cn"
      },
      "source": [
        "2. Якою буде остача від ділення числа 11283 на 89? Обчисліть з допомогою Python."
      ]
    },
    {
      "cell_type": "code",
      "execution_count": 4,
      "metadata": {
        "id": "ejZc3ng_TpgY"
      },
      "outputs": [
        {
          "data": {
            "text/plain": [
              "69"
            ]
          },
          "execution_count": 4,
          "metadata": {},
          "output_type": "execute_result"
        }
      ],
      "source": [
        "11283 % 89"
      ]
    },
    {
      "cell_type": "markdown",
      "metadata": {
        "id": "RO02CqdqT9oG"
      },
      "source": [
        "3. Скільки цілих разів поміститься число 89 в 11283? (Або що те саме: який буде результат цілочисельного ділення 11283 на 89?)"
      ]
    },
    {
      "cell_type": "code",
      "execution_count": 16,
      "metadata": {
        "id": "KEUb9lO5T_PI"
      },
      "outputs": [
        {
          "data": {
            "text/plain": [
              "126"
            ]
          },
          "execution_count": 16,
          "metadata": {},
          "output_type": "execute_result"
        }
      ],
      "source": [
        "11283 // 89"
      ]
    },
    {
      "cell_type": "markdown",
      "metadata": {
        "id": "5fnIPumiT_rt"
      },
      "source": [
        "4. Запишіть у змінну `name` ваше імʼя."
      ]
    },
    {
      "cell_type": "code",
      "execution_count": 6,
      "metadata": {
        "id": "xP7Mbq45UFlV"
      },
      "outputs": [],
      "source": [
        "name = \"Olesia\""
      ]
    },
    {
      "cell_type": "markdown",
      "metadata": {
        "id": "fR9TqY79UNDL"
      },
      "source": [
        "5. Запишіть у змінну `surname` ваше прізвище."
      ]
    },
    {
      "cell_type": "code",
      "execution_count": 7,
      "metadata": {
        "id": "0qHjyMyvUOM1"
      },
      "outputs": [],
      "source": [
        "surname = \"Zaichenko\""
      ]
    },
    {
      "cell_type": "markdown",
      "metadata": {
        "id": "zqKncQLwUOxh"
      },
      "source": [
        "6. Сконкатенуйте імʼя та прізвище в одну фразу через пробіл. Запишіть результат у нову змінну `name_surname` та виведіть результат на екран.  "
      ]
    },
    {
      "cell_type": "code",
      "execution_count": 8,
      "metadata": {
        "id": "8E-blvN-UTPg"
      },
      "outputs": [
        {
          "name": "stdout",
          "output_type": "stream",
          "text": [
            "Olesia Zaichenko\n"
          ]
        }
      ],
      "source": [
        "name_surname = name + \" \" + surname\n",
        "print(name_surname)"
      ]
    },
    {
      "cell_type": "markdown",
      "metadata": {
        "id": "_Unl7EXlUgYn"
      },
      "source": [
        "Очікувана відповідь (тільки з вашими даними): 'Hanna Pylieva'"
      ]
    },
    {
      "cell_type": "markdown",
      "metadata": {
        "id": "z-3FI0IrUT0U"
      },
      "source": [
        "7. Зробіть усі літери змінної `name_surname` заглавними використовуючи метод рядків в Python:"
      ]
    },
    {
      "cell_type": "code",
      "execution_count": 18,
      "metadata": {
        "id": "9ahIwyT5UblY"
      },
      "outputs": [
        {
          "data": {
            "text/plain": [
              "'OLESIA ZAICHENKO'"
            ]
          },
          "execution_count": 18,
          "metadata": {},
          "output_type": "execute_result"
        }
      ],
      "source": [
        "name_surname.upper()"
      ]
    },
    {
      "cell_type": "markdown",
      "metadata": {
        "id": "6PDcqfmdUcLo"
      },
      "source": [
        "Очікувана відповідь (тільки з вашими даними): 'HANNA PYLIEVA'"
      ]
    },
    {
      "cell_type": "markdown",
      "metadata": {
        "id": "qNl8KxeXUtnL"
      },
      "source": [
        "8. Виведіть третю літеру вашого `name_surname`. Тут уважно, треба саме третя літера. Згадайте, з якого значення починається індексування значень в Python."
      ]
    },
    {
      "cell_type": "code",
      "execution_count": 9,
      "metadata": {
        "id": "Tp7stqAhUvJz"
      },
      "outputs": [
        {
          "data": {
            "text/plain": [
              "'e'"
            ]
          },
          "execution_count": 9,
          "metadata": {},
          "output_type": "execute_result"
        }
      ],
      "source": [
        "name_surname[2]"
      ]
    },
    {
      "cell_type": "markdown",
      "metadata": {
        "id": "GYWHqb3UUvqk"
      },
      "source": [
        "Очікувана відповідь (тільки з вашими даними): 'n'"
      ]
    },
    {
      "cell_type": "markdown",
      "metadata": {
        "id": "1f3cc1a7",
        "pycharm": {
          "name": "#%% md\n"
        }
      },
      "source": [
        "9. Виведіть першу та останню літеру вашого прізвища."
      ]
    },
    {
      "cell_type": "code",
      "execution_count": 15,
      "metadata": {
        "id": "s1ZgN3xuUyB8"
      },
      "outputs": [
        {
          "name": "stdout",
          "output_type": "stream",
          "text": [
            "1st letter  Z\n",
            "last letter  o\n"
          ]
        }
      ],
      "source": [
        "print(\"1st letter \", surname[0])\n",
        "print(\"last letter \", surname[-1])"
      ]
    },
    {
      "cell_type": "markdown",
      "metadata": {
        "id": "KjlFjjhHVAt2"
      },
      "source": [
        "Очікувана відповідь (тільки з вашими даними): ('P', 'a')"
      ]
    },
    {
      "cell_type": "markdown",
      "metadata": {
        "id": "UYLoho3DVMt2"
      },
      "source": [
        "10. Виведіть довжину вашого прізвища."
      ]
    },
    {
      "cell_type": "code",
      "execution_count": 14,
      "metadata": {
        "id": "0TPJBh0LVA8q"
      },
      "outputs": [
        {
          "data": {
            "text/plain": [
              "9"
            ]
          },
          "execution_count": 14,
          "metadata": {},
          "output_type": "execute_result"
        }
      ],
      "source": [
        "len(surname)"
      ]
    },
    {
      "cell_type": "markdown",
      "metadata": {
        "id": "9FaxqvVgVRYW"
      },
      "source": [
        "Очікувана відповідь (тільки з вашими даними): 7\n"
      ]
    },
    {
      "cell_type": "markdown",
      "metadata": {
        "id": "JN2wxSlGVVAj"
      },
      "source": [
        "11. Виведіть кількість літер `a` у столиці Мадагаскару `Antananarivo`. Важливо врахувати всі літери, як великі, так і маленькі."
      ]
    },
    {
      "cell_type": "code",
      "execution_count": 25,
      "metadata": {
        "id": "LCeHHz9bVUgL"
      },
      "outputs": [
        {
          "data": {
            "text/plain": [
              "4"
            ]
          },
          "execution_count": 25,
          "metadata": {},
          "output_type": "execute_result"
        }
      ],
      "source": [
        "'Antananarivo'.lower().count('a')"
      ]
    },
    {
      "cell_type": "markdown",
      "metadata": {
        "id": "Ux4SQiuSVo92"
      },
      "source": [
        "Очікувана відповідь: 4"
      ]
    },
    {
      "cell_type": "markdown",
      "metadata": {
        "id": "mwEs0xnmVtes"
      },
      "source": [
        "12. Створіть рядок `my_string` зі значенням: \"The quick brown fox jumps over the lazy dog!!!\".   \n",
        "Перевірте, чи починається рядок `my_string` з \"The\" і чи закінчується він \"dog!\". Виведіть результати на екран."
      ]
    },
    {
      "cell_type": "code",
      "execution_count": 27,
      "metadata": {
        "id": "VlXDNpXcVs59"
      },
      "outputs": [
        {
          "name": "stdout",
          "output_type": "stream",
          "text": [
            "True\n",
            "False\n"
          ]
        }
      ],
      "source": [
        "my_string = \"The quick brown fox jumps over the lazy dog!!!\"\n",
        "print(my_string.startswith(\"The\"))\n",
        "print(my_string.endswith(\"dog!\"))"
      ]
    },
    {
      "cell_type": "markdown",
      "metadata": {
        "id": "Yc-UwtqvV_h0"
      },
      "source": [
        "13. Розділіть рядок `my_string` на список окремих слів, а потім з'єднайте всі слова через нижнє підкреслювання. Виведіть результат на екран."
      ]
    },
    {
      "cell_type": "code",
      "execution_count": 31,
      "metadata": {
        "id": "m5I48Ii-WDSK"
      },
      "outputs": [
        {
          "data": {
            "text/plain": [
              "'The_quick_brown_fox_jumps_over_the_lazy_dog!!!'"
            ]
          },
          "execution_count": 31,
          "metadata": {},
          "output_type": "execute_result"
        }
      ],
      "source": [
        "('_').join(my_string.split(' '))\n"
      ]
    },
    {
      "cell_type": "markdown",
      "metadata": {
        "id": "UqvD1_jIXRhx"
      },
      "source": [
        "Очікуваний результат: `The_quick_brown_fox_jumps_over_the_lazy_dog!!!`"
      ]
    }
  ],
  "metadata": {
    "colab": {
      "include_colab_link": true,
      "provenance": []
    },
    "kernelspec": {
      "display_name": "py312",
      "language": "python",
      "name": "python3"
    },
    "language_info": {
      "codemirror_mode": {
        "name": "ipython",
        "version": 3
      },
      "file_extension": ".py",
      "mimetype": "text/x-python",
      "name": "python",
      "nbconvert_exporter": "python",
      "pygments_lexer": "ipython3",
      "version": "3.12.11"
    }
  },
  "nbformat": 4,
  "nbformat_minor": 0
}
