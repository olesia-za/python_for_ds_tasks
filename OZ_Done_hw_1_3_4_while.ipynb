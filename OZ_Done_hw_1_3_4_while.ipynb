{
  "cells": [
    {
      "cell_type": "markdown",
      "metadata": {
        "colab_type": "text",
        "id": "view-in-github"
      },
      "source": [
        "<a href=\"https://colab.research.google.com/github/olesia-za/python_for_ds_tasks/blob/main/OZ_Done_hw_1_3_4_while.ipynb\" target=\"_parent\"><img src=\"https://colab.research.google.com/assets/colab-badge.svg\" alt=\"Open In Colab\"/></a>"
      ]
    },
    {
      "cell_type": "markdown",
      "metadata": {
        "id": "15XCoYr0awZ6"
      },
      "source": [
        "#Домашнє завдання до теми \"Цикл while\""
      ]
    },
    {
      "cell_type": "markdown",
      "metadata": {
        "id": "xgCDxF5YhQSa"
      },
      "source": [
        "1. **Лічильник до заданого числа.**\n",
        "   Завдання:\n",
        "     - Створіть цикл `while`, щоб він лічив від 1 до заданого числа в змінній `limit` (включно).\n",
        "     - Виведіть кожне число, яке проходить лічильник, на екран.\n",
        "     - В кінці виведіть повідомлення \"Кінець розрахунку!\".\n"
      ]
    },
    {
      "cell_type": "code",
      "execution_count": 2,
      "metadata": {
        "id": "wwSqYFCmiJTt"
      },
      "outputs": [],
      "source": [
        "limit = 9  # Задане число"
      ]
    },
    {
      "cell_type": "code",
      "execution_count": 4,
      "metadata": {
        "id": "-t-kC6mJqNVx"
      },
      "outputs": [
        {
          "name": "stdout",
          "output_type": "stream",
          "text": [
            "1 2 3 4 5 6 7 8 9 Кінець розрахунку!\n"
          ]
        }
      ],
      "source": [
        "i = 1\n",
        "while i<= limit:\n",
        "    print(i, end=' ')\n",
        "    if i == 9:\n",
        "        print(\"Кінець розрахунку!\")    \n",
        "    i += 1"
      ]
    },
    {
      "cell_type": "markdown",
      "metadata": {
        "id": "DlqunQnphZ9s"
      },
      "source": [
        "2. **Пошук першого парного числа.** Завдання:\n",
        "     - Створіть цикл `while`, щоб знайти перше парне число після заданого числа `start`.\n",
        "     - Знайдіть та виведіть перше парне число.\n"
      ]
    },
    {
      "cell_type": "code",
      "execution_count": 7,
      "metadata": {
        "id": "3CC3-gNJiW6X"
      },
      "outputs": [],
      "source": [
        "start = 7  # Задане число"
      ]
    },
    {
      "cell_type": "code",
      "execution_count": 8,
      "metadata": {
        "id": "5M8Ly9_Lj4-t"
      },
      "outputs": [
        {
          "name": "stdout",
          "output_type": "stream",
          "text": [
            "Перше парне число, більше за 7 : 8\n",
            "Перше парне число, більше за 7 : 8\n"
          ]
        }
      ],
      "source": [
        "i = start\n",
        "while i % 2 != 0:\n",
        "    i += 1\n",
        "print(\"Перше парне число, більше за\", start, \":\", i)\n",
        "\n",
        "i = start\n",
        "while True:\n",
        "    i += 1\n",
        "    if i % 2 == 0:\n",
        "        print(\"Перше парне число, більше за\", start, \":\", i)\n",
        "        break\n"
      ]
    },
    {
      "cell_type": "markdown",
      "metadata": {
        "id": "OlhKezZYiQJ2"
      },
      "source": [
        "\n",
        "3. **Обчислення факторіалу.**   \n",
        "  Факторіал числа - це добуток всіх натуральних чисел від 1 до цього числа включно. Наприклад, факторіал числа 5 (позначається як 5!) дорівнює `1 * 2 * 3 * 4 * 5 = 120`.\n",
        "\n",
        "  Завдання:  \n",
        "      - Обчисліть факторіал заданого числа, використовуючи цикл `while`.  \n",
        "      - Задайте деяке число для обчислення факторіалу у змінній `num`.  \n",
        "      - Виведіть обчислений факторіал на екран.  \n"
      ]
    },
    {
      "cell_type": "code",
      "execution_count": null,
      "metadata": {
        "id": "s0JKm0Wtj5s9"
      },
      "outputs": [
        {
          "name": "stdout",
          "output_type": "stream",
          "text": [
            "Факторіал числа 4 : 24\n"
          ]
        }
      ],
      "source": [
        "num = 4\n",
        "i = 1\n",
        "factorial = 1\n",
        "while i <= num:\n",
        "    factorial *= i\n",
        "    i += 1\n",
        "print(\"Факторіал числа\", num, \":\", factorial)"
      ]
    },
    {
      "cell_type": "code",
      "execution_count": null,
      "metadata": {},
      "outputs": [],
      "source": [
        "# to remember deepcopy usage \n",
        "from copy import deepcopy\n",
        "\n",
        "helper = deepcopy(start)\n"
      ]
    }
  ],
  "metadata": {
    "colab": {
      "include_colab_link": true,
      "provenance": []
    },
    "kernelspec": {
      "display_name": "py312",
      "language": "python",
      "name": "python3"
    },
    "language_info": {
      "codemirror_mode": {
        "name": "ipython",
        "version": 3
      },
      "file_extension": ".py",
      "mimetype": "text/x-python",
      "name": "python",
      "nbconvert_exporter": "python",
      "pygments_lexer": "ipython3",
      "version": "3.12.11"
    }
  },
  "nbformat": 4,
  "nbformat_minor": 0
}
