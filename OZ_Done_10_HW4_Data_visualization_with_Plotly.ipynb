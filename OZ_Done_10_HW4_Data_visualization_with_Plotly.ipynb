{
  "cells": [
    {
      "cell_type": "markdown",
      "metadata": {
        "id": "view-in-github",
        "colab_type": "text"
      },
      "source": [
        "<a href=\"https://colab.research.google.com/github/olesia-za/python_for_ds_tasks/blob/main/OZ_Done_10_HW4_Data_visualization_with_Plotly.ipynb\" target=\"_parent\"><img src=\"https://colab.research.google.com/assets/colab-badge.svg\" alt=\"Open In Colab\"/></a>"
      ]
    },
    {
      "cell_type": "markdown",
      "id": "dc7c335f",
      "metadata": {
        "id": "dc7c335f"
      },
      "source": [
        "# Домашнє завдання: Інтерактивні візуалізації з Plotly\n",
        "\n",
        "## Опис завдання\n",
        "У цьому домашньому завданні ви будете створювати інтерактивні візуалізації з допомогою бібліотеки Plotly. Ви дізнаєтесь різницю між Plotly Express (швидкі графіки) та Graph Objects (повний контроль), та створите інтерактивний дашборд.\n",
        "\n",
        "**Опис колонок:**\n",
        "- `datetime` - дата та час\n",
        "- `season` - сезон (1=весна, 2=літо, 3=осінь, 4=зима)\n",
        "- `holiday` - чи є день святковим (0=ні, 1=так)\n",
        "- `workingday` - чи є день робочим (0=ні, 1=так)\n",
        "- `weather` - погодні умови (1=ясно, 2=туман, 3=легкий дощ, 4=сильний дощ)\n",
        "- `temp` - температура в градусах Цельсія\n",
        "- `atemp` - відчувається як температура\n",
        "- `humidity` - вологість (%)\n",
        "- `windspeed` - швидкість вітру\n",
        "- `casual` - кількість випадкових користувачів\n",
        "- `registered` - кількість зареєстрованих користувачів\n",
        "- `count` - загальна кількість орендованих велосипедів\n",
        "\n",
        "## Підготовка даних\n"
      ]
    },
    {
      "cell_type": "code",
      "execution_count": null,
      "id": "d0c25a9f",
      "metadata": {
        "id": "d0c25a9f"
      },
      "outputs": [],
      "source": [
        "import pandas as pd\n",
        "import plotly.express as px\n",
        "import plotly.graph_objects as go\n",
        "from plotly.subplots import make_subplots\n",
        "import numpy as np\n",
        "\n",
        "# Завантаження даних\n",
        "df = pd.read_csv('../data/yulu_rental.csv')\n",
        "df['datetime'] = pd.to_datetime(df['datetime'])\n",
        "\n",
        "# Для plotly краще не встановлювати datetime як індекс\n",
        "df['month'] = df['datetime'].dt.month\n",
        "df['hour'] = df['datetime'].dt.hour\n",
        "df['weekday'] = df['datetime'].dt.day_name()\n",
        "\n",
        "# Додаємо назви сезонів\n",
        "season_map = {1: 'Весна', 2: 'Літо', 3: 'Осінь', 4: 'Зима'}\n",
        "df['season_name'] = df['season'].map(season_map)"
      ]
    },
    {
      "cell_type": "markdown",
      "id": "9887ca69",
      "metadata": {
        "id": "9887ca69"
      },
      "source": [
        "## Завдання 1: Базовий інтерактивний лінійний графік (Plotly Express)\n",
        "\n",
        "**Завдання:**\n",
        "Створіть інтерактивний лінійний графік динаміки оренди за часом (рівень деталізації - як в даних) з можливістю zoom та hover.\n",
        "\n",
        "Дайте відповіді на питання.\n",
        "**Питання для інтерпретації:**\n",
        "1. Яка перевага інтерактивного графіка над статичним?\n",
        "2. Чому на графіку є \"пробіли\" - ділянки, де одна пряма лінія зʼєднує два \"суцільних\" блоки з даними? Як би ви це могли дослідити на статичному графіку?\n"
      ]
    },
    {
      "cell_type": "code",
      "source": [],
      "metadata": {
        "id": "_GzGAw-ef48P"
      },
      "id": "_GzGAw-ef48P",
      "execution_count": null,
      "outputs": []
    },
    {
      "cell_type": "markdown",
      "id": "1f69c323",
      "metadata": {
        "id": "1f69c323"
      },
      "source": [
        "## Завдання 2: Scatter plot з додатковими даними (Plotly Express)\n",
        "\n",
        "**Завдання:**\n",
        "Створіть scatter plot кількості орендованих велосипедів випадковими користувачами vs кількості орендованих велосипедів зареєстрованими користувачами. Розмір точок встановіть за сумарною кількістю велосипедів, які були взяті в оренду, а колір - за сезоном. В hover_data - додайте деталі, які допоможуть вам в подальшому аналізі.\n",
        "\n",
        "Дослідіть графік. Зверніть увагу, що ви можете вмикати і вимикати окремі сезони, якщо будете клікати на колір сезону в легенді графіку.\n",
        "\n",
        "**Дайте відповідь на питання.**\n",
        "- Як ви проінтерпретуєте роздвоєність цього графіку (дві явні лінії)? Що це означає?\n",
        "- Які висновки для компанії, які дає велосипеди в оренду, ви можете зробити з цього графіку? 3 основних висновки."
      ]
    },
    {
      "cell_type": "code",
      "source": [],
      "metadata": {
        "id": "10FZBhJ9f6Pp"
      },
      "id": "10FZBhJ9f6Pp",
      "execution_count": null,
      "outputs": []
    },
    {
      "cell_type": "markdown",
      "id": "3b2f1df4",
      "metadata": {
        "id": "3b2f1df4"
      },
      "source": [
        "## Завдання 3: Порівняння Plotly Express vs Graph Objects\n",
        "\n",
        "**Завдання:**\n",
        "Створіть лінійний графік помісячної динаміки оренди велосипедів двома способами - з Plotly Express та з Graph Objects.\n",
        "\n",
        "**Дайте відповіді на питання.**\n",
        "1. Як ви розумієте основну різницю між цими двома підходами?\n",
        "2. Коли краще використовувати Plotly Express?\n",
        "3. Коли потрібен Graph Objects?\n"
      ]
    },
    {
      "cell_type": "code",
      "source": [],
      "metadata": {
        "id": "fBy-JvWxgAwA"
      },
      "id": "fBy-JvWxgAwA",
      "execution_count": null,
      "outputs": []
    },
    {
      "cell_type": "markdown",
      "id": "97343df1",
      "metadata": {
        "id": "97343df1"
      },
      "source": [
        "## Завдання 4: Дашборд з make_subplots (Graph Objects)\n",
        "\n",
        "**Завдання:**\n",
        "Створіть дашборд з 4 різними графіками в одній фігурі:\n",
        "- Bar chart - середні значення загальної кількості оренд велосипедів за сезонами\n",
        "- Pie chart - відсоткове співвідношення погодних умов в даних\n",
        "- Line chart - середнє значення загальної кількості оренд велосипедів за годинами протягом доби\n",
        "- Scatter plot - кореляція температури vs вологість\n",
        "\n",
        "Додайте заголовок на дашборд.\n",
        "\n",
        "**Дайте відповідь на питання**\n",
        "- На ваш погляд, яка перевага об'єднання графіків в один дашборд?"
      ]
    },
    {
      "cell_type": "code",
      "source": [],
      "metadata": {
        "id": "Z439CYyIgB8I"
      },
      "id": "Z439CYyIgB8I",
      "execution_count": null,
      "outputs": []
    },
    {
      "cell_type": "markdown",
      "id": "3ecb652a",
      "metadata": {
        "id": "3ecb652a"
      },
      "source": [
        "## Завдання 5: 3D візуалізація\n",
        "\n",
        "**Завдання:**\n",
        "Створіть 3D scatter plot для аналізу взаємозв'язку температури, швидкості вітру та загальної кількості орендованих велосипедів. Колір встановіть за сезоном, а розмір - за загальною кількість оренд також.\n",
        "\n",
        "Дайте відповіді на питання.\n",
        "**Питання для інтерпретації:**\n",
        "1. Яку додаткову інформацію, на ваш погляд, дає 3D візуалізація?\n",
        "2. Чи видно кластери в 3D просторі?\n",
        "3. Чи ви можете зробити висновки з цієї візуалізації, чи вам було простіше побудувати кілька 2D?\n",
        "\n"
      ]
    },
    {
      "cell_type": "code",
      "source": [],
      "metadata": {
        "id": "rgpHYGH3gDEd"
      },
      "id": "rgpHYGH3gDEd",
      "execution_count": null,
      "outputs": []
    },
    {
      "cell_type": "markdown",
      "id": "7519f51f",
      "metadata": {
        "id": "7519f51f"
      },
      "source": [
        "\n",
        "## Завдання 6: Експорт та збереження інтерактивних графіків\n",
        "\n",
        "**Завдання:**\n",
        "Збережіть побудований раніше дашборд в формат HTML. Також змініть вручну щось на дашборді (зум, виділення частини графіку) і збережіть його як статичне зображення через іконку фотоапарату у формат PNG. Завантажте файли з дашбордом у HTML та PNG (або посилання на них на github) разом з посиланням на цей ноутбук при здачі ДЗ.\n"
      ]
    },
    {
      "cell_type": "code",
      "source": [],
      "metadata": {
        "id": "c0bhdQnPgWd7"
      },
      "id": "c0bhdQnPgWd7",
      "execution_count": null,
      "outputs": []
    }
  ],
  "metadata": {
    "kernelspec": {
      "display_name": "Python 3 (ipykernel)",
      "language": "python",
      "name": "python3"
    },
    "language_info": {
      "codemirror_mode": {
        "name": "ipython",
        "version": 3
      },
      "file_extension": ".py",
      "mimetype": "text/x-python",
      "name": "python",
      "nbconvert_exporter": "python",
      "pygments_lexer": "ipython3",
      "version": "3.12.0"
    },
    "colab": {
      "provenance": [],
      "include_colab_link": true
    }
  },
  "nbformat": 4,
  "nbformat_minor": 5
}