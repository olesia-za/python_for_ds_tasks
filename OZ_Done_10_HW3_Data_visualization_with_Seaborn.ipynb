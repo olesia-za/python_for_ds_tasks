{
  "cells": [
    {
      "cell_type": "markdown",
      "metadata": {
        "id": "view-in-github",
        "colab_type": "text"
      },
      "source": [
        "<a href=\"https://colab.research.google.com/github/olesia-za/python_for_ds_tasks/blob/main/OZ_Done_10_HW3_Data_visualization_with_Seaborn.ipynb\" target=\"_parent\"><img src=\"https://colab.research.google.com/assets/colab-badge.svg\" alt=\"Open In Colab\"/></a>"
      ]
    },
    {
      "cell_type": "markdown",
      "metadata": {
        "id": "GdniNpp5fiDo"
      },
      "source": [
        "# Домашнє завдання: Статистичні візуалізації з Seaborn\n",
        "\n",
        "## Опис завдання\n",
        "У цьому домашньому завданні ви будете використовувати бібліотеку Seaborn для створення красивих статистичних візуалізацій. Seaborn має кращий стандартний стиль та спеціалізується на статистичних графіках.\n",
        "\n",
        "**Опис колонок:**\n",
        "- `datetime` - дата та час\n",
        "- `season` - сезон (1=весна, 2=літо, 3=осінь, 4=зима)\n",
        "- `holiday` - чи є день святковим (0=ні, 1=так)\n",
        "- `workingday` - чи є день робочим (0=ні, 1=так)\n",
        "- `weather` - погодні умови (1=ясно, 2=туман, 3=легкий дощ, 4=сильний дощ)\n",
        "- `temp` - температура в градусах Цельсія\n",
        "- `atemp` - як відчувається температура\n",
        "- `humidity` - вологість (%)\n",
        "- `windspeed` - швидкість вітру\n",
        "- `casual` - кількість випадкових користувачів\n",
        "- `registered` - кількість зареєстрованих користувачів\n",
        "- `count` - загальна кількість орендованих велосипедів\n",
        "\n",
        "## Підготовка даних\n"
      ],
      "id": "GdniNpp5fiDo"
    },
    {
      "cell_type": "code",
      "execution_count": null,
      "metadata": {
        "id": "Lf2LAvfBfiDo"
      },
      "outputs": [],
      "source": [
        "import pandas as pd\n",
        "import matplotlib.pyplot as plt\n",
        "import seaborn as sns\n",
        "import numpy as np\n",
        "\n",
        "# Завантаження даних\n",
        "df = pd.read_csv('yulu_rental.csv')\n",
        "df['datetime'] = pd.to_datetime(df['datetime'])\n",
        "df.set_index('datetime', inplace=True)\n",
        "\n",
        "# Встановлюємо стиль seaborn\n",
        "sns.set_theme(style=\"whitegrid\")\n",
        "\n",
        "# Додамо додаткові колонки для аналізу\n",
        "df['date'] = df.index.date\n",
        "df['day'] = df.index.day\n",
        "df['week'] = df.index.isocalendar().week\n",
        "df['weekday_num'] = df.index.weekday\n",
        "df['weekday'] = df.index.day_name()\n",
        "df['year'] = df.index.year\n",
        "df['month'] = df.index.month\n",
        "df['hour'] = df.index.hour"
      ],
      "id": "Lf2LAvfBfiDo"
    },
    {
      "cell_type": "markdown",
      "metadata": {
        "id": "WbRLSiGQfiDp"
      },
      "source": [
        "\n",
        "---\n",
        "\n",
        "## Завдання 1: Лінійний графік з довірчими інтервалами\n",
        "\n",
        "**Завдання:**\n",
        "Побудуйте лінійний графік середньої кількості оренд помісячно з довірчими інтервалами (confidence intervals) рівними 1 стандартному відхиленню.\n",
        "\n",
        "**УВАГА!** В лекції ми будували подібний графік, але там були дані по номеру місяця, а тут треба зобразити дані в розрізі місяць_рік.\n",
        "\n",
        "В якості підказки вам наведений код для створення колонки, яка містить `місяць_рік`. Як її використати - вже питання до вас :)\n",
        "\n",
        "Очікуваний результат:\n",
        "![](https://drive.google.com/uc?id=1uVKqfY1VlhVMaM3wu99uVGT1f7S0Vf8S)\n",
        "\n",
        "**Питання для інтерпретації:**\n",
        "- В які місяці найбільша невизначеність в даних?"
      ],
      "id": "WbRLSiGQfiDp"
    },
    {
      "cell_type": "code",
      "source": [
        "df['month_year'] = df.index.to_period('M')\n",
        "df['month_year']  = df.month_year.astype(str)"
      ],
      "metadata": {
        "id": "Tn0AmYVOhEon"
      },
      "id": "Tn0AmYVOhEon",
      "execution_count": null,
      "outputs": []
    },
    {
      "cell_type": "code",
      "source": [],
      "metadata": {
        "id": "JXCP_8rXw562"
      },
      "id": "JXCP_8rXw562",
      "execution_count": null,
      "outputs": []
    },
    {
      "cell_type": "markdown",
      "source": [
        "## Завдання 2: Порівняння стилів - Pandas vs Seaborn гістограма\n",
        "\n",
        "**Завдання:**\n",
        "Побудуйте гістограму розподілу температури двома способами - з Pandas та Seaborn - та порівняйте візуальний вигляд. Задайте однакову кількість бінів в цих візуалізаціях, відмінну від стандартної. В візуалізації Seaborn додайте параметр при побудові `kde=True`.\n",
        "\n",
        "**Функція Seaborn: `sns.histplot()`**\n",
        "\n",
        "Можна побудувати окремо два графіки. Але для тих, хто хоче складніше - побудуйте ці 2 графіки на 1 фігурі.\n",
        "\n",
        "**Дайте відповідь на питання:**\n",
        "1. Яка візуальна різниця між Pandas та Seaborn гістограмами?\n",
        "2. Що за лінія додаткова на графіку в Seaborn? Як вона називається і як ви б її описали своїми словами?"
      ],
      "metadata": {
        "id": "K8fqjSUwjhdN"
      },
      "id": "K8fqjSUwjhdN"
    },
    {
      "cell_type": "code",
      "source": [],
      "metadata": {
        "id": "qdnhq1qyw62h"
      },
      "id": "qdnhq1qyw62h",
      "execution_count": null,
      "outputs": []
    },
    {
      "cell_type": "markdown",
      "source": [
        "## Завдання 3: Box Plot порівняння - Pandas vs Seaborn\n",
        "\n",
        "**Завдання:**\n",
        "Побудуйте box plot для кількості погодинних оренд велосипедів за погодними умовами з Pandas та Seaborn.\n",
        "\n",
        "**Функція Seaborn: `sns.boxplot()`**\n",
        "\n",
        "Можна побудувати окремо два графіки. Але для тих, хто хоче складніше - побудуйте ці 2 графіки на 1 фігурі.\n",
        "\n",
        "Просунуте доповнення:\n",
        "- підпишіть погодні умови їх інтерпретацією з опису даних в обох графіках\n",
        "\n",
        "**Дайте відповідь на питання:**\n",
        "- Яка візуальна різниця між Pandas та Seaborn бокс-плотами?"
      ],
      "metadata": {
        "id": "xa2JQhx5kvB9"
      },
      "id": "xa2JQhx5kvB9"
    },
    {
      "cell_type": "code",
      "source": [],
      "metadata": {
        "id": "4hu-jZYuw7p3"
      },
      "id": "4hu-jZYuw7p3",
      "execution_count": null,
      "outputs": []
    },
    {
      "cell_type": "markdown",
      "source": [
        "<!-- - -->\n",
        "## Завдання 4: Heatmap кореляційної матриці\n",
        "\n",
        "**Завдання:**\n",
        "Створіть із Seaborn кореляційну матрицю з забарвленням heatmap (колір відповідає величині значення в клітинці) числових змінних в наших даних з анотаціями значень.\n",
        "\n",
        "**Дайте відповіді на питання по графіку:**\n",
        "1. Які змінні найсильніше корелюють з загальною кількістю оренди (count)?\n",
        "2. Яка кореляція між temp та atemp? Чому?\n",
        "3. Які змінні мають негативну кореляцію?\n"
      ],
      "metadata": {
        "id": "KdCKHMa8qxc_"
      },
      "id": "KdCKHMa8qxc_"
    },
    {
      "cell_type": "code",
      "source": [],
      "metadata": {
        "id": "ca6VE1YTw8UQ"
      },
      "id": "ca6VE1YTw8UQ",
      "execution_count": null,
      "outputs": []
    },
    {
      "cell_type": "markdown",
      "source": [
        "## Завдання 5: Violin Plot для глибокого аналізу розподілів\n",
        "\n",
        "**Завдання:**\n",
        "Створіть violin plot для аналізу розподілу оренди за сезонами.\n",
        "\n",
        "Дайте відповіді на питання:\n",
        "\n",
        "**Питання для інтерпретації:**\n",
        "1. Що показує \"товщина\" violin plot?\n",
        "2. В якому сезоні найбільша варіабельність оренди?\n",
        "3. Яка перевага violin plot над звичайним box plot?\n"
      ],
      "metadata": {
        "id": "rA74_hDSsDiX"
      },
      "id": "rA74_hDSsDiX"
    },
    {
      "cell_type": "code",
      "source": [],
      "metadata": {
        "id": "dctPv6Zmw8-M"
      },
      "id": "dctPv6Zmw8-M",
      "execution_count": null,
      "outputs": []
    },
    {
      "cell_type": "markdown",
      "source": [
        "## Завдання 6: Pairplot для мультиваріативного аналізу\n",
        "\n",
        "**Завдання:**\n",
        "Створіть pairplot для аналізу взаємозв'язків між ключовими змінними `'temp', 'humidity', 'windspeed', 'count'` . В якості візуальної розбивки за категоріями (параметр `hue`) додайте сезон.\n",
        "\n",
        "Дайте відповіді на питання:\n",
        "\n",
        "**Питання для інтерпретації:**\n",
        "1. Між якими змінними спостерігається найсильніший лінійний зв'язок?\n",
        "2. Яка характеристика найбільше змінюється від сезону?"
      ],
      "metadata": {
        "id": "rvzc4IFTsyAI"
      },
      "id": "rvzc4IFTsyAI"
    },
    {
      "cell_type": "code",
      "source": [],
      "metadata": {
        "id": "Bv-dZc7Gw9i-"
      },
      "id": "Bv-dZc7Gw9i-",
      "execution_count": null,
      "outputs": []
    },
    {
      "cell_type": "markdown",
      "metadata": {
        "id": "bBTbNxvrfiDs"
      },
      "source": [
        "## Завдання 7: Joint Plot для детального аналізу двох змінних\n",
        "\n",
        "**Завдання:**\n",
        "Проаналізуйте залежність між температурою та орендою за допомогою joint plot. В якості візуальної розбивки за категоріями (параметр `hue`) додайте `workingday`.\n",
        "\n",
        "Дайте відповіді на питання:\n",
        "\n",
        "**Питання для інтерпретації:**\n",
        "1. Що показують графіки по краях?\n",
        "2. Чи є різниця у поведінці користувачів у робочий і неробочий день?"
      ],
      "id": "bBTbNxvrfiDs"
    },
    {
      "cell_type": "code",
      "source": [],
      "metadata": {
        "id": "5O8dqwOsxGNm"
      },
      "id": "5O8dqwOsxGNm",
      "execution_count": null,
      "outputs": []
    }
  ],
  "metadata": {
    "kernelspec": {
      "display_name": "Python 3 (ipykernel)",
      "language": "python",
      "name": "python3"
    },
    "language_info": {
      "codemirror_mode": {
        "name": "ipython",
        "version": 3
      },
      "file_extension": ".py",
      "mimetype": "text/x-python",
      "name": "python",
      "nbconvert_exporter": "python",
      "pygments_lexer": "ipython3",
      "version": "3.9.0"
    },
    "colab": {
      "provenance": [],
      "include_colab_link": true
    }
  },
  "nbformat": 4,
  "nbformat_minor": 5
}